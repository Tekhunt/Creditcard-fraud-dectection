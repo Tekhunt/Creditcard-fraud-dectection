{
 "cells": [
  {
   "cell_type": "markdown",
   "metadata": {},
   "source": [
    "# Automated ML\n",
    "\n",
    "TODO: Import Dependencies. In the cell below, import all the dependencies that you will need to complete the project."
   ]
  },
  {
   "cell_type": "code",
   "execution_count": 2,
   "metadata": {},
   "outputs": [],
   "source": [
    "from azureml.core import Workspace, Experiment\n",
    "from azureml.core.compute import ComputeTarget, AmlCompute\n",
    "from azureml.core.compute_target import ComputeTargetException\n",
    "from azureml.data.dataset_factory import TabularDatasetFactory\n",
    "import pandas as pd\n",
    "from azureml.train.automl import AutoMLConfig\n",
    "from azureml.widgets import RunDetails\n",
    "from azureml.core.model import Model\n",
    "from azureml.core.model import InferenceConfig\n",
    "from azureml.core import Workspace, Environment\n",
    "from azureml.core import Model\n",
    "from azureml.core.webservice import AciWebservice, Webservice\n",
    "import json\n",
    "import joblib"
   ]
  },
  {
   "cell_type": "code",
   "execution_count": 3,
   "metadata": {},
   "outputs": [
    {
     "name": "stdout",
     "output_type": "stream",
     "text": [
      "SDK version: 1.20.0\n"
     ]
    }
   ],
   "source": [
    "# Check core SDK version number\n",
    "print(\"SDK version:\", azureml.core.VERSION)"
   ]
  },
  {
   "cell_type": "code",
   "execution_count": 4,
   "metadata": {},
   "outputs": [
    {
     "name": "stdout",
     "output_type": "stream",
     "text": [
      "Workspace name: quick-starts-ws-138190\n",
      "Azure region: southcentralus\n",
      "Subscription id: 976ee174-3882-4721-b90a-b5fef6b72f24\n",
      "Resource group: aml-quickstarts-138190\n"
     ]
    }
   ],
   "source": [
    "ws = Workspace.from_config()\n",
    "experiment = Experiment(workspace=ws, name=\"Detection\")\n",
    "\n",
    "print('Workspace name: ' + ws.name, \n",
    "      'Azure region: ' + ws.location, \n",
    "      'Subscription id: ' + ws.subscription_id, \n",
    "      'Resource group: ' + ws.resource_group, sep = '\\n')\n",
    "\n",
    "run = experiment.start_logging()"
   ]
  },
  {
   "cell_type": "code",
   "execution_count": 6,
   "metadata": {},
   "outputs": [
    {
     "name": "stdout",
     "output_type": "stream",
     "text": [
      "Found existing cluster, use it.\n",
      "Succeeded\n",
      "AmlCompute wait for completion finished\n",
      "\n",
      "Minimum number of nodes requested have been provisioned\n"
     ]
    }
   ],
   "source": [
    "# TODO: Create compute cluster\n",
    "\n",
    "# Choose a name for your CPU cluster\n",
    "cpu_cluster_name = \"auto-ml-cluster\"\n",
    "\n",
    "# Verify that cluster does not exist already\n",
    "try:\n",
    "    cpu_cluster = ComputeTarget(workspace=ws, name=cpu_cluster_name)\n",
    "    print('Found existing cluster, use it.')\n",
    "except ComputeTargetException:\n",
    "    compute_config = AmlCompute.provisioning_configuration(vm_size='STANDARD_DS12_V2',\n",
    "                                                           max_nodes=4)\n",
    "    cpu_cluster = ComputeTarget.create(ws, cpu_cluster_name, compute_config)\n",
    "\n",
    "cpu_cluster.wait_for_completion(show_output=True, min_node_count = 1, timeout_in_minutes = 2)\n"
   ]
  },
  {
   "cell_type": "markdown",
   "metadata": {},
   "source": [
    "## Dataset\n",
    "\n",
    "### Overview\n",
    "The original dataset is in Kaggle Datasets. The original data is licensed by Open Database License (ODbL) 1.0.Open Database License (ODbL) 1.0.\n",
    "\n",
    "This data is about fraud detection in credit card transactions. The data was made by credit cards in September 2013 by European cardholders. The dataset is highly unbalanced, the positive class which depicts fraudulent transactions (frauds) account for 0.17% of all transactions.\n",
    "\n",
    "It contains only numerical input variables which are the result of a PCA transformation. Unfortunately, due to confidentiality issues, we do not have the original features and more background information about the data. Features V1, V2, ... V28 are the principal components obtained with Principal component analysis (PCA), the only features which have not been transformed with PCA are 'Time' and 'Amount'. Feature 'Time' contains the seconds elapsed between each transaction and the first transaction in the dataset. The feature 'Amount' is the transaction Amount, this feature can be used for example-dependant cost-senstive learning. Feature 'Class' is the response variable and it takes value 1 in case of fraud and 0 otherwise\n",
    "\n",
    "\n",
    "This project aims to detect potential fraud cases is credit card transactions and the task here is to differentiate between them. My ultimate intent is to tackle this situation by building classification models to classify and distinguish fraud transactions."
   ]
  },
  {
   "cell_type": "code",
   "execution_count": 7,
   "metadata": {},
   "outputs": [
    {
     "data": {
      "text/html": [
       "<div>\n",
       "<style scoped>\n",
       "    .dataframe tbody tr th:only-of-type {\n",
       "        vertical-align: middle;\n",
       "    }\n",
       "\n",
       "    .dataframe tbody tr th {\n",
       "        vertical-align: top;\n",
       "    }\n",
       "\n",
       "    .dataframe thead th {\n",
       "        text-align: right;\n",
       "    }\n",
       "</style>\n",
       "<table border=\"1\" class=\"dataframe\">\n",
       "  <thead>\n",
       "    <tr style=\"text-align: right;\">\n",
       "      <th></th>\n",
       "      <th>Time</th>\n",
       "      <th>V1</th>\n",
       "      <th>V2</th>\n",
       "      <th>V3</th>\n",
       "      <th>V4</th>\n",
       "      <th>V5</th>\n",
       "      <th>V6</th>\n",
       "      <th>V7</th>\n",
       "      <th>V8</th>\n",
       "      <th>V9</th>\n",
       "      <th>...</th>\n",
       "      <th>V21</th>\n",
       "      <th>V22</th>\n",
       "      <th>V23</th>\n",
       "      <th>V24</th>\n",
       "      <th>V25</th>\n",
       "      <th>V26</th>\n",
       "      <th>V27</th>\n",
       "      <th>V28</th>\n",
       "      <th>Amount</th>\n",
       "      <th>Class</th>\n",
       "    </tr>\n",
       "  </thead>\n",
       "  <tbody>\n",
       "    <tr>\n",
       "      <th>0</th>\n",
       "      <td>0.0</td>\n",
       "      <td>-1.359807</td>\n",
       "      <td>-0.072781</td>\n",
       "      <td>2.536347</td>\n",
       "      <td>1.378155</td>\n",
       "      <td>-0.338321</td>\n",
       "      <td>0.462388</td>\n",
       "      <td>0.239599</td>\n",
       "      <td>0.098698</td>\n",
       "      <td>0.363787</td>\n",
       "      <td>...</td>\n",
       "      <td>-0.018307</td>\n",
       "      <td>0.277838</td>\n",
       "      <td>-0.110474</td>\n",
       "      <td>0.066928</td>\n",
       "      <td>0.128539</td>\n",
       "      <td>-0.189115</td>\n",
       "      <td>0.133558</td>\n",
       "      <td>-0.021053</td>\n",
       "      <td>149.62</td>\n",
       "      <td>0</td>\n",
       "    </tr>\n",
       "    <tr>\n",
       "      <th>1</th>\n",
       "      <td>0.0</td>\n",
       "      <td>1.191857</td>\n",
       "      <td>0.266151</td>\n",
       "      <td>0.166480</td>\n",
       "      <td>0.448154</td>\n",
       "      <td>0.060018</td>\n",
       "      <td>-0.082361</td>\n",
       "      <td>-0.078803</td>\n",
       "      <td>0.085102</td>\n",
       "      <td>-0.255425</td>\n",
       "      <td>...</td>\n",
       "      <td>-0.225775</td>\n",
       "      <td>-0.638672</td>\n",
       "      <td>0.101288</td>\n",
       "      <td>-0.339846</td>\n",
       "      <td>0.167170</td>\n",
       "      <td>0.125895</td>\n",
       "      <td>-0.008983</td>\n",
       "      <td>0.014724</td>\n",
       "      <td>2.69</td>\n",
       "      <td>0</td>\n",
       "    </tr>\n",
       "    <tr>\n",
       "      <th>2</th>\n",
       "      <td>1.0</td>\n",
       "      <td>-1.358354</td>\n",
       "      <td>-1.340163</td>\n",
       "      <td>1.773209</td>\n",
       "      <td>0.379780</td>\n",
       "      <td>-0.503198</td>\n",
       "      <td>1.800499</td>\n",
       "      <td>0.791461</td>\n",
       "      <td>0.247676</td>\n",
       "      <td>-1.514654</td>\n",
       "      <td>...</td>\n",
       "      <td>0.247998</td>\n",
       "      <td>0.771679</td>\n",
       "      <td>0.909412</td>\n",
       "      <td>-0.689281</td>\n",
       "      <td>-0.327642</td>\n",
       "      <td>-0.139097</td>\n",
       "      <td>-0.055353</td>\n",
       "      <td>-0.059752</td>\n",
       "      <td>378.66</td>\n",
       "      <td>0</td>\n",
       "    </tr>\n",
       "    <tr>\n",
       "      <th>3</th>\n",
       "      <td>1.0</td>\n",
       "      <td>-0.966272</td>\n",
       "      <td>-0.185226</td>\n",
       "      <td>1.792993</td>\n",
       "      <td>-0.863291</td>\n",
       "      <td>-0.010309</td>\n",
       "      <td>1.247203</td>\n",
       "      <td>0.237609</td>\n",
       "      <td>0.377436</td>\n",
       "      <td>-1.387024</td>\n",
       "      <td>...</td>\n",
       "      <td>-0.108300</td>\n",
       "      <td>0.005274</td>\n",
       "      <td>-0.190321</td>\n",
       "      <td>-1.175575</td>\n",
       "      <td>0.647376</td>\n",
       "      <td>-0.221929</td>\n",
       "      <td>0.062723</td>\n",
       "      <td>0.061458</td>\n",
       "      <td>123.50</td>\n",
       "      <td>0</td>\n",
       "    </tr>\n",
       "    <tr>\n",
       "      <th>4</th>\n",
       "      <td>2.0</td>\n",
       "      <td>-1.158233</td>\n",
       "      <td>0.877737</td>\n",
       "      <td>1.548718</td>\n",
       "      <td>0.403034</td>\n",
       "      <td>-0.407193</td>\n",
       "      <td>0.095921</td>\n",
       "      <td>0.592941</td>\n",
       "      <td>-0.270533</td>\n",
       "      <td>0.817739</td>\n",
       "      <td>...</td>\n",
       "      <td>-0.009431</td>\n",
       "      <td>0.798278</td>\n",
       "      <td>-0.137458</td>\n",
       "      <td>0.141267</td>\n",
       "      <td>-0.206010</td>\n",
       "      <td>0.502292</td>\n",
       "      <td>0.219422</td>\n",
       "      <td>0.215153</td>\n",
       "      <td>69.99</td>\n",
       "      <td>0</td>\n",
       "    </tr>\n",
       "  </tbody>\n",
       "</table>\n",
       "<p>5 rows × 31 columns</p>\n",
       "</div>"
      ],
      "text/plain": [
       "   Time        V1        V2        V3        V4        V5        V6        V7  \\\n",
       "0   0.0 -1.359807 -0.072781  2.536347  1.378155 -0.338321  0.462388  0.239599   \n",
       "1   0.0  1.191857  0.266151  0.166480  0.448154  0.060018 -0.082361 -0.078803   \n",
       "2   1.0 -1.358354 -1.340163  1.773209  0.379780 -0.503198  1.800499  0.791461   \n",
       "3   1.0 -0.966272 -0.185226  1.792993 -0.863291 -0.010309  1.247203  0.237609   \n",
       "4   2.0 -1.158233  0.877737  1.548718  0.403034 -0.407193  0.095921  0.592941   \n",
       "\n",
       "         V8        V9  ...       V21       V22       V23       V24       V25  \\\n",
       "0  0.098698  0.363787  ... -0.018307  0.277838 -0.110474  0.066928  0.128539   \n",
       "1  0.085102 -0.255425  ... -0.225775 -0.638672  0.101288 -0.339846  0.167170   \n",
       "2  0.247676 -1.514654  ...  0.247998  0.771679  0.909412 -0.689281 -0.327642   \n",
       "3  0.377436 -1.387024  ... -0.108300  0.005274 -0.190321 -1.175575  0.647376   \n",
       "4 -0.270533  0.817739  ... -0.009431  0.798278 -0.137458  0.141267 -0.206010   \n",
       "\n",
       "        V26       V27       V28  Amount  Class  \n",
       "0 -0.189115  0.133558 -0.021053  149.62      0  \n",
       "1  0.125895 -0.008983  0.014724    2.69      0  \n",
       "2 -0.139097 -0.055353 -0.059752  378.66      0  \n",
       "3 -0.221929  0.062723  0.061458  123.50      0  \n",
       "4  0.502292  0.219422  0.215153   69.99      0  \n",
       "\n",
       "[5 rows x 31 columns]"
      ]
     },
     "execution_count": 7,
     "metadata": {},
     "output_type": "execute_result"
    }
   ],
   "source": [
    "path = 'https://media.githubusercontent.com/media/Tekhunt/Creditcard-fraud-detection/master/fraud-data.csv'\n",
    "data = TabularDatasetFactory.from_delimited_files(path = path)\n",
    "data.to_pandas_dataframe().head()"
   ]
  },
  {
   "cell_type": "markdown",
   "metadata": {},
   "source": [
    "## AutoML Settings and Configuration Explained\n",
    "\n",
    "### n_cross-validation\n",
    "How many cross validations to perform when user validation data is not specified.\n",
    "\n",
    "###enable_early_stopping\n",
    "Whether to enable early termination if the score is not improving in the short term. The default is False but it is set to True here.\n",
    "\n",
    "### experiment_timeout_minutess\n",
    "Maximum amount of time in minutes that all iterations combined can take before the experiment terminates. It is set to 15 minutes here.\n",
    "\n",
    "### verbosity\n",
    "This is the verbosity level for writing to the log file and it is set to logging.INFO\n",
    "\n",
    "### training_data\n",
    "This can be any of these: DataFrame or Dataset or DatasetDefinition or TabularDataset The training data to be used within the experiment. It should contain both training features and a label column (optionally a sample weights column). If training_data is specified, then the label_column_name parameter must also be specified.\n",
    "\n",
    "### label_column_name\n",
    "This is the name of the label column. If the input data is from a pandas.DataFrame which doesn't have column names, column indices can be used instead, expressed as integers. Here we have column headers and our arget column is the Class column which we aim to predict in the project.\n",
    "\n",
    "### max_cores_per_iteration\n",
    "The maximum number of threads to use for a given training iteration. Acceptable values: Equal to -1, which means to use all the possible cores per iteration per child-run.\n",
    "\n",
    "### max_concurrent_iterations\n",
    "Represents the maximum number of iterations that would be executed in parallel. The value used here is 4\n",
    "\n",
    "### compute_target\n",
    "The Azure Machine Learning compute target to run the Automated Machine Learning experiment on.\n",
    "\n",
    "### primary_metric\n",
    "The metric that Automated Machine Learning will optimize for model selection. Accuracy is the primary_metric here.\n",
    "\n",
    "### task\n",
    "The type of task to run. Values the here is 'classification'\n"
   ]
  },
  {
   "cell_type": "code",
   "execution_count": 10,
   "metadata": {
    "gather": {
     "logged": 1598429217746
    },
    "jupyter": {
     "outputs_hidden": false,
     "source_hidden": false
    },
    "nteract": {
     "transient": {
      "deleting": false
     }
    }
   },
   "outputs": [],
   "source": [
    "# TODO: Put your automl settings here\n",
    "automl_settings = {\n",
    "       \"n_cross_validations\": 3,\n",
    "       \"enable_early_stopping\": True,\n",
    "       \"experiment_timeout_minutes\" :5,\n",
    "       \"max_concurrent_iterations\": 4,\n",
    "       \"max_cores_per_iteration\": -1,\n",
    "       \"verbosity\": logging.INFO,\n",
    "   }\n",
    "\n",
    "# TODO: Puyour experiment name here\n",
    "\n",
    "\n",
    "automl_config = AutoMLConfig(\n",
    "    compute_target=cpu_cluster,\n",
    "    task='classification',\n",
    "    primary_metric= 'accuracy',\n",
    "    training_data= data,\n",
    "    label_column_name= 'Class',\n",
    "    n_cross_validations=5)"
   ]
  },
  {
   "cell_type": "code",
   "execution_count": 11,
   "metadata": {
    "gather": {
     "logged": 1598431107951
    },
    "jupyter": {
     "outputs_hidden": false,
     "source_hidden": false
    },
    "nteract": {
     "transient": {
      "deleting": false
     }
    }
   },
   "outputs": [
    {
     "name": "stdout",
     "output_type": "stream",
     "text": [
      "Running on remote.\n",
      "No run_configuration provided, running on auto-ml-cluster with default configuration\n",
      "Running on remote compute: auto-ml-cluster\n",
      "Parent Run ID: AutoML_26986b18-0c16-4670-b009-817d60da1c62\n",
      "\n",
      "Current status: FeaturesGeneration. Generating features for the dataset.\n",
      "Current status: DatasetBalancing. Performing class balancing sweeping\n",
      "Current status: DatasetCrossValidationSplit. Generating individually featurized CV splits.\n",
      "Current status: ModelSelection. Beginning model selection.\n",
      "\n",
      "****************************************************************************************************\n",
      "DATA GUARDRAILS: \n",
      "\n",
      "TYPE:         Class balancing detection\n",
      "STATUS:       ALERTED\n",
      "DESCRIPTION:  To decrease model bias, please cancel the current run and fix balancing problem.\n",
      "              Learn more about imbalanced data: https://aka.ms/AutomatedMLImbalancedData\n",
      "DETAILS:      Imbalanced data can lead to a falsely perceived positive effect of a model's accuracy because the input data has bias towards one class.\n",
      "+---------------------------------+---------------------------------+--------------------------------------+\n",
      "|Size of the smallest class       |Name/Label of the smallest class |Number of samples in the training data|\n",
      "+=================================+=================================+======================================+\n",
      "|223                              |1                                |100000                                |\n",
      "+---------------------------------+---------------------------------+--------------------------------------+\n",
      "\n",
      "****************************************************************************************************\n",
      "\n",
      "TYPE:         Missing feature values imputation\n",
      "STATUS:       PASSED\n",
      "DESCRIPTION:  No feature missing values were detected in the training data.\n",
      "              Learn more about missing value imputation: https://aka.ms/AutomatedMLFeaturization\n",
      "\n",
      "****************************************************************************************************\n",
      "\n",
      "TYPE:         High cardinality feature detection\n",
      "STATUS:       PASSED\n",
      "DESCRIPTION:  Your inputs were analyzed, and no high cardinality features were detected.\n",
      "              Learn more about high cardinality feature handling: https://aka.ms/AutomatedMLFeaturization\n",
      "\n",
      "****************************************************************************************************\n",
      "\n",
      "****************************************************************************************************\n",
      "ITERATION: The iteration being evaluated.\n",
      "PIPELINE: A summary description of the pipeline being evaluated.\n",
      "DURATION: Time taken for the current iteration.\n",
      "METRIC: The result of computing score on the fitted pipeline.\n",
      "BEST: The best observed score thus far.\n",
      "****************************************************************************************************\n",
      "\n",
      " ITERATION   PIPELINE                                       DURATION      METRIC      BEST\n",
      "         0   MaxAbsScaler LightGBM                          0:01:24       0.9949    0.9949\n",
      "         1   MaxAbsScaler XGBoostClassifier                 0:02:55       0.9995    0.9995\n",
      "         2   MinMaxScaler RandomForest                      0:01:29       0.9978    0.9995\n",
      "         3   MinMaxScaler RandomForest                      0:01:22       0.9978    0.9995\n",
      "         4   MinMaxScaler RandomForest                      0:01:37       0.9885    0.9995\n",
      "         5   StandardScalerWrapper LightGBM                 0:01:37       0.9995    0.9995\n",
      "         6   RobustScaler ExtremeRandomTrees                0:01:33       0.9978    0.9995\n",
      "         7   SparseNormalizer XGBoostClassifier             0:01:48       0.9994    0.9995\n",
      "         8   MinMaxScaler LightGBM                          0:01:12       0.9978    0.9995\n",
      "         9   SparseNormalizer XGBoostClassifier             0:02:36       0.9994    0.9995\n",
      "        10   RobustScaler LightGBM                          0:01:15       0.9978    0.9995\n",
      "        11   StandardScalerWrapper XGBoostClassifier        0:09:47       0.9996    0.9996\n",
      "        12   StandardScalerWrapper XGBoostClassifier        0:01:28       0.9994    0.9996\n",
      "        13   SparseNormalizer LightGBM                      0:01:43       0.9994    0.9996\n",
      "        14   SparseNormalizer LightGBM                      0:01:15       0.9994    0.9996\n",
      "        15   RobustScaler ExtremeRandomTrees                0:01:27       0.9978    0.9996\n",
      "        16   SparseNormalizer XGBoostClassifier             0:05:39       0.9995    0.9996\n",
      "        17   MinMaxScaler LightGBM                          0:01:46       0.9990    0.9996\n",
      "        18   MaxAbsScaler LightGBM                          0:01:15       0.9978    0.9996\n",
      "        19   SparseNormalizer XGBoostClassifier             0:01:17       0.9994    0.9996\n",
      "        20   StandardScalerWrapper LogisticRegression       0:01:36       0.9802    0.9996\n",
      "        21   MaxAbsScaler LightGBM                          0:01:22       0.9986    0.9996\n",
      "        22   SparseNormalizer XGBoostClassifier             0:03:03       0.9995    0.9996\n",
      "        23   SparseNormalizer XGBoostClassifier             0:02:34       0.9994    0.9996\n",
      "        24   SparseNormalizer LightGBM                      0:01:09       0.9991    0.9996\n",
      "        25   SparseNormalizer XGBoostClassifier             0:01:13       0.9978    0.9996\n",
      "        26   StandardScalerWrapper LightGBM                 0:01:23       0.9985    0.9996\n",
      "        27   StandardScalerWrapper XGBoostClassifier        0:03:36       0.9996    0.9996\n",
      "        28   SparseNormalizer XGBoostClassifier             0:01:26       0.9990    0.9996\n",
      "        29   StandardScalerWrapper XGBoostClassifier        0:09:28       0.9996    0.9996\n",
      "        30   StandardScalerWrapper XGBoostClassifier        0:01:18       0.9990    0.9996\n",
      "        31   StandardScalerWrapper XGBoostClassifier        0:11:22       0.9996    0.9996\n",
      "        32   StandardScalerWrapper XGBoostClassifier        0:02:16       0.9996    0.9996\n",
      "        33   StandardScalerWrapper XGBoostClassifier        0:06:17       0.9996    0.9996\n",
      "        34   StandardScalerWrapper XGBoostClassifier        0:08:01       0.9996    0.9996\n",
      "        35   StandardScalerWrapper XGBoostClassifier        0:01:14       0.9991    0.9996\n",
      "        36   StandardScalerWrapper XGBoostClassifier        0:02:13       0.9995    0.9996\n",
      "        37   StandardScalerWrapper XGBoostClassifier        0:02:50       0.9995    0.9996\n",
      "        38   StandardScalerWrapper XGBoostClassifier        0:03:09       0.9995    0.9996\n",
      "        39   SparseNormalizer XGBoostClassifier             0:14:23       0.9995    0.9996\n",
      "        40   PCA XGBoostClassifier                          0:01:09       0.9978    0.9996\n",
      "        41   RobustScaler LightGBM                          0:01:11       0.9978    0.9996\n",
      "        42   StandardScalerWrapper XGBoostClassifier        0:06:50       0.9996    0.9996\n",
      "        43   StandardScalerWrapper XGBoostClassifier        0:10:40       0.9996    0.9996\n",
      "        44   StandardScalerWrapper XGBoostClassifier        0:11:06       0.9996    0.9996\n",
      "        45    VotingEnsemble                                0:03:02       0.9996    0.9996\n",
      "        46    StackEnsemble                                 0:03:40       0.9995    0.9996\n"
     ]
    },
    {
     "data": {
      "text/plain": [
       "{'runId': 'AutoML_26986b18-0c16-4670-b009-817d60da1c62',\n",
       " 'target': 'auto-ml-cluster',\n",
       " 'status': 'Completed',\n",
       " 'startTimeUtc': '2021-02-08T19:38:32.920955Z',\n",
       " 'endTimeUtc': '2021-02-08T22:44:23.732322Z',\n",
       " 'properties': {'num_iterations': '1000',\n",
       "  'training_type': 'TrainFull',\n",
       "  'acquisition_function': 'EI',\n",
       "  'primary_metric': 'accuracy',\n",
       "  'train_split': '0',\n",
       "  'acquisition_parameter': '0',\n",
       "  'num_cross_validation': '5',\n",
       "  'target': 'auto-ml-cluster',\n",
       "  'AMLSettingsJsonString': '{\"path\":null,\"name\":\"Detection\",\"subscription_id\":\"976ee174-3882-4721-b90a-b5fef6b72f24\",\"resource_group\":\"aml-quickstarts-138190\",\"workspace_name\":\"quick-starts-ws-138190\",\"region\":\"southcentralus\",\"compute_target\":\"auto-ml-cluster\",\"spark_service\":null,\"azure_service\":\"remote\",\"many_models\":false,\"pipeline_fetch_max_batch_size\":1,\"iterations\":1000,\"primary_metric\":\"accuracy\",\"task_type\":\"classification\",\"data_script\":null,\"validation_size\":0.0,\"n_cross_validations\":5,\"y_min\":null,\"y_max\":null,\"num_classes\":null,\"featurization\":\"auto\",\"_ignore_package_version_incompatibilities\":false,\"is_timeseries\":false,\"max_cores_per_iteration\":1,\"max_concurrent_iterations\":1,\"iteration_timeout_minutes\":null,\"mem_in_mb\":null,\"enforce_time_on_windows\":false,\"experiment_timeout_minutes\":8640,\"experiment_exit_score\":null,\"whitelist_models\":null,\"blacklist_algos\":[\"TensorFlowLinearClassifier\",\"TensorFlowDNN\"],\"supported_models\":[\"SGD\",\"RandomForest\",\"LinearSVM\",\"BernoulliNaiveBayes\",\"ExtremeRandomTrees\",\"XGBoostClassifier\",\"AveragedPerceptronClassifier\",\"DecisionTree\",\"LogisticRegression\",\"TensorFlowLinearClassifier\",\"MultinomialNaiveBayes\",\"SVM\",\"GradientBoosting\",\"KNN\",\"TensorFlowDNN\",\"LightGBM\"],\"auto_blacklist\":true,\"blacklist_samples_reached\":false,\"exclude_nan_labels\":true,\"verbosity\":20,\"_debug_log\":\"azureml_automl.log\",\"show_warnings\":false,\"model_explainability\":true,\"service_url\":null,\"sdk_url\":null,\"sdk_packages\":null,\"enable_onnx_compatible_models\":false,\"enable_split_onnx_featurizer_estimator_models\":false,\"vm_type\":\"STANDARD_DS12_V2\",\"telemetry_verbosity\":20,\"send_telemetry\":true,\"enable_dnn\":false,\"scenario\":\"SDK-1.13.0\",\"environment_label\":null,\"force_text_dnn\":false,\"enable_feature_sweeping\":true,\"enable_early_stopping\":true,\"early_stopping_n_iters\":10,\"metrics\":null,\"enable_ensembling\":true,\"enable_stack_ensembling\":true,\"ensemble_iterations\":15,\"enable_tf\":false,\"enable_subsampling\":null,\"subsample_seed\":null,\"enable_nimbusml\":false,\"enable_streaming\":false,\"force_streaming\":false,\"track_child_runs\":true,\"allowed_private_models\":[],\"label_column_name\":\"Class\",\"weight_column_name\":null,\"cv_split_column_names\":null,\"enable_local_managed\":false,\"_local_managed_run_id\":null,\"cost_mode\":1,\"lag_length\":0,\"metric_operation\":\"maximize\",\"preprocess\":true}',\n",
       "  'DataPrepJsonString': '{\\\\\"training_data\\\\\": \\\\\"{\\\\\\\\\\\\\"blocks\\\\\\\\\\\\\": [{\\\\\\\\\\\\\"id\\\\\\\\\\\\\": \\\\\\\\\\\\\"5c9cf99e-bf70-449d-ad1d-3c9057be00cb\\\\\\\\\\\\\", \\\\\\\\\\\\\"type\\\\\\\\\\\\\": \\\\\\\\\\\\\"Microsoft.DPrep.GetFilesBlock\\\\\\\\\\\\\", \\\\\\\\\\\\\"arguments\\\\\\\\\\\\\": {\\\\\\\\\\\\\"isArchive\\\\\\\\\\\\\": false, \\\\\\\\\\\\\"path\\\\\\\\\\\\\": {\\\\\\\\\\\\\"target\\\\\\\\\\\\\": 4, \\\\\\\\\\\\\"resourceDetails\\\\\\\\\\\\\": [{\\\\\\\\\\\\\"path\\\\\\\\\\\\\": \\\\\\\\\\\\\"https://media.githubusercontent.com/media/Tekhunt/Creditcard-fraud-detection/master/fraud-data.csv\\\\\\\\\\\\\"}]}}, \\\\\\\\\\\\\"localData\\\\\\\\\\\\\": {}, \\\\\\\\\\\\\"isEnabled\\\\\\\\\\\\\": true, \\\\\\\\\\\\\"name\\\\\\\\\\\\\": null, \\\\\\\\\\\\\"annotation\\\\\\\\\\\\\": null}, {\\\\\\\\\\\\\"id\\\\\\\\\\\\\": \\\\\\\\\\\\\"f1aae88c-8ff0-4e60-8055-644e94296b21\\\\\\\\\\\\\", \\\\\\\\\\\\\"type\\\\\\\\\\\\\": \\\\\\\\\\\\\"Microsoft.DPrep.ParseDelimitedBlock\\\\\\\\\\\\\", \\\\\\\\\\\\\"arguments\\\\\\\\\\\\\": {\\\\\\\\\\\\\"columnHeadersMode\\\\\\\\\\\\\": 3, \\\\\\\\\\\\\"fileEncoding\\\\\\\\\\\\\": 0, \\\\\\\\\\\\\"handleQuotedLineBreaks\\\\\\\\\\\\\": false, \\\\\\\\\\\\\"preview\\\\\\\\\\\\\": false, \\\\\\\\\\\\\"separator\\\\\\\\\\\\\": \\\\\\\\\\\\\",\\\\\\\\\\\\\", \\\\\\\\\\\\\"skipRows\\\\\\\\\\\\\": 0, \\\\\\\\\\\\\"skipRowsMode\\\\\\\\\\\\\": 0}, \\\\\\\\\\\\\"localData\\\\\\\\\\\\\": {}, \\\\\\\\\\\\\"isEnabled\\\\\\\\\\\\\": true, \\\\\\\\\\\\\"name\\\\\\\\\\\\\": null, \\\\\\\\\\\\\"annotation\\\\\\\\\\\\\": null}, {\\\\\\\\\\\\\"id\\\\\\\\\\\\\": \\\\\\\\\\\\\"f7c1ab91-79a8-4835-ad98-7fb44c7ecf87\\\\\\\\\\\\\", \\\\\\\\\\\\\"type\\\\\\\\\\\\\": \\\\\\\\\\\\\"Microsoft.DPrep.DropColumnsBlock\\\\\\\\\\\\\", \\\\\\\\\\\\\"arguments\\\\\\\\\\\\\": {\\\\\\\\\\\\\"columns\\\\\\\\\\\\\": {\\\\\\\\\\\\\"type\\\\\\\\\\\\\": 0, \\\\\\\\\\\\\"details\\\\\\\\\\\\\": {\\\\\\\\\\\\\"selectedColumns\\\\\\\\\\\\\": [\\\\\\\\\\\\\"Path\\\\\\\\\\\\\"]}}}, \\\\\\\\\\\\\"localData\\\\\\\\\\\\\": {}, \\\\\\\\\\\\\"isEnabled\\\\\\\\\\\\\": true, \\\\\\\\\\\\\"name\\\\\\\\\\\\\": null, \\\\\\\\\\\\\"annotation\\\\\\\\\\\\\": null}, {\\\\\\\\\\\\\"id\\\\\\\\\\\\\": \\\\\\\\\\\\\"26fe0806-4346-4f07-ae36-3a138aacd7c5\\\\\\\\\\\\\", \\\\\\\\\\\\\"type\\\\\\\\\\\\\": \\\\\\\\\\\\\"Microsoft.DPrep.SetColumnTypesBlock\\\\\\\\\\\\\", \\\\\\\\\\\\\"arguments\\\\\\\\\\\\\": {\\\\\\\\\\\\\"columnConversion\\\\\\\\\\\\\": [{\\\\\\\\\\\\\"column\\\\\\\\\\\\\": {\\\\\\\\\\\\\"type\\\\\\\\\\\\\": 2, \\\\\\\\\\\\\"details\\\\\\\\\\\\\": {\\\\\\\\\\\\\"selectedColumn\\\\\\\\\\\\\": \\\\\\\\\\\\\"Time\\\\\\\\\\\\\"}}, \\\\\\\\\\\\\"typeProperty\\\\\\\\\\\\\": 3}, {\\\\\\\\\\\\\"column\\\\\\\\\\\\\": {\\\\\\\\\\\\\"type\\\\\\\\\\\\\": 2, \\\\\\\\\\\\\"details\\\\\\\\\\\\\": {\\\\\\\\\\\\\"selectedColumn\\\\\\\\\\\\\": \\\\\\\\\\\\\"V1\\\\\\\\\\\\\"}}, \\\\\\\\\\\\\"typeProperty\\\\\\\\\\\\\": 3}, {\\\\\\\\\\\\\"column\\\\\\\\\\\\\": {\\\\\\\\\\\\\"type\\\\\\\\\\\\\": 2, \\\\\\\\\\\\\"details\\\\\\\\\\\\\": {\\\\\\\\\\\\\"selectedColumn\\\\\\\\\\\\\": \\\\\\\\\\\\\"V2\\\\\\\\\\\\\"}}, \\\\\\\\\\\\\"typeProperty\\\\\\\\\\\\\": 3}, {\\\\\\\\\\\\\"column\\\\\\\\\\\\\": {\\\\\\\\\\\\\"type\\\\\\\\\\\\\": 2, \\\\\\\\\\\\\"details\\\\\\\\\\\\\": {\\\\\\\\\\\\\"selectedColumn\\\\\\\\\\\\\": \\\\\\\\\\\\\"V3\\\\\\\\\\\\\"}}, \\\\\\\\\\\\\"typeProperty\\\\\\\\\\\\\": 3}, {\\\\\\\\\\\\\"column\\\\\\\\\\\\\": {\\\\\\\\\\\\\"type\\\\\\\\\\\\\": 2, \\\\\\\\\\\\\"details\\\\\\\\\\\\\": {\\\\\\\\\\\\\"selectedColumn\\\\\\\\\\\\\": \\\\\\\\\\\\\"V4\\\\\\\\\\\\\"}}, \\\\\\\\\\\\\"typeProperty\\\\\\\\\\\\\": 3}, {\\\\\\\\\\\\\"column\\\\\\\\\\\\\": {\\\\\\\\\\\\\"type\\\\\\\\\\\\\": 2, \\\\\\\\\\\\\"details\\\\\\\\\\\\\": {\\\\\\\\\\\\\"selectedColumn\\\\\\\\\\\\\": \\\\\\\\\\\\\"V5\\\\\\\\\\\\\"}}, \\\\\\\\\\\\\"typeProperty\\\\\\\\\\\\\": 3}, {\\\\\\\\\\\\\"column\\\\\\\\\\\\\": {\\\\\\\\\\\\\"type\\\\\\\\\\\\\": 2, \\\\\\\\\\\\\"details\\\\\\\\\\\\\": {\\\\\\\\\\\\\"selectedColumn\\\\\\\\\\\\\": \\\\\\\\\\\\\"V6\\\\\\\\\\\\\"}}, \\\\\\\\\\\\\"typeProperty\\\\\\\\\\\\\": 3}, {\\\\\\\\\\\\\"column\\\\\\\\\\\\\": {\\\\\\\\\\\\\"type\\\\\\\\\\\\\": 2, \\\\\\\\\\\\\"details\\\\\\\\\\\\\": {\\\\\\\\\\\\\"selectedColumn\\\\\\\\\\\\\": \\\\\\\\\\\\\"V7\\\\\\\\\\\\\"}}, \\\\\\\\\\\\\"typeProperty\\\\\\\\\\\\\": 3}, {\\\\\\\\\\\\\"column\\\\\\\\\\\\\": {\\\\\\\\\\\\\"type\\\\\\\\\\\\\": 2, \\\\\\\\\\\\\"details\\\\\\\\\\\\\": {\\\\\\\\\\\\\"selectedColumn\\\\\\\\\\\\\": \\\\\\\\\\\\\"V8\\\\\\\\\\\\\"}}, \\\\\\\\\\\\\"typeProperty\\\\\\\\\\\\\": 3}, {\\\\\\\\\\\\\"column\\\\\\\\\\\\\": {\\\\\\\\\\\\\"type\\\\\\\\\\\\\": 2, \\\\\\\\\\\\\"details\\\\\\\\\\\\\": {\\\\\\\\\\\\\"selectedColumn\\\\\\\\\\\\\": \\\\\\\\\\\\\"V9\\\\\\\\\\\\\"}}, \\\\\\\\\\\\\"typeProperty\\\\\\\\\\\\\": 3}, {\\\\\\\\\\\\\"column\\\\\\\\\\\\\": {\\\\\\\\\\\\\"type\\\\\\\\\\\\\": 2, \\\\\\\\\\\\\"details\\\\\\\\\\\\\": {\\\\\\\\\\\\\"selectedColumn\\\\\\\\\\\\\": \\\\\\\\\\\\\"V10\\\\\\\\\\\\\"}}, \\\\\\\\\\\\\"typeProperty\\\\\\\\\\\\\": 3}, {\\\\\\\\\\\\\"column\\\\\\\\\\\\\": {\\\\\\\\\\\\\"type\\\\\\\\\\\\\": 2, \\\\\\\\\\\\\"details\\\\\\\\\\\\\": {\\\\\\\\\\\\\"selectedColumn\\\\\\\\\\\\\": \\\\\\\\\\\\\"V11\\\\\\\\\\\\\"}}, \\\\\\\\\\\\\"typeProperty\\\\\\\\\\\\\": 3}, {\\\\\\\\\\\\\"column\\\\\\\\\\\\\": {\\\\\\\\\\\\\"type\\\\\\\\\\\\\": 2, \\\\\\\\\\\\\"details\\\\\\\\\\\\\": {\\\\\\\\\\\\\"selectedColumn\\\\\\\\\\\\\": \\\\\\\\\\\\\"V12\\\\\\\\\\\\\"}}, \\\\\\\\\\\\\"typeProperty\\\\\\\\\\\\\": 3}, {\\\\\\\\\\\\\"column\\\\\\\\\\\\\": {\\\\\\\\\\\\\"type\\\\\\\\\\\\\": 2, \\\\\\\\\\\\\"details\\\\\\\\\\\\\": {\\\\\\\\\\\\\"selectedColumn\\\\\\\\\\\\\": \\\\\\\\\\\\\"V13\\\\\\\\\\\\\"}}, \\\\\\\\\\\\\"typeProperty\\\\\\\\\\\\\": 3}, {\\\\\\\\\\\\\"column\\\\\\\\\\\\\": {\\\\\\\\\\\\\"type\\\\\\\\\\\\\": 2, \\\\\\\\\\\\\"details\\\\\\\\\\\\\": {\\\\\\\\\\\\\"selectedColumn\\\\\\\\\\\\\": \\\\\\\\\\\\\"V14\\\\\\\\\\\\\"}}, \\\\\\\\\\\\\"typeProperty\\\\\\\\\\\\\": 3}, {\\\\\\\\\\\\\"column\\\\\\\\\\\\\": {\\\\\\\\\\\\\"type\\\\\\\\\\\\\": 2, \\\\\\\\\\\\\"details\\\\\\\\\\\\\": {\\\\\\\\\\\\\"selectedColumn\\\\\\\\\\\\\": \\\\\\\\\\\\\"V15\\\\\\\\\\\\\"}}, \\\\\\\\\\\\\"typeProperty\\\\\\\\\\\\\": 3}, {\\\\\\\\\\\\\"column\\\\\\\\\\\\\": {\\\\\\\\\\\\\"type\\\\\\\\\\\\\": 2, \\\\\\\\\\\\\"details\\\\\\\\\\\\\": {\\\\\\\\\\\\\"selectedColumn\\\\\\\\\\\\\": \\\\\\\\\\\\\"V16\\\\\\\\\\\\\"}}, \\\\\\\\\\\\\"typeProperty\\\\\\\\\\\\\": 3}, {\\\\\\\\\\\\\"column\\\\\\\\\\\\\": {\\\\\\\\\\\\\"type\\\\\\\\\\\\\": 2, \\\\\\\\\\\\\"details\\\\\\\\\\\\\": {\\\\\\\\\\\\\"selectedColumn\\\\\\\\\\\\\": \\\\\\\\\\\\\"V17\\\\\\\\\\\\\"}}, \\\\\\\\\\\\\"typeProperty\\\\\\\\\\\\\": 3}, {\\\\\\\\\\\\\"column\\\\\\\\\\\\\": {\\\\\\\\\\\\\"type\\\\\\\\\\\\\": 2, \\\\\\\\\\\\\"details\\\\\\\\\\\\\": {\\\\\\\\\\\\\"selectedColumn\\\\\\\\\\\\\": \\\\\\\\\\\\\"V18\\\\\\\\\\\\\"}}, \\\\\\\\\\\\\"typeProperty\\\\\\\\\\\\\": 3}, {\\\\\\\\\\\\\"column\\\\\\\\\\\\\": {\\\\\\\\\\\\\"type\\\\\\\\\\\\\": 2, \\\\\\\\\\\\\"details\\\\\\\\\\\\\": {\\\\\\\\\\\\\"selectedColumn\\\\\\\\\\\\\": \\\\\\\\\\\\\"V19\\\\\\\\\\\\\"}}, \\\\\\\\\\\\\"typeProperty\\\\\\\\\\\\\": 3}, {\\\\\\\\\\\\\"column\\\\\\\\\\\\\": {\\\\\\\\\\\\\"type\\\\\\\\\\\\\": 2, \\\\\\\\\\\\\"details\\\\\\\\\\\\\": {\\\\\\\\\\\\\"selectedColumn\\\\\\\\\\\\\": \\\\\\\\\\\\\"V20\\\\\\\\\\\\\"}}, \\\\\\\\\\\\\"typeProperty\\\\\\\\\\\\\": 3}, {\\\\\\\\\\\\\"column\\\\\\\\\\\\\": {\\\\\\\\\\\\\"type\\\\\\\\\\\\\": 2, \\\\\\\\\\\\\"details\\\\\\\\\\\\\": {\\\\\\\\\\\\\"selectedColumn\\\\\\\\\\\\\": \\\\\\\\\\\\\"V21\\\\\\\\\\\\\"}}, \\\\\\\\\\\\\"typeProperty\\\\\\\\\\\\\": 3}, {\\\\\\\\\\\\\"column\\\\\\\\\\\\\": {\\\\\\\\\\\\\"type\\\\\\\\\\\\\": 2, \\\\\\\\\\\\\"details\\\\\\\\\\\\\": {\\\\\\\\\\\\\"selectedColumn\\\\\\\\\\\\\": \\\\\\\\\\\\\"V22\\\\\\\\\\\\\"}}, \\\\\\\\\\\\\"typeProperty\\\\\\\\\\\\\": 3}, {\\\\\\\\\\\\\"column\\\\\\\\\\\\\": {\\\\\\\\\\\\\"type\\\\\\\\\\\\\": 2, \\\\\\\\\\\\\"details\\\\\\\\\\\\\": {\\\\\\\\\\\\\"selectedColumn\\\\\\\\\\\\\": \\\\\\\\\\\\\"V23\\\\\\\\\\\\\"}}, \\\\\\\\\\\\\"typeProperty\\\\\\\\\\\\\": 3}, {\\\\\\\\\\\\\"column\\\\\\\\\\\\\": {\\\\\\\\\\\\\"type\\\\\\\\\\\\\": 2, \\\\\\\\\\\\\"details\\\\\\\\\\\\\": {\\\\\\\\\\\\\"selectedColumn\\\\\\\\\\\\\": \\\\\\\\\\\\\"V24\\\\\\\\\\\\\"}}, \\\\\\\\\\\\\"typeProperty\\\\\\\\\\\\\": 3}, {\\\\\\\\\\\\\"column\\\\\\\\\\\\\": {\\\\\\\\\\\\\"type\\\\\\\\\\\\\": 2, \\\\\\\\\\\\\"details\\\\\\\\\\\\\": {\\\\\\\\\\\\\"selectedColumn\\\\\\\\\\\\\": \\\\\\\\\\\\\"V25\\\\\\\\\\\\\"}}, \\\\\\\\\\\\\"typeProperty\\\\\\\\\\\\\": 3}, {\\\\\\\\\\\\\"column\\\\\\\\\\\\\": {\\\\\\\\\\\\\"type\\\\\\\\\\\\\": 2, \\\\\\\\\\\\\"details\\\\\\\\\\\\\": {\\\\\\\\\\\\\"selectedColumn\\\\\\\\\\\\\": \\\\\\\\\\\\\"V26\\\\\\\\\\\\\"}}, \\\\\\\\\\\\\"typeProperty\\\\\\\\\\\\\": 3}, {\\\\\\\\\\\\\"column\\\\\\\\\\\\\": {\\\\\\\\\\\\\"type\\\\\\\\\\\\\": 2, \\\\\\\\\\\\\"details\\\\\\\\\\\\\": {\\\\\\\\\\\\\"selectedColumn\\\\\\\\\\\\\": \\\\\\\\\\\\\"V27\\\\\\\\\\\\\"}}, \\\\\\\\\\\\\"typeProperty\\\\\\\\\\\\\": 3}, {\\\\\\\\\\\\\"column\\\\\\\\\\\\\": {\\\\\\\\\\\\\"type\\\\\\\\\\\\\": 2, \\\\\\\\\\\\\"details\\\\\\\\\\\\\": {\\\\\\\\\\\\\"selectedColumn\\\\\\\\\\\\\": \\\\\\\\\\\\\"V28\\\\\\\\\\\\\"}}, \\\\\\\\\\\\\"typeProperty\\\\\\\\\\\\\": 3}, {\\\\\\\\\\\\\"column\\\\\\\\\\\\\": {\\\\\\\\\\\\\"type\\\\\\\\\\\\\": 2, \\\\\\\\\\\\\"details\\\\\\\\\\\\\": {\\\\\\\\\\\\\"selectedColumn\\\\\\\\\\\\\": \\\\\\\\\\\\\"Amount\\\\\\\\\\\\\"}}, \\\\\\\\\\\\\"typeProperty\\\\\\\\\\\\\": 3}, {\\\\\\\\\\\\\"column\\\\\\\\\\\\\": {\\\\\\\\\\\\\"type\\\\\\\\\\\\\": 2, \\\\\\\\\\\\\"details\\\\\\\\\\\\\": {\\\\\\\\\\\\\"selectedColumn\\\\\\\\\\\\\": \\\\\\\\\\\\\"Class\\\\\\\\\\\\\"}}, \\\\\\\\\\\\\"typeProperty\\\\\\\\\\\\\": 2}]}, \\\\\\\\\\\\\"localData\\\\\\\\\\\\\": {}, \\\\\\\\\\\\\"isEnabled\\\\\\\\\\\\\": true, \\\\\\\\\\\\\"name\\\\\\\\\\\\\": null, \\\\\\\\\\\\\"annotation\\\\\\\\\\\\\": null}], \\\\\\\\\\\\\"inspectors\\\\\\\\\\\\\": [], \\\\\\\\\\\\\"meta\\\\\\\\\\\\\": {\\\\\\\\\\\\\"savedDatasetId\\\\\\\\\\\\\": \\\\\\\\\\\\\"43e9f1b5-7a3c-4328-bb7e-8a2845cc410b\\\\\\\\\\\\\", \\\\\\\\\\\\\"datasetType\\\\\\\\\\\\\": \\\\\\\\\\\\\"tabular\\\\\\\\\\\\\", \\\\\\\\\\\\\"subscriptionId\\\\\\\\\\\\\": \\\\\\\\\\\\\"976ee174-3882-4721-b90a-b5fef6b72f24\\\\\\\\\\\\\", \\\\\\\\\\\\\"workspaceId\\\\\\\\\\\\\": \\\\\\\\\\\\\"aa1be0d3-fd03-46bb-89e5-ebfd8a5b2767\\\\\\\\\\\\\", \\\\\\\\\\\\\"workspaceLocation\\\\\\\\\\\\\": \\\\\\\\\\\\\"southcentralus\\\\\\\\\\\\\"}}\\\\\", \\\\\"activities\\\\\": 0}',\n",
       "  'EnableSubsampling': None,\n",
       "  'runTemplate': 'AutoML',\n",
       "  'azureml.runsource': 'automl',\n",
       "  'display_task_type': 'classification',\n",
       "  'dependencies_versions': '{\"azureml-widgets\": \"1.20.0\", \"azureml-train\": \"1.20.0\", \"azureml-train-restclients-hyperdrive\": \"1.20.0\", \"azureml-train-core\": \"1.20.0\", \"azureml-train-automl\": \"1.20.0\", \"azureml-train-automl-runtime\": \"1.20.0\", \"azureml-train-automl-client\": \"1.20.0\", \"azureml-tensorboard\": \"1.20.0\", \"azureml-telemetry\": \"1.20.0\", \"azureml-sdk\": \"1.20.0\", \"azureml-samples\": \"0+unknown\", \"azureml-pipeline\": \"1.20.0\", \"azureml-pipeline-steps\": \"1.20.0\", \"azureml-pipeline-core\": \"1.20.0\", \"azureml-opendatasets\": \"1.20.0\", \"azureml-model-management-sdk\": \"1.0.1b6.post1\", \"azureml-mlflow\": \"1.20.0.post1\", \"azureml-interpret\": \"1.20.0\", \"azureml-explain-model\": \"1.20.0\", \"azureml-defaults\": \"1.20.0\", \"azureml-dataset-runtime\": \"1.20.0\", \"azureml-dataprep\": \"2.7.3\", \"azureml-dataprep-rslex\": \"1.5.0\", \"azureml-dataprep-native\": \"27.0.0\", \"azureml-datadrift\": \"1.20.0\", \"azureml-core\": \"1.20.0\", \"azureml-contrib-services\": \"1.20.0\", \"azureml-contrib-server\": \"1.20.0\", \"azureml-contrib-reinforcementlearning\": \"1.20.0\", \"azureml-contrib-pipeline-steps\": \"1.20.0\", \"azureml-contrib-notebook\": \"1.20.0\", \"azureml-contrib-interpret\": \"1.20.0\", \"azureml-contrib-gbdt\": \"1.20.0\", \"azureml-contrib-fairness\": \"1.20.0\", \"azureml-contrib-dataset\": \"1.20.0\", \"azureml-cli-common\": \"1.20.0\", \"azureml-automl-runtime\": \"1.20.0\", \"azureml-automl-core\": \"1.20.0\", \"azureml-accel-models\": \"1.20.0\"}',\n",
       "  '_aml_system_scenario_identification': 'Remote.Parent',\n",
       "  'ClientType': 'SDK',\n",
       "  'environment_cpu_name': 'AzureML-AutoML',\n",
       "  'environment_cpu_label': 'prod',\n",
       "  'environment_gpu_name': 'AzureML-AutoML-GPU',\n",
       "  'environment_gpu_label': 'prod',\n",
       "  'root_attribution': 'automl',\n",
       "  'attribution': 'AutoML',\n",
       "  'Orchestrator': 'AutoML',\n",
       "  'CancelUri': 'https://southcentralus.experiments.azureml.net/jasmine/v1.0/subscriptions/976ee174-3882-4721-b90a-b5fef6b72f24/resourceGroups/aml-quickstarts-138190/providers/Microsoft.MachineLearningServices/workspaces/quick-starts-ws-138190/experimentids/1a79be93-691b-48db-8b3e-c83d6411d9df/cancel/AutoML_26986b18-0c16-4670-b009-817d60da1c62',\n",
       "  'ClientSdkVersion': '1.21.0',\n",
       "  'snapshotId': '00000000-0000-0000-0000-000000000000',\n",
       "  'SetupRunId': 'AutoML_26986b18-0c16-4670-b009-817d60da1c62_setup',\n",
       "  'SetupRunContainerId': 'dcid.AutoML_26986b18-0c16-4670-b009-817d60da1c62_setup',\n",
       "  'FeaturizationRunJsonPath': 'featurizer_container.json',\n",
       "  'FeaturizationRunId': 'AutoML_26986b18-0c16-4670-b009-817d60da1c62_featurize',\n",
       "  'ProblemInfoJsonString': '{\"dataset_num_categorical\": 0, \"is_sparse\": false, \"subsampling\": false, \"dataset_classes\": 2, \"dataset_features\": 30, \"dataset_samples\": 100000, \"single_frequency_class_detected\": false}',\n",
       "  'ModelExplainRunId': 'AutoML_26986b18-0c16-4670-b009-817d60da1c62_ModelExplain'},\n",
       " 'inputDatasets': [{'dataset': {'id': '43e9f1b5-7a3c-4328-bb7e-8a2845cc410b'}, 'consumptionDetails': {'type': 'RunInput', 'inputName': 'training_data', 'mechanism': 'Direct'}}],\n",
       " 'outputDatasets': [],\n",
       " 'logFiles': {},\n",
       " 'submittedBy': 'ODL_User 138190'}"
      ]
     },
     "execution_count": 11,
     "metadata": {},
     "output_type": "execute_result"
    }
   ],
   "source": [
    "# TODo your experiment name here\n",
    "#remote_run = experiment.submit(automl_config)\n",
    "\n",
    "remote_run = experiment.submit(automl_config, show_output=True)\n",
    "remote_run.wait_for_completion()"
   ]
  },
  {
   "cell_type": "markdown",
   "metadata": {},
   "source": [
    "## Run Details\n",
    "\n",
    "OPTIONAL: Write about the different models trained and their performance. Why do you think some models did better than others?\n",
    "\n",
    "TODO: In the cell below, use the `RunDetails` widget to show the different experiments."
   ]
  },
  {
   "cell_type": "code",
   "execution_count": 12,
   "metadata": {},
   "outputs": [
    {
     "data": {
      "application/vnd.jupyter.widget-view+json": {
       "model_id": "b2a226d63fa1408a853c35daee8ce5c3",
       "version_major": 2,
       "version_minor": 0
      },
      "text/plain": [
       "_AutoMLWidget(widget_settings={'childWidgetDisplay': 'popup', 'send_telemetry': False, 'log_level': 'INFO', 's…"
      ]
     },
     "metadata": {},
     "output_type": "display_data"
    },
    {
     "data": {
      "application/aml.mini.widget.v1": "{\"status\": \"Completed\", \"workbench_run_details_uri\": \"https://ml.azure.com/experiments/Detection/runs/AutoML_26986b18-0c16-4670-b009-817d60da1c62?wsid=/subscriptions/976ee174-3882-4721-b90a-b5fef6b72f24/resourcegroups/aml-quickstarts-138190/workspaces/quick-starts-ws-138190\", \"run_id\": \"AutoML_26986b18-0c16-4670-b009-817d60da1c62\", \"run_properties\": {\"run_id\": \"AutoML_26986b18-0c16-4670-b009-817d60da1c62\", \"created_utc\": \"2021-02-08T19:38:15.577686Z\", \"properties\": {\"num_iterations\": \"1000\", \"training_type\": \"TrainFull\", \"acquisition_function\": \"EI\", \"primary_metric\": \"accuracy\", \"train_split\": \"0\", \"acquisition_parameter\": \"0\", \"num_cross_validation\": \"5\", \"target\": \"auto-ml-cluster\", \"AMLSettingsJsonString\": \"{\\\"path\\\":null,\\\"name\\\":\\\"Detection\\\",\\\"subscription_id\\\":\\\"976ee174-3882-4721-b90a-b5fef6b72f24\\\",\\\"resource_group\\\":\\\"aml-quickstarts-138190\\\",\\\"workspace_name\\\":\\\"quick-starts-ws-138190\\\",\\\"region\\\":\\\"southcentralus\\\",\\\"compute_target\\\":\\\"auto-ml-cluster\\\",\\\"spark_service\\\":null,\\\"azure_service\\\":\\\"remote\\\",\\\"many_models\\\":false,\\\"pipeline_fetch_max_batch_size\\\":1,\\\"iterations\\\":1000,\\\"primary_metric\\\":\\\"accuracy\\\",\\\"task_type\\\":\\\"classification\\\",\\\"data_script\\\":null,\\\"validation_size\\\":0.0,\\\"n_cross_validations\\\":5,\\\"y_min\\\":null,\\\"y_max\\\":null,\\\"num_classes\\\":null,\\\"featurization\\\":\\\"auto\\\",\\\"_ignore_package_version_incompatibilities\\\":false,\\\"is_timeseries\\\":false,\\\"max_cores_per_iteration\\\":1,\\\"max_concurrent_iterations\\\":1,\\\"iteration_timeout_minutes\\\":null,\\\"mem_in_mb\\\":null,\\\"enforce_time_on_windows\\\":false,\\\"experiment_timeout_minutes\\\":8640,\\\"experiment_exit_score\\\":null,\\\"whitelist_models\\\":null,\\\"blacklist_algos\\\":[\\\"TensorFlowLinearClassifier\\\",\\\"TensorFlowDNN\\\"],\\\"supported_models\\\":[\\\"SGD\\\",\\\"RandomForest\\\",\\\"LinearSVM\\\",\\\"BernoulliNaiveBayes\\\",\\\"ExtremeRandomTrees\\\",\\\"XGBoostClassifier\\\",\\\"AveragedPerceptronClassifier\\\",\\\"DecisionTree\\\",\\\"LogisticRegression\\\",\\\"TensorFlowLinearClassifier\\\",\\\"MultinomialNaiveBayes\\\",\\\"SVM\\\",\\\"GradientBoosting\\\",\\\"KNN\\\",\\\"TensorFlowDNN\\\",\\\"LightGBM\\\"],\\\"auto_blacklist\\\":true,\\\"blacklist_samples_reached\\\":false,\\\"exclude_nan_labels\\\":true,\\\"verbosity\\\":20,\\\"_debug_log\\\":\\\"azureml_automl.log\\\",\\\"show_warnings\\\":false,\\\"model_explainability\\\":true,\\\"service_url\\\":null,\\\"sdk_url\\\":null,\\\"sdk_packages\\\":null,\\\"enable_onnx_compatible_models\\\":false,\\\"enable_split_onnx_featurizer_estimator_models\\\":false,\\\"vm_type\\\":\\\"STANDARD_DS12_V2\\\",\\\"telemetry_verbosity\\\":20,\\\"send_telemetry\\\":true,\\\"enable_dnn\\\":false,\\\"scenario\\\":\\\"SDK-1.13.0\\\",\\\"environment_label\\\":null,\\\"force_text_dnn\\\":false,\\\"enable_feature_sweeping\\\":true,\\\"enable_early_stopping\\\":true,\\\"early_stopping_n_iters\\\":10,\\\"metrics\\\":null,\\\"enable_ensembling\\\":true,\\\"enable_stack_ensembling\\\":true,\\\"ensemble_iterations\\\":15,\\\"enable_tf\\\":false,\\\"enable_subsampling\\\":null,\\\"subsample_seed\\\":null,\\\"enable_nimbusml\\\":false,\\\"enable_streaming\\\":false,\\\"force_streaming\\\":false,\\\"track_child_runs\\\":true,\\\"allowed_private_models\\\":[],\\\"label_column_name\\\":\\\"Class\\\",\\\"weight_column_name\\\":null,\\\"cv_split_column_names\\\":null,\\\"enable_local_managed\\\":false,\\\"_local_managed_run_id\\\":null,\\\"cost_mode\\\":1,\\\"lag_length\\\":0,\\\"metric_operation\\\":\\\"maximize\\\",\\\"preprocess\\\":true}\", \"DataPrepJsonString\": \"{\\\\\\\"training_data\\\\\\\": \\\\\\\"{\\\\\\\\\\\\\\\"blocks\\\\\\\\\\\\\\\": [{\\\\\\\\\\\\\\\"id\\\\\\\\\\\\\\\": \\\\\\\\\\\\\\\"5c9cf99e-bf70-449d-ad1d-3c9057be00cb\\\\\\\\\\\\\\\", \\\\\\\\\\\\\\\"type\\\\\\\\\\\\\\\": \\\\\\\\\\\\\\\"Microsoft.DPrep.GetFilesBlock\\\\\\\\\\\\\\\", \\\\\\\\\\\\\\\"arguments\\\\\\\\\\\\\\\": {\\\\\\\\\\\\\\\"isArchive\\\\\\\\\\\\\\\": false, \\\\\\\\\\\\\\\"path\\\\\\\\\\\\\\\": {\\\\\\\\\\\\\\\"target\\\\\\\\\\\\\\\": 4, \\\\\\\\\\\\\\\"resourceDetails\\\\\\\\\\\\\\\": [{\\\\\\\\\\\\\\\"path\\\\\\\\\\\\\\\": \\\\\\\\\\\\\\\"https://media.githubusercontent.com/media/Tekhunt/Creditcard-fraud-detection/master/fraud-data.csv\\\\\\\\\\\\\\\"}]}}, \\\\\\\\\\\\\\\"localData\\\\\\\\\\\\\\\": {}, \\\\\\\\\\\\\\\"isEnabled\\\\\\\\\\\\\\\": true, \\\\\\\\\\\\\\\"name\\\\\\\\\\\\\\\": null, \\\\\\\\\\\\\\\"annotation\\\\\\\\\\\\\\\": null}, {\\\\\\\\\\\\\\\"id\\\\\\\\\\\\\\\": \\\\\\\\\\\\\\\"f1aae88c-8ff0-4e60-8055-644e94296b21\\\\\\\\\\\\\\\", \\\\\\\\\\\\\\\"type\\\\\\\\\\\\\\\": \\\\\\\\\\\\\\\"Microsoft.DPrep.ParseDelimitedBlock\\\\\\\\\\\\\\\", \\\\\\\\\\\\\\\"arguments\\\\\\\\\\\\\\\": {\\\\\\\\\\\\\\\"columnHeadersMode\\\\\\\\\\\\\\\": 3, \\\\\\\\\\\\\\\"fileEncoding\\\\\\\\\\\\\\\": 0, \\\\\\\\\\\\\\\"handleQuotedLineBreaks\\\\\\\\\\\\\\\": false, \\\\\\\\\\\\\\\"preview\\\\\\\\\\\\\\\": false, \\\\\\\\\\\\\\\"separator\\\\\\\\\\\\\\\": \\\\\\\\\\\\\\\",\\\\\\\\\\\\\\\", \\\\\\\\\\\\\\\"skipRows\\\\\\\\\\\\\\\": 0, \\\\\\\\\\\\\\\"skipRowsMode\\\\\\\\\\\\\\\": 0}, \\\\\\\\\\\\\\\"localData\\\\\\\\\\\\\\\": {}, \\\\\\\\\\\\\\\"isEnabled\\\\\\\\\\\\\\\": true, \\\\\\\\\\\\\\\"name\\\\\\\\\\\\\\\": null, \\\\\\\\\\\\\\\"annotation\\\\\\\\\\\\\\\": null}, {\\\\\\\\\\\\\\\"id\\\\\\\\\\\\\\\": \\\\\\\\\\\\\\\"f7c1ab91-79a8-4835-ad98-7fb44c7ecf87\\\\\\\\\\\\\\\", \\\\\\\\\\\\\\\"type\\\\\\\\\\\\\\\": \\\\\\\\\\\\\\\"Microsoft.DPrep.DropColumnsBlock\\\\\\\\\\\\\\\", \\\\\\\\\\\\\\\"arguments\\\\\\\\\\\\\\\": {\\\\\\\\\\\\\\\"columns\\\\\\\\\\\\\\\": {\\\\\\\\\\\\\\\"type\\\\\\\\\\\\\\\": 0, \\\\\\\\\\\\\\\"details\\\\\\\\\\\\\\\": {\\\\\\\\\\\\\\\"selectedColumns\\\\\\\\\\\\\\\": [\\\\\\\\\\\\\\\"Path\\\\\\\\\\\\\\\"]}}}, \\\\\\\\\\\\\\\"localData\\\\\\\\\\\\\\\": {}, \\\\\\\\\\\\\\\"isEnabled\\\\\\\\\\\\\\\": true, \\\\\\\\\\\\\\\"name\\\\\\\\\\\\\\\": null, \\\\\\\\\\\\\\\"annotation\\\\\\\\\\\\\\\": null}, {\\\\\\\\\\\\\\\"id\\\\\\\\\\\\\\\": \\\\\\\\\\\\\\\"26fe0806-4346-4f07-ae36-3a138aacd7c5\\\\\\\\\\\\\\\", \\\\\\\\\\\\\\\"type\\\\\\\\\\\\\\\": \\\\\\\\\\\\\\\"Microsoft.DPrep.SetColumnTypesBlock\\\\\\\\\\\\\\\", \\\\\\\\\\\\\\\"arguments\\\\\\\\\\\\\\\": {\\\\\\\\\\\\\\\"columnConversion\\\\\\\\\\\\\\\": [{\\\\\\\\\\\\\\\"column\\\\\\\\\\\\\\\": {\\\\\\\\\\\\\\\"type\\\\\\\\\\\\\\\": 2, \\\\\\\\\\\\\\\"details\\\\\\\\\\\\\\\": {\\\\\\\\\\\\\\\"selectedColumn\\\\\\\\\\\\\\\": \\\\\\\\\\\\\\\"Time\\\\\\\\\\\\\\\"}}, \\\\\\\\\\\\\\\"typeProperty\\\\\\\\\\\\\\\": 3}, {\\\\\\\\\\\\\\\"column\\\\\\\\\\\\\\\": {\\\\\\\\\\\\\\\"type\\\\\\\\\\\\\\\": 2, \\\\\\\\\\\\\\\"details\\\\\\\\\\\\\\\": {\\\\\\\\\\\\\\\"selectedColumn\\\\\\\\\\\\\\\": \\\\\\\\\\\\\\\"V1\\\\\\\\\\\\\\\"}}, \\\\\\\\\\\\\\\"typeProperty\\\\\\\\\\\\\\\": 3}, {\\\\\\\\\\\\\\\"column\\\\\\\\\\\\\\\": {\\\\\\\\\\\\\\\"type\\\\\\\\\\\\\\\": 2, \\\\\\\\\\\\\\\"details\\\\\\\\\\\\\\\": {\\\\\\\\\\\\\\\"selectedColumn\\\\\\\\\\\\\\\": \\\\\\\\\\\\\\\"V2\\\\\\\\\\\\\\\"}}, \\\\\\\\\\\\\\\"typeProperty\\\\\\\\\\\\\\\": 3}, {\\\\\\\\\\\\\\\"column\\\\\\\\\\\\\\\": {\\\\\\\\\\\\\\\"type\\\\\\\\\\\\\\\": 2, \\\\\\\\\\\\\\\"details\\\\\\\\\\\\\\\": {\\\\\\\\\\\\\\\"selectedColumn\\\\\\\\\\\\\\\": \\\\\\\\\\\\\\\"V3\\\\\\\\\\\\\\\"}}, \\\\\\\\\\\\\\\"typeProperty\\\\\\\\\\\\\\\": 3}, {\\\\\\\\\\\\\\\"column\\\\\\\\\\\\\\\": {\\\\\\\\\\\\\\\"type\\\\\\\\\\\\\\\": 2, \\\\\\\\\\\\\\\"details\\\\\\\\\\\\\\\": {\\\\\\\\\\\\\\\"selectedColumn\\\\\\\\\\\\\\\": \\\\\\\\\\\\\\\"V4\\\\\\\\\\\\\\\"}}, \\\\\\\\\\\\\\\"typeProperty\\\\\\\\\\\\\\\": 3}, {\\\\\\\\\\\\\\\"column\\\\\\\\\\\\\\\": {\\\\\\\\\\\\\\\"type\\\\\\\\\\\\\\\": 2, \\\\\\\\\\\\\\\"details\\\\\\\\\\\\\\\": {\\\\\\\\\\\\\\\"selectedColumn\\\\\\\\\\\\\\\": \\\\\\\\\\\\\\\"V5\\\\\\\\\\\\\\\"}}, \\\\\\\\\\\\\\\"typeProperty\\\\\\\\\\\\\\\": 3}, {\\\\\\\\\\\\\\\"column\\\\\\\\\\\\\\\": {\\\\\\\\\\\\\\\"type\\\\\\\\\\\\\\\": 2, \\\\\\\\\\\\\\\"details\\\\\\\\\\\\\\\": {\\\\\\\\\\\\\\\"selectedColumn\\\\\\\\\\\\\\\": \\\\\\\\\\\\\\\"V6\\\\\\\\\\\\\\\"}}, \\\\\\\\\\\\\\\"typeProperty\\\\\\\\\\\\\\\": 3}, {\\\\\\\\\\\\\\\"column\\\\\\\\\\\\\\\": {\\\\\\\\\\\\\\\"type\\\\\\\\\\\\\\\": 2, \\\\\\\\\\\\\\\"details\\\\\\\\\\\\\\\": {\\\\\\\\\\\\\\\"selectedColumn\\\\\\\\\\\\\\\": \\\\\\\\\\\\\\\"V7\\\\\\\\\\\\\\\"}}, \\\\\\\\\\\\\\\"typeProperty\\\\\\\\\\\\\\\": 3}, {\\\\\\\\\\\\\\\"column\\\\\\\\\\\\\\\": {\\\\\\\\\\\\\\\"type\\\\\\\\\\\\\\\": 2, \\\\\\\\\\\\\\\"details\\\\\\\\\\\\\\\": {\\\\\\\\\\\\\\\"selectedColumn\\\\\\\\\\\\\\\": \\\\\\\\\\\\\\\"V8\\\\\\\\\\\\\\\"}}, \\\\\\\\\\\\\\\"typeProperty\\\\\\\\\\\\\\\": 3}, {\\\\\\\\\\\\\\\"column\\\\\\\\\\\\\\\": {\\\\\\\\\\\\\\\"type\\\\\\\\\\\\\\\": 2, \\\\\\\\\\\\\\\"details\\\\\\\\\\\\\\\": {\\\\\\\\\\\\\\\"selectedColumn\\\\\\\\\\\\\\\": \\\\\\\\\\\\\\\"V9\\\\\\\\\\\\\\\"}}, \\\\\\\\\\\\\\\"typeProperty\\\\\\\\\\\\\\\": 3}, {\\\\\\\\\\\\\\\"column\\\\\\\\\\\\\\\": {\\\\\\\\\\\\\\\"type\\\\\\\\\\\\\\\": 2, \\\\\\\\\\\\\\\"details\\\\\\\\\\\\\\\": {\\\\\\\\\\\\\\\"selectedColumn\\\\\\\\\\\\\\\": \\\\\\\\\\\\\\\"V10\\\\\\\\\\\\\\\"}}, \\\\\\\\\\\\\\\"typeProperty\\\\\\\\\\\\\\\": 3}, {\\\\\\\\\\\\\\\"column\\\\\\\\\\\\\\\": {\\\\\\\\\\\\\\\"type\\\\\\\\\\\\\\\": 2, \\\\\\\\\\\\\\\"details\\\\\\\\\\\\\\\": {\\\\\\\\\\\\\\\"selectedColumn\\\\\\\\\\\\\\\": \\\\\\\\\\\\\\\"V11\\\\\\\\\\\\\\\"}}, \\\\\\\\\\\\\\\"typeProperty\\\\\\\\\\\\\\\": 3}, {\\\\\\\\\\\\\\\"column\\\\\\\\\\\\\\\": {\\\\\\\\\\\\\\\"type\\\\\\\\\\\\\\\": 2, \\\\\\\\\\\\\\\"details\\\\\\\\\\\\\\\": {\\\\\\\\\\\\\\\"selectedColumn\\\\\\\\\\\\\\\": \\\\\\\\\\\\\\\"V12\\\\\\\\\\\\\\\"}}, \\\\\\\\\\\\\\\"typeProperty\\\\\\\\\\\\\\\": 3}, {\\\\\\\\\\\\\\\"column\\\\\\\\\\\\\\\": {\\\\\\\\\\\\\\\"type\\\\\\\\\\\\\\\": 2, \\\\\\\\\\\\\\\"details\\\\\\\\\\\\\\\": {\\\\\\\\\\\\\\\"selectedColumn\\\\\\\\\\\\\\\": \\\\\\\\\\\\\\\"V13\\\\\\\\\\\\\\\"}}, \\\\\\\\\\\\\\\"typeProperty\\\\\\\\\\\\\\\": 3}, {\\\\\\\\\\\\\\\"column\\\\\\\\\\\\\\\": {\\\\\\\\\\\\\\\"type\\\\\\\\\\\\\\\": 2, \\\\\\\\\\\\\\\"details\\\\\\\\\\\\\\\": {\\\\\\\\\\\\\\\"selectedColumn\\\\\\\\\\\\\\\": \\\\\\\\\\\\\\\"V14\\\\\\\\\\\\\\\"}}, \\\\\\\\\\\\\\\"typeProperty\\\\\\\\\\\\\\\": 3}, {\\\\\\\\\\\\\\\"column\\\\\\\\\\\\\\\": {\\\\\\\\\\\\\\\"type\\\\\\\\\\\\\\\": 2, \\\\\\\\\\\\\\\"details\\\\\\\\\\\\\\\": {\\\\\\\\\\\\\\\"selectedColumn\\\\\\\\\\\\\\\": \\\\\\\\\\\\\\\"V15\\\\\\\\\\\\\\\"}}, \\\\\\\\\\\\\\\"typeProperty\\\\\\\\\\\\\\\": 3}, {\\\\\\\\\\\\\\\"column\\\\\\\\\\\\\\\": {\\\\\\\\\\\\\\\"type\\\\\\\\\\\\\\\": 2, \\\\\\\\\\\\\\\"details\\\\\\\\\\\\\\\": {\\\\\\\\\\\\\\\"selectedColumn\\\\\\\\\\\\\\\": \\\\\\\\\\\\\\\"V16\\\\\\\\\\\\\\\"}}, \\\\\\\\\\\\\\\"typeProperty\\\\\\\\\\\\\\\": 3}, {\\\\\\\\\\\\\\\"column\\\\\\\\\\\\\\\": {\\\\\\\\\\\\\\\"type\\\\\\\\\\\\\\\": 2, \\\\\\\\\\\\\\\"details\\\\\\\\\\\\\\\": {\\\\\\\\\\\\\\\"selectedColumn\\\\\\\\\\\\\\\": \\\\\\\\\\\\\\\"V17\\\\\\\\\\\\\\\"}}, \\\\\\\\\\\\\\\"typeProperty\\\\\\\\\\\\\\\": 3}, {\\\\\\\\\\\\\\\"column\\\\\\\\\\\\\\\": {\\\\\\\\\\\\\\\"type\\\\\\\\\\\\\\\": 2, \\\\\\\\\\\\\\\"details\\\\\\\\\\\\\\\": {\\\\\\\\\\\\\\\"selectedColumn\\\\\\\\\\\\\\\": \\\\\\\\\\\\\\\"V18\\\\\\\\\\\\\\\"}}, \\\\\\\\\\\\\\\"typeProperty\\\\\\\\\\\\\\\": 3}, {\\\\\\\\\\\\\\\"column\\\\\\\\\\\\\\\": {\\\\\\\\\\\\\\\"type\\\\\\\\\\\\\\\": 2, \\\\\\\\\\\\\\\"details\\\\\\\\\\\\\\\": {\\\\\\\\\\\\\\\"selectedColumn\\\\\\\\\\\\\\\": \\\\\\\\\\\\\\\"V19\\\\\\\\\\\\\\\"}}, \\\\\\\\\\\\\\\"typeProperty\\\\\\\\\\\\\\\": 3}, {\\\\\\\\\\\\\\\"column\\\\\\\\\\\\\\\": {\\\\\\\\\\\\\\\"type\\\\\\\\\\\\\\\": 2, \\\\\\\\\\\\\\\"details\\\\\\\\\\\\\\\": {\\\\\\\\\\\\\\\"selectedColumn\\\\\\\\\\\\\\\": \\\\\\\\\\\\\\\"V20\\\\\\\\\\\\\\\"}}, \\\\\\\\\\\\\\\"typeProperty\\\\\\\\\\\\\\\": 3}, {\\\\\\\\\\\\\\\"column\\\\\\\\\\\\\\\": {\\\\\\\\\\\\\\\"type\\\\\\\\\\\\\\\": 2, \\\\\\\\\\\\\\\"details\\\\\\\\\\\\\\\": {\\\\\\\\\\\\\\\"selectedColumn\\\\\\\\\\\\\\\": \\\\\\\\\\\\\\\"V21\\\\\\\\\\\\\\\"}}, \\\\\\\\\\\\\\\"typeProperty\\\\\\\\\\\\\\\": 3}, {\\\\\\\\\\\\\\\"column\\\\\\\\\\\\\\\": {\\\\\\\\\\\\\\\"type\\\\\\\\\\\\\\\": 2, \\\\\\\\\\\\\\\"details\\\\\\\\\\\\\\\": {\\\\\\\\\\\\\\\"selectedColumn\\\\\\\\\\\\\\\": \\\\\\\\\\\\\\\"V22\\\\\\\\\\\\\\\"}}, \\\\\\\\\\\\\\\"typeProperty\\\\\\\\\\\\\\\": 3}, {\\\\\\\\\\\\\\\"column\\\\\\\\\\\\\\\": {\\\\\\\\\\\\\\\"type\\\\\\\\\\\\\\\": 2, \\\\\\\\\\\\\\\"details\\\\\\\\\\\\\\\": {\\\\\\\\\\\\\\\"selectedColumn\\\\\\\\\\\\\\\": \\\\\\\\\\\\\\\"V23\\\\\\\\\\\\\\\"}}, \\\\\\\\\\\\\\\"typeProperty\\\\\\\\\\\\\\\": 3}, {\\\\\\\\\\\\\\\"column\\\\\\\\\\\\\\\": {\\\\\\\\\\\\\\\"type\\\\\\\\\\\\\\\": 2, \\\\\\\\\\\\\\\"details\\\\\\\\\\\\\\\": {\\\\\\\\\\\\\\\"selectedColumn\\\\\\\\\\\\\\\": \\\\\\\\\\\\\\\"V24\\\\\\\\\\\\\\\"}}, \\\\\\\\\\\\\\\"typeProperty\\\\\\\\\\\\\\\": 3}, {\\\\\\\\\\\\\\\"column\\\\\\\\\\\\\\\": {\\\\\\\\\\\\\\\"type\\\\\\\\\\\\\\\": 2, \\\\\\\\\\\\\\\"details\\\\\\\\\\\\\\\": {\\\\\\\\\\\\\\\"selectedColumn\\\\\\\\\\\\\\\": \\\\\\\\\\\\\\\"V25\\\\\\\\\\\\\\\"}}, \\\\\\\\\\\\\\\"typeProperty\\\\\\\\\\\\\\\": 3}, {\\\\\\\\\\\\\\\"column\\\\\\\\\\\\\\\": {\\\\\\\\\\\\\\\"type\\\\\\\\\\\\\\\": 2, \\\\\\\\\\\\\\\"details\\\\\\\\\\\\\\\": {\\\\\\\\\\\\\\\"selectedColumn\\\\\\\\\\\\\\\": \\\\\\\\\\\\\\\"V26\\\\\\\\\\\\\\\"}}, \\\\\\\\\\\\\\\"typeProperty\\\\\\\\\\\\\\\": 3}, {\\\\\\\\\\\\\\\"column\\\\\\\\\\\\\\\": {\\\\\\\\\\\\\\\"type\\\\\\\\\\\\\\\": 2, \\\\\\\\\\\\\\\"details\\\\\\\\\\\\\\\": {\\\\\\\\\\\\\\\"selectedColumn\\\\\\\\\\\\\\\": \\\\\\\\\\\\\\\"V27\\\\\\\\\\\\\\\"}}, \\\\\\\\\\\\\\\"typeProperty\\\\\\\\\\\\\\\": 3}, {\\\\\\\\\\\\\\\"column\\\\\\\\\\\\\\\": {\\\\\\\\\\\\\\\"type\\\\\\\\\\\\\\\": 2, \\\\\\\\\\\\\\\"details\\\\\\\\\\\\\\\": {\\\\\\\\\\\\\\\"selectedColumn\\\\\\\\\\\\\\\": \\\\\\\\\\\\\\\"V28\\\\\\\\\\\\\\\"}}, \\\\\\\\\\\\\\\"typeProperty\\\\\\\\\\\\\\\": 3}, {\\\\\\\\\\\\\\\"column\\\\\\\\\\\\\\\": {\\\\\\\\\\\\\\\"type\\\\\\\\\\\\\\\": 2, \\\\\\\\\\\\\\\"details\\\\\\\\\\\\\\\": {\\\\\\\\\\\\\\\"selectedColumn\\\\\\\\\\\\\\\": \\\\\\\\\\\\\\\"Amount\\\\\\\\\\\\\\\"}}, \\\\\\\\\\\\\\\"typeProperty\\\\\\\\\\\\\\\": 3}, {\\\\\\\\\\\\\\\"column\\\\\\\\\\\\\\\": {\\\\\\\\\\\\\\\"type\\\\\\\\\\\\\\\": 2, \\\\\\\\\\\\\\\"details\\\\\\\\\\\\\\\": {\\\\\\\\\\\\\\\"selectedColumn\\\\\\\\\\\\\\\": \\\\\\\\\\\\\\\"Class\\\\\\\\\\\\\\\"}}, \\\\\\\\\\\\\\\"typeProperty\\\\\\\\\\\\\\\": 2}]}, \\\\\\\\\\\\\\\"localData\\\\\\\\\\\\\\\": {}, \\\\\\\\\\\\\\\"isEnabled\\\\\\\\\\\\\\\": true, \\\\\\\\\\\\\\\"name\\\\\\\\\\\\\\\": null, \\\\\\\\\\\\\\\"annotation\\\\\\\\\\\\\\\": null}], \\\\\\\\\\\\\\\"inspectors\\\\\\\\\\\\\\\": [], \\\\\\\\\\\\\\\"meta\\\\\\\\\\\\\\\": {\\\\\\\\\\\\\\\"savedDatasetId\\\\\\\\\\\\\\\": \\\\\\\\\\\\\\\"43e9f1b5-7a3c-4328-bb7e-8a2845cc410b\\\\\\\\\\\\\\\", \\\\\\\\\\\\\\\"datasetType\\\\\\\\\\\\\\\": \\\\\\\\\\\\\\\"tabular\\\\\\\\\\\\\\\", \\\\\\\\\\\\\\\"subscriptionId\\\\\\\\\\\\\\\": \\\\\\\\\\\\\\\"976ee174-3882-4721-b90a-b5fef6b72f24\\\\\\\\\\\\\\\", \\\\\\\\\\\\\\\"workspaceId\\\\\\\\\\\\\\\": \\\\\\\\\\\\\\\"aa1be0d3-fd03-46bb-89e5-ebfd8a5b2767\\\\\\\\\\\\\\\", \\\\\\\\\\\\\\\"workspaceLocation\\\\\\\\\\\\\\\": \\\\\\\\\\\\\\\"southcentralus\\\\\\\\\\\\\\\"}}\\\\\\\", \\\\\\\"activities\\\\\\\": 0}\", \"EnableSubsampling\": null, \"runTemplate\": \"AutoML\", \"azureml.runsource\": \"automl\", \"display_task_type\": \"classification\", \"dependencies_versions\": \"{\\\"azureml-widgets\\\": \\\"1.20.0\\\", \\\"azureml-train\\\": \\\"1.20.0\\\", \\\"azureml-train-restclients-hyperdrive\\\": \\\"1.20.0\\\", \\\"azureml-train-core\\\": \\\"1.20.0\\\", \\\"azureml-train-automl\\\": \\\"1.20.0\\\", \\\"azureml-train-automl-runtime\\\": \\\"1.20.0\\\", \\\"azureml-train-automl-client\\\": \\\"1.20.0\\\", \\\"azureml-tensorboard\\\": \\\"1.20.0\\\", \\\"azureml-telemetry\\\": \\\"1.20.0\\\", \\\"azureml-sdk\\\": \\\"1.20.0\\\", \\\"azureml-samples\\\": \\\"0+unknown\\\", \\\"azureml-pipeline\\\": \\\"1.20.0\\\", \\\"azureml-pipeline-steps\\\": \\\"1.20.0\\\", \\\"azureml-pipeline-core\\\": \\\"1.20.0\\\", \\\"azureml-opendatasets\\\": \\\"1.20.0\\\", \\\"azureml-model-management-sdk\\\": \\\"1.0.1b6.post1\\\", \\\"azureml-mlflow\\\": \\\"1.20.0.post1\\\", \\\"azureml-interpret\\\": \\\"1.20.0\\\", \\\"azureml-explain-model\\\": \\\"1.20.0\\\", \\\"azureml-defaults\\\": \\\"1.20.0\\\", \\\"azureml-dataset-runtime\\\": \\\"1.20.0\\\", \\\"azureml-dataprep\\\": \\\"2.7.3\\\", \\\"azureml-dataprep-rslex\\\": \\\"1.5.0\\\", \\\"azureml-dataprep-native\\\": \\\"27.0.0\\\", \\\"azureml-datadrift\\\": \\\"1.20.0\\\", \\\"azureml-core\\\": \\\"1.20.0\\\", \\\"azureml-contrib-services\\\": \\\"1.20.0\\\", \\\"azureml-contrib-server\\\": \\\"1.20.0\\\", \\\"azureml-contrib-reinforcementlearning\\\": \\\"1.20.0\\\", \\\"azureml-contrib-pipeline-steps\\\": \\\"1.20.0\\\", \\\"azureml-contrib-notebook\\\": \\\"1.20.0\\\", \\\"azureml-contrib-interpret\\\": \\\"1.20.0\\\", \\\"azureml-contrib-gbdt\\\": \\\"1.20.0\\\", \\\"azureml-contrib-fairness\\\": \\\"1.20.0\\\", \\\"azureml-contrib-dataset\\\": \\\"1.20.0\\\", \\\"azureml-cli-common\\\": \\\"1.20.0\\\", \\\"azureml-automl-runtime\\\": \\\"1.20.0\\\", \\\"azureml-automl-core\\\": \\\"1.20.0\\\", \\\"azureml-accel-models\\\": \\\"1.20.0\\\"}\", \"_aml_system_scenario_identification\": \"Remote.Parent\", \"ClientType\": \"SDK\", \"environment_cpu_name\": \"AzureML-AutoML\", \"environment_cpu_label\": \"prod\", \"environment_gpu_name\": \"AzureML-AutoML-GPU\", \"environment_gpu_label\": \"prod\", \"root_attribution\": \"automl\", \"attribution\": \"AutoML\", \"Orchestrator\": \"AutoML\", \"CancelUri\": \"https://southcentralus.experiments.azureml.net/jasmine/v1.0/subscriptions/976ee174-3882-4721-b90a-b5fef6b72f24/resourceGroups/aml-quickstarts-138190/providers/Microsoft.MachineLearningServices/workspaces/quick-starts-ws-138190/experimentids/1a79be93-691b-48db-8b3e-c83d6411d9df/cancel/AutoML_26986b18-0c16-4670-b009-817d60da1c62\", \"ClientSdkVersion\": \"1.21.0\", \"snapshotId\": \"00000000-0000-0000-0000-000000000000\", \"SetupRunId\": \"AutoML_26986b18-0c16-4670-b009-817d60da1c62_setup\", \"SetupRunContainerId\": \"dcid.AutoML_26986b18-0c16-4670-b009-817d60da1c62_setup\", \"FeaturizationRunJsonPath\": \"featurizer_container.json\", \"FeaturizationRunId\": \"AutoML_26986b18-0c16-4670-b009-817d60da1c62_featurize\", \"ProblemInfoJsonString\": \"{\\\"dataset_num_categorical\\\": 0, \\\"is_sparse\\\": false, \\\"subsampling\\\": false, \\\"dataset_classes\\\": 2, \\\"dataset_features\\\": 30, \\\"dataset_samples\\\": 100000, \\\"single_frequency_class_detected\\\": false}\", \"ModelExplainRunId\": \"AutoML_26986b18-0c16-4670-b009-817d60da1c62_ModelExplain\"}, \"tags\": {\"model_explain_run\": \"best_run\", \"_aml_system_azureml.automlComponent\": \"AutoML\", \"pipeline_id\": \"\", \"score\": \"\", \"predicted_cost\": \"\", \"fit_time\": \"\", \"training_percent\": \"\", \"iteration\": \"\", \"run_preprocessor\": \"\", \"run_algorithm\": \"\", \"dynamic_whitelisting_iterations\": \"<25>;<30>;<35>;<40>;\", \"automl_best_child_run_id\": \"AutoML_26986b18-0c16-4670-b009-817d60da1c62_45\", \"model_explain_best_run_child_id\": \"AutoML_26986b18-0c16-4670-b009-817d60da1c62_45\"}, \"end_time_utc\": \"2021-02-08T22:44:23.732322Z\", \"status\": \"Completed\", \"log_files\": {}, \"log_groups\": [], \"run_duration\": \"3:06:08\"}, \"child_runs\": [{\"run_id\": \"AutoML_26986b18-0c16-4670-b009-817d60da1c62_0\", \"run_number\": 14, \"metric\": null, \"status\": \"Completed\", \"run_type\": \"azureml.scriptrun\", \"training_percent\": \"100\", \"start_time\": \"2021-02-08T19:45:58.820766Z\", \"end_time\": \"2021-02-08T19:47:22.441785Z\", \"created_time\": \"2021-02-08T19:45:42.238901Z\", \"created_time_dt\": \"2021-02-08T19:45:42.238901Z\", \"duration\": \"0:01:40\", \"iteration\": \"0\", \"goal\": \"accuracy_max\", \"run_name\": \"MaxAbsScaler, LightGBM\", \"run_properties\": \"copy=True\", \"primary_metric\": 0.99494, \"best_metric\": 0.99494}, {\"run_id\": \"AutoML_26986b18-0c16-4670-b009-817d60da1c62_1\", \"run_number\": 15, \"metric\": null, \"status\": \"Completed\", \"run_type\": \"azureml.scriptrun\", \"training_percent\": \"100\", \"start_time\": \"2021-02-08T19:47:41.33936Z\", \"end_time\": \"2021-02-08T19:50:36.144652Z\", \"created_time\": \"2021-02-08T19:47:23.485552Z\", \"created_time_dt\": \"2021-02-08T19:47:23.485552Z\", \"duration\": \"0:03:12\", \"iteration\": \"1\", \"goal\": \"accuracy_max\", \"run_name\": \"MaxAbsScaler, XGBoostClassifier\", \"run_properties\": \"copy=True\", \"primary_metric\": 0.99954, \"best_metric\": 0.99954}, {\"run_id\": \"AutoML_26986b18-0c16-4670-b009-817d60da1c62_2\", \"run_number\": 18, \"metric\": null, \"status\": \"Completed\", \"run_type\": \"azureml.scriptrun\", \"training_percent\": \"100\", \"start_time\": \"2021-02-08T19:50:49.250161Z\", \"end_time\": \"2021-02-08T19:52:18.562774Z\", \"created_time\": \"2021-02-08T19:50:38.34187Z\", \"created_time_dt\": \"2021-02-08T19:50:38.34187Z\", \"duration\": \"0:01:40\", \"iteration\": \"2\", \"goal\": \"accuracy_max\", \"run_name\": \"MinMaxScaler, RandomForest\", \"run_properties\": \"copy=True, feature_range=(0, 1\", \"primary_metric\": 0.99777, \"best_metric\": 0.99954}, {\"run_id\": \"AutoML_26986b18-0c16-4670-b009-817d60da1c62_3\", \"run_number\": 20, \"metric\": null, \"status\": \"Completed\", \"run_type\": \"azureml.scriptrun\", \"training_percent\": \"100\", \"start_time\": \"2021-02-08T19:52:37.317633Z\", \"end_time\": \"2021-02-08T19:53:58.956827Z\", \"created_time\": \"2021-02-08T19:52:21.484543Z\", \"created_time_dt\": \"2021-02-08T19:52:21.484543Z\", \"duration\": \"0:01:37\", \"iteration\": \"3\", \"goal\": \"accuracy_max\", \"run_name\": \"MinMaxScaler, RandomForest\", \"run_properties\": \"copy=True, feature_range=(0, 1\", \"primary_metric\": 0.99777, \"best_metric\": 0.99954}, {\"run_id\": \"AutoML_26986b18-0c16-4670-b009-817d60da1c62_4\", \"run_number\": 22, \"metric\": null, \"status\": \"Completed\", \"run_type\": \"azureml.scriptrun\", \"training_percent\": \"100\", \"start_time\": \"2021-02-08T19:54:21.367411Z\", \"end_time\": \"2021-02-08T19:55:58.189368Z\", \"created_time\": \"2021-02-08T19:54:02.830806Z\", \"created_time_dt\": \"2021-02-08T19:54:02.830806Z\", \"duration\": \"0:01:55\", \"iteration\": \"4\", \"goal\": \"accuracy_max\", \"run_name\": \"MinMaxScaler, RandomForest\", \"run_properties\": \"copy=True, feature_range=(0, 1\", \"primary_metric\": 0.98848, \"best_metric\": 0.99954}, {\"run_id\": \"AutoML_26986b18-0c16-4670-b009-817d60da1c62_5\", \"run_number\": 24, \"metric\": null, \"status\": \"Completed\", \"run_type\": \"azureml.scriptrun\", \"training_percent\": \"100\", \"start_time\": \"2021-02-08T19:56:14.548336Z\", \"end_time\": \"2021-02-08T19:57:51.567291Z\", \"created_time\": \"2021-02-08T19:56:01.047733Z\", \"created_time_dt\": \"2021-02-08T19:56:01.047733Z\", \"duration\": \"0:01:50\", \"iteration\": \"5\", \"goal\": \"accuracy_max\", \"run_name\": \"StandardScalerWrapper, LightGBM\", \"run_properties\": \"<azureml.automl.runtime.shared.model_wrappers.StandardScalerWrapper object at 0x7f0092249198\", \"primary_metric\": 0.99955, \"best_metric\": 0.99955}, {\"run_id\": \"AutoML_26986b18-0c16-4670-b009-817d60da1c62_6\", \"run_number\": 26, \"metric\": null, \"status\": \"Completed\", \"run_type\": \"azureml.scriptrun\", \"training_percent\": \"100\", \"start_time\": \"2021-02-08T19:58:05.894226Z\", \"end_time\": \"2021-02-08T19:59:38.505984Z\", \"created_time\": \"2021-02-08T19:57:53.438437Z\", \"created_time_dt\": \"2021-02-08T19:57:53.438437Z\", \"duration\": \"0:01:45\", \"iteration\": \"6\", \"goal\": \"accuracy_max\", \"run_name\": \"RobustScaler, ExtremeRandomTrees\", \"run_properties\": \"copy=True, quantile_range=[10, 90], with_centering=True,\\n             with_scaling=True\", \"primary_metric\": 0.99777, \"best_metric\": 0.99955}, {\"run_id\": \"AutoML_26986b18-0c16-4670-b009-817d60da1c62_7\", \"run_number\": 28, \"metric\": null, \"status\": \"Completed\", \"run_type\": \"azureml.scriptrun\", \"training_percent\": \"100\", \"start_time\": \"2021-02-08T19:59:53.51547Z\", \"end_time\": \"2021-02-08T20:01:41.159793Z\", \"created_time\": \"2021-02-08T19:59:40.957485Z\", \"created_time_dt\": \"2021-02-08T19:59:40.957485Z\", \"duration\": \"0:02:00\", \"iteration\": \"7\", \"goal\": \"accuracy_max\", \"run_name\": \"SparseNormalizer, XGBoostClassifier\", \"run_properties\": \"<azureml.automl.runtime.shared.model_wrappers.SparseNormalizer object at 0x7ff34d5aa5f8\", \"primary_metric\": 0.9994, \"best_metric\": 0.99955}, {\"run_id\": \"AutoML_26986b18-0c16-4670-b009-817d60da1c62_8\", \"run_number\": 30, \"metric\": null, \"status\": \"Completed\", \"run_type\": \"azureml.scriptrun\", \"training_percent\": \"100\", \"start_time\": \"2021-02-08T20:01:55.372852Z\", \"end_time\": \"2021-02-08T20:03:07.598068Z\", \"created_time\": \"2021-02-08T20:01:44.249775Z\", \"created_time_dt\": \"2021-02-08T20:01:44.249775Z\", \"duration\": \"0:01:23\", \"iteration\": \"8\", \"goal\": \"accuracy_max\", \"run_name\": \"MinMaxScaler, LightGBM\", \"run_properties\": \"copy=True, feature_range=(0, 1\", \"primary_metric\": 0.99777, \"best_metric\": 0.99955}, {\"run_id\": \"AutoML_26986b18-0c16-4670-b009-817d60da1c62_9\", \"run_number\": 32, \"metric\": null, \"status\": \"Completed\", \"run_type\": \"azureml.scriptrun\", \"training_percent\": \"100\", \"start_time\": \"2021-02-08T20:03:21.367524Z\", \"end_time\": \"2021-02-08T20:05:57.56197Z\", \"created_time\": \"2021-02-08T20:03:10.59712Z\", \"created_time_dt\": \"2021-02-08T20:03:10.59712Z\", \"duration\": \"0:02:46\", \"iteration\": \"9\", \"goal\": \"accuracy_max\", \"run_name\": \"SparseNormalizer, XGBoostClassifier\", \"run_properties\": \"<azureml.automl.runtime.shared.model_wrappers.SparseNormalizer object at 0x7f951fd26c50\", \"primary_metric\": 0.99944, \"best_metric\": 0.99955}, {\"run_id\": \"AutoML_26986b18-0c16-4670-b009-817d60da1c62_10\", \"run_number\": 35, \"metric\": null, \"status\": \"Completed\", \"run_type\": \"azureml.scriptrun\", \"training_percent\": \"100\", \"start_time\": \"2021-02-08T20:06:12.791651Z\", \"end_time\": \"2021-02-08T20:07:27.964366Z\", \"created_time\": \"2021-02-08T20:06:00.293183Z\", \"created_time_dt\": \"2021-02-08T20:06:00.293183Z\", \"duration\": \"0:01:27\", \"iteration\": \"10\", \"goal\": \"accuracy_max\", \"run_name\": \"RobustScaler, LightGBM\", \"run_properties\": \"copy=True, quantile_range=[10, 90], with_centering=False,\\n             with_scaling=False\", \"primary_metric\": 0.99777, \"best_metric\": 0.99955}, {\"run_id\": \"AutoML_26986b18-0c16-4670-b009-817d60da1c62_11\", \"run_number\": 36, \"metric\": null, \"status\": \"Completed\", \"run_type\": \"azureml.scriptrun\", \"training_percent\": \"100\", \"start_time\": \"2021-02-08T20:07:44.845909Z\", \"end_time\": \"2021-02-08T20:17:31.715556Z\", \"created_time\": \"2021-02-08T20:07:31.400766Z\", \"created_time_dt\": \"2021-02-08T20:07:31.400766Z\", \"duration\": \"0:10:00\", \"iteration\": \"11\", \"goal\": \"accuracy_max\", \"run_name\": \"StandardScalerWrapper, XGBoostClassifier\", \"run_properties\": \"<azureml.automl.runtime.shared.model_wrappers.StandardScalerWrapper object at 0x7f3218936278\", \"primary_metric\": 0.99959, \"best_metric\": 0.99959}, {\"run_id\": \"AutoML_26986b18-0c16-4670-b009-817d60da1c62_12\", \"run_number\": 39, \"metric\": null, \"status\": \"Completed\", \"run_type\": \"azureml.scriptrun\", \"training_percent\": \"100\", \"start_time\": \"2021-02-08T20:17:51.165398Z\", \"end_time\": \"2021-02-08T20:19:18.799712Z\", \"created_time\": \"2021-02-08T20:17:34.465056Z\", \"created_time_dt\": \"2021-02-08T20:17:34.465056Z\", \"duration\": \"0:01:44\", \"iteration\": \"12\", \"goal\": \"accuracy_max\", \"run_name\": \"StandardScalerWrapper, XGBoostClassifier\", \"run_properties\": \"<azureml.automl.runtime.shared.model_wrappers.StandardScalerWrapper object at 0x7f772fc14b38\", \"primary_metric\": 0.9994, \"best_metric\": 0.99959}, {\"run_id\": \"AutoML_26986b18-0c16-4670-b009-817d60da1c62_13\", \"run_number\": 41, \"metric\": null, \"status\": \"Completed\", \"run_type\": \"azureml.scriptrun\", \"training_percent\": \"100\", \"start_time\": \"2021-02-08T20:19:36.942807Z\", \"end_time\": \"2021-02-08T20:21:19.816437Z\", \"created_time\": \"2021-02-08T20:19:22.298665Z\", \"created_time_dt\": \"2021-02-08T20:19:22.298665Z\", \"duration\": \"0:01:57\", \"iteration\": \"13\", \"goal\": \"accuracy_max\", \"run_name\": \"SparseNormalizer, LightGBM\", \"run_properties\": \"<azureml.automl.runtime.shared.model_wrappers.SparseNormalizer object at 0x7f491959e7f0\", \"primary_metric\": 0.99943, \"best_metric\": 0.99959}, {\"run_id\": \"AutoML_26986b18-0c16-4670-b009-817d60da1c62_14\", \"run_number\": 42, \"metric\": null, \"status\": \"Completed\", \"run_type\": \"azureml.scriptrun\", \"training_percent\": \"100\", \"start_time\": \"2021-02-08T20:21:35.538886Z\", \"end_time\": \"2021-02-08T20:22:50.899185Z\", \"created_time\": \"2021-02-08T20:21:22.24201Z\", \"created_time_dt\": \"2021-02-08T20:21:22.24201Z\", \"duration\": \"0:01:28\", \"iteration\": \"14\", \"goal\": \"accuracy_max\", \"run_name\": \"SparseNormalizer, LightGBM\", \"run_properties\": \"<azureml.automl.runtime.shared.model_wrappers.SparseNormalizer object at 0x7f7ac88bcc88\", \"primary_metric\": 0.99936, \"best_metric\": 0.99959}, {\"run_id\": \"AutoML_26986b18-0c16-4670-b009-817d60da1c62_15\", \"run_number\": 43, \"metric\": null, \"status\": \"Completed\", \"run_type\": \"azureml.scriptrun\", \"training_percent\": \"100\", \"start_time\": \"2021-02-08T20:23:14.170903Z\", \"end_time\": \"2021-02-08T20:24:41.089441Z\", \"created_time\": \"2021-02-08T20:22:55.756818Z\", \"created_time_dt\": \"2021-02-08T20:22:55.756818Z\", \"duration\": \"0:01:45\", \"iteration\": \"15\", \"goal\": \"accuracy_max\", \"run_name\": \"RobustScaler, ExtremeRandomTrees\", \"run_properties\": \"copy=True, quantile_range=[10, 90], with_centering=True,\\n             with_scaling=False\", \"primary_metric\": 0.99777, \"best_metric\": 0.99959}, {\"run_id\": \"AutoML_26986b18-0c16-4670-b009-817d60da1c62_16\", \"run_number\": 45, \"metric\": null, \"status\": \"Completed\", \"run_type\": \"azureml.scriptrun\", \"training_percent\": \"100\", \"start_time\": \"2021-02-08T20:25:01.532104Z\", \"end_time\": \"2021-02-08T20:30:40.112194Z\", \"created_time\": \"2021-02-08T20:24:44.387923Z\", \"created_time_dt\": \"2021-02-08T20:24:44.387923Z\", \"duration\": \"0:05:55\", \"iteration\": \"16\", \"goal\": \"accuracy_max\", \"run_name\": \"SparseNormalizer, XGBoostClassifier\", \"run_properties\": \"<azureml.automl.runtime.shared.model_wrappers.SparseNormalizer object at 0x7fe3b7b1a908\", \"primary_metric\": 0.99952, \"best_metric\": 0.99959}, {\"run_id\": \"AutoML_26986b18-0c16-4670-b009-817d60da1c62_17\", \"run_number\": 48, \"metric\": null, \"status\": \"Completed\", \"run_type\": \"azureml.scriptrun\", \"training_percent\": \"100\", \"start_time\": \"2021-02-08T20:30:53.850721Z\", \"end_time\": \"2021-02-08T20:32:39.800152Z\", \"created_time\": \"2021-02-08T20:30:41.856326Z\", \"created_time_dt\": \"2021-02-08T20:30:41.856326Z\", \"duration\": \"0:01:57\", \"iteration\": \"17\", \"goal\": \"accuracy_max\", \"run_name\": \"MinMaxScaler, LightGBM\", \"run_properties\": \"copy=True, feature_range=(0, 1\", \"primary_metric\": 0.99897, \"best_metric\": 0.99959}, {\"run_id\": \"AutoML_26986b18-0c16-4670-b009-817d60da1c62_18\", \"run_number\": 50, \"metric\": null, \"status\": \"Completed\", \"run_type\": \"azureml.scriptrun\", \"training_percent\": \"100\", \"start_time\": \"2021-02-08T20:32:52.445135Z\", \"end_time\": \"2021-02-08T20:34:07.901205Z\", \"created_time\": \"2021-02-08T20:32:41.586363Z\", \"created_time_dt\": \"2021-02-08T20:32:41.586363Z\", \"duration\": \"0:01:26\", \"iteration\": \"18\", \"goal\": \"accuracy_max\", \"run_name\": \"MaxAbsScaler, LightGBM\", \"run_properties\": \"copy=True\", \"primary_metric\": 0.99777, \"best_metric\": 0.99959}, {\"run_id\": \"AutoML_26986b18-0c16-4670-b009-817d60da1c62_19\", \"run_number\": 52, \"metric\": null, \"status\": \"Completed\", \"run_type\": \"azureml.scriptrun\", \"training_percent\": \"100\", \"start_time\": \"2021-02-08T20:34:22.150133Z\", \"end_time\": \"2021-02-08T20:35:38.798036Z\", \"created_time\": \"2021-02-08T20:34:10.022335Z\", \"created_time_dt\": \"2021-02-08T20:34:10.022335Z\", \"duration\": \"0:01:28\", \"iteration\": \"19\", \"goal\": \"accuracy_max\", \"run_name\": \"SparseNormalizer, XGBoostClassifier\", \"run_properties\": \"<azureml.automl.runtime.shared.model_wrappers.SparseNormalizer object at 0x7fc370162278\", \"primary_metric\": 0.9994, \"best_metric\": 0.99959}, {\"run_id\": \"AutoML_26986b18-0c16-4670-b009-817d60da1c62_20\", \"run_number\": 54, \"metric\": null, \"status\": \"Completed\", \"run_type\": \"azureml.scriptrun\", \"training_percent\": \"100\", \"start_time\": \"2021-02-08T20:35:56.047531Z\", \"end_time\": \"2021-02-08T20:37:32.033879Z\", \"created_time\": \"2021-02-08T20:35:40.527851Z\", \"created_time_dt\": \"2021-02-08T20:35:40.527851Z\", \"duration\": \"0:01:51\", \"iteration\": \"20\", \"goal\": \"accuracy_max\", \"run_name\": \"StandardScalerWrapper, LogisticRegression\", \"run_properties\": \"<azureml.automl.runtime.shared.model_wrappers.StandardScalerWrapper object at 0x7f618bc45c50\", \"primary_metric\": 0.98018, \"best_metric\": 0.99959}, {\"run_id\": \"AutoML_26986b18-0c16-4670-b009-817d60da1c62_21\", \"run_number\": 55, \"metric\": null, \"status\": \"Completed\", \"run_type\": \"azureml.scriptrun\", \"training_percent\": \"100\", \"start_time\": \"2021-02-08T20:37:48.730431Z\", \"end_time\": \"2021-02-08T20:39:10.533387Z\", \"created_time\": \"2021-02-08T20:37:33.970383Z\", \"created_time_dt\": \"2021-02-08T20:37:33.970383Z\", \"duration\": \"0:01:36\", \"iteration\": \"21\", \"goal\": \"accuracy_max\", \"run_name\": \"MaxAbsScaler, LightGBM\", \"run_properties\": \"copy=True\", \"primary_metric\": 0.99865, \"best_metric\": 0.99959}, {\"run_id\": \"AutoML_26986b18-0c16-4670-b009-817d60da1c62_22\", \"run_number\": 57, \"metric\": null, \"status\": \"Completed\", \"run_type\": \"azureml.scriptrun\", \"training_percent\": \"100\", \"start_time\": \"2021-02-08T20:39:28.750524Z\", \"end_time\": \"2021-02-08T20:42:31.259316Z\", \"created_time\": \"2021-02-08T20:39:13.212891Z\", \"created_time_dt\": \"2021-02-08T20:39:13.212891Z\", \"duration\": \"0:03:18\", \"iteration\": \"22\", \"goal\": \"accuracy_max\", \"run_name\": \"SparseNormalizer, XGBoostClassifier\", \"run_properties\": \"<azureml.automl.runtime.shared.model_wrappers.SparseNormalizer object at 0x7f3a6646ac18\", \"primary_metric\": 0.9995, \"best_metric\": 0.99959}, {\"run_id\": \"AutoML_26986b18-0c16-4670-b009-817d60da1c62_23\", \"run_number\": 60, \"metric\": null, \"status\": \"Completed\", \"run_type\": \"azureml.scriptrun\", \"training_percent\": \"100\", \"start_time\": \"2021-02-08T20:43:16.242744Z\", \"end_time\": \"2021-02-08T20:45:50.205804Z\", \"created_time\": \"2021-02-08T20:42:32.990974Z\", \"created_time_dt\": \"2021-02-08T20:42:32.990974Z\", \"duration\": \"0:03:17\", \"iteration\": \"23\", \"goal\": \"accuracy_max\", \"run_name\": \"SparseNormalizer, XGBoostClassifier\", \"run_properties\": \"<azureml.automl.runtime.shared.model_wrappers.SparseNormalizer object at 0x7fc27d1d7898\", \"primary_metric\": 0.99942, \"best_metric\": 0.99959}, {\"run_id\": \"AutoML_26986b18-0c16-4670-b009-817d60da1c62_24\", \"run_number\": 63, \"metric\": null, \"status\": \"Completed\", \"run_type\": \"azureml.scriptrun\", \"training_percent\": \"100\", \"start_time\": \"2021-02-08T20:46:08.084094Z\", \"end_time\": \"2021-02-08T20:47:17.044883Z\", \"created_time\": \"2021-02-08T20:45:53.076318Z\", \"created_time_dt\": \"2021-02-08T20:45:53.076318Z\", \"duration\": \"0:01:23\", \"iteration\": \"24\", \"goal\": \"accuracy_max\", \"run_name\": \"SparseNormalizer, LightGBM\", \"run_properties\": \"<azureml.automl.runtime.shared.model_wrappers.SparseNormalizer object at 0x7f94f5d59ef0\", \"primary_metric\": 0.99913, \"best_metric\": 0.99959}, {\"run_id\": \"AutoML_26986b18-0c16-4670-b009-817d60da1c62_25\", \"run_number\": 65, \"metric\": null, \"status\": \"Completed\", \"run_type\": \"azureml.scriptrun\", \"training_percent\": \"100\", \"start_time\": \"2021-02-08T20:47:35.409919Z\", \"end_time\": \"2021-02-08T20:48:48.710322Z\", \"created_time\": \"2021-02-08T20:47:21.112842Z\", \"created_time_dt\": \"2021-02-08T20:47:21.112842Z\", \"duration\": \"0:01:27\", \"iteration\": \"25\", \"goal\": \"accuracy_max\", \"run_name\": \"SparseNormalizer, XGBoostClassifier\", \"run_properties\": \"<azureml.automl.runtime.shared.model_wrappers.SparseNormalizer object at 0x7f29fd362cf8\", \"primary_metric\": 0.99777, \"best_metric\": 0.99959}, {\"run_id\": \"AutoML_26986b18-0c16-4670-b009-817d60da1c62_26\", \"run_number\": 66, \"metric\": null, \"status\": \"Completed\", \"run_type\": \"azureml.scriptrun\", \"training_percent\": \"100\", \"start_time\": \"2021-02-08T20:49:01.611592Z\", \"end_time\": \"2021-02-08T20:50:24.265462Z\", \"created_time\": \"2021-02-08T20:48:50.512068Z\", \"created_time_dt\": \"2021-02-08T20:48:50.512068Z\", \"duration\": \"0:01:33\", \"iteration\": \"26\", \"goal\": \"accuracy_max\", \"run_name\": \"StandardScalerWrapper, LightGBM\", \"run_properties\": \"<azureml.automl.runtime.shared.model_wrappers.StandardScalerWrapper object at 0x7fc20bfcd6a0\", \"primary_metric\": 0.9985, \"best_metric\": 0.99959}, {\"run_id\": \"AutoML_26986b18-0c16-4670-b009-817d60da1c62_27\", \"run_number\": 67, \"metric\": null, \"status\": \"Completed\", \"run_type\": \"azureml.scriptrun\", \"training_percent\": \"100\", \"start_time\": \"2021-02-08T20:50:40.997456Z\", \"end_time\": \"2021-02-08T20:54:16.624886Z\", \"created_time\": \"2021-02-08T20:50:26.641297Z\", \"created_time_dt\": \"2021-02-08T20:50:26.641297Z\", \"duration\": \"0:03:49\", \"iteration\": \"27\", \"goal\": \"accuracy_max\", \"run_name\": \"StandardScalerWrapper, XGBoostClassifier\", \"run_properties\": \"<azureml.automl.runtime.shared.model_wrappers.StandardScalerWrapper object at 0x7f0c6e163b38\", \"primary_metric\": 0.99957, \"best_metric\": 0.99959}, {\"run_id\": \"AutoML_26986b18-0c16-4670-b009-817d60da1c62_28\", \"run_number\": 68, \"metric\": null, \"status\": \"Completed\", \"run_type\": \"azureml.scriptrun\", \"training_percent\": \"100\", \"start_time\": \"2021-02-08T20:54:32.734555Z\", \"end_time\": \"2021-02-08T20:55:58.544572Z\", \"created_time\": \"2021-02-08T20:54:19.107962Z\", \"created_time_dt\": \"2021-02-08T20:54:19.107962Z\", \"duration\": \"0:01:39\", \"iteration\": \"28\", \"goal\": \"accuracy_max\", \"run_name\": \"SparseNormalizer, XGBoostClassifier\", \"run_properties\": \"<azureml.automl.runtime.shared.model_wrappers.SparseNormalizer object at 0x7f2ec4500898\", \"primary_metric\": 0.99904, \"best_metric\": 0.99959}, {\"run_id\": \"AutoML_26986b18-0c16-4670-b009-817d60da1c62_29\", \"run_number\": 69, \"metric\": null, \"status\": \"Completed\", \"run_type\": \"azureml.scriptrun\", \"training_percent\": \"100\", \"start_time\": \"2021-02-08T20:56:13.682887Z\", \"end_time\": \"2021-02-08T21:05:41.877829Z\", \"created_time\": \"2021-02-08T20:56:00.954727Z\", \"created_time_dt\": \"2021-02-08T20:56:00.954727Z\", \"duration\": \"0:09:40\", \"iteration\": \"29\", \"goal\": \"accuracy_max\", \"run_name\": \"StandardScalerWrapper, XGBoostClassifier\", \"run_properties\": \"<azureml.automl.runtime.shared.model_wrappers.StandardScalerWrapper object at 0x7f3ed0046160\", \"primary_metric\": 0.99961, \"best_metric\": 0.99961}, {\"run_id\": \"AutoML_26986b18-0c16-4670-b009-817d60da1c62_30\", \"run_number\": 73, \"metric\": null, \"status\": \"Completed\", \"run_type\": \"azureml.scriptrun\", \"training_percent\": \"100\", \"start_time\": \"2021-02-08T21:05:58.46522Z\", \"end_time\": \"2021-02-08T21:07:16.907222Z\", \"created_time\": \"2021-02-08T21:05:45.55001Z\", \"created_time_dt\": \"2021-02-08T21:05:45.55001Z\", \"duration\": \"0:01:31\", \"iteration\": \"30\", \"goal\": \"accuracy_max\", \"run_name\": \"StandardScalerWrapper, XGBoostClassifier\", \"run_properties\": \"<azureml.automl.runtime.shared.model_wrappers.StandardScalerWrapper object at 0x7f0d2b6c5cc0\", \"primary_metric\": 0.99903, \"best_metric\": 0.99961}, {\"run_id\": \"AutoML_26986b18-0c16-4670-b009-817d60da1c62_31\", \"run_number\": 75, \"metric\": null, \"status\": \"Completed\", \"run_type\": \"azureml.scriptrun\", \"training_percent\": \"100\", \"start_time\": \"2021-02-08T21:07:34.04775Z\", \"end_time\": \"2021-02-08T21:18:56.027737Z\", \"created_time\": \"2021-02-08T21:07:20.151491Z\", \"created_time_dt\": \"2021-02-08T21:07:20.151491Z\", \"duration\": \"0:11:35\", \"iteration\": \"31\", \"goal\": \"accuracy_max\", \"run_name\": \"StandardScalerWrapper, XGBoostClassifier\", \"run_properties\": \"<azureml.automl.runtime.shared.model_wrappers.StandardScalerWrapper object at 0x7fad6b811080\", \"primary_metric\": 0.99961, \"best_metric\": 0.99961}, {\"run_id\": \"AutoML_26986b18-0c16-4670-b009-817d60da1c62_32\", \"run_number\": 81, \"metric\": null, \"status\": \"Completed\", \"run_type\": \"azureml.scriptrun\", \"training_percent\": \"100\", \"start_time\": \"2021-02-08T21:19:14.388246Z\", \"end_time\": \"2021-02-08T21:21:29.954261Z\", \"created_time\": \"2021-02-08T21:18:58.231566Z\", \"created_time_dt\": \"2021-02-08T21:18:58.231566Z\", \"duration\": \"0:02:31\", \"iteration\": \"32\", \"goal\": \"accuracy_max\", \"run_name\": \"StandardScalerWrapper, XGBoostClassifier\", \"run_properties\": \"<azureml.automl.runtime.shared.model_wrappers.StandardScalerWrapper object at 0x7ff9df771ba8\", \"primary_metric\": 0.99958, \"best_metric\": 0.99961}, {\"run_id\": \"AutoML_26986b18-0c16-4670-b009-817d60da1c62_33\", \"run_number\": 83, \"metric\": null, \"status\": \"Completed\", \"run_type\": \"azureml.scriptrun\", \"training_percent\": \"100\", \"start_time\": \"2021-02-08T21:21:48.050028Z\", \"end_time\": \"2021-02-08T21:28:04.679441Z\", \"created_time\": \"2021-02-08T21:21:33.067899Z\", \"created_time_dt\": \"2021-02-08T21:21:33.067899Z\", \"duration\": \"0:06:31\", \"iteration\": \"33\", \"goal\": \"accuracy_max\", \"run_name\": \"StandardScalerWrapper, XGBoostClassifier\", \"run_properties\": \"<azureml.automl.runtime.shared.model_wrappers.StandardScalerWrapper object at 0x7f08942c5358\", \"primary_metric\": 0.99961, \"best_metric\": 0.99961}, {\"run_id\": \"AutoML_26986b18-0c16-4670-b009-817d60da1c62_34\", \"run_number\": 86, \"metric\": null, \"status\": \"Completed\", \"run_type\": \"azureml.scriptrun\", \"training_percent\": \"100\", \"start_time\": \"2021-02-08T21:28:19.53865Z\", \"end_time\": \"2021-02-08T21:36:20.989765Z\", \"created_time\": \"2021-02-08T21:28:06.860303Z\", \"created_time_dt\": \"2021-02-08T21:28:06.860303Z\", \"duration\": \"0:08:14\", \"iteration\": \"34\", \"goal\": \"accuracy_max\", \"run_name\": \"StandardScalerWrapper, XGBoostClassifier\", \"run_properties\": \"<azureml.automl.runtime.shared.model_wrappers.StandardScalerWrapper object at 0x7fdc0f2bd828\", \"primary_metric\": 0.99962, \"best_metric\": 0.99962}, {\"run_id\": \"AutoML_26986b18-0c16-4670-b009-817d60da1c62_35\", \"run_number\": 88, \"metric\": null, \"status\": \"Completed\", \"run_type\": \"azureml.scriptrun\", \"training_percent\": \"100\", \"start_time\": \"2021-02-08T21:36:38.507727Z\", \"end_time\": \"2021-02-08T21:37:52.048654Z\", \"created_time\": \"2021-02-08T21:36:24.351869Z\", \"created_time_dt\": \"2021-02-08T21:36:24.351869Z\", \"duration\": \"0:01:27\", \"iteration\": \"35\", \"goal\": \"accuracy_max\", \"run_name\": \"StandardScalerWrapper, XGBoostClassifier\", \"run_properties\": \"<azureml.automl.runtime.shared.model_wrappers.StandardScalerWrapper object at 0x7fa170728a20\", \"primary_metric\": 0.99914, \"best_metric\": 0.99962}, {\"run_id\": \"AutoML_26986b18-0c16-4670-b009-817d60da1c62_36\", \"run_number\": 89, \"metric\": null, \"status\": \"Completed\", \"run_type\": \"azureml.scriptrun\", \"training_percent\": \"100\", \"start_time\": \"2021-02-08T21:38:08.845728Z\", \"end_time\": \"2021-02-08T21:40:22.178795Z\", \"created_time\": \"2021-02-08T21:37:55.120725Z\", \"created_time_dt\": \"2021-02-08T21:37:55.120725Z\", \"duration\": \"0:02:27\", \"iteration\": \"36\", \"goal\": \"accuracy_max\", \"run_name\": \"StandardScalerWrapper, XGBoostClassifier\", \"run_properties\": \"<azureml.automl.runtime.shared.model_wrappers.StandardScalerWrapper object at 0x7fd85fb18358\", \"primary_metric\": 0.9995, \"best_metric\": 0.99962}, {\"run_id\": \"AutoML_26986b18-0c16-4670-b009-817d60da1c62_37\", \"run_number\": 90, \"metric\": null, \"status\": \"Completed\", \"run_type\": \"azureml.scriptrun\", \"training_percent\": \"100\", \"start_time\": \"2021-02-08T21:43:42.157964Z\", \"end_time\": \"2021-02-08T21:46:31.965365Z\", \"created_time\": \"2021-02-08T21:40:24.170213Z\", \"created_time_dt\": \"2021-02-08T21:40:24.170213Z\", \"duration\": \"0:06:07\", \"iteration\": \"37\", \"goal\": \"accuracy_max\", \"run_name\": \"StandardScalerWrapper, XGBoostClassifier\", \"run_properties\": \"<azureml.automl.runtime.shared.model_wrappers.StandardScalerWrapper object at 0x7f53177e2438\", \"primary_metric\": 0.99953, \"best_metric\": 0.99962}, {\"run_id\": \"AutoML_26986b18-0c16-4670-b009-817d60da1c62_38\", \"run_number\": 91, \"metric\": null, \"status\": \"Completed\", \"run_type\": \"azureml.scriptrun\", \"training_percent\": \"100\", \"start_time\": \"2021-02-08T21:46:46.790522Z\", \"end_time\": \"2021-02-08T21:49:56.237213Z\", \"created_time\": \"2021-02-08T21:46:34.928958Z\", \"created_time_dt\": \"2021-02-08T21:46:34.928958Z\", \"duration\": \"0:03:21\", \"iteration\": \"38\", \"goal\": \"accuracy_max\", \"run_name\": \"StandardScalerWrapper, XGBoostClassifier\", \"run_properties\": \"<azureml.automl.runtime.shared.model_wrappers.StandardScalerWrapper object at 0x7fd610c2d320\", \"primary_metric\": 0.99948, \"best_metric\": 0.99962}, {\"run_id\": \"AutoML_26986b18-0c16-4670-b009-817d60da1c62_39\", \"run_number\": 92, \"metric\": null, \"status\": \"Completed\", \"run_type\": \"azureml.scriptrun\", \"training_percent\": \"100\", \"start_time\": \"2021-02-08T21:50:10.522777Z\", \"end_time\": \"2021-02-08T22:04:34.00443Z\", \"created_time\": \"2021-02-08T21:49:59.188336Z\", \"created_time_dt\": \"2021-02-08T21:49:59.188336Z\", \"duration\": \"0:14:34\", \"iteration\": \"39\", \"goal\": \"accuracy_max\", \"run_name\": \"SparseNormalizer, XGBoostClassifier\", \"run_properties\": \"<azureml.automl.runtime.shared.model_wrappers.SparseNormalizer object at 0x7f7628e61c18\", \"primary_metric\": 0.99951, \"best_metric\": 0.99962}, {\"run_id\": \"AutoML_26986b18-0c16-4670-b009-817d60da1c62_40\", \"run_number\": 93, \"metric\": null, \"status\": \"Completed\", \"run_type\": \"azureml.scriptrun\", \"training_percent\": \"100\", \"start_time\": \"2021-02-08T22:04:53.078Z\", \"end_time\": \"2021-02-08T22:06:02.345741Z\", \"created_time\": \"2021-02-08T22:04:38.620191Z\", \"created_time_dt\": \"2021-02-08T22:04:38.620191Z\", \"duration\": \"0:01:23\", \"iteration\": \"40\", \"goal\": \"accuracy_max\", \"run_name\": \"PCA, XGBoostClassifier\", \"run_properties\": \"copy=True, iterated_power='auto', n_components=0.6531578947368422,\\n    random_state=None, svd_solver='auto', tol=0.0, whiten=False\", \"primary_metric\": 0.99777, \"best_metric\": 0.99962}, {\"run_id\": \"AutoML_26986b18-0c16-4670-b009-817d60da1c62_41\", \"run_number\": 94, \"metric\": null, \"status\": \"Completed\", \"run_type\": \"azureml.scriptrun\", \"training_percent\": \"100\", \"start_time\": \"2021-02-08T22:06:19.764805Z\", \"end_time\": \"2021-02-08T22:07:30.991112Z\", \"created_time\": \"2021-02-08T22:06:05.125016Z\", \"created_time_dt\": \"2021-02-08T22:06:05.125016Z\", \"duration\": \"0:01:25\", \"iteration\": \"41\", \"goal\": \"accuracy_max\", \"run_name\": \"RobustScaler, LightGBM\", \"run_properties\": \"copy=True, quantile_range=[10, 90], with_centering=False,\\n             with_scaling=False\", \"primary_metric\": 0.99777, \"best_metric\": 0.99962}, {\"run_id\": \"AutoML_26986b18-0c16-4670-b009-817d60da1c62_42\", \"run_number\": 95, \"metric\": null, \"status\": \"Completed\", \"run_type\": \"azureml.scriptrun\", \"training_percent\": \"100\", \"start_time\": \"2021-02-08T22:07:46.055278Z\", \"end_time\": \"2021-02-08T22:14:35.898853Z\", \"created_time\": \"2021-02-08T22:07:33.462461Z\", \"created_time_dt\": \"2021-02-08T22:07:33.462461Z\", \"duration\": \"0:07:02\", \"iteration\": \"42\", \"goal\": \"accuracy_max\", \"run_name\": \"StandardScalerWrapper, XGBoostClassifier\", \"run_properties\": \"<azureml.automl.runtime.shared.model_wrappers.StandardScalerWrapper object at 0x7f7171d0bdd8\", \"primary_metric\": 0.99958, \"best_metric\": 0.99962}, {\"run_id\": \"AutoML_26986b18-0c16-4670-b009-817d60da1c62_43\", \"run_number\": 96, \"metric\": null, \"status\": \"Completed\", \"run_type\": \"azureml.scriptrun\", \"training_percent\": \"100\", \"start_time\": \"2021-02-08T22:14:56.356682Z\", \"end_time\": \"2021-02-08T22:25:36.609919Z\", \"created_time\": \"2021-02-08T22:14:38.421507Z\", \"created_time_dt\": \"2021-02-08T22:14:38.421507Z\", \"duration\": \"0:10:58\", \"iteration\": \"43\", \"goal\": \"accuracy_max\", \"run_name\": \"StandardScalerWrapper, XGBoostClassifier\", \"run_properties\": \"<azureml.automl.runtime.shared.model_wrappers.StandardScalerWrapper object at 0x7f839f092438\", \"primary_metric\": 0.9996, \"best_metric\": 0.99962}, {\"run_id\": \"AutoML_26986b18-0c16-4670-b009-817d60da1c62_44\", \"run_number\": 97, \"metric\": null, \"status\": \"Completed\", \"run_type\": \"azureml.scriptrun\", \"training_percent\": \"100\", \"start_time\": \"2021-02-08T22:25:53.996972Z\", \"end_time\": \"2021-02-08T22:36:59.754732Z\", \"created_time\": \"2021-02-08T22:25:39.724414Z\", \"created_time_dt\": \"2021-02-08T22:25:39.724414Z\", \"duration\": \"0:11:20\", \"iteration\": \"44\", \"goal\": \"accuracy_max\", \"run_name\": \"StandardScalerWrapper, XGBoostClassifier\", \"run_properties\": \"<azureml.automl.runtime.shared.model_wrappers.StandardScalerWrapper object at 0x7fd3bc288518\", \"primary_metric\": 0.99959, \"best_metric\": 0.99962}, {\"run_id\": \"AutoML_26986b18-0c16-4670-b009-817d60da1c62_45\", \"run_number\": 98, \"metric\": null, \"status\": \"Completed\", \"run_type\": \"azureml.scriptrun\", \"training_percent\": \"100\", \"start_time\": \"2021-02-08T22:37:18.051747Z\", \"end_time\": \"2021-02-08T22:40:20.03025Z\", \"created_time\": \"2021-02-08T22:37:02.275927Z\", \"created_time_dt\": \"2021-02-08T22:37:02.275927Z\", \"duration\": \"0:03:17\", \"iteration\": \"45\", \"goal\": \"accuracy_max\", \"run_name\": \"VotingEnsemble\", \"run_properties\": \"classification_labels=None,\\n                              estimators=[('34',\\n                                           Pipeline(memory=None,\\n                                                    steps=[('standardscalerwrapper',\\n                                                            <azureml.automl.runtime.shared.model_wrappers.StandardScalerWrapper object at 0x7f6b554cc278>\", \"primary_metric\": 0.99963, \"best_metric\": 0.99963}, {\"run_id\": \"AutoML_26986b18-0c16-4670-b009-817d60da1c62_46\", \"run_number\": 99, \"metric\": null, \"status\": \"Completed\", \"run_type\": \"azureml.scriptrun\", \"training_percent\": \"100\", \"start_time\": \"2021-02-08T22:40:35.336232Z\", \"end_time\": \"2021-02-08T22:44:15.765589Z\", \"created_time\": \"2021-02-08T22:40:21.816201Z\", \"created_time_dt\": \"2021-02-08T22:40:21.816201Z\", \"duration\": \"0:03:53\", \"iteration\": \"46\", \"goal\": \"accuracy_max\", \"run_name\": \"StackEnsemble\", \"run_properties\": \"base_learners=[('34',\\n                                        Pipeline(memory=None,\\n                                                 steps=[('standardscalerwrapper',\\n                                                         <azureml.automl.runtime.shared.model_wrappers.StandardScalerWrapper object at 0x7fbf90413c50>\", \"primary_metric\": 0.99954, \"best_metric\": 0.99963}], \"children_metrics\": {\"categories\": [0], \"series\": {\"AUC_macro\": [{\"categories\": [\"0\", \"1\", \"2\", \"3\", \"4\", \"5\", \"6\", \"7\", \"8\", \"9\", \"10\", \"11\", \"12\", \"13\", \"14\", \"15\", \"16\", \"17\", \"18\", \"19\", \"20\", \"21\", \"22\", \"23\", \"24\", \"25\", \"26\", \"27\", \"28\", \"29\", \"30\", \"31\", \"32\", \"33\", \"34\", \"35\", \"36\", \"37\", \"38\", \"39\", \"40\", \"41\", \"42\", \"43\", \"44\", \"45\", \"46\"], \"mode\": \"markers\", \"name\": \"AUC_macro\", \"stepped\": false, \"type\": \"scatter\", \"data\": [0.6552044257761309, 0.9863529916173075, 0.9761261913467019, 0.9689465545869782, 0.9763287172559292, 0.9806370034612737, 0.9727400990945767, 0.96683865106309, 0.9700878940516698, 0.9833056984436617, 0.9750496227699209, 0.980964538604019, 0.9375328404281287, 0.9808317302556278, 0.9862973425811872, 0.9697698185059958, 0.98096545755762, 0.9854473730051947, 0.9776195087591931, 0.9860148172299521, 0.9780015035292212, 0.9763471839947707, 0.9810988493474593, 0.9861224386724269, 0.9820647052546956, 0.5, 0.9688587975669247, 0.9813955926793859, 0.9765414056071673, 0.97787842348184, 0.9376894771432556, 0.978103617148367, 0.9804711339795957, 0.9804971819348138, 0.9787438289054474, 0.9394197308019825, 0.9837374913460092, 0.9864492603554105, 0.9844569249517534, 0.9760311374962376, 0.5, 0.9744377919213141, 0.9819554894070178, 0.9800800836330412, 0.9790856031239394, 0.9805703677277423, 0.980463643661475]}, {\"categories\": [\"0\", \"1\", \"2\", \"3\", \"4\", \"5\", \"6\", \"7\", \"8\", \"9\", \"10\", \"11\", \"12\", \"13\", \"14\", \"15\", \"16\", \"17\", \"18\", \"19\", \"20\", \"21\", \"22\", \"23\", \"24\", \"25\", \"26\", \"27\", \"28\", \"29\", \"30\", \"31\", \"32\", \"33\", \"34\", \"35\", \"36\", \"37\", \"38\", \"39\", \"40\", \"41\", \"42\", \"43\", \"44\", \"45\", \"46\"], \"mode\": \"lines\", \"name\": \"AUC_macro_max\", \"stepped\": true, \"type\": \"scatter\", \"data\": [0.6552044257761309, 0.9863529916173075, 0.9863529916173075, 0.9863529916173075, 0.9863529916173075, 0.9863529916173075, 0.9863529916173075, 0.9863529916173075, 0.9863529916173075, 0.9863529916173075, 0.9863529916173075, 0.9863529916173075, 0.9863529916173075, 0.9863529916173075, 0.9863529916173075, 0.9863529916173075, 0.9863529916173075, 0.9863529916173075, 0.9863529916173075, 0.9863529916173075, 0.9863529916173075, 0.9863529916173075, 0.9863529916173075, 0.9863529916173075, 0.9863529916173075, 0.9863529916173075, 0.9863529916173075, 0.9863529916173075, 0.9863529916173075, 0.9863529916173075, 0.9863529916173075, 0.9863529916173075, 0.9863529916173075, 0.9863529916173075, 0.9863529916173075, 0.9863529916173075, 0.9863529916173075, 0.9864492603554105, 0.9864492603554105, 0.9864492603554105, 0.9864492603554105, 0.9864492603554105, 0.9864492603554105, 0.9864492603554105, 0.9864492603554105, 0.9864492603554105, 0.9864492603554105]}], \"AUC_micro\": [{\"categories\": [\"0\", \"1\", \"2\", \"3\", \"4\", \"5\", \"6\", \"7\", \"8\", \"9\", \"10\", \"11\", \"12\", \"13\", \"14\", \"15\", \"16\", \"17\", \"18\", \"19\", \"20\", \"21\", \"22\", \"23\", \"24\", \"25\", \"26\", \"27\", \"28\", \"29\", \"30\", \"31\", \"32\", \"33\", \"34\", \"35\", \"36\", \"37\", \"38\", \"39\", \"40\", \"41\", \"42\", \"43\", \"44\", \"45\", \"46\"], \"mode\": \"markers\", \"name\": \"AUC_micro\", \"stepped\": false, \"type\": \"scatter\", \"data\": [0.99457720625, 0.9999361505, 0.999886308, 0.999854285, 0.9988842735000001, 0.9999096295000001, 0.9998705345, 0.999846621, 0.9998600355, 0.9999210777499998, 0.999882396, 0.9999126445, 0.9997173540000001, 0.9999099115, 0.9999348595, 0.9998579404999999, 0.9999111190000001, 0.9999306945, 0.9998916044999999, 0.99993484525, 0.99345215875, 0.9998882725, 0.99991133, 0.9999342957499999, 0.999915465, 0.99777, 0.999854247, 0.99991328325, 0.9998900105, 0.9998981199999999, 0.999717728, 0.9998994527499999, 0.99990920975, 0.99990986, 0.99990243, 0.9997235975000001, 0.999923771, 0.9999368805, 0.9999274235, 0.9998889932499999, 0.99777, 0.9998798505, 0.9999167632500001, 0.9999094645, 0.9999040770000001, 0.9999096325, 0.9999088109999998]}, {\"categories\": [\"0\", \"1\", \"2\", \"3\", \"4\", \"5\", \"6\", \"7\", \"8\", \"9\", \"10\", \"11\", \"12\", \"13\", \"14\", \"15\", \"16\", \"17\", \"18\", \"19\", \"20\", \"21\", \"22\", \"23\", \"24\", \"25\", \"26\", \"27\", \"28\", \"29\", \"30\", \"31\", \"32\", \"33\", \"34\", \"35\", \"36\", \"37\", \"38\", \"39\", \"40\", \"41\", \"42\", \"43\", \"44\", \"45\", \"46\"], \"mode\": \"lines\", \"name\": \"AUC_micro_max\", \"stepped\": true, \"type\": \"scatter\", \"data\": [0.99457720625, 0.9999361505, 0.9999361505, 0.9999361505, 0.9999361505, 0.9999361505, 0.9999361505, 0.9999361505, 0.9999361505, 0.9999361505, 0.9999361505, 0.9999361505, 0.9999361505, 0.9999361505, 0.9999361505, 0.9999361505, 0.9999361505, 0.9999361505, 0.9999361505, 0.9999361505, 0.9999361505, 0.9999361505, 0.9999361505, 0.9999361505, 0.9999361505, 0.9999361505, 0.9999361505, 0.9999361505, 0.9999361505, 0.9999361505, 0.9999361505, 0.9999361505, 0.9999361505, 0.9999361505, 0.9999361505, 0.9999361505, 0.9999361505, 0.9999368805, 0.9999368805, 0.9999368805, 0.9999368805, 0.9999368805, 0.9999368805, 0.9999368805, 0.9999368805, 0.9999368805, 0.9999368805]}], \"recall_score_macro\": [{\"categories\": [\"0\", \"1\", \"2\", \"3\", \"4\", \"5\", \"6\", \"7\", \"8\", \"9\", \"10\", \"11\", \"12\", \"13\", \"14\", \"15\", \"16\", \"17\", \"18\", \"19\", \"20\", \"21\", \"22\", \"23\", \"24\", \"25\", \"26\", \"27\", \"28\", \"29\", \"30\", \"31\", \"32\", \"33\", \"34\", \"35\", \"36\", \"37\", \"38\", \"39\", \"40\", \"41\", \"42\", \"43\", \"44\", \"45\", \"46\"], \"mode\": \"markers\", \"name\": \"recall_score_macro\", \"stepped\": false, \"type\": \"scatter\", \"data\": [0.707926868067059, 0.9241390848493684, 0.5, 0.5, 0.9433237638390992, 0.9230604590255226, 0.5, 0.8830963726984745, 0.5, 0.8942178596779499, 0.5, 0.9224186182531369, 0.887837057439898, 0.9049371709803415, 0.8859736171211507, 0.5, 0.9092275670498473, 0.8625213937866253, 0.5, 0.8978680705566651, 0.9498886880467203, 0.7726148014215607, 0.9026516772787246, 0.8940099137993054, 0.8367301202800685, 0.5, 0.7494659178722249, 0.9177619454847828, 0.8820561540607017, 0.9275337461015344, 0.8374639894152413, 0.9245512845842156, 0.9218385658577579, 0.9245512870947492, 0.9289126755494843, 0.8663636831942488, 0.9014092347837195, 0.9174571333049524, 0.9078782331913775, 0.9052620232404831, 0.5, 0.5, 0.9224136034625173, 0.9177769732862157, 0.9201848893728697, 0.9248460737107977, 0.9095223566779321]}, {\"categories\": [\"0\", \"1\", \"2\", \"3\", \"4\", \"5\", \"6\", \"7\", \"8\", \"9\", \"10\", \"11\", \"12\", \"13\", \"14\", \"15\", \"16\", \"17\", \"18\", \"19\", \"20\", \"21\", \"22\", \"23\", \"24\", \"25\", \"26\", \"27\", \"28\", \"29\", \"30\", \"31\", \"32\", \"33\", \"34\", \"35\", \"36\", \"37\", \"38\", \"39\", \"40\", \"41\", \"42\", \"43\", \"44\", \"45\", \"46\"], \"mode\": \"lines\", \"name\": \"recall_score_macro_max\", \"stepped\": true, \"type\": \"scatter\", \"data\": [0.707926868067059, 0.9241390848493684, 0.9241390848493684, 0.9241390848493684, 0.9433237638390992, 0.9433237638390992, 0.9433237638390992, 0.9433237638390992, 0.9433237638390992, 0.9433237638390992, 0.9433237638390992, 0.9433237638390992, 0.9433237638390992, 0.9433237638390992, 0.9433237638390992, 0.9433237638390992, 0.9433237638390992, 0.9433237638390992, 0.9433237638390992, 0.9433237638390992, 0.9498886880467203, 0.9498886880467203, 0.9498886880467203, 0.9498886880467203, 0.9498886880467203, 0.9498886880467203, 0.9498886880467203, 0.9498886880467203, 0.9498886880467203, 0.9498886880467203, 0.9498886880467203, 0.9498886880467203, 0.9498886880467203, 0.9498886880467203, 0.9498886880467203, 0.9498886880467203, 0.9498886880467203, 0.9498886880467203, 0.9498886880467203, 0.9498886880467203, 0.9498886880467203, 0.9498886880467203, 0.9498886880467203, 0.9498886880467203, 0.9498886880467203, 0.9498886880467203, 0.9498886880467203]}], \"weighted_accuracy\": [{\"categories\": [\"0\", \"1\", \"2\", \"3\", \"4\", \"5\", \"6\", \"7\", \"8\", \"9\", \"10\", \"11\", \"12\", \"13\", \"14\", \"15\", \"16\", \"17\", \"18\", \"19\", \"20\", \"21\", \"22\", \"23\", \"24\", \"25\", \"26\", \"27\", \"28\", \"29\", \"30\", \"31\", \"32\", \"33\", \"34\", \"35\", \"36\", \"37\", \"38\", \"39\", \"40\", \"41\", \"42\", \"43\", \"44\", \"45\", \"46\"], \"mode\": \"markers\", \"name\": \"weighted_accuracy\", \"stepped\": false, \"type\": \"scatter\", \"data\": [0.9962486561724768, 0.9998789614769038, 0.9999949586752079, 0.9999949586752079, 0.9886845998546485, 0.9998989807896675, 0.9999949586752079, 0.9999286304240206, 0.9999949586752079, 0.9999187229452697, 0.9999949586752079, 0.9999390778404879, 0.9998986499001239, 0.9998587099916622, 0.9998685567491098, 0.9999949586752079, 0.9999289107115497, 0.9995876500419932, 0.9999949586752079, 0.9998586452100693, 0.9803158555967213, 0.9996669239899424, 0.9999388633972821, 0.9998986769638869, 0.9998580340028372, 0.9999949586752079, 0.9996165944921543, 0.999939039641764, 0.9995678195025495, 0.9999391179920438, 0.999757785972022, 0.9999491149512039, 0.9999290643827479, 0.9999491199510702, 0.9999391476641903, 0.9997380407923137, 0.9999388734779247, 0.999898948670511, 0.9998888258029395, 0.9999388809622702, 0.9999949586752079, 0.9999949586752079, 0.9999290483409171, 0.9999690951413827, 0.9999490737380775, 0.9999691599229523, 0.9999489566832865]}, {\"categories\": [\"0\", \"1\", \"2\", \"3\", \"4\", \"5\", \"6\", \"7\", \"8\", \"9\", \"10\", \"11\", \"12\", \"13\", \"14\", \"15\", \"16\", \"17\", \"18\", \"19\", \"20\", \"21\", \"22\", \"23\", \"24\", \"25\", \"26\", \"27\", \"28\", \"29\", \"30\", \"31\", \"32\", \"33\", \"34\", \"35\", \"36\", \"37\", \"38\", \"39\", \"40\", \"41\", \"42\", \"43\", \"44\", \"45\", \"46\"], \"mode\": \"lines\", \"name\": \"weighted_accuracy_max\", \"stepped\": true, \"type\": \"scatter\", \"data\": [0.9962486561724768, 0.9998789614769038, 0.9999949586752079, 0.9999949586752079, 0.9999949586752079, 0.9999949586752079, 0.9999949586752079, 0.9999949586752079, 0.9999949586752079, 0.9999949586752079, 0.9999949586752079, 0.9999949586752079, 0.9999949586752079, 0.9999949586752079, 0.9999949586752079, 0.9999949586752079, 0.9999949586752079, 0.9999949586752079, 0.9999949586752079, 0.9999949586752079, 0.9999949586752079, 0.9999949586752079, 0.9999949586752079, 0.9999949586752079, 0.9999949586752079, 0.9999949586752079, 0.9999949586752079, 0.9999949586752079, 0.9999949586752079, 0.9999949586752079, 0.9999949586752079, 0.9999949586752079, 0.9999949586752079, 0.9999949586752079, 0.9999949586752079, 0.9999949586752079, 0.9999949586752079, 0.9999949586752079, 0.9999949586752079, 0.9999949586752079, 0.9999949586752079, 0.9999949586752079, 0.9999949586752079, 0.9999949586752079, 0.9999949586752079, 0.9999949586752079, 0.9999949586752079]}], \"accuracy\": [{\"categories\": [\"0\", \"1\", \"2\", \"3\", \"4\", \"5\", \"6\", \"7\", \"8\", \"9\", \"10\", \"11\", \"12\", \"13\", \"14\", \"15\", \"16\", \"17\", \"18\", \"19\", \"20\", \"21\", \"22\", \"23\", \"24\", \"25\", \"26\", \"27\", \"28\", \"29\", \"30\", \"31\", \"32\", \"33\", \"34\", \"35\", \"36\", \"37\", \"38\", \"39\", \"40\", \"41\", \"42\", \"43\", \"44\", \"45\", \"46\"], \"mode\": \"markers\", \"name\": \"accuracy\", \"stepped\": false, \"type\": \"scatter\", \"data\": [0.9949399999999999, 0.99954, 0.99777, 0.99777, 0.98848, 0.9995499999999999, 0.99777, 0.9994, 0.99777, 0.9994400000000001, 0.99777, 0.9995900000000001, 0.9994, 0.9994299999999999, 0.99936, 0.99777, 0.9995200000000001, 0.9989699999999999, 0.99777, 0.9994, 0.98018, 0.9986499999999999, 0.9994999999999999, 0.9994200000000001, 0.9991299999999999, 0.99777, 0.9985000000000002, 0.99957, 0.9990399999999999, 0.99961, 0.99903, 0.99961, 0.9995800000000001, 0.9996100000000002, 0.99962, 0.9991399999999999, 0.9995, 0.99953, 0.9994799999999999, 0.9995100000000001, 0.99777, 0.99777, 0.9995799999999999, 0.9996, 0.9995900000000001, 0.9996300000000001, 0.99954]}, {\"categories\": [\"0\", \"1\", \"2\", \"3\", \"4\", \"5\", \"6\", \"7\", \"8\", \"9\", \"10\", \"11\", \"12\", \"13\", \"14\", \"15\", \"16\", \"17\", \"18\", \"19\", \"20\", \"21\", \"22\", \"23\", \"24\", \"25\", \"26\", \"27\", \"28\", \"29\", \"30\", \"31\", \"32\", \"33\", \"34\", \"35\", \"36\", \"37\", \"38\", \"39\", \"40\", \"41\", \"42\", \"43\", \"44\", \"45\", \"46\"], \"mode\": \"lines\", \"name\": \"accuracy_max\", \"stepped\": true, \"type\": \"scatter\", \"data\": [0.9949399999999999, 0.99954, 0.99954, 0.99954, 0.99954, 0.9995499999999999, 0.9995499999999999, 0.9995499999999999, 0.9995499999999999, 0.9995499999999999, 0.9995499999999999, 0.9995900000000001, 0.9995900000000001, 0.9995900000000001, 0.9995900000000001, 0.9995900000000001, 0.9995900000000001, 0.9995900000000001, 0.9995900000000001, 0.9995900000000001, 0.9995900000000001, 0.9995900000000001, 0.9995900000000001, 0.9995900000000001, 0.9995900000000001, 0.9995900000000001, 0.9995900000000001, 0.9995900000000001, 0.9995900000000001, 0.99961, 0.99961, 0.99961, 0.99961, 0.9996100000000002, 0.99962, 0.99962, 0.99962, 0.99962, 0.99962, 0.99962, 0.99962, 0.99962, 0.99962, 0.99962, 0.99962, 0.9996300000000001, 0.9996300000000001]}], \"norm_macro_recall\": [{\"categories\": [\"0\", \"1\", \"2\", \"3\", \"4\", \"5\", \"6\", \"7\", \"8\", \"9\", \"10\", \"11\", \"12\", \"13\", \"14\", \"15\", \"16\", \"17\", \"18\", \"19\", \"20\", \"21\", \"22\", \"23\", \"24\", \"25\", \"26\", \"27\", \"28\", \"29\", \"30\", \"31\", \"32\", \"33\", \"34\", \"35\", \"36\", \"37\", \"38\", \"39\", \"40\", \"41\", \"42\", \"43\", \"44\", \"45\", \"46\"], \"mode\": \"markers\", \"name\": \"norm_macro_recall\", \"stepped\": false, \"type\": \"scatter\", \"data\": [0.41585373613411764, 0.8482781696987368, 0.0, 0.0, 0.8866475276781982, 0.8461209180510453, 0.0, 0.766192745396949, 0.0, 0.7884357193558997, 0.0, 0.8448372365062735, 0.7756741148797961, 0.809874341960683, 0.7719472342423014, 0.0, 0.8184551340996945, 0.7250427875732504, 0.0, 0.7957361411133305, 0.8997773760934408, 0.5452296028431214, 0.8053033545574492, 0.7880198275986107, 0.6734602405601371, 0.0, 0.49893183574444977, 0.8355238909695659, 0.7641123081214033, 0.8550674922030689, 0.6749279788304825, 0.8491025691684314, 0.843677131715516, 0.8491025741894982, 0.8578253510989686, 0.7327273663884979, 0.8028184695674394, 0.834914266609905, 0.8157564663827548, 0.8105240464809658, 0.0, 0.0, 0.8448272069250345, 0.8355539465724313, 0.8403697787457393, 0.8496921474215956, 0.8190447133558643]}, {\"categories\": [\"0\", \"1\", \"2\", \"3\", \"4\", \"5\", \"6\", \"7\", \"8\", \"9\", \"10\", \"11\", \"12\", \"13\", \"14\", \"15\", \"16\", \"17\", \"18\", \"19\", \"20\", \"21\", \"22\", \"23\", \"24\", \"25\", \"26\", \"27\", \"28\", \"29\", \"30\", \"31\", \"32\", \"33\", \"34\", \"35\", \"36\", \"37\", \"38\", \"39\", \"40\", \"41\", \"42\", \"43\", \"44\", \"45\", \"46\"], \"mode\": \"lines\", \"name\": \"norm_macro_recall_max\", \"stepped\": true, \"type\": \"scatter\", \"data\": [0.41585373613411764, 0.8482781696987368, 0.8482781696987368, 0.8482781696987368, 0.8866475276781982, 0.8866475276781982, 0.8866475276781982, 0.8866475276781982, 0.8866475276781982, 0.8866475276781982, 0.8866475276781982, 0.8866475276781982, 0.8866475276781982, 0.8866475276781982, 0.8866475276781982, 0.8866475276781982, 0.8866475276781982, 0.8866475276781982, 0.8866475276781982, 0.8866475276781982, 0.8997773760934408, 0.8997773760934408, 0.8997773760934408, 0.8997773760934408, 0.8997773760934408, 0.8997773760934408, 0.8997773760934408, 0.8997773760934408, 0.8997773760934408, 0.8997773760934408, 0.8997773760934408, 0.8997773760934408, 0.8997773760934408, 0.8997773760934408, 0.8997773760934408, 0.8997773760934408, 0.8997773760934408, 0.8997773760934408, 0.8997773760934408, 0.8997773760934408, 0.8997773760934408, 0.8997773760934408, 0.8997773760934408, 0.8997773760934408, 0.8997773760934408, 0.8997773760934408, 0.8997773760934408]}], \"f1_score_micro\": [{\"categories\": [\"0\", \"1\", \"2\", \"3\", \"4\", \"5\", \"6\", \"7\", \"8\", \"9\", \"10\", \"11\", \"12\", \"13\", \"14\", \"15\", \"16\", \"17\", \"18\", \"19\", \"20\", \"21\", \"22\", \"23\", \"24\", \"25\", \"26\", \"27\", \"28\", \"29\", \"30\", \"31\", \"32\", \"33\", \"34\", \"35\", \"36\", \"37\", \"38\", \"39\", \"40\", \"41\", \"42\", \"43\", \"44\", \"45\", \"46\"], \"mode\": \"markers\", \"name\": \"f1_score_micro\", \"stepped\": false, \"type\": \"scatter\", \"data\": [0.9949399999999999, 0.99954, 0.99777, 0.99777, 0.98848, 0.9995499999999999, 0.99777, 0.9994, 0.99777, 0.9994400000000001, 0.99777, 0.9995900000000001, 0.9994, 0.9994299999999999, 0.99936, 0.99777, 0.9995200000000001, 0.9989699999999999, 0.99777, 0.9994, 0.98018, 0.9986499999999999, 0.9994999999999999, 0.9994200000000001, 0.9991299999999999, 0.99777, 0.9985000000000002, 0.99957, 0.9990399999999999, 0.99961, 0.99903, 0.99961, 0.9995800000000001, 0.9996100000000002, 0.99962, 0.9991399999999999, 0.9995, 0.99953, 0.9994799999999999, 0.9995100000000001, 0.99777, 0.99777, 0.9995799999999999, 0.9996, 0.9995900000000001, 0.9996300000000001, 0.99954]}, {\"categories\": [\"0\", \"1\", \"2\", \"3\", \"4\", \"5\", \"6\", \"7\", \"8\", \"9\", \"10\", \"11\", \"12\", \"13\", \"14\", \"15\", \"16\", \"17\", \"18\", \"19\", \"20\", \"21\", \"22\", \"23\", \"24\", \"25\", \"26\", \"27\", \"28\", \"29\", \"30\", \"31\", \"32\", \"33\", \"34\", \"35\", \"36\", \"37\", \"38\", \"39\", \"40\", \"41\", \"42\", \"43\", \"44\", \"45\", \"46\"], \"mode\": \"lines\", \"name\": \"f1_score_micro_max\", \"stepped\": true, \"type\": \"scatter\", \"data\": [0.9949399999999999, 0.99954, 0.99954, 0.99954, 0.99954, 0.9995499999999999, 0.9995499999999999, 0.9995499999999999, 0.9995499999999999, 0.9995499999999999, 0.9995499999999999, 0.9995900000000001, 0.9995900000000001, 0.9995900000000001, 0.9995900000000001, 0.9995900000000001, 0.9995900000000001, 0.9995900000000001, 0.9995900000000001, 0.9995900000000001, 0.9995900000000001, 0.9995900000000001, 0.9995900000000001, 0.9995900000000001, 0.9995900000000001, 0.9995900000000001, 0.9995900000000001, 0.9995900000000001, 0.9995900000000001, 0.99961, 0.99961, 0.99961, 0.99961, 0.9996100000000002, 0.99962, 0.99962, 0.99962, 0.99962, 0.99962, 0.99962, 0.99962, 0.99962, 0.99962, 0.99962, 0.99962, 0.9996300000000001, 0.9996300000000001]}], \"recall_score_weighted\": [{\"categories\": [\"0\", \"1\", \"2\", \"3\", \"4\", \"5\", \"6\", \"7\", \"8\", \"9\", \"10\", \"11\", \"12\", \"13\", \"14\", \"15\", \"16\", \"17\", \"18\", \"19\", \"20\", \"21\", \"22\", \"23\", \"24\", \"25\", \"26\", \"27\", \"28\", \"29\", \"30\", \"31\", \"32\", \"33\", \"34\", \"35\", \"36\", \"37\", \"38\", \"39\", \"40\", \"41\", \"42\", \"43\", \"44\", \"45\", \"46\"], \"mode\": \"markers\", \"name\": \"recall_score_weighted\", \"stepped\": false, \"type\": \"scatter\", \"data\": [0.9949399999999999, 0.99954, 0.99777, 0.99777, 0.98848, 0.9995499999999999, 0.99777, 0.9994, 0.99777, 0.9994400000000001, 0.99777, 0.9995900000000001, 0.9994, 0.9994299999999999, 0.99936, 0.99777, 0.9995200000000001, 0.9989699999999999, 0.99777, 0.9994, 0.98018, 0.9986499999999999, 0.9994999999999999, 0.9994200000000001, 0.9991299999999999, 0.99777, 0.9985000000000002, 0.99957, 0.9990399999999999, 0.99961, 0.99903, 0.99961, 0.9995800000000001, 0.9996100000000002, 0.99962, 0.9991399999999999, 0.9995, 0.99953, 0.9994799999999999, 0.9995100000000001, 0.99777, 0.99777, 0.9995799999999999, 0.9996, 0.9995900000000001, 0.9996300000000001, 0.99954]}, {\"categories\": [\"0\", \"1\", \"2\", \"3\", \"4\", \"5\", \"6\", \"7\", \"8\", \"9\", \"10\", \"11\", \"12\", \"13\", \"14\", \"15\", \"16\", \"17\", \"18\", \"19\", \"20\", \"21\", \"22\", \"23\", \"24\", \"25\", \"26\", \"27\", \"28\", \"29\", \"30\", \"31\", \"32\", \"33\", \"34\", \"35\", \"36\", \"37\", \"38\", \"39\", \"40\", \"41\", \"42\", \"43\", \"44\", \"45\", \"46\"], \"mode\": \"lines\", \"name\": \"recall_score_weighted_max\", \"stepped\": true, \"type\": \"scatter\", \"data\": [0.9949399999999999, 0.99954, 0.99954, 0.99954, 0.99954, 0.9995499999999999, 0.9995499999999999, 0.9995499999999999, 0.9995499999999999, 0.9995499999999999, 0.9995499999999999, 0.9995900000000001, 0.9995900000000001, 0.9995900000000001, 0.9995900000000001, 0.9995900000000001, 0.9995900000000001, 0.9995900000000001, 0.9995900000000001, 0.9995900000000001, 0.9995900000000001, 0.9995900000000001, 0.9995900000000001, 0.9995900000000001, 0.9995900000000001, 0.9995900000000001, 0.9995900000000001, 0.9995900000000001, 0.9995900000000001, 0.99961, 0.99961, 0.99961, 0.99961, 0.9996100000000002, 0.99962, 0.99962, 0.99962, 0.99962, 0.99962, 0.99962, 0.99962, 0.99962, 0.99962, 0.99962, 0.99962, 0.9996300000000001, 0.9996300000000001]}], \"average_precision_score_weighted\": [{\"categories\": [\"0\", \"1\", \"2\", \"3\", \"4\", \"5\", \"6\", \"7\", \"8\", \"9\", \"10\", \"11\", \"12\", \"13\", \"14\", \"15\", \"16\", \"17\", \"18\", \"19\", \"20\", \"21\", \"22\", \"23\", \"24\", \"25\", \"26\", \"27\", \"28\", \"29\", \"30\", \"31\", \"32\", \"33\", \"34\", \"35\", \"36\", \"37\", \"38\", \"39\", \"40\", \"41\", \"42\", \"43\", \"44\", \"45\", \"46\"], \"mode\": \"markers\", \"name\": \"average_precision_score_weighted\", \"stepped\": false, \"type\": \"scatter\", \"data\": [0.9965561472487121, 0.9997438045588802, 0.999189789374805, 0.9991071792976355, 0.9991432409213585, 0.9997293418056502, 0.9991720068555721, 0.9995559122679054, 0.9991364598004229, 0.9996839045637085, 0.9992257442491963, 0.9997441014936281, 0.9993821942536669, 0.9996658564175986, 0.9996568171746082, 0.9991172975227309, 0.9996626932277074, 0.9995864375824306, 0.9992260219741376, 0.9996952410114759, 0.9991872139055598, 0.9994365369543317, 0.9996844404406178, 0.9996974364081117, 0.9995383179387737, 0.9955500369999999, 0.9993010889733085, 0.9997404235332956, 0.9995011175721855, 0.9997265580520608, 0.9993093014202064, 0.9997320289310772, 0.9997286184846578, 0.9997290075599613, 0.9997334884704113, 0.9993037192556287, 0.9997114363520814, 0.9997553365478742, 0.9997117242880957, 0.9996587239981846, 0.9955500369999999, 0.999222875821351, 0.9997433233165879, 0.9997427950185728, 0.9997325202112682, 0.9997490646560745, 0.9997434431143283]}, {\"categories\": [\"0\", \"1\", \"2\", \"3\", \"4\", \"5\", \"6\", \"7\", \"8\", \"9\", \"10\", \"11\", \"12\", \"13\", \"14\", \"15\", \"16\", \"17\", \"18\", \"19\", \"20\", \"21\", \"22\", \"23\", \"24\", \"25\", \"26\", \"27\", \"28\", \"29\", \"30\", \"31\", \"32\", \"33\", \"34\", \"35\", \"36\", \"37\", \"38\", \"39\", \"40\", \"41\", \"42\", \"43\", \"44\", \"45\", \"46\"], \"mode\": \"lines\", \"name\": \"average_precision_score_weighted_max\", \"stepped\": true, \"type\": \"scatter\", \"data\": [0.9965561472487121, 0.9997438045588802, 0.9997438045588802, 0.9997438045588802, 0.9997438045588802, 0.9997438045588802, 0.9997438045588802, 0.9997438045588802, 0.9997438045588802, 0.9997438045588802, 0.9997438045588802, 0.9997441014936281, 0.9997441014936281, 0.9997441014936281, 0.9997441014936281, 0.9997441014936281, 0.9997441014936281, 0.9997441014936281, 0.9997441014936281, 0.9997441014936281, 0.9997441014936281, 0.9997441014936281, 0.9997441014936281, 0.9997441014936281, 0.9997441014936281, 0.9997441014936281, 0.9997441014936281, 0.9997441014936281, 0.9997441014936281, 0.9997441014936281, 0.9997441014936281, 0.9997441014936281, 0.9997441014936281, 0.9997441014936281, 0.9997441014936281, 0.9997441014936281, 0.9997441014936281, 0.9997553365478742, 0.9997553365478742, 0.9997553365478742, 0.9997553365478742, 0.9997553365478742, 0.9997553365478742, 0.9997553365478742, 0.9997553365478742, 0.9997553365478742, 0.9997553365478742]}], \"recall_score_micro\": [{\"categories\": [\"0\", \"1\", \"2\", \"3\", \"4\", \"5\", \"6\", \"7\", \"8\", \"9\", \"10\", \"11\", \"12\", \"13\", \"14\", \"15\", \"16\", \"17\", \"18\", \"19\", \"20\", \"21\", \"22\", \"23\", \"24\", \"25\", \"26\", \"27\", \"28\", \"29\", \"30\", \"31\", \"32\", \"33\", \"34\", \"35\", \"36\", \"37\", \"38\", \"39\", \"40\", \"41\", \"42\", \"43\", \"44\", \"45\", \"46\"], \"mode\": \"markers\", \"name\": \"recall_score_micro\", \"stepped\": false, \"type\": \"scatter\", \"data\": [0.9949399999999999, 0.99954, 0.99777, 0.99777, 0.98848, 0.9995499999999999, 0.99777, 0.9994, 0.99777, 0.9994400000000001, 0.99777, 0.9995900000000001, 0.9994, 0.9994299999999999, 0.99936, 0.99777, 0.9995200000000001, 0.9989699999999999, 0.99777, 0.9994, 0.98018, 0.9986499999999999, 0.9994999999999999, 0.9994200000000001, 0.9991299999999999, 0.99777, 0.9985000000000002, 0.99957, 0.9990399999999999, 0.99961, 0.99903, 0.99961, 0.9995800000000001, 0.9996100000000002, 0.99962, 0.9991399999999999, 0.9995, 0.99953, 0.9994799999999999, 0.9995100000000001, 0.99777, 0.99777, 0.9995799999999999, 0.9996, 0.9995900000000001, 0.9996300000000001, 0.99954]}, {\"categories\": [\"0\", \"1\", \"2\", \"3\", \"4\", \"5\", \"6\", \"7\", \"8\", \"9\", \"10\", \"11\", \"12\", \"13\", \"14\", \"15\", \"16\", \"17\", \"18\", \"19\", \"20\", \"21\", \"22\", \"23\", \"24\", \"25\", \"26\", \"27\", \"28\", \"29\", \"30\", \"31\", \"32\", \"33\", \"34\", \"35\", \"36\", \"37\", \"38\", \"39\", \"40\", \"41\", \"42\", \"43\", \"44\", \"45\", \"46\"], \"mode\": \"lines\", \"name\": \"recall_score_micro_max\", \"stepped\": true, \"type\": \"scatter\", \"data\": [0.9949399999999999, 0.99954, 0.99954, 0.99954, 0.99954, 0.9995499999999999, 0.9995499999999999, 0.9995499999999999, 0.9995499999999999, 0.9995499999999999, 0.9995499999999999, 0.9995900000000001, 0.9995900000000001, 0.9995900000000001, 0.9995900000000001, 0.9995900000000001, 0.9995900000000001, 0.9995900000000001, 0.9995900000000001, 0.9995900000000001, 0.9995900000000001, 0.9995900000000001, 0.9995900000000001, 0.9995900000000001, 0.9995900000000001, 0.9995900000000001, 0.9995900000000001, 0.9995900000000001, 0.9995900000000001, 0.99961, 0.99961, 0.99961, 0.99961, 0.9996100000000002, 0.99962, 0.99962, 0.99962, 0.99962, 0.99962, 0.99962, 0.99962, 0.99962, 0.99962, 0.99962, 0.99962, 0.9996300000000001, 0.9996300000000001]}], \"precision_score_micro\": [{\"categories\": [\"0\", \"1\", \"2\", \"3\", \"4\", \"5\", \"6\", \"7\", \"8\", \"9\", \"10\", \"11\", \"12\", \"13\", \"14\", \"15\", \"16\", \"17\", \"18\", \"19\", \"20\", \"21\", \"22\", \"23\", \"24\", \"25\", \"26\", \"27\", \"28\", \"29\", \"30\", \"31\", \"32\", \"33\", \"34\", \"35\", \"36\", \"37\", \"38\", \"39\", \"40\", \"41\", \"42\", \"43\", \"44\", \"45\", \"46\"], \"mode\": \"markers\", \"name\": \"precision_score_micro\", \"stepped\": false, \"type\": \"scatter\", \"data\": [0.9949399999999999, 0.99954, 0.99777, 0.99777, 0.98848, 0.9995499999999999, 0.99777, 0.9994, 0.99777, 0.9994400000000001, 0.99777, 0.9995900000000001, 0.9994, 0.9994299999999999, 0.99936, 0.99777, 0.9995200000000001, 0.9989699999999999, 0.99777, 0.9994, 0.98018, 0.9986499999999999, 0.9994999999999999, 0.9994200000000001, 0.9991299999999999, 0.99777, 0.9985000000000002, 0.99957, 0.9990399999999999, 0.99961, 0.99903, 0.99961, 0.9995800000000001, 0.9996100000000002, 0.99962, 0.9991399999999999, 0.9995, 0.99953, 0.9994799999999999, 0.9995100000000001, 0.99777, 0.99777, 0.9995799999999999, 0.9996, 0.9995900000000001, 0.9996300000000001, 0.99954]}, {\"categories\": [\"0\", \"1\", \"2\", \"3\", \"4\", \"5\", \"6\", \"7\", \"8\", \"9\", \"10\", \"11\", \"12\", \"13\", \"14\", \"15\", \"16\", \"17\", \"18\", \"19\", \"20\", \"21\", \"22\", \"23\", \"24\", \"25\", \"26\", \"27\", \"28\", \"29\", \"30\", \"31\", \"32\", \"33\", \"34\", \"35\", \"36\", \"37\", \"38\", \"39\", \"40\", \"41\", \"42\", \"43\", \"44\", \"45\", \"46\"], \"mode\": \"lines\", \"name\": \"precision_score_micro_max\", \"stepped\": true, \"type\": \"scatter\", \"data\": [0.9949399999999999, 0.99954, 0.99954, 0.99954, 0.99954, 0.9995499999999999, 0.9995499999999999, 0.9995499999999999, 0.9995499999999999, 0.9995499999999999, 0.9995499999999999, 0.9995900000000001, 0.9995900000000001, 0.9995900000000001, 0.9995900000000001, 0.9995900000000001, 0.9995900000000001, 0.9995900000000001, 0.9995900000000001, 0.9995900000000001, 0.9995900000000001, 0.9995900000000001, 0.9995900000000001, 0.9995900000000001, 0.9995900000000001, 0.9995900000000001, 0.9995900000000001, 0.9995900000000001, 0.9995900000000001, 0.99961, 0.99961, 0.99961, 0.99961, 0.9996100000000002, 0.99962, 0.99962, 0.99962, 0.99962, 0.99962, 0.99962, 0.99962, 0.99962, 0.99962, 0.99962, 0.99962, 0.9996300000000001, 0.9996300000000001]}], \"precision_score_macro\": [{\"categories\": [\"0\", \"1\", \"2\", \"3\", \"4\", \"5\", \"6\", \"7\", \"8\", \"9\", \"10\", \"11\", \"12\", \"13\", \"14\", \"15\", \"16\", \"17\", \"18\", \"19\", \"20\", \"21\", \"22\", \"23\", \"24\", \"25\", \"26\", \"27\", \"28\", \"29\", \"30\", \"31\", \"32\", \"33\", \"34\", \"35\", \"36\", \"37\", \"38\", \"39\", \"40\", \"41\", \"42\", \"43\", \"44\", \"45\", \"46\"], \"mode\": \"markers\", \"name\": \"precision_score_macro\", \"stepped\": false, \"type\": \"scatter\", \"data\": [0.6091571570608575, 0.9695195760224788, 0.498885, 0.498885, 0.5827401423821026, 0.9744288307522035, 0.498885, 0.980219337689522, 0.498885, 0.9779977602900761, 0.498885, 0.9837104187617463, 0.9717707989541342, 0.9634585298434402, 0.9640166231266502, 0.498885, 0.9808145419612604, 0.9001419582802489, 0.498885, 0.9634889091870644, 0.5472813374423225, 0.9009262138402591, 0.983347784236144, 0.9727108194819045, 0.9573414453665487, 0.498885, 0.8743984458936271, 0.9833616526125027, 0.8999821777616519, 0.9840238635472225, 0.935200034015995, 0.986508288259589, 0.9809326404816858, 0.9862551110698247, 0.9837835160619373, 0.932114855449074, 0.9829295936175619, 0.9734710634677366, 0.9711358065087378, 0.9835072313999458, 0.498885, 0.498885, 0.9814913202300393, 0.9911899399563507, 0.9861841196867254, 0.9913832156078721, 0.9862231849497818]}, {\"categories\": [\"0\", \"1\", \"2\", \"3\", \"4\", \"5\", \"6\", \"7\", \"8\", \"9\", \"10\", \"11\", \"12\", \"13\", \"14\", \"15\", \"16\", \"17\", \"18\", \"19\", \"20\", \"21\", \"22\", \"23\", \"24\", \"25\", \"26\", \"27\", \"28\", \"29\", \"30\", \"31\", \"32\", \"33\", \"34\", \"35\", \"36\", \"37\", \"38\", \"39\", \"40\", \"41\", \"42\", \"43\", \"44\", \"45\", \"46\"], \"mode\": \"lines\", \"name\": \"precision_score_macro_max\", \"stepped\": true, \"type\": \"scatter\", \"data\": [0.6091571570608575, 0.9695195760224788, 0.9695195760224788, 0.9695195760224788, 0.9695195760224788, 0.9744288307522035, 0.9744288307522035, 0.980219337689522, 0.980219337689522, 0.980219337689522, 0.980219337689522, 0.9837104187617463, 0.9837104187617463, 0.9837104187617463, 0.9837104187617463, 0.9837104187617463, 0.9837104187617463, 0.9837104187617463, 0.9837104187617463, 0.9837104187617463, 0.9837104187617463, 0.9837104187617463, 0.9837104187617463, 0.9837104187617463, 0.9837104187617463, 0.9837104187617463, 0.9837104187617463, 0.9837104187617463, 0.9837104187617463, 0.9840238635472225, 0.9840238635472225, 0.986508288259589, 0.986508288259589, 0.986508288259589, 0.986508288259589, 0.986508288259589, 0.986508288259589, 0.986508288259589, 0.986508288259589, 0.986508288259589, 0.986508288259589, 0.986508288259589, 0.986508288259589, 0.9911899399563507, 0.9911899399563507, 0.9913832156078721, 0.9913832156078721]}], \"matthews_correlation\": [{\"categories\": [\"0\", \"1\", \"2\", \"3\", \"4\", \"5\", \"6\", \"7\", \"8\", \"9\", \"10\", \"11\", \"12\", \"13\", \"14\", \"15\", \"16\", \"17\", \"18\", \"19\", \"20\", \"21\", \"22\", \"23\", \"24\", \"25\", \"26\", \"27\", \"28\", \"29\", \"30\", \"31\", \"32\", \"33\", \"34\", \"35\", \"36\", \"37\", \"38\", \"39\", \"40\", \"41\", \"42\", \"43\", \"44\", \"45\", \"46\"], \"mode\": \"markers\", \"name\": \"matthews_correlation\", \"stepped\": false, \"type\": \"scatter\", \"data\": [0.2973310113584472, 0.8924364814490799, 0.0, 0.0, 0.3764609882613853, 0.8954222042484098, 0.0, 0.8572818188122986, 0.0, 0.8677145852177546, 0.0, 0.903681993237688, 0.855336010497016, 0.8660087528701508, 0.8462534442166817, 0.0, 0.8869130360757544, 0.7610411374674195, 0.0, 0.8582215320966755, 0.291214375441953, 0.6568612660094176, 0.8820238723975283, 0.8628491824186488, 0.7843783748964255, 0.0, 0.6109338611663766, 0.8981283874609671, 0.7814254840630671, 0.9091724041897293, 0.7636814723460035, 0.9088339851461168, 0.9004883753709872, 0.9084710544841634, 0.9107158689476336, 0.7955058123499508, 0.8804301160290325, 0.8888156296827949, 0.8766099399852187, 0.8849675971650974, 0.0, 0.0, 0.9017923678132348, 0.905698263063611, 0.9036720280572872, 0.9134813381732393, 0.8918910359820437]}, {\"categories\": [\"0\", \"1\", \"2\", \"3\", \"4\", \"5\", \"6\", \"7\", \"8\", \"9\", \"10\", \"11\", \"12\", \"13\", \"14\", \"15\", \"16\", \"17\", \"18\", \"19\", \"20\", \"21\", \"22\", \"23\", \"24\", \"25\", \"26\", \"27\", \"28\", \"29\", \"30\", \"31\", \"32\", \"33\", \"34\", \"35\", \"36\", \"37\", \"38\", \"39\", \"40\", \"41\", \"42\", \"43\", \"44\", \"45\", \"46\"], \"mode\": \"lines\", \"name\": \"matthews_correlation_max\", \"stepped\": true, \"type\": \"scatter\", \"data\": [0.2973310113584472, 0.8924364814490799, 0.8924364814490799, 0.8924364814490799, 0.8924364814490799, 0.8954222042484098, 0.8954222042484098, 0.8954222042484098, 0.8954222042484098, 0.8954222042484098, 0.8954222042484098, 0.903681993237688, 0.903681993237688, 0.903681993237688, 0.903681993237688, 0.903681993237688, 0.903681993237688, 0.903681993237688, 0.903681993237688, 0.903681993237688, 0.903681993237688, 0.903681993237688, 0.903681993237688, 0.903681993237688, 0.903681993237688, 0.903681993237688, 0.903681993237688, 0.903681993237688, 0.903681993237688, 0.9091724041897293, 0.9091724041897293, 0.9091724041897293, 0.9091724041897293, 0.9091724041897293, 0.9107158689476336, 0.9107158689476336, 0.9107158689476336, 0.9107158689476336, 0.9107158689476336, 0.9107158689476336, 0.9107158689476336, 0.9107158689476336, 0.9107158689476336, 0.9107158689476336, 0.9107158689476336, 0.9134813381732393, 0.9134813381732393]}], \"average_precision_score_micro\": [{\"categories\": [\"0\", \"1\", \"2\", \"3\", \"4\", \"5\", \"6\", \"7\", \"8\", \"9\", \"10\", \"11\", \"12\", \"13\", \"14\", \"15\", \"16\", \"17\", \"18\", \"19\", \"20\", \"21\", \"22\", \"23\", \"24\", \"25\", \"26\", \"27\", \"28\", \"29\", \"30\", \"31\", \"32\", \"33\", \"34\", \"35\", \"36\", \"37\", \"38\", \"39\", \"40\", \"41\", \"42\", \"43\", \"44\", \"45\", \"46\"], \"mode\": \"markers\", \"name\": \"average_precision_score_micro\", \"stepped\": false, \"type\": \"scatter\", \"data\": [0.9926994707337504, 0.9999348972594332, 0.9998847903761989, 0.999849086160079, 0.9988315721899056, 0.9999035729332885, 0.9998405158303598, 0.999799019516406, 0.9998541839307027, 0.9999191559178785, 0.9998795066749547, 0.9999083439390724, 0.999577480520955, 0.9998959209576415, 0.9999286073159709, 0.9998208896060813, 0.999873901796416, 0.9999314997761068, 0.9998871011642558, 0.9999341348017501, 0.9919697437132976, 0.999880403771072, 0.9998962243091457, 0.9999316462933843, 0.9999133137164214, 0.9966600185000001, 0.999837881048131, 0.9999054729321845, 0.999880844787986, 0.9998816269310457, 0.9995777869091163, 0.9998839463222385, 0.9999000217909982, 0.9999046412580727, 0.9998927126012704, 0.9995930521873984, 0.9999196571790134, 0.9999356769560389, 0.9999269256300473, 0.9998603695771022, 0.9966600185000001, 0.999870110496313, 0.999916181091751, 0.999901748308953, 0.9998892128853367, 0.9999052265066091, 0.9999030891518885]}, {\"categories\": [\"0\", \"1\", \"2\", \"3\", \"4\", \"5\", \"6\", \"7\", \"8\", \"9\", \"10\", \"11\", \"12\", \"13\", \"14\", \"15\", \"16\", \"17\", \"18\", \"19\", \"20\", \"21\", \"22\", \"23\", \"24\", \"25\", \"26\", \"27\", \"28\", \"29\", \"30\", \"31\", \"32\", \"33\", \"34\", \"35\", \"36\", \"37\", \"38\", \"39\", \"40\", \"41\", \"42\", \"43\", \"44\", \"45\", \"46\"], \"mode\": \"lines\", \"name\": \"average_precision_score_micro_max\", \"stepped\": true, \"type\": \"scatter\", \"data\": [0.9926994707337504, 0.9999348972594332, 0.9999348972594332, 0.9999348972594332, 0.9999348972594332, 0.9999348972594332, 0.9999348972594332, 0.9999348972594332, 0.9999348972594332, 0.9999348972594332, 0.9999348972594332, 0.9999348972594332, 0.9999348972594332, 0.9999348972594332, 0.9999348972594332, 0.9999348972594332, 0.9999348972594332, 0.9999348972594332, 0.9999348972594332, 0.9999348972594332, 0.9999348972594332, 0.9999348972594332, 0.9999348972594332, 0.9999348972594332, 0.9999348972594332, 0.9999348972594332, 0.9999348972594332, 0.9999348972594332, 0.9999348972594332, 0.9999348972594332, 0.9999348972594332, 0.9999348972594332, 0.9999348972594332, 0.9999348972594332, 0.9999348972594332, 0.9999348972594332, 0.9999348972594332, 0.9999356769560389, 0.9999356769560389, 0.9999356769560389, 0.9999356769560389, 0.9999356769560389, 0.9999356769560389, 0.9999356769560389, 0.9999356769560389, 0.9999356769560389, 0.9999356769560389]}], \"f1_score_weighted\": [{\"categories\": [\"0\", \"1\", \"2\", \"3\", \"4\", \"5\", \"6\", \"7\", \"8\", \"9\", \"10\", \"11\", \"12\", \"13\", \"14\", \"15\", \"16\", \"17\", \"18\", \"19\", \"20\", \"21\", \"22\", \"23\", \"24\", \"25\", \"26\", \"27\", \"28\", \"29\", \"30\", \"31\", \"32\", \"33\", \"34\", \"35\", \"36\", \"37\", \"38\", \"39\", \"40\", \"41\", \"42\", \"43\", \"44\", \"45\", \"46\"], \"mode\": \"markers\", \"name\": \"f1_score_weighted\", \"stepped\": false, \"type\": \"scatter\", \"data\": [0.9958563690958456, 0.9995281305375874, 0.9966562560499252, 0.9966562560499252, 0.9925953342631638, 0.9995363857292251, 0.9966562560499252, 0.9993645185140879, 0.9966562560499252, 0.9994116879079931, 0.9966562560499252, 0.9995759590934238, 0.9993695366836128, 0.9994100347944617, 0.9993297725713285, 0.9966562560499252, 0.9994995987996165, 0.9989427977866407, 0.9966562560499252, 0.9993767053972291, 0.9881480426514102, 0.9985186057345435, 0.9994762784932785, 0.9993921362010493, 0.9990629908057949, 0.9966562560499252, 0.9983510014007942, 0.999554086923433, 0.9990284241851768, 0.9995969005177312, 0.9989623996467424, 0.9995960926699989, 0.999566591366559, 0.9995962343061979, 0.9996082753516798, 0.9991034825933618, 0.999476147344514, 0.9995151674880111, 0.999460502252399, 0.9994870117656911, 0.9966562560499252, 0.9966562560499252, 0.9995659040966964, 0.999582557263303, 0.9995744139204883, 0.9996151987742914, 0.9995193131551817]}, {\"categories\": [\"0\", \"1\", \"2\", \"3\", \"4\", \"5\", \"6\", \"7\", \"8\", \"9\", \"10\", \"11\", \"12\", \"13\", \"14\", \"15\", \"16\", \"17\", \"18\", \"19\", \"20\", \"21\", \"22\", \"23\", \"24\", \"25\", \"26\", \"27\", \"28\", \"29\", \"30\", \"31\", \"32\", \"33\", \"34\", \"35\", \"36\", \"37\", \"38\", \"39\", \"40\", \"41\", \"42\", \"43\", \"44\", \"45\", \"46\"], \"mode\": \"lines\", \"name\": \"f1_score_weighted_max\", \"stepped\": true, \"type\": \"scatter\", \"data\": [0.9958563690958456, 0.9995281305375874, 0.9995281305375874, 0.9995281305375874, 0.9995281305375874, 0.9995363857292251, 0.9995363857292251, 0.9995363857292251, 0.9995363857292251, 0.9995363857292251, 0.9995363857292251, 0.9995759590934238, 0.9995759590934238, 0.9995759590934238, 0.9995759590934238, 0.9995759590934238, 0.9995759590934238, 0.9995759590934238, 0.9995759590934238, 0.9995759590934238, 0.9995759590934238, 0.9995759590934238, 0.9995759590934238, 0.9995759590934238, 0.9995759590934238, 0.9995759590934238, 0.9995759590934238, 0.9995759590934238, 0.9995759590934238, 0.9995969005177312, 0.9995969005177312, 0.9995969005177312, 0.9995969005177312, 0.9995969005177312, 0.9996082753516798, 0.9996082753516798, 0.9996082753516798, 0.9996082753516798, 0.9996082753516798, 0.9996082753516798, 0.9996082753516798, 0.9996082753516798, 0.9996082753516798, 0.9996082753516798, 0.9996082753516798, 0.9996151987742914, 0.9996151987742914]}], \"average_precision_score_macro\": [{\"categories\": [\"0\", \"1\", \"2\", \"3\", \"4\", \"5\", \"6\", \"7\", \"8\", \"9\", \"10\", \"11\", \"12\", \"13\", \"14\", \"15\", \"16\", \"17\", \"18\", \"19\", \"20\", \"21\", \"22\", \"23\", \"24\", \"25\", \"26\", \"27\", \"28\", \"29\", \"30\", \"31\", \"32\", \"33\", \"34\", \"35\", \"36\", \"37\", \"38\", \"39\", \"40\", \"41\", \"42\", \"43\", \"44\", \"45\", \"46\"], \"mode\": \"markers\", \"name\": \"average_precision_score_macro\", \"stepped\": false, \"type\": \"scatter\", \"data\": [0.5775501517664721, 0.9521767440998945, 0.836587088739614, 0.8232435868100755, 0.8288582215649329, 0.9544525486045604, 0.8400739152695011, 0.9328265941376068, 0.8295903994711468, 0.9411104418724623, 0.8447584916517685, 0.9564988940899017, 0.9251104880798806, 0.9420022622812659, 0.9336761803675426, 0.8316164851942572, 0.9464426918460201, 0.9172124059880515, 0.8440389912271982, 0.941250493490946, 0.836975273426407, 0.8923025009988175, 0.9460941510684051, 0.9424381402505919, 0.9084912110371433, 0.5, 0.8686826241012591, 0.9565945947830293, 0.9064943909371216, 0.9578700275115501, 0.909005154522309, 0.9585480501229056, 0.9548668374739048, 0.9537182254487687, 0.9570822456463217, 0.9063950479189664, 0.947168726003986, 0.9544120577681756, 0.9459609022335101, 0.9472314271611276, 0.5, 0.8461488424480461, 0.9544311265390979, 0.9576174869714282, 0.9578326685424983, 0.9582537737584556, 0.9576106221993819]}, {\"categories\": [\"0\", \"1\", \"2\", \"3\", \"4\", \"5\", \"6\", \"7\", \"8\", \"9\", \"10\", \"11\", \"12\", \"13\", \"14\", \"15\", \"16\", \"17\", \"18\", \"19\", \"20\", \"21\", \"22\", \"23\", \"24\", \"25\", \"26\", \"27\", \"28\", \"29\", \"30\", \"31\", \"32\", \"33\", \"34\", \"35\", \"36\", \"37\", \"38\", \"39\", \"40\", \"41\", \"42\", \"43\", \"44\", \"45\", \"46\"], \"mode\": \"lines\", \"name\": \"average_precision_score_macro_max\", \"stepped\": true, \"type\": \"scatter\", \"data\": [0.5775501517664721, 0.9521767440998945, 0.9521767440998945, 0.9521767440998945, 0.9521767440998945, 0.9544525486045604, 0.9544525486045604, 0.9544525486045604, 0.9544525486045604, 0.9544525486045604, 0.9544525486045604, 0.9564988940899017, 0.9564988940899017, 0.9564988940899017, 0.9564988940899017, 0.9564988940899017, 0.9564988940899017, 0.9564988940899017, 0.9564988940899017, 0.9564988940899017, 0.9564988940899017, 0.9564988940899017, 0.9564988940899017, 0.9564988940899017, 0.9564988940899017, 0.9564988940899017, 0.9564988940899017, 0.9565945947830293, 0.9565945947830293, 0.9578700275115501, 0.9578700275115501, 0.9585480501229056, 0.9585480501229056, 0.9585480501229056, 0.9585480501229056, 0.9585480501229056, 0.9585480501229056, 0.9585480501229056, 0.9585480501229056, 0.9585480501229056, 0.9585480501229056, 0.9585480501229056, 0.9585480501229056, 0.9585480501229056, 0.9585480501229056, 0.9585480501229056, 0.9585480501229056]}], \"AUC_weighted\": [{\"categories\": [\"0\", \"1\", \"2\", \"3\", \"4\", \"5\", \"6\", \"7\", \"8\", \"9\", \"10\", \"11\", \"12\", \"13\", \"14\", \"15\", \"16\", \"17\", \"18\", \"19\", \"20\", \"21\", \"22\", \"23\", \"24\", \"25\", \"26\", \"27\", \"28\", \"29\", \"30\", \"31\", \"32\", \"33\", \"34\", \"35\", \"36\", \"37\", \"38\", \"39\", \"40\", \"41\", \"42\", \"43\", \"44\", \"45\", \"46\"], \"mode\": \"markers\", \"name\": \"AUC_weighted\", \"stepped\": false, \"type\": \"scatter\", \"data\": [0.6652054652785736, 0.9863538534873566, 0.9761261913467019, 0.9689465545869782, 0.9763287172559292, 0.9806370034612737, 0.9727400990945767, 0.96683865106309, 0.9700878940516698, 0.9833057509039735, 0.9750496227699209, 0.9809551142432504, 0.9375328404281287, 0.9808317302556275, 0.986297342581187, 0.9697698185059958, 0.9809593806417988, 0.9854473730051947, 0.9776195087591931, 0.9860143291321736, 0.97800412896881, 0.9763471839947705, 0.9810991887486773, 0.986122803016627, 0.9820647052546956, 0.5, 0.9688587975669248, 0.9813947412971235, 0.9765412994747775, 0.9778822177501916, 0.9376894771432556, 0.9781038976554848, 0.9804869411714193, 0.9804950746879191, 0.9787549305924012, 0.9394197308019825, 0.983737823866881, 0.9864487377719533, 0.9844553600275512, 0.9760293468978029, 0.5, 0.9744377919213141, 0.9819553114122845, 0.9800660686097892, 0.9790746817716599, 0.9805683794857473, 0.980463643661475]}, {\"categories\": [\"0\", \"1\", \"2\", \"3\", \"4\", \"5\", \"6\", \"7\", \"8\", \"9\", \"10\", \"11\", \"12\", \"13\", \"14\", \"15\", \"16\", \"17\", \"18\", \"19\", \"20\", \"21\", \"22\", \"23\", \"24\", \"25\", \"26\", \"27\", \"28\", \"29\", \"30\", \"31\", \"32\", \"33\", \"34\", \"35\", \"36\", \"37\", \"38\", \"39\", \"40\", \"41\", \"42\", \"43\", \"44\", \"45\", \"46\"], \"mode\": \"lines\", \"name\": \"AUC_weighted_max\", \"stepped\": true, \"type\": \"scatter\", \"data\": [0.6652054652785736, 0.9863538534873566, 0.9863538534873566, 0.9863538534873566, 0.9863538534873566, 0.9863538534873566, 0.9863538534873566, 0.9863538534873566, 0.9863538534873566, 0.9863538534873566, 0.9863538534873566, 0.9863538534873566, 0.9863538534873566, 0.9863538534873566, 0.9863538534873566, 0.9863538534873566, 0.9863538534873566, 0.9863538534873566, 0.9863538534873566, 0.9863538534873566, 0.9863538534873566, 0.9863538534873566, 0.9863538534873566, 0.9863538534873566, 0.9863538534873566, 0.9863538534873566, 0.9863538534873566, 0.9863538534873566, 0.9863538534873566, 0.9863538534873566, 0.9863538534873566, 0.9863538534873566, 0.9863538534873566, 0.9863538534873566, 0.9863538534873566, 0.9863538534873566, 0.9863538534873566, 0.9864487377719533, 0.9864487377719533, 0.9864487377719533, 0.9864487377719533, 0.9864487377719533, 0.9864487377719533, 0.9864487377719533, 0.9864487377719533, 0.9864487377719533, 0.9864487377719533]}], \"log_loss\": [{\"categories\": [\"0\", \"1\", \"2\", \"3\", \"4\", \"5\", \"6\", \"7\", \"8\", \"9\", \"10\", \"11\", \"12\", \"13\", \"14\", \"15\", \"16\", \"17\", \"18\", \"19\", \"20\", \"21\", \"22\", \"23\", \"24\", \"25\", \"26\", \"27\", \"28\", \"29\", \"30\", \"31\", \"32\", \"33\", \"34\", \"35\", \"36\", \"37\", \"38\", \"39\", \"40\", \"41\", \"42\", \"43\", \"44\", \"45\", \"46\"], \"mode\": \"markers\", \"name\": \"log_loss\", \"stepped\": false, \"type\": \"scatter\", \"data\": [0.16035733245228978, 0.0024659661723764386, 0.00781716731923832, 0.010776511139221623, 0.09206270020139443, 0.0025222732011794383, 0.01164487345970418, 0.006084630634381996, 0.005985098085112955, 0.0028982810669037334, 0.005469142151568085, 0.002622978518112675, 0.04259280448520713, 0.0029099837612212285, 0.0030221936248959014, 0.01293460444703114, 0.0028086327109065334, 0.003743982703378887, 0.005170487361699884, 0.002862746967242682, 0.10042825058854161, 0.0048090999981602114, 0.002721963560466359, 0.0028280128813900273, 0.004046616251656778, 0.01584985768570405, 0.0049510041565359745, 0.002420837049240108, 0.003908489999402001, 0.0028778076314803485, 0.19930878045090522, 0.002696280344287782, 0.002565593039573248, 0.0024977915352832726, 0.002576145385832965, 0.19931306127118917, 0.0027785445603026723, 0.002391249217245027, 0.002736604894573849, 0.00289385903602102, 0.2026476067325385, 0.005673251370406937, 0.0024472640329077726, 0.0027276420655372785, 0.002741672189089747, 0.002433855184522331, 0.003105971063486974]}, {\"categories\": [\"0\", \"1\", \"2\", \"3\", \"4\", \"5\", \"6\", \"7\", \"8\", \"9\", \"10\", \"11\", \"12\", \"13\", \"14\", \"15\", \"16\", \"17\", \"18\", \"19\", \"20\", \"21\", \"22\", \"23\", \"24\", \"25\", \"26\", \"27\", \"28\", \"29\", \"30\", \"31\", \"32\", \"33\", \"34\", \"35\", \"36\", \"37\", \"38\", \"39\", \"40\", \"41\", \"42\", \"43\", \"44\", \"45\", \"46\"], \"mode\": \"lines\", \"name\": \"log_loss_min\", \"stepped\": true, \"type\": \"scatter\", \"data\": [0.16035733245228978, 0.0024659661723764386, 0.0024659661723764386, 0.0024659661723764386, 0.0024659661723764386, 0.0024659661723764386, 0.0024659661723764386, 0.0024659661723764386, 0.0024659661723764386, 0.0024659661723764386, 0.0024659661723764386, 0.0024659661723764386, 0.0024659661723764386, 0.0024659661723764386, 0.0024659661723764386, 0.0024659661723764386, 0.0024659661723764386, 0.0024659661723764386, 0.0024659661723764386, 0.0024659661723764386, 0.0024659661723764386, 0.0024659661723764386, 0.0024659661723764386, 0.0024659661723764386, 0.0024659661723764386, 0.0024659661723764386, 0.0024659661723764386, 0.002420837049240108, 0.002420837049240108, 0.002420837049240108, 0.002420837049240108, 0.002420837049240108, 0.002420837049240108, 0.002420837049240108, 0.002420837049240108, 0.002420837049240108, 0.002420837049240108, 0.002391249217245027, 0.002391249217245027, 0.002391249217245027, 0.002391249217245027, 0.002391249217245027, 0.002391249217245027, 0.002391249217245027, 0.002391249217245027, 0.002391249217245027, 0.002391249217245027]}], \"balanced_accuracy\": [{\"categories\": [\"0\", \"1\", \"2\", \"3\", \"4\", \"5\", \"6\", \"7\", \"8\", \"9\", \"10\", \"11\", \"12\", \"13\", \"14\", \"15\", \"16\", \"17\", \"18\", \"19\", \"20\", \"21\", \"22\", \"23\", \"24\", \"25\", \"26\", \"27\", \"28\", \"29\", \"30\", \"31\", \"32\", \"33\", \"34\", \"35\", \"36\", \"37\", \"38\", \"39\", \"40\", \"41\", \"42\", \"43\", \"44\", \"45\", \"46\"], \"mode\": \"markers\", \"name\": \"balanced_accuracy\", \"stepped\": false, \"type\": \"scatter\", \"data\": [0.707926868067059, 0.9241390848493684, 0.5, 0.5, 0.9433237638390992, 0.9230604590255226, 0.5, 0.8830963726984745, 0.5, 0.8942178596779499, 0.5, 0.9224186182531369, 0.887837057439898, 0.9049371709803415, 0.8859736171211507, 0.5, 0.9092275670498473, 0.8625213937866253, 0.5, 0.8978680705566651, 0.9498886880467203, 0.7726148014215607, 0.9026516772787246, 0.8940099137993054, 0.8367301202800685, 0.5, 0.7494659178722249, 0.9177619454847828, 0.8820561540607017, 0.9275337461015344, 0.8374639894152413, 0.9245512845842156, 0.9218385658577579, 0.9245512870947492, 0.9289126755494843, 0.8663636831942488, 0.9014092347837195, 0.9174571333049524, 0.9078782331913775, 0.9052620232404831, 0.5, 0.5, 0.9224136034625173, 0.9177769732862157, 0.9201848893728697, 0.9248460737107977, 0.9095223566779321]}, {\"categories\": [\"0\", \"1\", \"2\", \"3\", \"4\", \"5\", \"6\", \"7\", \"8\", \"9\", \"10\", \"11\", \"12\", \"13\", \"14\", \"15\", \"16\", \"17\", \"18\", \"19\", \"20\", \"21\", \"22\", \"23\", \"24\", \"25\", \"26\", \"27\", \"28\", \"29\", \"30\", \"31\", \"32\", \"33\", \"34\", \"35\", \"36\", \"37\", \"38\", \"39\", \"40\", \"41\", \"42\", \"43\", \"44\", \"45\", \"46\"], \"mode\": \"lines\", \"name\": \"balanced_accuracy_max\", \"stepped\": true, \"type\": \"scatter\", \"data\": [0.707926868067059, 0.9241390848493684, 0.9241390848493684, 0.9241390848493684, 0.9433237638390992, 0.9433237638390992, 0.9433237638390992, 0.9433237638390992, 0.9433237638390992, 0.9433237638390992, 0.9433237638390992, 0.9433237638390992, 0.9433237638390992, 0.9433237638390992, 0.9433237638390992, 0.9433237638390992, 0.9433237638390992, 0.9433237638390992, 0.9433237638390992, 0.9433237638390992, 0.9498886880467203, 0.9498886880467203, 0.9498886880467203, 0.9498886880467203, 0.9498886880467203, 0.9498886880467203, 0.9498886880467203, 0.9498886880467203, 0.9498886880467203, 0.9498886880467203, 0.9498886880467203, 0.9498886880467203, 0.9498886880467203, 0.9498886880467203, 0.9498886880467203, 0.9498886880467203, 0.9498886880467203, 0.9498886880467203, 0.9498886880467203, 0.9498886880467203, 0.9498886880467203, 0.9498886880467203, 0.9498886880467203, 0.9498886880467203, 0.9498886880467203, 0.9498886880467203, 0.9498886880467203]}], \"f1_score_macro\": [{\"categories\": [\"0\", \"1\", \"2\", \"3\", \"4\", \"5\", \"6\", \"7\", \"8\", \"9\", \"10\", \"11\", \"12\", \"13\", \"14\", \"15\", \"16\", \"17\", \"18\", \"19\", \"20\", \"21\", \"22\", \"23\", \"24\", \"25\", \"26\", \"27\", \"28\", \"29\", \"30\", \"31\", \"32\", \"33\", \"34\", \"35\", \"36\", \"37\", \"38\", \"39\", \"40\", \"41\", \"42\", \"43\", \"44\", \"45\", \"46\"], \"mode\": \"markers\", \"name\": \"f1_score_macro\", \"stepped\": false, \"type\": \"scatter\", \"data\": [0.639378644119953, 0.9456024276769878, 0.4994418719750374, 0.4994418719750374, 0.6341775713609845, 0.9466725532811638, 0.4994418719750374, 0.9256250993219162, 0.4994418719750374, 0.9316018949136634, 0.4994418719750374, 0.9506106833816264, 0.9255255861067908, 0.9318044460568522, 0.9212510879488718, 0.4994418719750374, 0.9418847659025769, 0.8797058311335249, 0.4994418719750374, 0.9275388830433036, 0.5807844490988463, 0.820488555194258, 0.9390169862855412, 0.9294815916628005, 0.8873718185669759, 0.4994418719750374, 0.7990865334075535, 0.9475611778627279, 0.8904040865336006, 0.9533879383183729, 0.8773987517031083, 0.9532973285999577, 0.9490962484785642, 0.9530611447324808, 0.9543617854887125, 0.8962601022299175, 0.9382535979443792, 0.9433453763602454, 0.9370961541178504, 0.9405763304358642, 0.4994418719750374, 0.4994418719750374, 0.9498332599001152, 0.9512086148027435, 0.9504805351446107, 0.9553603774116887, 0.9440133989104986]}, {\"categories\": [\"0\", \"1\", \"2\", \"3\", \"4\", \"5\", \"6\", \"7\", \"8\", \"9\", \"10\", \"11\", \"12\", \"13\", \"14\", \"15\", \"16\", \"17\", \"18\", \"19\", \"20\", \"21\", \"22\", \"23\", \"24\", \"25\", \"26\", \"27\", \"28\", \"29\", \"30\", \"31\", \"32\", \"33\", \"34\", \"35\", \"36\", \"37\", \"38\", \"39\", \"40\", \"41\", \"42\", \"43\", \"44\", \"45\", \"46\"], \"mode\": \"lines\", \"name\": \"f1_score_macro_max\", \"stepped\": true, \"type\": \"scatter\", \"data\": [0.639378644119953, 0.9456024276769878, 0.9456024276769878, 0.9456024276769878, 0.9456024276769878, 0.9466725532811638, 0.9466725532811638, 0.9466725532811638, 0.9466725532811638, 0.9466725532811638, 0.9466725532811638, 0.9506106833816264, 0.9506106833816264, 0.9506106833816264, 0.9506106833816264, 0.9506106833816264, 0.9506106833816264, 0.9506106833816264, 0.9506106833816264, 0.9506106833816264, 0.9506106833816264, 0.9506106833816264, 0.9506106833816264, 0.9506106833816264, 0.9506106833816264, 0.9506106833816264, 0.9506106833816264, 0.9506106833816264, 0.9506106833816264, 0.9533879383183729, 0.9533879383183729, 0.9533879383183729, 0.9533879383183729, 0.9533879383183729, 0.9543617854887125, 0.9543617854887125, 0.9543617854887125, 0.9543617854887125, 0.9543617854887125, 0.9543617854887125, 0.9543617854887125, 0.9543617854887125, 0.9543617854887125, 0.9543617854887125, 0.9543617854887125, 0.9553603774116887, 0.9553603774116887]}], \"precision_score_weighted\": [{\"categories\": [\"0\", \"1\", \"2\", \"3\", \"4\", \"5\", \"6\", \"7\", \"8\", \"9\", \"10\", \"11\", \"12\", \"13\", \"14\", \"15\", \"16\", \"17\", \"18\", \"19\", \"20\", \"21\", \"22\", \"23\", \"24\", \"25\", \"26\", \"27\", \"28\", \"29\", \"30\", \"31\", \"32\", \"33\", \"34\", \"35\", \"36\", \"37\", \"38\", \"39\", \"40\", \"41\", \"42\", \"43\", \"44\", \"45\", \"46\"], \"mode\": \"markers\", \"name\": \"precision_score_weighted\", \"stepped\": false, \"type\": \"scatter\", \"data\": [0.9969356123827197, 0.99952765452149, 0.9955450185, 0.9955450185, 0.9979135917379651, 0.9995425803097527, 0.9955450185, 0.9993852065110895, 0.9955450185, 0.9994255077125096, 0.9955450185, 0.9995849981090158, 0.9993776185481853, 0.9994126748536223, 0.999333937445946, 0.9955450185, 0.9995084766761719, 0.9989305351500093, 0.9955450185, 0.999383070678817, 0.9977997484599065, 0.9985309259628388, 0.999489462251756, 0.9994002102649651, 0.9990837133964833, 0.9955450185, 0.9983159267084325, 0.9995666900807466, 0.9990225651306623, 0.999606607713423, 0.9989760934145508, 0.999602889785226, 0.9995747143200171, 0.9996043909265474, 0.9996152636265462, 0.9990936577063598, 0.9994879867200108, 0.9995202603424073, 0.9994624723903316, 0.9994996090172474, 0.9955450185, 0.9955450185, 0.9995715575920266, 0.9995956637416343, 0.9995841066718547, 0.9996263037454721, 0.9995349510263256]}, {\"categories\": [\"0\", \"1\", \"2\", \"3\", \"4\", \"5\", \"6\", \"7\", \"8\", \"9\", \"10\", \"11\", \"12\", \"13\", \"14\", \"15\", \"16\", \"17\", \"18\", \"19\", \"20\", \"21\", \"22\", \"23\", \"24\", \"25\", \"26\", \"27\", \"28\", \"29\", \"30\", \"31\", \"32\", \"33\", \"34\", \"35\", \"36\", \"37\", \"38\", \"39\", \"40\", \"41\", \"42\", \"43\", \"44\", \"45\", \"46\"], \"mode\": \"lines\", \"name\": \"precision_score_weighted_max\", \"stepped\": true, \"type\": \"scatter\", \"data\": [0.9969356123827197, 0.99952765452149, 0.99952765452149, 0.99952765452149, 0.99952765452149, 0.9995425803097527, 0.9995425803097527, 0.9995425803097527, 0.9995425803097527, 0.9995425803097527, 0.9995425803097527, 0.9995849981090158, 0.9995849981090158, 0.9995849981090158, 0.9995849981090158, 0.9995849981090158, 0.9995849981090158, 0.9995849981090158, 0.9995849981090158, 0.9995849981090158, 0.9995849981090158, 0.9995849981090158, 0.9995849981090158, 0.9995849981090158, 0.9995849981090158, 0.9995849981090158, 0.9995849981090158, 0.9995849981090158, 0.9995849981090158, 0.999606607713423, 0.999606607713423, 0.999606607713423, 0.999606607713423, 0.999606607713423, 0.9996152636265462, 0.9996152636265462, 0.9996152636265462, 0.9996152636265462, 0.9996152636265462, 0.9996152636265462, 0.9996152636265462, 0.9996152636265462, 0.9996152636265462, 0.9996152636265462, 0.9996152636265462, 0.9996263037454721, 0.9996263037454721]}]}, \"metricName\": null, \"primaryMetricName\": \"accuracy\", \"showLegend\": false}, \"run_metrics\": [{\"name\": \"experiment_status\", \"run_id\": \"AutoML_26986b18-0c16-4670-b009-817d60da1c62\", \"categories\": [0, 1, 2, 3, 4, 5, 6, 7, 8, 9, 10, 11, 12, 13, 14], \"series\": [{\"data\": [\"DatasetEvaluation\", \"FeaturesGeneration\", \"DatasetFeaturization\", \"DatasetFeaturizationCompleted\", \"DatasetBalancing\", \"DatasetCrossValidationSplit\", \"ModelSelection\", \"BestRunExplainModel\", \"ModelExplanationDataSetSetup\", \"PickSurrogateModel\", \"EngineeredFeatureExplanations\", \"EngineeredFeatureExplanations\", \"RawFeaturesExplanations\", \"RawFeaturesExplanations\", \"BestRunExplainModel\"]}]}, {\"name\": \"experiment_status_description\", \"run_id\": \"AutoML_26986b18-0c16-4670-b009-817d60da1c62\", \"categories\": [0, 1, 2, 3, 4, 5, 6, 7, 8, 9, 10, 11, 12, 13, 14], \"series\": [{\"data\": [\"Gathering dataset statistics.\", \"Generating features for the dataset.\", \"Beginning to fit featurizers and featurize the dataset.\", \"Completed fit featurizers and featurizing the dataset.\", \"Performing class balancing sweeping\", \"Generating individually featurized CV splits.\", \"Beginning model selection.\", \"Best run model explanations started\", \"Model explanations data setup completed\", \"Choosing LightGBM as the surrogate model for explanations\", \"Computation of engineered features started\", \"Computation of engineered features completed\", \"Computation of raw features started\", \"Computation of raw features completed\", \"Best run model explanations completed\"]}]}, {\"name\": \"average_precision_score_weighted\", \"run_id\": \"AutoML_26986b18-0c16-4670-b009-817d60da1c62\", \"categories\": [0], \"series\": [{\"data\": [0.9997490646560745]}]}, {\"name\": \"recall_score_micro\", \"run_id\": \"AutoML_26986b18-0c16-4670-b009-817d60da1c62\", \"categories\": [0], \"series\": [{\"data\": [0.9996300000000001]}]}, {\"name\": \"log_loss\", \"run_id\": \"AutoML_26986b18-0c16-4670-b009-817d60da1c62\", \"categories\": [0], \"series\": [{\"data\": [0.002433855184522331]}]}, {\"name\": \"accuracy\", \"run_id\": \"AutoML_26986b18-0c16-4670-b009-817d60da1c62\", \"categories\": [0], \"series\": [{\"data\": [0.9996300000000001]}]}, {\"name\": \"norm_macro_recall\", \"run_id\": \"AutoML_26986b18-0c16-4670-b009-817d60da1c62\", \"categories\": [0], \"series\": [{\"data\": [0.8496921474215956]}]}, {\"name\": \"balanced_accuracy\", \"run_id\": \"AutoML_26986b18-0c16-4670-b009-817d60da1c62\", \"categories\": [0], \"series\": [{\"data\": [0.9248460737107977]}]}, {\"name\": \"AUC_weighted\", \"run_id\": \"AutoML_26986b18-0c16-4670-b009-817d60da1c62\", \"categories\": [0], \"series\": [{\"data\": [0.9805683794857473]}]}, {\"name\": \"average_precision_score_micro\", \"run_id\": \"AutoML_26986b18-0c16-4670-b009-817d60da1c62\", \"categories\": [0], \"series\": [{\"data\": [0.9999052265066091]}]}, {\"name\": \"recall_score_weighted\", \"run_id\": \"AutoML_26986b18-0c16-4670-b009-817d60da1c62\", \"categories\": [0], \"series\": [{\"data\": [0.9996300000000001]}]}, {\"name\": \"average_precision_score_macro\", \"run_id\": \"AutoML_26986b18-0c16-4670-b009-817d60da1c62\", \"categories\": [0], \"series\": [{\"data\": [0.9582537737584556]}]}, {\"name\": \"precision_score_macro\", \"run_id\": \"AutoML_26986b18-0c16-4670-b009-817d60da1c62\", \"categories\": [0], \"series\": [{\"data\": [0.9913832156078721]}]}, {\"name\": \"f1_score_macro\", \"run_id\": \"AutoML_26986b18-0c16-4670-b009-817d60da1c62\", \"categories\": [0], \"series\": [{\"data\": [0.9553603774116887]}]}, {\"name\": \"AUC_micro\", \"run_id\": \"AutoML_26986b18-0c16-4670-b009-817d60da1c62\", \"categories\": [0], \"series\": [{\"data\": [0.9999096325]}]}, {\"name\": \"f1_score_micro\", \"run_id\": \"AutoML_26986b18-0c16-4670-b009-817d60da1c62\", \"categories\": [0], \"series\": [{\"data\": [0.9996300000000001]}]}, {\"name\": \"weighted_accuracy\", \"run_id\": \"AutoML_26986b18-0c16-4670-b009-817d60da1c62\", \"categories\": [0], \"series\": [{\"data\": [0.9999691599229523]}]}, {\"name\": \"precision_score_micro\", \"run_id\": \"AutoML_26986b18-0c16-4670-b009-817d60da1c62\", \"categories\": [0], \"series\": [{\"data\": [0.9996300000000001]}]}, {\"name\": \"matthews_correlation\", \"run_id\": \"AutoML_26986b18-0c16-4670-b009-817d60da1c62\", \"categories\": [0], \"series\": [{\"data\": [0.9134813381732393]}]}, {\"name\": \"precision_score_weighted\", \"run_id\": \"AutoML_26986b18-0c16-4670-b009-817d60da1c62\", \"categories\": [0], \"series\": [{\"data\": [0.9996263037454721]}]}, {\"name\": \"recall_score_macro\", \"run_id\": \"AutoML_26986b18-0c16-4670-b009-817d60da1c62\", \"categories\": [0], \"series\": [{\"data\": [0.9248460737107977]}]}, {\"name\": \"AUC_macro\", \"run_id\": \"AutoML_26986b18-0c16-4670-b009-817d60da1c62\", \"categories\": [0], \"series\": [{\"data\": [0.9805703677277423]}]}, {\"name\": \"f1_score_weighted\", \"run_id\": \"AutoML_26986b18-0c16-4670-b009-817d60da1c62\", \"categories\": [0], \"series\": [{\"data\": [0.9996151987742914]}]}], \"run_logs\": \"\\nRun is completed.\", \"graph\": {}, \"widget_settings\": {\"childWidgetDisplay\": \"popup\", \"send_telemetry\": false, \"log_level\": \"INFO\", \"sdk_version\": \"1.20.0\"}, \"loading\": false}"
     },
     "metadata": {},
     "output_type": "display_data"
    }
   ],
   "source": [
    "RunDetails(remote_run).show()\n"
   ]
  },
  {
   "cell_type": "markdown",
   "metadata": {},
   "source": [
    "## Best Model\n",
    "\n",
    "TODO: In the cell below, get the best model from the automl experiments and display all the properties of the model.\n",
    "\n"
   ]
  },
  {
   "cell_type": "code",
   "execution_count": 13,
   "metadata": {},
   "outputs": [
    {
     "name": "stderr",
     "output_type": "stream",
     "text": [
      "WARNING:root:The version of the SDK does not match the version the model was trained on.\n",
      "WARNING:root:The consistency in the result may not be guaranteed.\n",
      "WARNING:root:Package:azureml-automl-core, training version:1.21.0, current version:1.20.0\n",
      "Package:azureml-automl-runtime, training version:1.21.0, current version:1.20.0\n",
      "Package:azureml-core, training version:1.21.0.post1, current version:1.20.0\n",
      "Package:azureml-dataprep, training version:2.8.2, current version:2.7.3\n",
      "Package:azureml-dataprep-native, training version:28.0.0, current version:27.0.0\n",
      "Package:azureml-dataprep-rslex, training version:1.6.0, current version:1.5.0\n",
      "Package:azureml-dataset-runtime, training version:1.21.0, current version:1.20.0\n",
      "Package:azureml-defaults, training version:1.21.0, current version:1.20.0\n",
      "Package:azureml-interpret, training version:1.21.0, current version:1.20.0\n",
      "Package:azureml-pipeline-core, training version:1.21.0, current version:1.20.0\n",
      "Package:azureml-telemetry, training version:1.21.0, current version:1.20.0\n",
      "Package:azureml-train-automl-client, training version:1.21.0, current version:1.20.0\n",
      "Package:azureml-train-automl-runtime, training version:1.21.0, current version:1.20.0\n",
      "WARNING:root:Please ensure the version of your local conda dependencies match the version on which your model was trained in order to properly retrieve your model.\n"
     ]
    }
   ],
   "source": [
    "best_run, fitted_model = remote_run.get_output()"
   ]
  },
  {
   "cell_type": "code",
   "execution_count": 17,
   "metadata": {},
   "outputs": [],
   "source": [
    "parameter_values = best_run.get_details()['runDefinition']['arguments']\n"
   ]
  },
  {
   "cell_type": "code",
   "execution_count": 18,
   "metadata": {
    "gather": {
     "logged": 1598431425670
    },
    "jupyter": {
     "outputs_hidden": false,
     "source_hidden": false
    },
    "nteract": {
     "transient": {
      "deleting": false
     }
    }
   },
   "outputs": [
    {
     "name": "stdout",
     "output_type": "stream",
     "text": [
      "Run(Experiment: Detection,\n",
      "Id: AutoML_26986b18-0c16-4670-b009-817d60da1c62_45,\n",
      "Type: azureml.scriptrun,\n",
      "Status: Completed)\n",
      "Pipeline(memory=None,\n",
      "         steps=[('datatransformer',\n",
      "                 DataTransformer(enable_dnn=None, enable_feature_sweeping=None,\n",
      "                                 feature_sweeping_config=None,\n",
      "                                 feature_sweeping_timeout=None,\n",
      "                                 featurization_config=None, force_text_dnn=None,\n",
      "                                 is_cross_validation=None,\n",
      "                                 is_onnx_compatible=None, logger=None,\n",
      "                                 observer=None, task=None, working_dir=None)),\n",
      "                ('prefittedsoftvotingclassifier',...\n",
      "                                                                                                reg_alpha=0.5789473684210527,\n",
      "                                                                                                reg_lambda=0.42105263157894735,\n",
      "                                                                                                silent=True,\n",
      "                                                                                                subsample=0.05,\n",
      "                                                                                                subsample_for_bin=200000,\n",
      "                                                                                                subsample_freq=0,\n",
      "                                                                                                verbose=-10))],\n",
      "                                                                     verbose=False))],\n",
      "                                               flatten_transform=None,\n",
      "                                               weights=[0.07142857142857142,\n",
      "                                                        0.07142857142857142,\n",
      "                                                        0.42857142857142855,\n",
      "                                                        0.14285714285714285,\n",
      "                                                        0.14285714285714285,\n",
      "                                                        0.07142857142857142,\n",
      "                                                        0.07142857142857142]))],\n",
      "         verbose=False)\n",
      "creditcard-fraud-detection-model\n"
     ]
    }
   ],
   "source": [
    "# Retrieve the best automl model.\n",
    "\n",
    "print(best_run)\n",
    "print(fitted_model)\n",
    "\n",
    "#Register the model\n",
    "description ='this model predicts whether a transaction is fraudulent or not'\n",
    "model_name='creditcard-fraud-detection-model'\n",
    "model_path='./'\n",
    "tags = None\n",
    "model = remote_run.register_model(model_name = model_name, description = description , tags = tags)\n",
    "print(remote_run.model_id)"
   ]
  },
  {
   "cell_type": "code",
   "execution_count": 20,
   "metadata": {},
   "outputs": [
    {
     "name": "stdout",
     "output_type": "stream",
     "text": [
      "Best Run Id:  AutoML_26986b18-0c16-4670-b009-817d60da1c62_45\n"
     ]
    }
   ],
   "source": [
    "print('Best Run Id: ', best_run.id)"
   ]
  },
  {
   "cell_type": "code",
   "execution_count": null,
   "metadata": {
    "gather": {
     "logged": 1598431426111
    },
    "jupyter": {
     "outputs_hidden": false,
     "source_hidden": false
    },
    "nteract": {
     "transient": {
      "deleting": false
     }
    }
   },
   "outputs": [],
   "source": [
    "#TODO: Save the best model"
   ]
  },
  {
   "cell_type": "markdown",
   "metadata": {},
   "source": [
    "## Model Deployment\n",
    "\n",
    "Remember you have to deploy only one of the two models you trained.. Perform the steps in the rest of this notebook only if you wish to deploy this model.\n",
    "\n",
    "TODO: In the cell below, register the model, create an inference config and deploy the model as a web service."
   ]
  },
  {
   "cell_type": "code",
   "execution_count": 21,
   "metadata": {
    "gather": {
     "logged": 1598431435189
    },
    "jupyter": {
     "outputs_hidden": false,
     "source_hidden": false
    },
    "nteract": {
     "transient": {
      "deleting": false
     }
    }
   },
   "outputs": [
    {
     "name": "stdout",
     "output_type": "stream",
     "text": [
      "Downloading from outputs/conda_env_v_1_0_0.yml to ./remote_model/conda_env_v_1_0_0.yml ...\n",
      "Downloading from outputs/env_dependencies.json to ./remote_model/env_dependencies.json ...\n",
      "Downloading from outputs/internal_cross_validated_models.pkl to ./remote_model/internal_cross_validated_models.pkl ...\n",
      "Downloading from outputs/model.pkl to ./remote_model/model.pkl ...\n",
      "Downloading from outputs/pipeline_graph.json to ./remote_model/pipeline_graph.json ...\n",
      "Downloading from outputs/scoring_file_v_1_0_0.py to ./remote_model/scoring_file_v_1_0_0.py ...\n"
     ]
    }
   ],
   "source": [
    "#Save the best model for the deployement\n",
    "import os\n",
    "os.makedirs('./remote_model', exist_ok=True)\n",
    "\n",
    "best_run.download_file('/outputs/model.pkl',os.path.join('./remote_model','best_remote_model.pkl'))\n",
    "\n",
    "for f in best_run.get_file_names():\n",
    "    if f.startswith('outputs'):\n",
    "        output_file_path = os.path.join('./remote_model', f.split('/')[-1])\n",
    "        print(f'Downloading from {f} to {output_file_path} ...')\n",
    "        best_run.download_file(name=f, output_file_path=output_file_path)"
   ]
  },
  {
   "cell_type": "code",
   "execution_count": 23,
   "metadata": {},
   "outputs": [],
   "source": [
    "#Register the best model for the deployement\n",
    "\n",
    "model=best_run.register_model(\n",
    "            model_name = 'creditcard-fraud-detection-model', \n",
    "            model_path = './outputs/model.pkl',\n",
    "            model_framework=Model.Framework.SCIKITLEARN,\n",
    "            description='The model detects whether a card transaction is fraudulent or not'\n",
    ")"
   ]
  },
  {
   "cell_type": "code",
   "execution_count": 26,
   "metadata": {},
   "outputs": [],
   "source": [
    "# Download the conda environment file and define the environement\n",
    "best_run.download_file('outputs/conda_env_v_1_0_0.yml', 'conda_env.yml')\n",
    "myenv = Environment.from_conda_specification(name = 'myenv',\n",
    "                                             file_path = 'conda_env.yml')"
   ]
  },
  {
   "cell_type": "code",
   "execution_count": 28,
   "metadata": {},
   "outputs": [],
   "source": [
    "# download the scoring file produced by AutoML\n",
    "best_run.download_file('outputs/scoring_file_v_1_0_0.py', 'score_remote_run.py')\n",
    "\n",
    "# set inference config\n",
    "inference_config = InferenceConfig(entry_script= 'score_remote_run.py',\n",
    "                                    environment=myenv)"
   ]
  },
  {
   "cell_type": "code",
   "execution_count": 31,
   "metadata": {},
   "outputs": [],
   "source": [
    "# set Aci Webservice config\n",
    "aci_config = AciWebservice.deploy_configuration(cpu_cores=1, memory_gb=1, auth_enabled=False)"
   ]
  },
  {
   "cell_type": "code",
   "execution_count": 32,
   "metadata": {},
   "outputs": [],
   "source": [
    "# deploye the model as a web service\n",
    "service_name =  'automl-prediction'\n",
    "service = Model.deploy(workspace=ws, \n",
    "                       name= service_name,\n",
    "                       models=[model], \n",
    "                       inference_config=inference_config,\n",
    "                       deployment_config=aci_config,\n",
    "                       overwrite=True)"
   ]
  },
  {
   "cell_type": "markdown",
   "metadata": {
    "collapsed": true,
    "gather": {
     "logged": 1598431657736
    },
    "jupyter": {
     "outputs_hidden": false,
     "source_hidden": false
    },
    "nteract": {
     "transient": {
      "deleting": false
     }
    }
   },
   "source": [
    "TODO: In the cell below, send a request to the web service you deployed to test it."
   ]
  },
  {
   "cell_type": "code",
   "execution_count": 34,
   "metadata": {},
   "outputs": [
    {
     "data": {
      "text/plain": [
       "AciWebservice(workspace=Workspace.create(name='quick-starts-ws-138190', subscription_id='976ee174-3882-4721-b90a-b5fef6b72f24', resource_group='aml-quickstarts-138190'), name=automl-prediction, image_id=None, compute_type=None, state=ACI, scoring_uri=Transitioning, tags=None, properties={}, created_by={})"
      ]
     },
     "execution_count": 34,
     "metadata": {},
     "output_type": "execute_result"
    }
   ],
   "source": [
    "service"
   ]
  },
  {
   "cell_type": "code",
   "execution_count": 35,
   "metadata": {
    "scrolled": true
   },
   "outputs": [
    {
     "name": "stdout",
     "output_type": "stream",
     "text": [
      "Tips: You can try get_logs(): https://aka.ms/debugimage#dockerlog or local deployment: https://aka.ms/debugimage#debug-locally to debug if deployment takes longer than 10 minutes.\n",
      "Running..........................................................................................................................................................\n",
      "Succeeded\n",
      "ACI service creation operation finished, operation \"Succeeded\"\n",
      "Service state:\n",
      "Healthy\n",
      "Scoring URI:\n",
      "http://2beb2e57-4e0a-4beb-889f-4da2184753a5.southcentralus.azurecontainer.io/score\n",
      "Swagger URI:\n",
      "http://2beb2e57-4e0a-4beb-889f-4da2184753a5.southcentralus.azurecontainer.io/swagger.json\n"
     ]
    }
   ],
   "source": [
    "# wait for deployment to finish and display the scoring uri and swagger uri\n",
    "service.wait_for_deployment(show_output=True)\n",
    "\n",
    "print('Service state:')\n",
    "print(service.state)\n",
    "\n",
    "print('Scoring URI:')\n",
    "print(service.scoring_uri)\n",
    "\n",
    "print('Swagger URI:')\n",
    "print(service.swagger_uri)"
   ]
  },
  {
   "cell_type": "code",
   "execution_count": null,
   "metadata": {},
   "outputs": [],
   "source": []
  },
  {
   "cell_type": "code",
   "execution_count": 42,
   "metadata": {},
   "outputs": [
    {
     "name": "stdout",
     "output_type": "stream",
     "text": [
      "\"{\\\"result\\\": [0, 0]}\"\n"
     ]
    }
   ],
   "source": [
    "import requests\n",
    "import json\n",
    "\n",
    "# URL for the web service\n",
    "scoring_uri = 'http://2beb2e57-4e0a-4beb-889f-4da2184753a5.southcentralus.azurecontainer.io/score'\n",
    "\n",
    "\n",
    "data = {\"data\":\n",
    "        [\n",
    "            [\n",
    "                0.0,\n",
    "                1.359807,\n",
    "                -0.072781,\n",
    "                2.536347,\n",
    "                1.378155,\n",
    "                -0.338321,\n",
    "                0.462388,\n",
    "                0.239599,\n",
    "                0.098698,\n",
    "                0.363787,\n",
    "                0.090794172,\n",
    "                -0.551599533,\n",
    "                -0.617800856,\n",
    "                -0.991389847,\n",
    "                -0.311169354,\n",
    "                1.468176972,\n",
    "                -0.470400525,\n",
    "                0.207971242,\n",
    "                0.02579058,\n",
    "                0.40399296,\n",
    "                0.251412098,\n",
    "                -0.018306778,\n",
    "                0.277837576,\n",
    "                -0.11047391,\n",
    "                0.066928075,\n",
    "                0.128539358,\n",
    "                -0.189114844,\n",
    "                0.133558377,\n",
    "                -0.021053053,\n",
    "                149.62\n",
    "            ],\n",
    "            [\n",
    "                0.0,\n",
    "                1.191857111,\n",
    "                0.266150712,\n",
    "                0.166480113,\n",
    "                0.448154078,\n",
    "                0.060017649,\n",
    "                -0.082360809,\n",
    "                -0.078802983,\n",
    "                0.085101655,\n",
    "                -0.255425128,\n",
    "                -0.166974414,\n",
    "                1.612726661,\n",
    "                1.065235311,\n",
    "                0.489095016,\n",
    "                -0.143772296,\n",
    "                0.635558093,\n",
    "                0.463917041,\n",
    "                -0.114804663,\n",
    "                -0.18336127,\n",
    "                -0.145783041,\n",
    "                -0.069083135,\n",
    "                -0.225775248,\n",
    "                -0.638671953,\n",
    "                0.101288021,\n",
    "                -0.339846476,\n",
    "                0.167170404,\n",
    "                0.125894532,\n",
    "                -0.008983099,\n",
    "                0.014724169,\n",
    "                2.69\n",
    "            ]\n",
    "        ]\n",
    "        }\n",
    "        \n",
    "# Convert to JSON string\n",
    "input_data = json.dumps(data)\n",
    "\n",
    "# Set the content type\n",
    "headers = {'Content-Type': 'application/json'}\n",
    "# If authentication is enabled, set the authorization header\n",
    "#headers['Authorization'] = f'Bearer {key}'\n",
    "\n",
    "# Make the request and display the response\n",
    "resp = requests.post(scoring_uri, input_data, headers=headers)\n",
    "print(resp.text)"
   ]
  },
  {
   "cell_type": "markdown",
   "metadata": {
    "collapsed": true,
    "gather": {
     "logged": 1598432765711
    },
    "jupyter": {
     "outputs_hidden": false,
     "source_hidden": false
    },
    "nteract": {
     "transient": {
      "deleting": false
     }
    }
   },
   "source": [
    "TODO: In the cell below, print the logs of the web service and delete the service"
   ]
  },
  {
   "cell_type": "code",
   "execution_count": 43,
   "metadata": {},
   "outputs": [
    {
     "name": "stdout",
     "output_type": "stream",
     "text": [
      "2021-02-08T23:01:24,088599066+00:00 - iot-server/run \n",
      "2021-02-08T23:01:24,090402808+00:00 - gunicorn/run \n",
      "2021-02-08T23:01:24,090566212+00:00 - rsyslog/run \n",
      "2021-02-08T23:01:24,092109648+00:00 - nginx/run \n",
      "/usr/sbin/nginx: /azureml-envs/azureml_7785023fceb74e4facc1b1a577b1faf9/lib/libcrypto.so.1.0.0: no version information available (required by /usr/sbin/nginx)\n",
      "/usr/sbin/nginx: /azureml-envs/azureml_7785023fceb74e4facc1b1a577b1faf9/lib/libcrypto.so.1.0.0: no version information available (required by /usr/sbin/nginx)\n",
      "/usr/sbin/nginx: /azureml-envs/azureml_7785023fceb74e4facc1b1a577b1faf9/lib/libssl.so.1.0.0: no version information available (required by /usr/sbin/nginx)\n",
      "/usr/sbin/nginx: /azureml-envs/azureml_7785023fceb74e4facc1b1a577b1faf9/lib/libssl.so.1.0.0: no version information available (required by /usr/sbin/nginx)\n",
      "/usr/sbin/nginx: /azureml-envs/azureml_7785023fceb74e4facc1b1a577b1faf9/lib/libssl.so.1.0.0: no version information available (required by /usr/sbin/nginx)\n",
      "rsyslogd: /azureml-envs/azureml_7785023fceb74e4facc1b1a577b1faf9/lib/libuuid.so.1: no version information available (required by rsyslogd)\n",
      "EdgeHubConnectionString and IOTEDGE_IOTHUBHOSTNAME are not set. Exiting...\n",
      "2021-02-08T23:01:24,305530145+00:00 - iot-server/finish 1 0\n",
      "2021-02-08T23:01:24,308777521+00:00 - Exit code 1 is normal. Not restarting iot-server.\n",
      "Starting gunicorn 19.9.0\n",
      "Listening at: http://127.0.0.1:31311 (11)\n",
      "Using worker: sync\n",
      "worker timeout is set to 300\n",
      "Booting worker with pid: 42\n",
      "SPARK_HOME not set. Skipping PySpark Initialization.\n",
      "Generating new fontManager, this may take some time...\n",
      "Initializing logger\n",
      "2021-02-08 23:01:25,847 | root | INFO | Starting up app insights client\n",
      "2021-02-08 23:01:25,847 | root | INFO | Starting up request id generator\n",
      "2021-02-08 23:01:25,848 | root | INFO | Starting up app insight hooks\n",
      "2021-02-08 23:01:25,848 | root | INFO | Invoking user's init function\n",
      "2021-02-08 23:01:28,310 | root | INFO | Users's init has completed successfully\n",
      "2021-02-08 23:01:28,315 | root | INFO | Skipping middleware: dbg_model_info as it's not enabled.\n",
      "2021-02-08 23:01:28,316 | root | INFO | Skipping middleware: dbg_resource_usage as it's not enabled.\n",
      "2021-02-08 23:01:28,318 | root | INFO | Scoring timeout is found from os.environ: 60000 ms\n",
      "2021-02-08 23:01:32,891 | root | INFO | 200\n",
      "127.0.0.1 - - [08/Feb/2021:23:01:32 +0000] \"GET /swagger.json HTTP/1.0\" 200 3730 \"-\" \"Go-http-client/1.1\"\n",
      "2021-02-08 23:01:33,345 | root | INFO | 200\n",
      "127.0.0.1 - - [08/Feb/2021:23:01:33 +0000] \"GET /swagger.json HTTP/1.0\" 200 3730 \"-\" \"Go-http-client/1.1\"\n",
      "2021-02-08 23:02:02,919 | root | INFO | Validation Request Content-Type\n",
      "2021-02-08 23:02:02,919 | root | INFO | 415\n",
      "127.0.0.1 - - [08/Feb/2021:23:02:02 +0000] \"POST /score HTTP/1.0\" 415 58 \"-\" \"python-requests/2.25.1\"\n",
      "2021-02-08 23:03:51,137 | root | INFO | Validation Request Content-Type\n",
      "2021-02-08 23:03:51,137 | root | INFO | 415\n",
      "127.0.0.1 - - [08/Feb/2021:23:03:51 +0000] \"POST /score HTTP/1.0\" 415 58 \"-\" \"python-requests/2.25.1\"\n",
      "2021-02-08 23:07:11,518 | root | INFO | Validation Request Content-Type\n",
      "2021-02-08 23:07:11,518 | root | INFO | 415\n",
      "127.0.0.1 - - [08/Feb/2021:23:07:11 +0000] \"POST /score HTTP/1.0\" 415 58 \"-\" \"python-requests/2.25.1\"\n",
      "2021-02-08 23:28:30,490 | root | INFO | Validation Request Content-Type\n",
      "2021-02-08 23:28:30,491 | root | INFO | Scoring Timer is set to 60.0 seconds\n",
      "2021-02-08 23:28:30,603 | root | INFO | 200\n",
      "127.0.0.1 - - [08/Feb/2021:23:28:30 +0000] \"POST /score HTTP/1.0\" 200 22 \"-\" \"python-requests/2.25.1\"\n",
      "2021-02-08 23:30:32,854 | root | INFO | Validation Request Content-Type\n",
      "2021-02-08 23:30:32,854 | root | INFO | Scoring Timer is set to 60.0 seconds\n",
      "2021-02-08 23:30:32,992 | root | INFO | 200\n",
      "127.0.0.1 - - [08/Feb/2021:23:30:32 +0000] \"POST /score HTTP/1.0\" 200 22 \"-\" \"python-requests/2.25.1\"\n",
      "\n"
     ]
    }
   ],
   "source": [
    "print(service.get_logs())"
   ]
  },
  {
   "cell_type": "code",
   "execution_count": 44,
   "metadata": {
    "jupyter": {
     "outputs_hidden": false,
     "source_hidden": false
    },
    "nteract": {
     "transient": {
      "deleting": false
     }
    }
   },
   "outputs": [
    {
     "name": "stdout",
     "output_type": "stream",
     "text": [
      "Current provisioning state of AmlCompute is \"Deleting\"\n",
      "\n"
     ]
    }
   ],
   "source": [
    "\n",
    "service.delete()\n",
    "cpu_cluster.delete()"
   ]
  }
 ],
 "metadata": {
  "kernel_info": {
   "name": "python3-azureml"
  },
  "kernelspec": {
   "display_name": "Python 3",
   "language": "python",
   "name": "python3"
  },
  "language_info": {
   "codemirror_mode": {
    "name": "ipython",
    "version": 3
   },
   "file_extension": ".py",
   "mimetype": "text/x-python",
   "name": "python",
   "nbconvert_exporter": "python",
   "pygments_lexer": "ipython3",
   "version": "3.6.9"
  },
  "nteract": {
   "version": "nteract-front-end@1.0.0"
  }
 },
 "nbformat": 4,
 "nbformat_minor": 2
}
