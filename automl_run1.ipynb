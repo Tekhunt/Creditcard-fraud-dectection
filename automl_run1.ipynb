{
 "cells": [
  {
   "cell_type": "markdown",
   "metadata": {},
   "source": [
    "# Automated ML\n",
    "\n",
    "TODO: Import Dependencies. In the cell below, import all the dependencies that you will need to complete the project."
   ]
  },
  {
   "cell_type": "code",
   "execution_count": 3,
   "metadata": {},
   "outputs": [],
   "source": [
    "from azureml.core import Workspace, Experiment\n",
    "from azureml.core.compute import ComputeTarget, AmlCompute\n",
    "from azureml.core.compute_target import ComputeTargetException\n",
    "from azureml.data.dataset_factory import TabularDatasetFactory\n",
    "import pandas as pd\n",
    "from azureml.train.automl import AutoMLConfig\n",
    "from azureml.widgets import RunDetails\n",
    "from azureml.core.model import Model\n",
    "from azureml.core.model import InferenceConfig\n",
    "from azureml.core import Workspace, Environment\n",
    "from azureml.core import Model\n",
    "from azureml.core.webservice import AciWebservice, Webservice\n",
    "import json\n",
    "import joblib"
   ]
  },
  {
   "cell_type": "code",
   "execution_count": 4,
   "metadata": {},
   "outputs": [
    {
     "name": "stdout",
     "output_type": "stream",
     "text": [
      "SDK version: 1.20.0\n"
     ]
    }
   ],
   "source": [
    "# Check core SDK version number\n",
    "print(\"SDK version:\", azureml.core.VERSION)"
   ]
  },
  {
   "cell_type": "code",
   "execution_count": 5,
   "metadata": {},
   "outputs": [
    {
     "name": "stdout",
     "output_type": "stream",
     "text": [
      "Workspace name: quick-starts-ws-137783\n",
      "Azure region: southcentralus\n",
      "Subscription id: f5091c60-1c3c-430f-8d81-d802f6bf2414\n",
      "Resource group: aml-quickstarts-137783\n"
     ]
    }
   ],
   "source": [
    "ws = Workspace.from_config()\n",
    "experiment = Experiment(workspace=ws, name=\"Detection\")\n",
    "\n",
    "print('Workspace name: ' + ws.name, \n",
    "      'Azure region: ' + ws.location, \n",
    "      'Subscription id: ' + ws.subscription_id, \n",
    "      'Resource group: ' + ws.resource_group, sep = '\\n')\n",
    "\n",
    "run = experiment.start_logging()"
   ]
  },
  {
   "cell_type": "code",
   "execution_count": 6,
   "metadata": {},
   "outputs": [
    {
     "name": "stdout",
     "output_type": "stream",
     "text": [
      "Creating\n",
      "Succeeded....................\n",
      "AmlCompute wait for completion finished\n",
      "\n",
      "Wait timeout has been reached\n",
      "Current provisioning state of AmlCompute is \"Succeeded\" and current node count is \"0\"\n"
     ]
    }
   ],
   "source": [
    "# TODO: Create compute cluster\n",
    "\n",
    "# Choose a name for your CPU cluster\n",
    "cpu_cluster_name = \"auto-ml-cluster\"\n",
    "\n",
    "# Verify that cluster does not exist already\n",
    "try:\n",
    "    cpu_cluster = ComputeTarget(workspace=ws, name=cpu_cluster_name)\n",
    "    print('Found existing cluster, use it.')\n",
    "except ComputeTargetException:\n",
    "    compute_config = AmlCompute.provisioning_configuration(vm_size='STANDARD_DS12_V2',\n",
    "                                                           max_nodes=4)\n",
    "    cpu_cluster = ComputeTarget.create(ws, cpu_cluster_name, compute_config)\n",
    "\n",
    "cpu_cluster.wait_for_completion(show_output=True, min_node_count = 1, timeout_in_minutes = 2)\n"
   ]
  },
  {
   "cell_type": "markdown",
   "metadata": {},
   "source": [
    "## Dataset\n",
    "\n",
    "### Overview\n",
    "The original dataset is in Kaggle Datasets. The original data is licensed by Open Database License (ODbL) 1.0.Open Database License (ODbL) 1.0.\n",
    "\n",
    "This data is about fraud detection in credit card transactions. The data was made by credit cards in September 2013 by European cardholders. The dataset is highly unbalanced, the positive class which depicts fraudulent transactions (frauds) account for 0.17% of all transactions.\n",
    "\n",
    "It contains only numerical input variables which are the result of a PCA transformation. Unfortunately, due to confidentiality issues, we do not have the original features and more background information about the data. Features V1, V2, ... V28 are the principal components obtained with Principal component analysis (PCA), the only features which have not been transformed with PCA are 'Time' and 'Amount'. Feature 'Time' contains the seconds elapsed between each transaction and the first transaction in the dataset. The feature 'Amount' is the transaction Amount, this feature can be used for example-dependant cost-senstive learning. Feature 'Class' is the response variable and it takes value 1 in case of fraud and 0 otherwise\n",
    "\n",
    "\n",
    "This project aims to detect potential fraud cases is credit card transactions and the task here is to differentiate between them. My ultimate intent is to tackle this situation by building classification models to classify and distinguish fraud transactions."
   ]
  },
  {
   "cell_type": "code",
   "execution_count": 7,
   "metadata": {},
   "outputs": [
    {
     "data": {
      "text/html": [
       "<div>\n",
       "<style scoped>\n",
       "    .dataframe tbody tr th:only-of-type {\n",
       "        vertical-align: middle;\n",
       "    }\n",
       "\n",
       "    .dataframe tbody tr th {\n",
       "        vertical-align: top;\n",
       "    }\n",
       "\n",
       "    .dataframe thead th {\n",
       "        text-align: right;\n",
       "    }\n",
       "</style>\n",
       "<table border=\"1\" class=\"dataframe\">\n",
       "  <thead>\n",
       "    <tr style=\"text-align: right;\">\n",
       "      <th></th>\n",
       "      <th>Time</th>\n",
       "      <th>V1</th>\n",
       "      <th>V2</th>\n",
       "      <th>V3</th>\n",
       "      <th>V4</th>\n",
       "      <th>V5</th>\n",
       "      <th>V6</th>\n",
       "      <th>V7</th>\n",
       "      <th>V8</th>\n",
       "      <th>V9</th>\n",
       "      <th>...</th>\n",
       "      <th>V21</th>\n",
       "      <th>V22</th>\n",
       "      <th>V23</th>\n",
       "      <th>V24</th>\n",
       "      <th>V25</th>\n",
       "      <th>V26</th>\n",
       "      <th>V27</th>\n",
       "      <th>V28</th>\n",
       "      <th>Amount</th>\n",
       "      <th>Class</th>\n",
       "    </tr>\n",
       "  </thead>\n",
       "  <tbody>\n",
       "    <tr>\n",
       "      <th>0</th>\n",
       "      <td>0.0</td>\n",
       "      <td>-1.359807</td>\n",
       "      <td>-0.072781</td>\n",
       "      <td>2.536347</td>\n",
       "      <td>1.378155</td>\n",
       "      <td>-0.338321</td>\n",
       "      <td>0.462388</td>\n",
       "      <td>0.239599</td>\n",
       "      <td>0.098698</td>\n",
       "      <td>0.363787</td>\n",
       "      <td>...</td>\n",
       "      <td>-0.018307</td>\n",
       "      <td>0.277838</td>\n",
       "      <td>-0.110474</td>\n",
       "      <td>0.066928</td>\n",
       "      <td>0.128539</td>\n",
       "      <td>-0.189115</td>\n",
       "      <td>0.133558</td>\n",
       "      <td>-0.021053</td>\n",
       "      <td>149.62</td>\n",
       "      <td>0</td>\n",
       "    </tr>\n",
       "    <tr>\n",
       "      <th>1</th>\n",
       "      <td>0.0</td>\n",
       "      <td>1.191857</td>\n",
       "      <td>0.266151</td>\n",
       "      <td>0.166480</td>\n",
       "      <td>0.448154</td>\n",
       "      <td>0.060018</td>\n",
       "      <td>-0.082361</td>\n",
       "      <td>-0.078803</td>\n",
       "      <td>0.085102</td>\n",
       "      <td>-0.255425</td>\n",
       "      <td>...</td>\n",
       "      <td>-0.225775</td>\n",
       "      <td>-0.638672</td>\n",
       "      <td>0.101288</td>\n",
       "      <td>-0.339846</td>\n",
       "      <td>0.167170</td>\n",
       "      <td>0.125895</td>\n",
       "      <td>-0.008983</td>\n",
       "      <td>0.014724</td>\n",
       "      <td>2.69</td>\n",
       "      <td>0</td>\n",
       "    </tr>\n",
       "    <tr>\n",
       "      <th>2</th>\n",
       "      <td>1.0</td>\n",
       "      <td>-1.358354</td>\n",
       "      <td>-1.340163</td>\n",
       "      <td>1.773209</td>\n",
       "      <td>0.379780</td>\n",
       "      <td>-0.503198</td>\n",
       "      <td>1.800499</td>\n",
       "      <td>0.791461</td>\n",
       "      <td>0.247676</td>\n",
       "      <td>-1.514654</td>\n",
       "      <td>...</td>\n",
       "      <td>0.247998</td>\n",
       "      <td>0.771679</td>\n",
       "      <td>0.909412</td>\n",
       "      <td>-0.689281</td>\n",
       "      <td>-0.327642</td>\n",
       "      <td>-0.139097</td>\n",
       "      <td>-0.055353</td>\n",
       "      <td>-0.059752</td>\n",
       "      <td>378.66</td>\n",
       "      <td>0</td>\n",
       "    </tr>\n",
       "    <tr>\n",
       "      <th>3</th>\n",
       "      <td>1.0</td>\n",
       "      <td>-0.966272</td>\n",
       "      <td>-0.185226</td>\n",
       "      <td>1.792993</td>\n",
       "      <td>-0.863291</td>\n",
       "      <td>-0.010309</td>\n",
       "      <td>1.247203</td>\n",
       "      <td>0.237609</td>\n",
       "      <td>0.377436</td>\n",
       "      <td>-1.387024</td>\n",
       "      <td>...</td>\n",
       "      <td>-0.108300</td>\n",
       "      <td>0.005274</td>\n",
       "      <td>-0.190321</td>\n",
       "      <td>-1.175575</td>\n",
       "      <td>0.647376</td>\n",
       "      <td>-0.221929</td>\n",
       "      <td>0.062723</td>\n",
       "      <td>0.061458</td>\n",
       "      <td>123.50</td>\n",
       "      <td>0</td>\n",
       "    </tr>\n",
       "    <tr>\n",
       "      <th>4</th>\n",
       "      <td>2.0</td>\n",
       "      <td>-1.158233</td>\n",
       "      <td>0.877737</td>\n",
       "      <td>1.548718</td>\n",
       "      <td>0.403034</td>\n",
       "      <td>-0.407193</td>\n",
       "      <td>0.095921</td>\n",
       "      <td>0.592941</td>\n",
       "      <td>-0.270533</td>\n",
       "      <td>0.817739</td>\n",
       "      <td>...</td>\n",
       "      <td>-0.009431</td>\n",
       "      <td>0.798278</td>\n",
       "      <td>-0.137458</td>\n",
       "      <td>0.141267</td>\n",
       "      <td>-0.206010</td>\n",
       "      <td>0.502292</td>\n",
       "      <td>0.219422</td>\n",
       "      <td>0.215153</td>\n",
       "      <td>69.99</td>\n",
       "      <td>0</td>\n",
       "    </tr>\n",
       "  </tbody>\n",
       "</table>\n",
       "<p>5 rows × 31 columns</p>\n",
       "</div>"
      ],
      "text/plain": [
       "   Time        V1        V2        V3        V4        V5        V6        V7  \\\n",
       "0   0.0 -1.359807 -0.072781  2.536347  1.378155 -0.338321  0.462388  0.239599   \n",
       "1   0.0  1.191857  0.266151  0.166480  0.448154  0.060018 -0.082361 -0.078803   \n",
       "2   1.0 -1.358354 -1.340163  1.773209  0.379780 -0.503198  1.800499  0.791461   \n",
       "3   1.0 -0.966272 -0.185226  1.792993 -0.863291 -0.010309  1.247203  0.237609   \n",
       "4   2.0 -1.158233  0.877737  1.548718  0.403034 -0.407193  0.095921  0.592941   \n",
       "\n",
       "         V8        V9  ...       V21       V22       V23       V24       V25  \\\n",
       "0  0.098698  0.363787  ... -0.018307  0.277838 -0.110474  0.066928  0.128539   \n",
       "1  0.085102 -0.255425  ... -0.225775 -0.638672  0.101288 -0.339846  0.167170   \n",
       "2  0.247676 -1.514654  ...  0.247998  0.771679  0.909412 -0.689281 -0.327642   \n",
       "3  0.377436 -1.387024  ... -0.108300  0.005274 -0.190321 -1.175575  0.647376   \n",
       "4 -0.270533  0.817739  ... -0.009431  0.798278 -0.137458  0.141267 -0.206010   \n",
       "\n",
       "        V26       V27       V28  Amount  Class  \n",
       "0 -0.189115  0.133558 -0.021053  149.62      0  \n",
       "1  0.125895 -0.008983  0.014724    2.69      0  \n",
       "2 -0.139097 -0.055353 -0.059752  378.66      0  \n",
       "3 -0.221929  0.062723  0.061458  123.50      0  \n",
       "4  0.502292  0.219422  0.215153   69.99      0  \n",
       "\n",
       "[5 rows x 31 columns]"
      ]
     },
     "execution_count": 7,
     "metadata": {},
     "output_type": "execute_result"
    }
   ],
   "source": [
    "path = 'https://media.githubusercontent.com/media/Tekhunt/Creditcard-fraud-dectection/master/fraud-data.csv'\n",
    "data = TabularDatasetFactory.from_delimited_files(path = path)\n",
    "data.to_pandas_dataframe().head()"
   ]
  },
  {
   "cell_type": "markdown",
   "metadata": {},
   "source": [
    "## AutoML Settings and Configuration Explained\n",
    "\n",
    "### n_cross-validation\n",
    "How many cross validations to perform when user validation data is not specified.\n",
    "\n",
    "###enable_early_stopping\n",
    "Whether to enable early termination if the score is not improving in the short term. The default is False but it is set to True here.\n",
    "\n",
    "### experiment_timeout_minutess\n",
    "Maximum amount of time in minutes that all iterations combined can take before the experiment terminates. It is set to 15 minutes here.\n",
    "\n",
    "### verbosity\n",
    "This is the verbosity level for writing to the log file and it is set to logging.INFO\n",
    "\n",
    "### training_data\n",
    "This can be any of these: DataFrame or Dataset or DatasetDefinition or TabularDataset The training data to be used within the experiment. It should contain both training features and a label column (optionally a sample weights column). If training_data is specified, then the label_column_name parameter must also be specified.\n",
    "\n",
    "### label_column_name\n",
    "This is the name of the label column. If the input data is from a pandas.DataFrame which doesn't have column names, column indices can be used instead, expressed as integers. Here we have column headers and our arget column is the Class column which we aim to predict in the project.\n",
    "\n",
    "### max_cores_per_iteration\n",
    "The maximum number of threads to use for a given training iteration. Acceptable values: Equal to -1, which means to use all the possible cores per iteration per child-run.\n",
    "\n",
    "### max_concurrent_iterations\n",
    "Represents the maximum number of iterations that would be executed in parallel. The value used here is 4\n",
    "\n",
    "### compute_target\n",
    "The Azure Machine Learning compute target to run the Automated Machine Learning experiment on.\n",
    "\n",
    "### primary_metric\n",
    "The metric that Automated Machine Learning will optimize for model selection. Accuracy is the primary_metric here.\n",
    "\n",
    "### task\n",
    "The type of task to run. Values the here is 'classification'\n"
   ]
  },
  {
   "cell_type": "code",
   "execution_count": 9,
   "metadata": {
    "gather": {
     "logged": 1598429217746
    },
    "jupyter": {
     "outputs_hidden": false,
     "source_hidden": false
    },
    "nteract": {
     "transient": {
      "deleting": false
     }
    }
   },
   "outputs": [],
   "source": [
    "# TODO: Put your automl settings here\n",
    "automl_settings = {\n",
    "       \"n_cross_validations\": 3,\n",
    "       \"enable_early_stopping\": True,\n",
    "       \"experiment_timeout_minutes\" :15,\n",
    "       \"max_concurrent_iterations\": 4,\n",
    "       \"max_cores_per_iteration\": -1,\n",
    "       \"verbosity\": logging.INFO,\n",
    "   }\n",
    "\n",
    "# TODO: Puyour experiment name here\n",
    "\n",
    "\n",
    "automl_config = AutoMLConfig(\n",
    "    compute_target=cpu_cluster,\n",
    "    task='classification',\n",
    "    primary_metric= 'accuracy',\n",
    "    training_data= data,\n",
    "    label_column_name= 'Class',\n",
    "    n_cross_validations=5)"
   ]
  },
  {
   "cell_type": "code",
   "execution_count": 10,
   "metadata": {
    "gather": {
     "logged": 1598431107951
    },
    "jupyter": {
     "outputs_hidden": false,
     "source_hidden": false
    },
    "nteract": {
     "transient": {
      "deleting": false
     }
    }
   },
   "outputs": [
    {
     "name": "stdout",
     "output_type": "stream",
     "text": [
      "Running on remote.\n",
      "No run_configuration provided, running on auto-ml-cluster with default configuration\n",
      "Running on remote compute: auto-ml-cluster\n",
      "Parent Run ID: AutoML_d12b6002-f654-415b-af0c-47d7b7c2d7e8\n",
      "\n",
      "Current status: DatasetEvaluation. Gathering dataset statistics.\n",
      "Current status: FeaturesGeneration. Generating features for the dataset.\n",
      "Current status: DatasetCrossValidationSplit. Generating individually featurized CV splits.\n",
      "Current status: ModelSelection. Beginning model selection.\n",
      "\n",
      "****************************************************************************************************\n",
      "DATA GUARDRAILS: \n",
      "\n",
      "TYPE:         Class balancing detection\n",
      "STATUS:       ALERTED\n",
      "DESCRIPTION:  To decrease model bias, please cancel the current run and fix balancing problem.\n",
      "              Learn more about imbalanced data: https://aka.ms/AutomatedMLImbalancedData\n",
      "DETAILS:      Imbalanced data can lead to a falsely perceived positive effect of a model's accuracy because the input data has bias towards one class.\n",
      "+---------------------------------+---------------------------------+--------------------------------------+\n",
      "|Size of the smallest class       |Name/Label of the smallest class |Number of samples in the training data|\n",
      "+=================================+=================================+======================================+\n",
      "|223                              |1                                |100000                                |\n",
      "+---------------------------------+---------------------------------+--------------------------------------+\n",
      "\n",
      "****************************************************************************************************\n",
      "\n",
      "TYPE:         Missing feature values imputation\n",
      "STATUS:       PASSED\n",
      "DESCRIPTION:  No feature missing values were detected in the training data.\n",
      "              Learn more about missing value imputation: https://aka.ms/AutomatedMLFeaturization\n",
      "\n",
      "****************************************************************************************************\n",
      "\n",
      "TYPE:         High cardinality feature detection\n",
      "STATUS:       PASSED\n",
      "DESCRIPTION:  Your inputs were analyzed, and no high cardinality features were detected.\n",
      "              Learn more about high cardinality feature handling: https://aka.ms/AutomatedMLFeaturization\n",
      "\n",
      "****************************************************************************************************\n",
      "\n",
      "****************************************************************************************************\n",
      "ITERATION: The iteration being evaluated.\n",
      "PIPELINE: A summary description of the pipeline being evaluated.\n",
      "DURATION: Time taken for the current iteration.\n",
      "METRIC: The result of computing score on the fitted pipeline.\n",
      "BEST: The best observed score thus far.\n",
      "****************************************************************************************************\n",
      "\n",
      " ITERATION   PIPELINE                                       DURATION      METRIC      BEST\n",
      "         0   MaxAbsScaler LightGBM                          0:01:16       0.9949    0.9949\n",
      "         1   MaxAbsScaler XGBoostClassifier                 0:02:39       0.9995    0.9995\n",
      "         2   MinMaxScaler RandomForest                      0:01:22       0.9978    0.9995\n",
      "         3   MinMaxScaler RandomForest                      0:01:01       0.9978    0.9995\n",
      "         4   MinMaxScaler RandomForest                      0:01:28       0.9898    0.9995\n",
      "         5   StandardScalerWrapper LightGBM                 0:01:29       0.9995    0.9995\n",
      "         6   SparseNormalizer GradientBoosting              0:01:18       0.9985    0.9995\n",
      "         7   RobustScaler ExtremeRandomTrees                0:01:12       0.9978    0.9995\n",
      "         8   SparseNormalizer XGBoostClassifier             0:01:37       0.9994    0.9995\n",
      "         9   MinMaxScaler LightGBM                          0:00:59       0.9978    0.9995\n",
      "        10   RobustScaler LightGBM                          0:00:58       0.9978    0.9995\n",
      "        11   MinMaxScaler LogisticRegression                0:01:24       0.9987    0.9995\n",
      "        12   SparseNormalizer XGBoostClassifier             0:07:15       0.9995    0.9995\n",
      "        13   SparseNormalizer LightGBM                      0:01:28       0.9994    0.9995\n",
      "        14   StandardScalerWrapper XGBoostClassifier        0:01:22       0.9994    0.9995\n",
      "        15   SparseNormalizer XGBoostClassifier             0:05:02       0.9995    0.9995\n",
      "        16   RobustScaler ExtremeRandomTrees                0:01:13       0.9978    0.9995\n",
      "        17   SparseNormalizer LightGBM                      0:01:12       0.9994    0.9995\n",
      "        18   SparseNormalizer LightGBM                      0:01:27       0.9995    0.9995\n",
      "        19   SparseNormalizer XGBoostClassifier             0:01:22       0.9994    0.9995\n",
      "        20   SparseNormalizer XGBoostClassifier             0:01:05       0.9995    0.9995\n",
      "        21   StandardScalerWrapper XGBoostClassifier        0:03:14       0.9996    0.9996\n",
      "        22   SparseNormalizer XGBoostClassifier             0:01:33       0.9995    0.9996\n",
      "        23   SparseNormalizer XGBoostClassifier             0:01:16       0.9990    0.9996\n",
      "        24   MinMaxScaler LightGBM                          0:01:25       0.9990    0.9996\n",
      "        25   SparseNormalizer XGBoostClassifier             0:00:58       0.9978    0.9996\n",
      "        26   SparseNormalizer XGBoostClassifier             0:01:04       0.9989    0.9996\n",
      "        27   StandardScalerWrapper XGBoostClassifier        0:08:55       0.9996    0.9996\n",
      "        28   SparseNormalizer XGBoostClassifier             0:04:43       0.9994    0.9996\n",
      "        29   SparseNormalizer XGBoostClassifier             0:02:48       0.9995    0.9996\n",
      "        30   PCA XGBoostClassifier                          0:01:07       0.9978    0.9996\n",
      "        31   MaxAbsScaler LogisticRegression                0:01:22       0.9383    0.9996\n",
      "        32   StandardScalerWrapper RandomForest             0:20:21       0.9978    0.9996\n",
      "        33   SparseNormalizer XGBoostClassifier             0:02:35       0.9995    0.9996\n",
      "        34   SparseNormalizer XGBoostClassifier             0:01:13       0.9995    0.9996\n",
      "        35   PCA XGBoostClassifier                          0:01:05       0.9978    0.9996\n",
      "        36   SparseNormalizer LightGBM                      0:00:58       0.9991    0.9996\n",
      "        37   SparseNormalizer XGBoostClassifier             0:04:26       0.9995    0.9996\n",
      "        38    VotingEnsemble                                0:02:04       0.9996    0.9996\n",
      "        39    StackEnsemble                                 0:02:50       0.9995    0.9996\n"
     ]
    },
    {
     "data": {
      "text/plain": [
       "{'runId': 'AutoML_d12b6002-f654-415b-af0c-47d7b7c2d7e8',\n",
       " 'target': 'auto-ml-cluster',\n",
       " 'status': 'Completed',\n",
       " 'startTimeUtc': '2021-02-07T08:11:45.405268Z',\n",
       " 'endTimeUtc': '2021-02-07T10:12:01.21587Z',\n",
       " 'properties': {'num_iterations': '1000',\n",
       "  'training_type': 'TrainFull',\n",
       "  'acquisition_function': 'EI',\n",
       "  'primary_metric': 'accuracy',\n",
       "  'train_split': '0',\n",
       "  'acquisition_parameter': '0',\n",
       "  'num_cross_validation': '5',\n",
       "  'target': 'auto-ml-cluster',\n",
       "  'AMLSettingsJsonString': '{\"path\":null,\"name\":\"Detection\",\"subscription_id\":\"f5091c60-1c3c-430f-8d81-d802f6bf2414\",\"resource_group\":\"aml-quickstarts-137783\",\"workspace_name\":\"quick-starts-ws-137783\",\"region\":\"southcentralus\",\"compute_target\":\"auto-ml-cluster\",\"spark_service\":null,\"azure_service\":\"remote\",\"many_models\":false,\"pipeline_fetch_max_batch_size\":1,\"iterations\":1000,\"primary_metric\":\"accuracy\",\"task_type\":\"classification\",\"data_script\":null,\"validation_size\":0.0,\"n_cross_validations\":5,\"y_min\":null,\"y_max\":null,\"num_classes\":null,\"featurization\":\"auto\",\"_ignore_package_version_incompatibilities\":false,\"is_timeseries\":false,\"max_cores_per_iteration\":1,\"max_concurrent_iterations\":1,\"iteration_timeout_minutes\":null,\"mem_in_mb\":null,\"enforce_time_on_windows\":false,\"experiment_timeout_minutes\":8640,\"experiment_exit_score\":null,\"whitelist_models\":null,\"blacklist_algos\":[\"TensorFlowLinearClassifier\",\"TensorFlowDNN\"],\"supported_models\":[\"ExtremeRandomTrees\",\"KNN\",\"TensorFlowDNN\",\"BernoulliNaiveBayes\",\"DecisionTree\",\"LogisticRegression\",\"RandomForest\",\"LightGBM\",\"AveragedPerceptronClassifier\",\"TensorFlowLinearClassifier\",\"SVM\",\"MultinomialNaiveBayes\",\"XGBoostClassifier\",\"GradientBoosting\",\"LinearSVM\",\"SGD\"],\"auto_blacklist\":true,\"blacklist_samples_reached\":false,\"exclude_nan_labels\":true,\"verbosity\":20,\"_debug_log\":\"azureml_automl.log\",\"show_warnings\":false,\"model_explainability\":true,\"service_url\":null,\"sdk_url\":null,\"sdk_packages\":null,\"enable_onnx_compatible_models\":false,\"enable_split_onnx_featurizer_estimator_models\":false,\"vm_type\":\"STANDARD_DS12_V2\",\"telemetry_verbosity\":20,\"send_telemetry\":true,\"enable_dnn\":false,\"scenario\":\"SDK-1.13.0\",\"environment_label\":null,\"force_text_dnn\":false,\"enable_feature_sweeping\":true,\"enable_early_stopping\":true,\"early_stopping_n_iters\":10,\"metrics\":null,\"enable_ensembling\":true,\"enable_stack_ensembling\":true,\"ensemble_iterations\":15,\"enable_tf\":false,\"enable_subsampling\":null,\"subsample_seed\":null,\"enable_nimbusml\":false,\"enable_streaming\":false,\"force_streaming\":false,\"track_child_runs\":true,\"allowed_private_models\":[],\"label_column_name\":\"Class\",\"weight_column_name\":null,\"cv_split_column_names\":null,\"enable_local_managed\":false,\"_local_managed_run_id\":null,\"cost_mode\":1,\"lag_length\":0,\"metric_operation\":\"maximize\",\"preprocess\":true}',\n",
       "  'DataPrepJsonString': '{\\\\\"training_data\\\\\": \\\\\"{\\\\\\\\\\\\\"blocks\\\\\\\\\\\\\": [{\\\\\\\\\\\\\"id\\\\\\\\\\\\\": \\\\\\\\\\\\\"97585007-7f89-4728-bed0-80b1f9694e4c\\\\\\\\\\\\\", \\\\\\\\\\\\\"type\\\\\\\\\\\\\": \\\\\\\\\\\\\"Microsoft.DPrep.GetFilesBlock\\\\\\\\\\\\\", \\\\\\\\\\\\\"arguments\\\\\\\\\\\\\": {\\\\\\\\\\\\\"isArchive\\\\\\\\\\\\\": false, \\\\\\\\\\\\\"path\\\\\\\\\\\\\": {\\\\\\\\\\\\\"target\\\\\\\\\\\\\": 4, \\\\\\\\\\\\\"resourceDetails\\\\\\\\\\\\\": [{\\\\\\\\\\\\\"path\\\\\\\\\\\\\": \\\\\\\\\\\\\"https://media.githubusercontent.com/media/Tekhunt/Creditcard-fraud-dectection/master/fraud-data.csv\\\\\\\\\\\\\"}]}}, \\\\\\\\\\\\\"localData\\\\\\\\\\\\\": {}, \\\\\\\\\\\\\"isEnabled\\\\\\\\\\\\\": true, \\\\\\\\\\\\\"name\\\\\\\\\\\\\": null, \\\\\\\\\\\\\"annotation\\\\\\\\\\\\\": null}, {\\\\\\\\\\\\\"id\\\\\\\\\\\\\": \\\\\\\\\\\\\"f134c98e-23bc-4130-80a0-a9a614409fa8\\\\\\\\\\\\\", \\\\\\\\\\\\\"type\\\\\\\\\\\\\": \\\\\\\\\\\\\"Microsoft.DPrep.ParseDelimitedBlock\\\\\\\\\\\\\", \\\\\\\\\\\\\"arguments\\\\\\\\\\\\\": {\\\\\\\\\\\\\"columnHeadersMode\\\\\\\\\\\\\": 3, \\\\\\\\\\\\\"fileEncoding\\\\\\\\\\\\\": 0, \\\\\\\\\\\\\"handleQuotedLineBreaks\\\\\\\\\\\\\": false, \\\\\\\\\\\\\"preview\\\\\\\\\\\\\": false, \\\\\\\\\\\\\"separator\\\\\\\\\\\\\": \\\\\\\\\\\\\",\\\\\\\\\\\\\", \\\\\\\\\\\\\"skipRows\\\\\\\\\\\\\": 0, \\\\\\\\\\\\\"skipRowsMode\\\\\\\\\\\\\": 0}, \\\\\\\\\\\\\"localData\\\\\\\\\\\\\": {}, \\\\\\\\\\\\\"isEnabled\\\\\\\\\\\\\": true, \\\\\\\\\\\\\"name\\\\\\\\\\\\\": null, \\\\\\\\\\\\\"annotation\\\\\\\\\\\\\": null}, {\\\\\\\\\\\\\"id\\\\\\\\\\\\\": \\\\\\\\\\\\\"84684cb5-528c-485b-9965-d49de376d1a8\\\\\\\\\\\\\", \\\\\\\\\\\\\"type\\\\\\\\\\\\\": \\\\\\\\\\\\\"Microsoft.DPrep.DropColumnsBlock\\\\\\\\\\\\\", \\\\\\\\\\\\\"arguments\\\\\\\\\\\\\": {\\\\\\\\\\\\\"columns\\\\\\\\\\\\\": {\\\\\\\\\\\\\"type\\\\\\\\\\\\\": 0, \\\\\\\\\\\\\"details\\\\\\\\\\\\\": {\\\\\\\\\\\\\"selectedColumns\\\\\\\\\\\\\": [\\\\\\\\\\\\\"Path\\\\\\\\\\\\\"]}}}, \\\\\\\\\\\\\"localData\\\\\\\\\\\\\": {}, \\\\\\\\\\\\\"isEnabled\\\\\\\\\\\\\": true, \\\\\\\\\\\\\"name\\\\\\\\\\\\\": null, \\\\\\\\\\\\\"annotation\\\\\\\\\\\\\": null}, {\\\\\\\\\\\\\"id\\\\\\\\\\\\\": \\\\\\\\\\\\\"61c6f707-72cc-44db-822e-3026244f270c\\\\\\\\\\\\\", \\\\\\\\\\\\\"type\\\\\\\\\\\\\": \\\\\\\\\\\\\"Microsoft.DPrep.SetColumnTypesBlock\\\\\\\\\\\\\", \\\\\\\\\\\\\"arguments\\\\\\\\\\\\\": {\\\\\\\\\\\\\"columnConversion\\\\\\\\\\\\\": [{\\\\\\\\\\\\\"column\\\\\\\\\\\\\": {\\\\\\\\\\\\\"type\\\\\\\\\\\\\": 2, \\\\\\\\\\\\\"details\\\\\\\\\\\\\": {\\\\\\\\\\\\\"selectedColumn\\\\\\\\\\\\\": \\\\\\\\\\\\\"Time\\\\\\\\\\\\\"}}, \\\\\\\\\\\\\"typeProperty\\\\\\\\\\\\\": 3}, {\\\\\\\\\\\\\"column\\\\\\\\\\\\\": {\\\\\\\\\\\\\"type\\\\\\\\\\\\\": 2, \\\\\\\\\\\\\"details\\\\\\\\\\\\\": {\\\\\\\\\\\\\"selectedColumn\\\\\\\\\\\\\": \\\\\\\\\\\\\"V1\\\\\\\\\\\\\"}}, \\\\\\\\\\\\\"typeProperty\\\\\\\\\\\\\": 3}, {\\\\\\\\\\\\\"column\\\\\\\\\\\\\": {\\\\\\\\\\\\\"type\\\\\\\\\\\\\": 2, \\\\\\\\\\\\\"details\\\\\\\\\\\\\": {\\\\\\\\\\\\\"selectedColumn\\\\\\\\\\\\\": \\\\\\\\\\\\\"V2\\\\\\\\\\\\\"}}, \\\\\\\\\\\\\"typeProperty\\\\\\\\\\\\\": 3}, {\\\\\\\\\\\\\"column\\\\\\\\\\\\\": {\\\\\\\\\\\\\"type\\\\\\\\\\\\\": 2, \\\\\\\\\\\\\"details\\\\\\\\\\\\\": {\\\\\\\\\\\\\"selectedColumn\\\\\\\\\\\\\": \\\\\\\\\\\\\"V3\\\\\\\\\\\\\"}}, \\\\\\\\\\\\\"typeProperty\\\\\\\\\\\\\": 3}, {\\\\\\\\\\\\\"column\\\\\\\\\\\\\": {\\\\\\\\\\\\\"type\\\\\\\\\\\\\": 2, \\\\\\\\\\\\\"details\\\\\\\\\\\\\": {\\\\\\\\\\\\\"selectedColumn\\\\\\\\\\\\\": \\\\\\\\\\\\\"V4\\\\\\\\\\\\\"}}, \\\\\\\\\\\\\"typeProperty\\\\\\\\\\\\\": 3}, {\\\\\\\\\\\\\"column\\\\\\\\\\\\\": {\\\\\\\\\\\\\"type\\\\\\\\\\\\\": 2, \\\\\\\\\\\\\"details\\\\\\\\\\\\\": {\\\\\\\\\\\\\"selectedColumn\\\\\\\\\\\\\": \\\\\\\\\\\\\"V5\\\\\\\\\\\\\"}}, \\\\\\\\\\\\\"typeProperty\\\\\\\\\\\\\": 3}, {\\\\\\\\\\\\\"column\\\\\\\\\\\\\": {\\\\\\\\\\\\\"type\\\\\\\\\\\\\": 2, \\\\\\\\\\\\\"details\\\\\\\\\\\\\": {\\\\\\\\\\\\\"selectedColumn\\\\\\\\\\\\\": \\\\\\\\\\\\\"V6\\\\\\\\\\\\\"}}, \\\\\\\\\\\\\"typeProperty\\\\\\\\\\\\\": 3}, {\\\\\\\\\\\\\"column\\\\\\\\\\\\\": {\\\\\\\\\\\\\"type\\\\\\\\\\\\\": 2, \\\\\\\\\\\\\"details\\\\\\\\\\\\\": {\\\\\\\\\\\\\"selectedColumn\\\\\\\\\\\\\": \\\\\\\\\\\\\"V7\\\\\\\\\\\\\"}}, \\\\\\\\\\\\\"typeProperty\\\\\\\\\\\\\": 3}, {\\\\\\\\\\\\\"column\\\\\\\\\\\\\": {\\\\\\\\\\\\\"type\\\\\\\\\\\\\": 2, \\\\\\\\\\\\\"details\\\\\\\\\\\\\": {\\\\\\\\\\\\\"selectedColumn\\\\\\\\\\\\\": \\\\\\\\\\\\\"V8\\\\\\\\\\\\\"}}, \\\\\\\\\\\\\"typeProperty\\\\\\\\\\\\\": 3}, {\\\\\\\\\\\\\"column\\\\\\\\\\\\\": {\\\\\\\\\\\\\"type\\\\\\\\\\\\\": 2, \\\\\\\\\\\\\"details\\\\\\\\\\\\\": {\\\\\\\\\\\\\"selectedColumn\\\\\\\\\\\\\": \\\\\\\\\\\\\"V9\\\\\\\\\\\\\"}}, \\\\\\\\\\\\\"typeProperty\\\\\\\\\\\\\": 3}, {\\\\\\\\\\\\\"column\\\\\\\\\\\\\": {\\\\\\\\\\\\\"type\\\\\\\\\\\\\": 2, \\\\\\\\\\\\\"details\\\\\\\\\\\\\": {\\\\\\\\\\\\\"selectedColumn\\\\\\\\\\\\\": \\\\\\\\\\\\\"V10\\\\\\\\\\\\\"}}, \\\\\\\\\\\\\"typeProperty\\\\\\\\\\\\\": 3}, {\\\\\\\\\\\\\"column\\\\\\\\\\\\\": {\\\\\\\\\\\\\"type\\\\\\\\\\\\\": 2, \\\\\\\\\\\\\"details\\\\\\\\\\\\\": {\\\\\\\\\\\\\"selectedColumn\\\\\\\\\\\\\": \\\\\\\\\\\\\"V11\\\\\\\\\\\\\"}}, \\\\\\\\\\\\\"typeProperty\\\\\\\\\\\\\": 3}, {\\\\\\\\\\\\\"column\\\\\\\\\\\\\": {\\\\\\\\\\\\\"type\\\\\\\\\\\\\": 2, \\\\\\\\\\\\\"details\\\\\\\\\\\\\": {\\\\\\\\\\\\\"selectedColumn\\\\\\\\\\\\\": \\\\\\\\\\\\\"V12\\\\\\\\\\\\\"}}, \\\\\\\\\\\\\"typeProperty\\\\\\\\\\\\\": 3}, {\\\\\\\\\\\\\"column\\\\\\\\\\\\\": {\\\\\\\\\\\\\"type\\\\\\\\\\\\\": 2, \\\\\\\\\\\\\"details\\\\\\\\\\\\\": {\\\\\\\\\\\\\"selectedColumn\\\\\\\\\\\\\": \\\\\\\\\\\\\"V13\\\\\\\\\\\\\"}}, \\\\\\\\\\\\\"typeProperty\\\\\\\\\\\\\": 3}, {\\\\\\\\\\\\\"column\\\\\\\\\\\\\": {\\\\\\\\\\\\\"type\\\\\\\\\\\\\": 2, \\\\\\\\\\\\\"details\\\\\\\\\\\\\": {\\\\\\\\\\\\\"selectedColumn\\\\\\\\\\\\\": \\\\\\\\\\\\\"V14\\\\\\\\\\\\\"}}, \\\\\\\\\\\\\"typeProperty\\\\\\\\\\\\\": 3}, {\\\\\\\\\\\\\"column\\\\\\\\\\\\\": {\\\\\\\\\\\\\"type\\\\\\\\\\\\\": 2, \\\\\\\\\\\\\"details\\\\\\\\\\\\\": {\\\\\\\\\\\\\"selectedColumn\\\\\\\\\\\\\": \\\\\\\\\\\\\"V15\\\\\\\\\\\\\"}}, \\\\\\\\\\\\\"typeProperty\\\\\\\\\\\\\": 3}, {\\\\\\\\\\\\\"column\\\\\\\\\\\\\": {\\\\\\\\\\\\\"type\\\\\\\\\\\\\": 2, \\\\\\\\\\\\\"details\\\\\\\\\\\\\": {\\\\\\\\\\\\\"selectedColumn\\\\\\\\\\\\\": \\\\\\\\\\\\\"V16\\\\\\\\\\\\\"}}, \\\\\\\\\\\\\"typeProperty\\\\\\\\\\\\\": 3}, {\\\\\\\\\\\\\"column\\\\\\\\\\\\\": {\\\\\\\\\\\\\"type\\\\\\\\\\\\\": 2, \\\\\\\\\\\\\"details\\\\\\\\\\\\\": {\\\\\\\\\\\\\"selectedColumn\\\\\\\\\\\\\": \\\\\\\\\\\\\"V17\\\\\\\\\\\\\"}}, \\\\\\\\\\\\\"typeProperty\\\\\\\\\\\\\": 3}, {\\\\\\\\\\\\\"column\\\\\\\\\\\\\": {\\\\\\\\\\\\\"type\\\\\\\\\\\\\": 2, \\\\\\\\\\\\\"details\\\\\\\\\\\\\": {\\\\\\\\\\\\\"selectedColumn\\\\\\\\\\\\\": \\\\\\\\\\\\\"V18\\\\\\\\\\\\\"}}, \\\\\\\\\\\\\"typeProperty\\\\\\\\\\\\\": 3}, {\\\\\\\\\\\\\"column\\\\\\\\\\\\\": {\\\\\\\\\\\\\"type\\\\\\\\\\\\\": 2, \\\\\\\\\\\\\"details\\\\\\\\\\\\\": {\\\\\\\\\\\\\"selectedColumn\\\\\\\\\\\\\": \\\\\\\\\\\\\"V19\\\\\\\\\\\\\"}}, \\\\\\\\\\\\\"typeProperty\\\\\\\\\\\\\": 3}, {\\\\\\\\\\\\\"column\\\\\\\\\\\\\": {\\\\\\\\\\\\\"type\\\\\\\\\\\\\": 2, \\\\\\\\\\\\\"details\\\\\\\\\\\\\": {\\\\\\\\\\\\\"selectedColumn\\\\\\\\\\\\\": \\\\\\\\\\\\\"V20\\\\\\\\\\\\\"}}, \\\\\\\\\\\\\"typeProperty\\\\\\\\\\\\\": 3}, {\\\\\\\\\\\\\"column\\\\\\\\\\\\\": {\\\\\\\\\\\\\"type\\\\\\\\\\\\\": 2, \\\\\\\\\\\\\"details\\\\\\\\\\\\\": {\\\\\\\\\\\\\"selectedColumn\\\\\\\\\\\\\": \\\\\\\\\\\\\"V21\\\\\\\\\\\\\"}}, \\\\\\\\\\\\\"typeProperty\\\\\\\\\\\\\": 3}, {\\\\\\\\\\\\\"column\\\\\\\\\\\\\": {\\\\\\\\\\\\\"type\\\\\\\\\\\\\": 2, \\\\\\\\\\\\\"details\\\\\\\\\\\\\": {\\\\\\\\\\\\\"selectedColumn\\\\\\\\\\\\\": \\\\\\\\\\\\\"V22\\\\\\\\\\\\\"}}, \\\\\\\\\\\\\"typeProperty\\\\\\\\\\\\\": 3}, {\\\\\\\\\\\\\"column\\\\\\\\\\\\\": {\\\\\\\\\\\\\"type\\\\\\\\\\\\\": 2, \\\\\\\\\\\\\"details\\\\\\\\\\\\\": {\\\\\\\\\\\\\"selectedColumn\\\\\\\\\\\\\": \\\\\\\\\\\\\"V23\\\\\\\\\\\\\"}}, \\\\\\\\\\\\\"typeProperty\\\\\\\\\\\\\": 3}, {\\\\\\\\\\\\\"column\\\\\\\\\\\\\": {\\\\\\\\\\\\\"type\\\\\\\\\\\\\": 2, \\\\\\\\\\\\\"details\\\\\\\\\\\\\": {\\\\\\\\\\\\\"selectedColumn\\\\\\\\\\\\\": \\\\\\\\\\\\\"V24\\\\\\\\\\\\\"}}, \\\\\\\\\\\\\"typeProperty\\\\\\\\\\\\\": 3}, {\\\\\\\\\\\\\"column\\\\\\\\\\\\\": {\\\\\\\\\\\\\"type\\\\\\\\\\\\\": 2, \\\\\\\\\\\\\"details\\\\\\\\\\\\\": {\\\\\\\\\\\\\"selectedColumn\\\\\\\\\\\\\": \\\\\\\\\\\\\"V25\\\\\\\\\\\\\"}}, \\\\\\\\\\\\\"typeProperty\\\\\\\\\\\\\": 3}, {\\\\\\\\\\\\\"column\\\\\\\\\\\\\": {\\\\\\\\\\\\\"type\\\\\\\\\\\\\": 2, \\\\\\\\\\\\\"details\\\\\\\\\\\\\": {\\\\\\\\\\\\\"selectedColumn\\\\\\\\\\\\\": \\\\\\\\\\\\\"V26\\\\\\\\\\\\\"}}, \\\\\\\\\\\\\"typeProperty\\\\\\\\\\\\\": 3}, {\\\\\\\\\\\\\"column\\\\\\\\\\\\\": {\\\\\\\\\\\\\"type\\\\\\\\\\\\\": 2, \\\\\\\\\\\\\"details\\\\\\\\\\\\\": {\\\\\\\\\\\\\"selectedColumn\\\\\\\\\\\\\": \\\\\\\\\\\\\"V27\\\\\\\\\\\\\"}}, \\\\\\\\\\\\\"typeProperty\\\\\\\\\\\\\": 3}, {\\\\\\\\\\\\\"column\\\\\\\\\\\\\": {\\\\\\\\\\\\\"type\\\\\\\\\\\\\": 2, \\\\\\\\\\\\\"details\\\\\\\\\\\\\": {\\\\\\\\\\\\\"selectedColumn\\\\\\\\\\\\\": \\\\\\\\\\\\\"V28\\\\\\\\\\\\\"}}, \\\\\\\\\\\\\"typeProperty\\\\\\\\\\\\\": 3}, {\\\\\\\\\\\\\"column\\\\\\\\\\\\\": {\\\\\\\\\\\\\"type\\\\\\\\\\\\\": 2, \\\\\\\\\\\\\"details\\\\\\\\\\\\\": {\\\\\\\\\\\\\"selectedColumn\\\\\\\\\\\\\": \\\\\\\\\\\\\"Amount\\\\\\\\\\\\\"}}, \\\\\\\\\\\\\"typeProperty\\\\\\\\\\\\\": 3}, {\\\\\\\\\\\\\"column\\\\\\\\\\\\\": {\\\\\\\\\\\\\"type\\\\\\\\\\\\\": 2, \\\\\\\\\\\\\"details\\\\\\\\\\\\\": {\\\\\\\\\\\\\"selectedColumn\\\\\\\\\\\\\": \\\\\\\\\\\\\"Class\\\\\\\\\\\\\"}}, \\\\\\\\\\\\\"typeProperty\\\\\\\\\\\\\": 2}]}, \\\\\\\\\\\\\"localData\\\\\\\\\\\\\": {}, \\\\\\\\\\\\\"isEnabled\\\\\\\\\\\\\": true, \\\\\\\\\\\\\"name\\\\\\\\\\\\\": null, \\\\\\\\\\\\\"annotation\\\\\\\\\\\\\": null}], \\\\\\\\\\\\\"inspectors\\\\\\\\\\\\\": [], \\\\\\\\\\\\\"meta\\\\\\\\\\\\\": {\\\\\\\\\\\\\"savedDatasetId\\\\\\\\\\\\\": \\\\\\\\\\\\\"f02d17e2-b597-46ab-92fe-8046836ae8cb\\\\\\\\\\\\\", \\\\\\\\\\\\\"datasetType\\\\\\\\\\\\\": \\\\\\\\\\\\\"tabular\\\\\\\\\\\\\", \\\\\\\\\\\\\"subscriptionId\\\\\\\\\\\\\": \\\\\\\\\\\\\"f5091c60-1c3c-430f-8d81-d802f6bf2414\\\\\\\\\\\\\", \\\\\\\\\\\\\"workspaceId\\\\\\\\\\\\\": \\\\\\\\\\\\\"d234bd6e-4e60-4d1d-8f3d-261e79bd0ab3\\\\\\\\\\\\\", \\\\\\\\\\\\\"workspaceLocation\\\\\\\\\\\\\": \\\\\\\\\\\\\"southcentralus\\\\\\\\\\\\\"}}\\\\\", \\\\\"activities\\\\\": 0}',\n",
       "  'EnableSubsampling': None,\n",
       "  'runTemplate': 'AutoML',\n",
       "  'azureml.runsource': 'automl',\n",
       "  'display_task_type': 'classification',\n",
       "  'dependencies_versions': '{\"azureml-widgets\": \"1.20.0\", \"azureml-train\": \"1.20.0\", \"azureml-train-restclients-hyperdrive\": \"1.20.0\", \"azureml-train-core\": \"1.20.0\", \"azureml-train-automl\": \"1.20.0\", \"azureml-train-automl-runtime\": \"1.20.0\", \"azureml-train-automl-client\": \"1.20.0\", \"azureml-tensorboard\": \"1.20.0\", \"azureml-telemetry\": \"1.20.0\", \"azureml-sdk\": \"1.20.0\", \"azureml-samples\": \"0+unknown\", \"azureml-pipeline\": \"1.20.0\", \"azureml-pipeline-steps\": \"1.20.0\", \"azureml-pipeline-core\": \"1.20.0\", \"azureml-opendatasets\": \"1.20.0\", \"azureml-model-management-sdk\": \"1.0.1b6.post1\", \"azureml-mlflow\": \"1.20.0.post1\", \"azureml-interpret\": \"1.20.0\", \"azureml-explain-model\": \"1.20.0\", \"azureml-defaults\": \"1.20.0\", \"azureml-dataset-runtime\": \"1.20.0\", \"azureml-dataprep\": \"2.7.3\", \"azureml-dataprep-rslex\": \"1.5.0\", \"azureml-dataprep-native\": \"27.0.0\", \"azureml-datadrift\": \"1.20.0\", \"azureml-core\": \"1.20.0\", \"azureml-contrib-services\": \"1.20.0\", \"azureml-contrib-server\": \"1.20.0\", \"azureml-contrib-reinforcementlearning\": \"1.20.0\", \"azureml-contrib-pipeline-steps\": \"1.20.0\", \"azureml-contrib-notebook\": \"1.20.0\", \"azureml-contrib-interpret\": \"1.20.0\", \"azureml-contrib-gbdt\": \"1.20.0\", \"azureml-contrib-fairness\": \"1.20.0\", \"azureml-contrib-dataset\": \"1.20.0\", \"azureml-cli-common\": \"1.20.0\", \"azureml-automl-runtime\": \"1.20.0\", \"azureml-automl-core\": \"1.20.0\", \"azureml-accel-models\": \"1.20.0\"}',\n",
       "  '_aml_system_scenario_identification': 'Remote.Parent',\n",
       "  'ClientType': 'SDK',\n",
       "  'environment_cpu_name': 'AzureML-AutoML',\n",
       "  'environment_cpu_label': 'prod',\n",
       "  'environment_gpu_name': 'AzureML-AutoML-GPU',\n",
       "  'environment_gpu_label': 'prod',\n",
       "  'root_attribution': 'automl',\n",
       "  'attribution': 'AutoML',\n",
       "  'Orchestrator': 'AutoML',\n",
       "  'CancelUri': 'https://southcentralus.experiments.azureml.net/jasmine/v1.0/subscriptions/f5091c60-1c3c-430f-8d81-d802f6bf2414/resourceGroups/aml-quickstarts-137783/providers/Microsoft.MachineLearningServices/workspaces/quick-starts-ws-137783/experimentids/aefdb690-1958-4b81-9bed-9701baa64901/cancel/AutoML_d12b6002-f654-415b-af0c-47d7b7c2d7e8',\n",
       "  'ClientSdkVersion': '1.21.0',\n",
       "  'snapshotId': '00000000-0000-0000-0000-000000000000',\n",
       "  'SetupRunId': 'AutoML_d12b6002-f654-415b-af0c-47d7b7c2d7e8_setup',\n",
       "  'SetupRunContainerId': 'dcid.AutoML_d12b6002-f654-415b-af0c-47d7b7c2d7e8_setup',\n",
       "  'FeaturizationRunJsonPath': 'featurizer_container.json',\n",
       "  'FeaturizationRunId': 'AutoML_d12b6002-f654-415b-af0c-47d7b7c2d7e8_featurize',\n",
       "  'ProblemInfoJsonString': '{\"dataset_num_categorical\": 0, \"is_sparse\": false, \"subsampling\": false, \"dataset_classes\": 2, \"dataset_features\": 30, \"dataset_samples\": 100000, \"single_frequency_class_detected\": false}',\n",
       "  'ModelExplainRunId': 'AutoML_d12b6002-f654-415b-af0c-47d7b7c2d7e8_ModelExplain'},\n",
       " 'inputDatasets': [{'dataset': {'id': 'f02d17e2-b597-46ab-92fe-8046836ae8cb'}, 'consumptionDetails': {'type': 'RunInput', 'inputName': 'training_data', 'mechanism': 'Direct'}}],\n",
       " 'outputDatasets': [],\n",
       " 'logFiles': {},\n",
       " 'submittedBy': 'ODL_User 137783'}"
      ]
     },
     "execution_count": 10,
     "metadata": {},
     "output_type": "execute_result"
    }
   ],
   "source": [
    "# TODo your experiment name here\n",
    "#remote_run = experiment.submit(automl_config)\n",
    "\n",
    "remote_run = experiment.submit(automl_config, show_output=True)\n",
    "remote_run.wait_for_completion()"
   ]
  },
  {
   "cell_type": "markdown",
   "metadata": {},
   "source": [
    "## Run Details\n",
    "\n",
    "OPTIONAL: Write about the different models trained and their performance. Why do you think some models did better than others?\n",
    "\n",
    "TODO: In the cell below, use the `RunDetails` widget to show the different experiments."
   ]
  },
  {
   "cell_type": "code",
   "execution_count": 11,
   "metadata": {},
   "outputs": [
    {
     "data": {
      "application/vnd.jupyter.widget-view+json": {
       "model_id": "0171e4b35a644ec0bc7fe7746f615412",
       "version_major": 2,
       "version_minor": 0
      },
      "text/plain": [
       "_AutoMLWidget(widget_settings={'childWidgetDisplay': 'popup', 'send_telemetry': False, 'log_level': 'INFO', 's…"
      ]
     },
     "metadata": {},
     "output_type": "display_data"
    },
    {
     "data": {
      "application/aml.mini.widget.v1": "{\"status\": \"Completed\", \"workbench_run_details_uri\": \"https://ml.azure.com/experiments/Detection/runs/AutoML_d12b6002-f654-415b-af0c-47d7b7c2d7e8?wsid=/subscriptions/f5091c60-1c3c-430f-8d81-d802f6bf2414/resourcegroups/aml-quickstarts-137783/workspaces/quick-starts-ws-137783\", \"run_id\": \"AutoML_d12b6002-f654-415b-af0c-47d7b7c2d7e8\", \"run_properties\": {\"run_id\": \"AutoML_d12b6002-f654-415b-af0c-47d7b7c2d7e8\", \"created_utc\": \"2021-02-07T08:11:28.818707Z\", \"properties\": {\"num_iterations\": \"1000\", \"training_type\": \"TrainFull\", \"acquisition_function\": \"EI\", \"primary_metric\": \"accuracy\", \"train_split\": \"0\", \"acquisition_parameter\": \"0\", \"num_cross_validation\": \"5\", \"target\": \"auto-ml-cluster\", \"AMLSettingsJsonString\": \"{\\\"path\\\":null,\\\"name\\\":\\\"Detection\\\",\\\"subscription_id\\\":\\\"f5091c60-1c3c-430f-8d81-d802f6bf2414\\\",\\\"resource_group\\\":\\\"aml-quickstarts-137783\\\",\\\"workspace_name\\\":\\\"quick-starts-ws-137783\\\",\\\"region\\\":\\\"southcentralus\\\",\\\"compute_target\\\":\\\"auto-ml-cluster\\\",\\\"spark_service\\\":null,\\\"azure_service\\\":\\\"remote\\\",\\\"many_models\\\":false,\\\"pipeline_fetch_max_batch_size\\\":1,\\\"iterations\\\":1000,\\\"primary_metric\\\":\\\"accuracy\\\",\\\"task_type\\\":\\\"classification\\\",\\\"data_script\\\":null,\\\"validation_size\\\":0.0,\\\"n_cross_validations\\\":5,\\\"y_min\\\":null,\\\"y_max\\\":null,\\\"num_classes\\\":null,\\\"featurization\\\":\\\"auto\\\",\\\"_ignore_package_version_incompatibilities\\\":false,\\\"is_timeseries\\\":false,\\\"max_cores_per_iteration\\\":1,\\\"max_concurrent_iterations\\\":1,\\\"iteration_timeout_minutes\\\":null,\\\"mem_in_mb\\\":null,\\\"enforce_time_on_windows\\\":false,\\\"experiment_timeout_minutes\\\":8640,\\\"experiment_exit_score\\\":null,\\\"whitelist_models\\\":null,\\\"blacklist_algos\\\":[\\\"TensorFlowLinearClassifier\\\",\\\"TensorFlowDNN\\\"],\\\"supported_models\\\":[\\\"ExtremeRandomTrees\\\",\\\"KNN\\\",\\\"TensorFlowDNN\\\",\\\"BernoulliNaiveBayes\\\",\\\"DecisionTree\\\",\\\"LogisticRegression\\\",\\\"RandomForest\\\",\\\"LightGBM\\\",\\\"AveragedPerceptronClassifier\\\",\\\"TensorFlowLinearClassifier\\\",\\\"SVM\\\",\\\"MultinomialNaiveBayes\\\",\\\"XGBoostClassifier\\\",\\\"GradientBoosting\\\",\\\"LinearSVM\\\",\\\"SGD\\\"],\\\"auto_blacklist\\\":true,\\\"blacklist_samples_reached\\\":false,\\\"exclude_nan_labels\\\":true,\\\"verbosity\\\":20,\\\"_debug_log\\\":\\\"azureml_automl.log\\\",\\\"show_warnings\\\":false,\\\"model_explainability\\\":true,\\\"service_url\\\":null,\\\"sdk_url\\\":null,\\\"sdk_packages\\\":null,\\\"enable_onnx_compatible_models\\\":false,\\\"enable_split_onnx_featurizer_estimator_models\\\":false,\\\"vm_type\\\":\\\"STANDARD_DS12_V2\\\",\\\"telemetry_verbosity\\\":20,\\\"send_telemetry\\\":true,\\\"enable_dnn\\\":false,\\\"scenario\\\":\\\"SDK-1.13.0\\\",\\\"environment_label\\\":null,\\\"force_text_dnn\\\":false,\\\"enable_feature_sweeping\\\":true,\\\"enable_early_stopping\\\":true,\\\"early_stopping_n_iters\\\":10,\\\"metrics\\\":null,\\\"enable_ensembling\\\":true,\\\"enable_stack_ensembling\\\":true,\\\"ensemble_iterations\\\":15,\\\"enable_tf\\\":false,\\\"enable_subsampling\\\":null,\\\"subsample_seed\\\":null,\\\"enable_nimbusml\\\":false,\\\"enable_streaming\\\":false,\\\"force_streaming\\\":false,\\\"track_child_runs\\\":true,\\\"allowed_private_models\\\":[],\\\"label_column_name\\\":\\\"Class\\\",\\\"weight_column_name\\\":null,\\\"cv_split_column_names\\\":null,\\\"enable_local_managed\\\":false,\\\"_local_managed_run_id\\\":null,\\\"cost_mode\\\":1,\\\"lag_length\\\":0,\\\"metric_operation\\\":\\\"maximize\\\",\\\"preprocess\\\":true}\", \"DataPrepJsonString\": \"{\\\\\\\"training_data\\\\\\\": \\\\\\\"{\\\\\\\\\\\\\\\"blocks\\\\\\\\\\\\\\\": [{\\\\\\\\\\\\\\\"id\\\\\\\\\\\\\\\": \\\\\\\\\\\\\\\"97585007-7f89-4728-bed0-80b1f9694e4c\\\\\\\\\\\\\\\", \\\\\\\\\\\\\\\"type\\\\\\\\\\\\\\\": \\\\\\\\\\\\\\\"Microsoft.DPrep.GetFilesBlock\\\\\\\\\\\\\\\", \\\\\\\\\\\\\\\"arguments\\\\\\\\\\\\\\\": {\\\\\\\\\\\\\\\"isArchive\\\\\\\\\\\\\\\": false, \\\\\\\\\\\\\\\"path\\\\\\\\\\\\\\\": {\\\\\\\\\\\\\\\"target\\\\\\\\\\\\\\\": 4, \\\\\\\\\\\\\\\"resourceDetails\\\\\\\\\\\\\\\": [{\\\\\\\\\\\\\\\"path\\\\\\\\\\\\\\\": \\\\\\\\\\\\\\\"https://media.githubusercontent.com/media/Tekhunt/Creditcard-fraud-dectection/master/fraud-data.csv\\\\\\\\\\\\\\\"}]}}, \\\\\\\\\\\\\\\"localData\\\\\\\\\\\\\\\": {}, \\\\\\\\\\\\\\\"isEnabled\\\\\\\\\\\\\\\": true, \\\\\\\\\\\\\\\"name\\\\\\\\\\\\\\\": null, \\\\\\\\\\\\\\\"annotation\\\\\\\\\\\\\\\": null}, {\\\\\\\\\\\\\\\"id\\\\\\\\\\\\\\\": \\\\\\\\\\\\\\\"f134c98e-23bc-4130-80a0-a9a614409fa8\\\\\\\\\\\\\\\", \\\\\\\\\\\\\\\"type\\\\\\\\\\\\\\\": \\\\\\\\\\\\\\\"Microsoft.DPrep.ParseDelimitedBlock\\\\\\\\\\\\\\\", \\\\\\\\\\\\\\\"arguments\\\\\\\\\\\\\\\": {\\\\\\\\\\\\\\\"columnHeadersMode\\\\\\\\\\\\\\\": 3, \\\\\\\\\\\\\\\"fileEncoding\\\\\\\\\\\\\\\": 0, \\\\\\\\\\\\\\\"handleQuotedLineBreaks\\\\\\\\\\\\\\\": false, \\\\\\\\\\\\\\\"preview\\\\\\\\\\\\\\\": false, \\\\\\\\\\\\\\\"separator\\\\\\\\\\\\\\\": \\\\\\\\\\\\\\\",\\\\\\\\\\\\\\\", \\\\\\\\\\\\\\\"skipRows\\\\\\\\\\\\\\\": 0, \\\\\\\\\\\\\\\"skipRowsMode\\\\\\\\\\\\\\\": 0}, \\\\\\\\\\\\\\\"localData\\\\\\\\\\\\\\\": {}, \\\\\\\\\\\\\\\"isEnabled\\\\\\\\\\\\\\\": true, \\\\\\\\\\\\\\\"name\\\\\\\\\\\\\\\": null, \\\\\\\\\\\\\\\"annotation\\\\\\\\\\\\\\\": null}, {\\\\\\\\\\\\\\\"id\\\\\\\\\\\\\\\": \\\\\\\\\\\\\\\"84684cb5-528c-485b-9965-d49de376d1a8\\\\\\\\\\\\\\\", \\\\\\\\\\\\\\\"type\\\\\\\\\\\\\\\": \\\\\\\\\\\\\\\"Microsoft.DPrep.DropColumnsBlock\\\\\\\\\\\\\\\", \\\\\\\\\\\\\\\"arguments\\\\\\\\\\\\\\\": {\\\\\\\\\\\\\\\"columns\\\\\\\\\\\\\\\": {\\\\\\\\\\\\\\\"type\\\\\\\\\\\\\\\": 0, \\\\\\\\\\\\\\\"details\\\\\\\\\\\\\\\": {\\\\\\\\\\\\\\\"selectedColumns\\\\\\\\\\\\\\\": [\\\\\\\\\\\\\\\"Path\\\\\\\\\\\\\\\"]}}}, \\\\\\\\\\\\\\\"localData\\\\\\\\\\\\\\\": {}, \\\\\\\\\\\\\\\"isEnabled\\\\\\\\\\\\\\\": true, \\\\\\\\\\\\\\\"name\\\\\\\\\\\\\\\": null, \\\\\\\\\\\\\\\"annotation\\\\\\\\\\\\\\\": null}, {\\\\\\\\\\\\\\\"id\\\\\\\\\\\\\\\": \\\\\\\\\\\\\\\"61c6f707-72cc-44db-822e-3026244f270c\\\\\\\\\\\\\\\", \\\\\\\\\\\\\\\"type\\\\\\\\\\\\\\\": \\\\\\\\\\\\\\\"Microsoft.DPrep.SetColumnTypesBlock\\\\\\\\\\\\\\\", \\\\\\\\\\\\\\\"arguments\\\\\\\\\\\\\\\": {\\\\\\\\\\\\\\\"columnConversion\\\\\\\\\\\\\\\": [{\\\\\\\\\\\\\\\"column\\\\\\\\\\\\\\\": {\\\\\\\\\\\\\\\"type\\\\\\\\\\\\\\\": 2, \\\\\\\\\\\\\\\"details\\\\\\\\\\\\\\\": {\\\\\\\\\\\\\\\"selectedColumn\\\\\\\\\\\\\\\": \\\\\\\\\\\\\\\"Time\\\\\\\\\\\\\\\"}}, \\\\\\\\\\\\\\\"typeProperty\\\\\\\\\\\\\\\": 3}, {\\\\\\\\\\\\\\\"column\\\\\\\\\\\\\\\": {\\\\\\\\\\\\\\\"type\\\\\\\\\\\\\\\": 2, \\\\\\\\\\\\\\\"details\\\\\\\\\\\\\\\": {\\\\\\\\\\\\\\\"selectedColumn\\\\\\\\\\\\\\\": \\\\\\\\\\\\\\\"V1\\\\\\\\\\\\\\\"}}, \\\\\\\\\\\\\\\"typeProperty\\\\\\\\\\\\\\\": 3}, {\\\\\\\\\\\\\\\"column\\\\\\\\\\\\\\\": {\\\\\\\\\\\\\\\"type\\\\\\\\\\\\\\\": 2, \\\\\\\\\\\\\\\"details\\\\\\\\\\\\\\\": {\\\\\\\\\\\\\\\"selectedColumn\\\\\\\\\\\\\\\": \\\\\\\\\\\\\\\"V2\\\\\\\\\\\\\\\"}}, \\\\\\\\\\\\\\\"typeProperty\\\\\\\\\\\\\\\": 3}, {\\\\\\\\\\\\\\\"column\\\\\\\\\\\\\\\": {\\\\\\\\\\\\\\\"type\\\\\\\\\\\\\\\": 2, \\\\\\\\\\\\\\\"details\\\\\\\\\\\\\\\": {\\\\\\\\\\\\\\\"selectedColumn\\\\\\\\\\\\\\\": \\\\\\\\\\\\\\\"V3\\\\\\\\\\\\\\\"}}, \\\\\\\\\\\\\\\"typeProperty\\\\\\\\\\\\\\\": 3}, {\\\\\\\\\\\\\\\"column\\\\\\\\\\\\\\\": {\\\\\\\\\\\\\\\"type\\\\\\\\\\\\\\\": 2, \\\\\\\\\\\\\\\"details\\\\\\\\\\\\\\\": {\\\\\\\\\\\\\\\"selectedColumn\\\\\\\\\\\\\\\": \\\\\\\\\\\\\\\"V4\\\\\\\\\\\\\\\"}}, \\\\\\\\\\\\\\\"typeProperty\\\\\\\\\\\\\\\": 3}, {\\\\\\\\\\\\\\\"column\\\\\\\\\\\\\\\": {\\\\\\\\\\\\\\\"type\\\\\\\\\\\\\\\": 2, \\\\\\\\\\\\\\\"details\\\\\\\\\\\\\\\": {\\\\\\\\\\\\\\\"selectedColumn\\\\\\\\\\\\\\\": \\\\\\\\\\\\\\\"V5\\\\\\\\\\\\\\\"}}, \\\\\\\\\\\\\\\"typeProperty\\\\\\\\\\\\\\\": 3}, {\\\\\\\\\\\\\\\"column\\\\\\\\\\\\\\\": {\\\\\\\\\\\\\\\"type\\\\\\\\\\\\\\\": 2, \\\\\\\\\\\\\\\"details\\\\\\\\\\\\\\\": {\\\\\\\\\\\\\\\"selectedColumn\\\\\\\\\\\\\\\": \\\\\\\\\\\\\\\"V6\\\\\\\\\\\\\\\"}}, \\\\\\\\\\\\\\\"typeProperty\\\\\\\\\\\\\\\": 3}, {\\\\\\\\\\\\\\\"column\\\\\\\\\\\\\\\": {\\\\\\\\\\\\\\\"type\\\\\\\\\\\\\\\": 2, \\\\\\\\\\\\\\\"details\\\\\\\\\\\\\\\": {\\\\\\\\\\\\\\\"selectedColumn\\\\\\\\\\\\\\\": \\\\\\\\\\\\\\\"V7\\\\\\\\\\\\\\\"}}, \\\\\\\\\\\\\\\"typeProperty\\\\\\\\\\\\\\\": 3}, {\\\\\\\\\\\\\\\"column\\\\\\\\\\\\\\\": {\\\\\\\\\\\\\\\"type\\\\\\\\\\\\\\\": 2, \\\\\\\\\\\\\\\"details\\\\\\\\\\\\\\\": {\\\\\\\\\\\\\\\"selectedColumn\\\\\\\\\\\\\\\": \\\\\\\\\\\\\\\"V8\\\\\\\\\\\\\\\"}}, \\\\\\\\\\\\\\\"typeProperty\\\\\\\\\\\\\\\": 3}, {\\\\\\\\\\\\\\\"column\\\\\\\\\\\\\\\": {\\\\\\\\\\\\\\\"type\\\\\\\\\\\\\\\": 2, \\\\\\\\\\\\\\\"details\\\\\\\\\\\\\\\": {\\\\\\\\\\\\\\\"selectedColumn\\\\\\\\\\\\\\\": \\\\\\\\\\\\\\\"V9\\\\\\\\\\\\\\\"}}, \\\\\\\\\\\\\\\"typeProperty\\\\\\\\\\\\\\\": 3}, {\\\\\\\\\\\\\\\"column\\\\\\\\\\\\\\\": {\\\\\\\\\\\\\\\"type\\\\\\\\\\\\\\\": 2, \\\\\\\\\\\\\\\"details\\\\\\\\\\\\\\\": {\\\\\\\\\\\\\\\"selectedColumn\\\\\\\\\\\\\\\": \\\\\\\\\\\\\\\"V10\\\\\\\\\\\\\\\"}}, \\\\\\\\\\\\\\\"typeProperty\\\\\\\\\\\\\\\": 3}, {\\\\\\\\\\\\\\\"column\\\\\\\\\\\\\\\": {\\\\\\\\\\\\\\\"type\\\\\\\\\\\\\\\": 2, \\\\\\\\\\\\\\\"details\\\\\\\\\\\\\\\": {\\\\\\\\\\\\\\\"selectedColumn\\\\\\\\\\\\\\\": \\\\\\\\\\\\\\\"V11\\\\\\\\\\\\\\\"}}, \\\\\\\\\\\\\\\"typeProperty\\\\\\\\\\\\\\\": 3}, {\\\\\\\\\\\\\\\"column\\\\\\\\\\\\\\\": {\\\\\\\\\\\\\\\"type\\\\\\\\\\\\\\\": 2, \\\\\\\\\\\\\\\"details\\\\\\\\\\\\\\\": {\\\\\\\\\\\\\\\"selectedColumn\\\\\\\\\\\\\\\": \\\\\\\\\\\\\\\"V12\\\\\\\\\\\\\\\"}}, \\\\\\\\\\\\\\\"typeProperty\\\\\\\\\\\\\\\": 3}, {\\\\\\\\\\\\\\\"column\\\\\\\\\\\\\\\": {\\\\\\\\\\\\\\\"type\\\\\\\\\\\\\\\": 2, \\\\\\\\\\\\\\\"details\\\\\\\\\\\\\\\": {\\\\\\\\\\\\\\\"selectedColumn\\\\\\\\\\\\\\\": \\\\\\\\\\\\\\\"V13\\\\\\\\\\\\\\\"}}, \\\\\\\\\\\\\\\"typeProperty\\\\\\\\\\\\\\\": 3}, {\\\\\\\\\\\\\\\"column\\\\\\\\\\\\\\\": {\\\\\\\\\\\\\\\"type\\\\\\\\\\\\\\\": 2, \\\\\\\\\\\\\\\"details\\\\\\\\\\\\\\\": {\\\\\\\\\\\\\\\"selectedColumn\\\\\\\\\\\\\\\": \\\\\\\\\\\\\\\"V14\\\\\\\\\\\\\\\"}}, \\\\\\\\\\\\\\\"typeProperty\\\\\\\\\\\\\\\": 3}, {\\\\\\\\\\\\\\\"column\\\\\\\\\\\\\\\": {\\\\\\\\\\\\\\\"type\\\\\\\\\\\\\\\": 2, \\\\\\\\\\\\\\\"details\\\\\\\\\\\\\\\": {\\\\\\\\\\\\\\\"selectedColumn\\\\\\\\\\\\\\\": \\\\\\\\\\\\\\\"V15\\\\\\\\\\\\\\\"}}, \\\\\\\\\\\\\\\"typeProperty\\\\\\\\\\\\\\\": 3}, {\\\\\\\\\\\\\\\"column\\\\\\\\\\\\\\\": {\\\\\\\\\\\\\\\"type\\\\\\\\\\\\\\\": 2, \\\\\\\\\\\\\\\"details\\\\\\\\\\\\\\\": {\\\\\\\\\\\\\\\"selectedColumn\\\\\\\\\\\\\\\": \\\\\\\\\\\\\\\"V16\\\\\\\\\\\\\\\"}}, \\\\\\\\\\\\\\\"typeProperty\\\\\\\\\\\\\\\": 3}, {\\\\\\\\\\\\\\\"column\\\\\\\\\\\\\\\": {\\\\\\\\\\\\\\\"type\\\\\\\\\\\\\\\": 2, \\\\\\\\\\\\\\\"details\\\\\\\\\\\\\\\": {\\\\\\\\\\\\\\\"selectedColumn\\\\\\\\\\\\\\\": \\\\\\\\\\\\\\\"V17\\\\\\\\\\\\\\\"}}, \\\\\\\\\\\\\\\"typeProperty\\\\\\\\\\\\\\\": 3}, {\\\\\\\\\\\\\\\"column\\\\\\\\\\\\\\\": {\\\\\\\\\\\\\\\"type\\\\\\\\\\\\\\\": 2, \\\\\\\\\\\\\\\"details\\\\\\\\\\\\\\\": {\\\\\\\\\\\\\\\"selectedColumn\\\\\\\\\\\\\\\": \\\\\\\\\\\\\\\"V18\\\\\\\\\\\\\\\"}}, \\\\\\\\\\\\\\\"typeProperty\\\\\\\\\\\\\\\": 3}, {\\\\\\\\\\\\\\\"column\\\\\\\\\\\\\\\": {\\\\\\\\\\\\\\\"type\\\\\\\\\\\\\\\": 2, \\\\\\\\\\\\\\\"details\\\\\\\\\\\\\\\": {\\\\\\\\\\\\\\\"selectedColumn\\\\\\\\\\\\\\\": \\\\\\\\\\\\\\\"V19\\\\\\\\\\\\\\\"}}, \\\\\\\\\\\\\\\"typeProperty\\\\\\\\\\\\\\\": 3}, {\\\\\\\\\\\\\\\"column\\\\\\\\\\\\\\\": {\\\\\\\\\\\\\\\"type\\\\\\\\\\\\\\\": 2, \\\\\\\\\\\\\\\"details\\\\\\\\\\\\\\\": {\\\\\\\\\\\\\\\"selectedColumn\\\\\\\\\\\\\\\": \\\\\\\\\\\\\\\"V20\\\\\\\\\\\\\\\"}}, \\\\\\\\\\\\\\\"typeProperty\\\\\\\\\\\\\\\": 3}, {\\\\\\\\\\\\\\\"column\\\\\\\\\\\\\\\": {\\\\\\\\\\\\\\\"type\\\\\\\\\\\\\\\": 2, \\\\\\\\\\\\\\\"details\\\\\\\\\\\\\\\": {\\\\\\\\\\\\\\\"selectedColumn\\\\\\\\\\\\\\\": \\\\\\\\\\\\\\\"V21\\\\\\\\\\\\\\\"}}, \\\\\\\\\\\\\\\"typeProperty\\\\\\\\\\\\\\\": 3}, {\\\\\\\\\\\\\\\"column\\\\\\\\\\\\\\\": {\\\\\\\\\\\\\\\"type\\\\\\\\\\\\\\\": 2, \\\\\\\\\\\\\\\"details\\\\\\\\\\\\\\\": {\\\\\\\\\\\\\\\"selectedColumn\\\\\\\\\\\\\\\": \\\\\\\\\\\\\\\"V22\\\\\\\\\\\\\\\"}}, \\\\\\\\\\\\\\\"typeProperty\\\\\\\\\\\\\\\": 3}, {\\\\\\\\\\\\\\\"column\\\\\\\\\\\\\\\": {\\\\\\\\\\\\\\\"type\\\\\\\\\\\\\\\": 2, \\\\\\\\\\\\\\\"details\\\\\\\\\\\\\\\": {\\\\\\\\\\\\\\\"selectedColumn\\\\\\\\\\\\\\\": \\\\\\\\\\\\\\\"V23\\\\\\\\\\\\\\\"}}, \\\\\\\\\\\\\\\"typeProperty\\\\\\\\\\\\\\\": 3}, {\\\\\\\\\\\\\\\"column\\\\\\\\\\\\\\\": {\\\\\\\\\\\\\\\"type\\\\\\\\\\\\\\\": 2, \\\\\\\\\\\\\\\"details\\\\\\\\\\\\\\\": {\\\\\\\\\\\\\\\"selectedColumn\\\\\\\\\\\\\\\": \\\\\\\\\\\\\\\"V24\\\\\\\\\\\\\\\"}}, \\\\\\\\\\\\\\\"typeProperty\\\\\\\\\\\\\\\": 3}, {\\\\\\\\\\\\\\\"column\\\\\\\\\\\\\\\": {\\\\\\\\\\\\\\\"type\\\\\\\\\\\\\\\": 2, \\\\\\\\\\\\\\\"details\\\\\\\\\\\\\\\": {\\\\\\\\\\\\\\\"selectedColumn\\\\\\\\\\\\\\\": \\\\\\\\\\\\\\\"V25\\\\\\\\\\\\\\\"}}, \\\\\\\\\\\\\\\"typeProperty\\\\\\\\\\\\\\\": 3}, {\\\\\\\\\\\\\\\"column\\\\\\\\\\\\\\\": {\\\\\\\\\\\\\\\"type\\\\\\\\\\\\\\\": 2, \\\\\\\\\\\\\\\"details\\\\\\\\\\\\\\\": {\\\\\\\\\\\\\\\"selectedColumn\\\\\\\\\\\\\\\": \\\\\\\\\\\\\\\"V26\\\\\\\\\\\\\\\"}}, \\\\\\\\\\\\\\\"typeProperty\\\\\\\\\\\\\\\": 3}, {\\\\\\\\\\\\\\\"column\\\\\\\\\\\\\\\": {\\\\\\\\\\\\\\\"type\\\\\\\\\\\\\\\": 2, \\\\\\\\\\\\\\\"details\\\\\\\\\\\\\\\": {\\\\\\\\\\\\\\\"selectedColumn\\\\\\\\\\\\\\\": \\\\\\\\\\\\\\\"V27\\\\\\\\\\\\\\\"}}, \\\\\\\\\\\\\\\"typeProperty\\\\\\\\\\\\\\\": 3}, {\\\\\\\\\\\\\\\"column\\\\\\\\\\\\\\\": {\\\\\\\\\\\\\\\"type\\\\\\\\\\\\\\\": 2, \\\\\\\\\\\\\\\"details\\\\\\\\\\\\\\\": {\\\\\\\\\\\\\\\"selectedColumn\\\\\\\\\\\\\\\": \\\\\\\\\\\\\\\"V28\\\\\\\\\\\\\\\"}}, \\\\\\\\\\\\\\\"typeProperty\\\\\\\\\\\\\\\": 3}, {\\\\\\\\\\\\\\\"column\\\\\\\\\\\\\\\": {\\\\\\\\\\\\\\\"type\\\\\\\\\\\\\\\": 2, \\\\\\\\\\\\\\\"details\\\\\\\\\\\\\\\": {\\\\\\\\\\\\\\\"selectedColumn\\\\\\\\\\\\\\\": \\\\\\\\\\\\\\\"Amount\\\\\\\\\\\\\\\"}}, \\\\\\\\\\\\\\\"typeProperty\\\\\\\\\\\\\\\": 3}, {\\\\\\\\\\\\\\\"column\\\\\\\\\\\\\\\": {\\\\\\\\\\\\\\\"type\\\\\\\\\\\\\\\": 2, \\\\\\\\\\\\\\\"details\\\\\\\\\\\\\\\": {\\\\\\\\\\\\\\\"selectedColumn\\\\\\\\\\\\\\\": \\\\\\\\\\\\\\\"Class\\\\\\\\\\\\\\\"}}, \\\\\\\\\\\\\\\"typeProperty\\\\\\\\\\\\\\\": 2}]}, \\\\\\\\\\\\\\\"localData\\\\\\\\\\\\\\\": {}, \\\\\\\\\\\\\\\"isEnabled\\\\\\\\\\\\\\\": true, \\\\\\\\\\\\\\\"name\\\\\\\\\\\\\\\": null, \\\\\\\\\\\\\\\"annotation\\\\\\\\\\\\\\\": null}], \\\\\\\\\\\\\\\"inspectors\\\\\\\\\\\\\\\": [], \\\\\\\\\\\\\\\"meta\\\\\\\\\\\\\\\": {\\\\\\\\\\\\\\\"savedDatasetId\\\\\\\\\\\\\\\": \\\\\\\\\\\\\\\"f02d17e2-b597-46ab-92fe-8046836ae8cb\\\\\\\\\\\\\\\", \\\\\\\\\\\\\\\"datasetType\\\\\\\\\\\\\\\": \\\\\\\\\\\\\\\"tabular\\\\\\\\\\\\\\\", \\\\\\\\\\\\\\\"subscriptionId\\\\\\\\\\\\\\\": \\\\\\\\\\\\\\\"f5091c60-1c3c-430f-8d81-d802f6bf2414\\\\\\\\\\\\\\\", \\\\\\\\\\\\\\\"workspaceId\\\\\\\\\\\\\\\": \\\\\\\\\\\\\\\"d234bd6e-4e60-4d1d-8f3d-261e79bd0ab3\\\\\\\\\\\\\\\", \\\\\\\\\\\\\\\"workspaceLocation\\\\\\\\\\\\\\\": \\\\\\\\\\\\\\\"southcentralus\\\\\\\\\\\\\\\"}}\\\\\\\", \\\\\\\"activities\\\\\\\": 0}\", \"EnableSubsampling\": null, \"runTemplate\": \"AutoML\", \"azureml.runsource\": \"automl\", \"display_task_type\": \"classification\", \"dependencies_versions\": \"{\\\"azureml-widgets\\\": \\\"1.20.0\\\", \\\"azureml-train\\\": \\\"1.20.0\\\", \\\"azureml-train-restclients-hyperdrive\\\": \\\"1.20.0\\\", \\\"azureml-train-core\\\": \\\"1.20.0\\\", \\\"azureml-train-automl\\\": \\\"1.20.0\\\", \\\"azureml-train-automl-runtime\\\": \\\"1.20.0\\\", \\\"azureml-train-automl-client\\\": \\\"1.20.0\\\", \\\"azureml-tensorboard\\\": \\\"1.20.0\\\", \\\"azureml-telemetry\\\": \\\"1.20.0\\\", \\\"azureml-sdk\\\": \\\"1.20.0\\\", \\\"azureml-samples\\\": \\\"0+unknown\\\", \\\"azureml-pipeline\\\": \\\"1.20.0\\\", \\\"azureml-pipeline-steps\\\": \\\"1.20.0\\\", \\\"azureml-pipeline-core\\\": \\\"1.20.0\\\", \\\"azureml-opendatasets\\\": \\\"1.20.0\\\", \\\"azureml-model-management-sdk\\\": \\\"1.0.1b6.post1\\\", \\\"azureml-mlflow\\\": \\\"1.20.0.post1\\\", \\\"azureml-interpret\\\": \\\"1.20.0\\\", \\\"azureml-explain-model\\\": \\\"1.20.0\\\", \\\"azureml-defaults\\\": \\\"1.20.0\\\", \\\"azureml-dataset-runtime\\\": \\\"1.20.0\\\", \\\"azureml-dataprep\\\": \\\"2.7.3\\\", \\\"azureml-dataprep-rslex\\\": \\\"1.5.0\\\", \\\"azureml-dataprep-native\\\": \\\"27.0.0\\\", \\\"azureml-datadrift\\\": \\\"1.20.0\\\", \\\"azureml-core\\\": \\\"1.20.0\\\", \\\"azureml-contrib-services\\\": \\\"1.20.0\\\", \\\"azureml-contrib-server\\\": \\\"1.20.0\\\", \\\"azureml-contrib-reinforcementlearning\\\": \\\"1.20.0\\\", \\\"azureml-contrib-pipeline-steps\\\": \\\"1.20.0\\\", \\\"azureml-contrib-notebook\\\": \\\"1.20.0\\\", \\\"azureml-contrib-interpret\\\": \\\"1.20.0\\\", \\\"azureml-contrib-gbdt\\\": \\\"1.20.0\\\", \\\"azureml-contrib-fairness\\\": \\\"1.20.0\\\", \\\"azureml-contrib-dataset\\\": \\\"1.20.0\\\", \\\"azureml-cli-common\\\": \\\"1.20.0\\\", \\\"azureml-automl-runtime\\\": \\\"1.20.0\\\", \\\"azureml-automl-core\\\": \\\"1.20.0\\\", \\\"azureml-accel-models\\\": \\\"1.20.0\\\"}\", \"_aml_system_scenario_identification\": \"Remote.Parent\", \"ClientType\": \"SDK\", \"environment_cpu_name\": \"AzureML-AutoML\", \"environment_cpu_label\": \"prod\", \"environment_gpu_name\": \"AzureML-AutoML-GPU\", \"environment_gpu_label\": \"prod\", \"root_attribution\": \"automl\", \"attribution\": \"AutoML\", \"Orchestrator\": \"AutoML\", \"CancelUri\": \"https://southcentralus.experiments.azureml.net/jasmine/v1.0/subscriptions/f5091c60-1c3c-430f-8d81-d802f6bf2414/resourceGroups/aml-quickstarts-137783/providers/Microsoft.MachineLearningServices/workspaces/quick-starts-ws-137783/experimentids/aefdb690-1958-4b81-9bed-9701baa64901/cancel/AutoML_d12b6002-f654-415b-af0c-47d7b7c2d7e8\", \"ClientSdkVersion\": \"1.21.0\", \"snapshotId\": \"00000000-0000-0000-0000-000000000000\", \"SetupRunId\": \"AutoML_d12b6002-f654-415b-af0c-47d7b7c2d7e8_setup\", \"SetupRunContainerId\": \"dcid.AutoML_d12b6002-f654-415b-af0c-47d7b7c2d7e8_setup\", \"FeaturizationRunJsonPath\": \"featurizer_container.json\", \"FeaturizationRunId\": \"AutoML_d12b6002-f654-415b-af0c-47d7b7c2d7e8_featurize\", \"ProblemInfoJsonString\": \"{\\\"dataset_num_categorical\\\": 0, \\\"is_sparse\\\": false, \\\"subsampling\\\": false, \\\"dataset_classes\\\": 2, \\\"dataset_features\\\": 30, \\\"dataset_samples\\\": 100000, \\\"single_frequency_class_detected\\\": false}\", \"ModelExplainRunId\": \"AutoML_d12b6002-f654-415b-af0c-47d7b7c2d7e8_ModelExplain\"}, \"tags\": {\"model_explain_run\": \"best_run\", \"_aml_system_azureml.automlComponent\": \"AutoML\", \"pipeline_id\": \"\", \"score\": \"\", \"predicted_cost\": \"\", \"fit_time\": \"\", \"training_percent\": \"\", \"iteration\": \"\", \"run_preprocessor\": \"\", \"run_algorithm\": \"\", \"dynamic_whitelisting_iterations\": \"<25>;<30>;<35>;\", \"automl_best_child_run_id\": \"AutoML_d12b6002-f654-415b-af0c-47d7b7c2d7e8_38\"}, \"end_time_utc\": \"2021-02-07T10:12:01.21587Z\", \"status\": \"Completed\", \"log_files\": {}, \"log_groups\": [], \"run_duration\": \"2:00:32\"}, \"child_runs\": [{\"run_id\": \"AutoML_d12b6002-f654-415b-af0c-47d7b7c2d7e8_0\", \"run_number\": 6, \"metric\": null, \"status\": \"Completed\", \"run_type\": \"azureml.scriptrun\", \"training_percent\": \"100\", \"start_time\": \"2021-02-07T08:19:44.718188Z\", \"end_time\": \"2021-02-07T08:21:01.021733Z\", \"created_time\": \"2021-02-07T08:19:34.093171Z\", \"created_time_dt\": \"2021-02-07T08:19:34.093171Z\", \"duration\": \"0:01:26\", \"iteration\": \"0\", \"goal\": \"accuracy_max\", \"run_name\": \"MaxAbsScaler, LightGBM\", \"run_properties\": \"copy=True\", \"primary_metric\": 0.99494, \"best_metric\": 0.99494}, {\"run_id\": \"AutoML_d12b6002-f654-415b-af0c-47d7b7c2d7e8_1\", \"run_number\": 7, \"metric\": null, \"status\": \"Completed\", \"run_type\": \"azureml.scriptrun\", \"training_percent\": \"100\", \"start_time\": \"2021-02-07T08:21:17.337114Z\", \"end_time\": \"2021-02-07T08:23:56.686921Z\", \"created_time\": \"2021-02-07T08:21:02.420187Z\", \"created_time_dt\": \"2021-02-07T08:21:02.420187Z\", \"duration\": \"0:02:54\", \"iteration\": \"1\", \"goal\": \"accuracy_max\", \"run_name\": \"MaxAbsScaler, XGBoostClassifier\", \"run_properties\": \"copy=True\", \"primary_metric\": 0.99954, \"best_metric\": 0.99954}, {\"run_id\": \"AutoML_d12b6002-f654-415b-af0c-47d7b7c2d7e8_2\", \"run_number\": 8, \"metric\": null, \"status\": \"Completed\", \"run_type\": \"azureml.scriptrun\", \"training_percent\": \"100\", \"start_time\": \"2021-02-07T08:24:10.893813Z\", \"end_time\": \"2021-02-07T08:25:32.575716Z\", \"created_time\": \"2021-02-07T08:23:58.020688Z\", \"created_time_dt\": \"2021-02-07T08:23:58.020688Z\", \"duration\": \"0:01:34\", \"iteration\": \"2\", \"goal\": \"accuracy_max\", \"run_name\": \"MinMaxScaler, RandomForest\", \"run_properties\": \"copy=True, feature_range=(0, 1\", \"primary_metric\": 0.99777, \"best_metric\": 0.99954}, {\"run_id\": \"AutoML_d12b6002-f654-415b-af0c-47d7b7c2d7e8_3\", \"run_number\": 9, \"metric\": null, \"status\": \"Completed\", \"run_type\": \"azureml.scriptrun\", \"training_percent\": \"100\", \"start_time\": \"2021-02-07T08:25:44.656832Z\", \"end_time\": \"2021-02-07T08:26:45.161204Z\", \"created_time\": \"2021-02-07T08:25:34.7617Z\", \"created_time_dt\": \"2021-02-07T08:25:34.7617Z\", \"duration\": \"0:01:10\", \"iteration\": \"3\", \"goal\": \"accuracy_max\", \"run_name\": \"MinMaxScaler, RandomForest\", \"run_properties\": \"copy=True, feature_range=(0, 1\", \"primary_metric\": 0.99777, \"best_metric\": 0.99954}, {\"run_id\": \"AutoML_d12b6002-f654-415b-af0c-47d7b7c2d7e8_4\", \"run_number\": 10, \"metric\": null, \"status\": \"Completed\", \"run_type\": \"azureml.scriptrun\", \"training_percent\": \"100\", \"start_time\": \"2021-02-07T08:26:59.894585Z\", \"end_time\": \"2021-02-07T08:28:27.692577Z\", \"created_time\": \"2021-02-07T08:26:48.183904Z\", \"created_time_dt\": \"2021-02-07T08:26:48.183904Z\", \"duration\": \"0:01:39\", \"iteration\": \"4\", \"goal\": \"accuracy_max\", \"run_name\": \"MinMaxScaler, RandomForest\", \"run_properties\": \"copy=True, feature_range=(0, 1\", \"primary_metric\": 0.98981, \"best_metric\": 0.99954}, {\"run_id\": \"AutoML_d12b6002-f654-415b-af0c-47d7b7c2d7e8_5\", \"run_number\": 11, \"metric\": null, \"status\": \"Completed\", \"run_type\": \"azureml.scriptrun\", \"training_percent\": \"100\", \"start_time\": \"2021-02-07T08:28:42.108702Z\", \"end_time\": \"2021-02-07T08:30:11.30164Z\", \"created_time\": \"2021-02-07T08:28:30.836326Z\", \"created_time_dt\": \"2021-02-07T08:28:30.836326Z\", \"duration\": \"0:01:40\", \"iteration\": \"5\", \"goal\": \"accuracy_max\", \"run_name\": \"StandardScalerWrapper, LightGBM\", \"run_properties\": \"<azureml.automl.runtime.shared.model_wrappers.StandardScalerWrapper object at 0x7facfc670940\", \"primary_metric\": 0.99955, \"best_metric\": 0.99955}, {\"run_id\": \"AutoML_d12b6002-f654-415b-af0c-47d7b7c2d7e8_6\", \"run_number\": 12, \"metric\": null, \"status\": \"Completed\", \"run_type\": \"azureml.scriptrun\", \"training_percent\": \"100\", \"start_time\": \"2021-02-07T08:30:27.292549Z\", \"end_time\": \"2021-02-07T08:31:45.702101Z\", \"created_time\": \"2021-02-07T08:30:14.305596Z\", \"created_time_dt\": \"2021-02-07T08:30:14.305596Z\", \"duration\": \"0:01:31\", \"iteration\": \"6\", \"goal\": \"accuracy_max\", \"run_name\": \"SparseNormalizer, GradientBoosting\", \"run_properties\": \"<azureml.automl.runtime.shared.model_wrappers.SparseNormalizer object at 0x7f94d80b3c88\", \"primary_metric\": 0.99851, \"best_metric\": 0.99955}, {\"run_id\": \"AutoML_d12b6002-f654-415b-af0c-47d7b7c2d7e8_7\", \"run_number\": 13, \"metric\": null, \"status\": \"Completed\", \"run_type\": \"azureml.scriptrun\", \"training_percent\": \"100\", \"start_time\": \"2021-02-07T08:32:02.246137Z\", \"end_time\": \"2021-02-07T08:33:14.198227Z\", \"created_time\": \"2021-02-07T08:31:48.270533Z\", \"created_time_dt\": \"2021-02-07T08:31:48.270533Z\", \"duration\": \"0:01:25\", \"iteration\": \"7\", \"goal\": \"accuracy_max\", \"run_name\": \"RobustScaler, ExtremeRandomTrees\", \"run_properties\": \"copy=True, quantile_range=[10, 90], with_centering=True,\\n             with_scaling=True\", \"primary_metric\": 0.99777, \"best_metric\": 0.99955}, {\"run_id\": \"AutoML_d12b6002-f654-415b-af0c-47d7b7c2d7e8_8\", \"run_number\": 14, \"metric\": null, \"status\": \"Completed\", \"run_type\": \"azureml.scriptrun\", \"training_percent\": \"100\", \"start_time\": \"2021-02-07T08:33:30.08479Z\", \"end_time\": \"2021-02-07T08:35:06.604878Z\", \"created_time\": \"2021-02-07T08:33:17.191207Z\", \"created_time_dt\": \"2021-02-07T08:33:17.191207Z\", \"duration\": \"0:01:49\", \"iteration\": \"8\", \"goal\": \"accuracy_max\", \"run_name\": \"SparseNormalizer, XGBoostClassifier\", \"run_properties\": \"<azureml.automl.runtime.shared.model_wrappers.SparseNormalizer object at 0x7f0634cc6550\", \"primary_metric\": 0.9994, \"best_metric\": 0.99955}, {\"run_id\": \"AutoML_d12b6002-f654-415b-af0c-47d7b7c2d7e8_9\", \"run_number\": 15, \"metric\": null, \"status\": \"Completed\", \"run_type\": \"azureml.scriptrun\", \"training_percent\": \"100\", \"start_time\": \"2021-02-07T08:35:22.935796Z\", \"end_time\": \"2021-02-07T08:36:21.847975Z\", \"created_time\": \"2021-02-07T08:35:09.11264Z\", \"created_time_dt\": \"2021-02-07T08:35:09.11264Z\", \"duration\": \"0:01:12\", \"iteration\": \"9\", \"goal\": \"accuracy_max\", \"run_name\": \"MinMaxScaler, LightGBM\", \"run_properties\": \"copy=True, feature_range=(0, 1\", \"primary_metric\": 0.99777, \"best_metric\": 0.99955}, {\"run_id\": \"AutoML_d12b6002-f654-415b-af0c-47d7b7c2d7e8_10\", \"run_number\": 16, \"metric\": null, \"status\": \"Completed\", \"run_type\": \"azureml.scriptrun\", \"training_percent\": \"100\", \"start_time\": \"2021-02-07T08:36:35.529732Z\", \"end_time\": \"2021-02-07T08:37:33.119364Z\", \"created_time\": \"2021-02-07T08:36:23.952121Z\", \"created_time_dt\": \"2021-02-07T08:36:23.952121Z\", \"duration\": \"0:01:09\", \"iteration\": \"10\", \"goal\": \"accuracy_max\", \"run_name\": \"RobustScaler, LightGBM\", \"run_properties\": \"copy=True, quantile_range=[10, 90], with_centering=False,\\n             with_scaling=False\", \"primary_metric\": 0.99777, \"best_metric\": 0.99955}, {\"run_id\": \"AutoML_d12b6002-f654-415b-af0c-47d7b7c2d7e8_11\", \"run_number\": 17, \"metric\": null, \"status\": \"Completed\", \"run_type\": \"azureml.scriptrun\", \"training_percent\": \"100\", \"start_time\": \"2021-02-07T08:37:50.536519Z\", \"end_time\": \"2021-02-07T08:39:14.446188Z\", \"created_time\": \"2021-02-07T08:37:36.531785Z\", \"created_time_dt\": \"2021-02-07T08:37:36.531785Z\", \"duration\": \"0:01:37\", \"iteration\": \"11\", \"goal\": \"accuracy_max\", \"run_name\": \"MinMaxScaler, LogisticRegression\", \"run_properties\": \"copy=True, feature_range=(0, 1\", \"primary_metric\": 0.99867, \"best_metric\": 0.99955}, {\"run_id\": \"AutoML_d12b6002-f654-415b-af0c-47d7b7c2d7e8_12\", \"run_number\": 18, \"metric\": null, \"status\": \"Completed\", \"run_type\": \"azureml.scriptrun\", \"training_percent\": \"100\", \"start_time\": \"2021-02-07T08:39:28.653003Z\", \"end_time\": \"2021-02-07T08:46:44.12416Z\", \"created_time\": \"2021-02-07T08:39:16.602518Z\", \"created_time_dt\": \"2021-02-07T08:39:16.602518Z\", \"duration\": \"0:07:27\", \"iteration\": \"12\", \"goal\": \"accuracy_max\", \"run_name\": \"SparseNormalizer, XGBoostClassifier\", \"run_properties\": \"<azureml.automl.runtime.shared.model_wrappers.SparseNormalizer object at 0x7fadae376b38\", \"primary_metric\": 0.99954, \"best_metric\": 0.99955}, {\"run_id\": \"AutoML_d12b6002-f654-415b-af0c-47d7b7c2d7e8_13\", \"run_number\": 19, \"metric\": null, \"status\": \"Completed\", \"run_type\": \"azureml.scriptrun\", \"training_percent\": \"100\", \"start_time\": \"2021-02-07T08:46:59.916422Z\", \"end_time\": \"2021-02-07T08:48:27.460817Z\", \"created_time\": \"2021-02-07T08:46:46.176831Z\", \"created_time_dt\": \"2021-02-07T08:46:46.176831Z\", \"duration\": \"0:01:41\", \"iteration\": \"13\", \"goal\": \"accuracy_max\", \"run_name\": \"SparseNormalizer, LightGBM\", \"run_properties\": \"<azureml.automl.runtime.shared.model_wrappers.SparseNormalizer object at 0x7ffa4c1179b0\", \"primary_metric\": 0.99943, \"best_metric\": 0.99955}, {\"run_id\": \"AutoML_d12b6002-f654-415b-af0c-47d7b7c2d7e8_14\", \"run_number\": 20, \"metric\": null, \"status\": \"Completed\", \"run_type\": \"azureml.scriptrun\", \"training_percent\": \"100\", \"start_time\": \"2021-02-07T08:48:44.499093Z\", \"end_time\": \"2021-02-07T08:50:06.229997Z\", \"created_time\": \"2021-02-07T08:48:30.551235Z\", \"created_time_dt\": \"2021-02-07T08:48:30.551235Z\", \"duration\": \"0:01:35\", \"iteration\": \"14\", \"goal\": \"accuracy_max\", \"run_name\": \"StandardScalerWrapper, XGBoostClassifier\", \"run_properties\": \"<azureml.automl.runtime.shared.model_wrappers.StandardScalerWrapper object at 0x7f1247953128\", \"primary_metric\": 0.9994, \"best_metric\": 0.99955}, {\"run_id\": \"AutoML_d12b6002-f654-415b-af0c-47d7b7c2d7e8_15\", \"run_number\": 21, \"metric\": null, \"status\": \"Completed\", \"run_type\": \"azureml.scriptrun\", \"training_percent\": \"100\", \"start_time\": \"2021-02-07T08:50:23.527728Z\", \"end_time\": \"2021-02-07T08:55:25.785097Z\", \"created_time\": \"2021-02-07T08:50:09.026531Z\", \"created_time_dt\": \"2021-02-07T08:50:09.026531Z\", \"duration\": \"0:05:16\", \"iteration\": \"15\", \"goal\": \"accuracy_max\", \"run_name\": \"SparseNormalizer, XGBoostClassifier\", \"run_properties\": \"<azureml.automl.runtime.shared.model_wrappers.SparseNormalizer object at 0x7f6c9867e7b8\", \"primary_metric\": 0.99952, \"best_metric\": 0.99955}, {\"run_id\": \"AutoML_d12b6002-f654-415b-af0c-47d7b7c2d7e8_16\", \"run_number\": 22, \"metric\": null, \"status\": \"Completed\", \"run_type\": \"azureml.scriptrun\", \"training_percent\": \"100\", \"start_time\": \"2021-02-07T08:55:39.526901Z\", \"end_time\": \"2021-02-07T08:56:53.022198Z\", \"created_time\": \"2021-02-07T08:55:27.697298Z\", \"created_time_dt\": \"2021-02-07T08:55:27.697298Z\", \"duration\": \"0:01:25\", \"iteration\": \"16\", \"goal\": \"accuracy_max\", \"run_name\": \"RobustScaler, ExtremeRandomTrees\", \"run_properties\": \"copy=True, quantile_range=[10, 90], with_centering=True,\\n             with_scaling=False\", \"primary_metric\": 0.99777, \"best_metric\": 0.99955}, {\"run_id\": \"AutoML_d12b6002-f654-415b-af0c-47d7b7c2d7e8_17\", \"run_number\": 23, \"metric\": null, \"status\": \"Completed\", \"run_type\": \"azureml.scriptrun\", \"training_percent\": \"100\", \"start_time\": \"2021-02-07T08:57:06.882851Z\", \"end_time\": \"2021-02-07T08:58:19.227238Z\", \"created_time\": \"2021-02-07T08:56:54.785846Z\", \"created_time_dt\": \"2021-02-07T08:56:54.785846Z\", \"duration\": \"0:01:24\", \"iteration\": \"17\", \"goal\": \"accuracy_max\", \"run_name\": \"SparseNormalizer, LightGBM\", \"run_properties\": \"<azureml.automl.runtime.shared.model_wrappers.SparseNormalizer object at 0x7f94d6bcde10\", \"primary_metric\": 0.99936, \"best_metric\": 0.99955}, {\"run_id\": \"AutoML_d12b6002-f654-415b-af0c-47d7b7c2d7e8_18\", \"run_number\": 24, \"metric\": null, \"status\": \"Completed\", \"run_type\": \"azureml.scriptrun\", \"training_percent\": \"100\", \"start_time\": \"2021-02-07T08:58:33.630989Z\", \"end_time\": \"2021-02-07T09:00:00.511572Z\", \"created_time\": \"2021-02-07T08:58:22.809488Z\", \"created_time_dt\": \"2021-02-07T08:58:22.809488Z\", \"duration\": \"0:01:37\", \"iteration\": \"18\", \"goal\": \"accuracy_max\", \"run_name\": \"SparseNormalizer, LightGBM\", \"run_properties\": \"<azureml.automl.runtime.shared.model_wrappers.SparseNormalizer object at 0x7f5cb1f69710\", \"primary_metric\": 0.99949, \"best_metric\": 0.99955}, {\"run_id\": \"AutoML_d12b6002-f654-415b-af0c-47d7b7c2d7e8_19\", \"run_number\": 25, \"metric\": null, \"status\": \"Completed\", \"run_type\": \"azureml.scriptrun\", \"training_percent\": \"100\", \"start_time\": \"2021-02-07T09:00:17.719953Z\", \"end_time\": \"2021-02-07T09:01:39.948243Z\", \"created_time\": \"2021-02-07T09:00:04.421692Z\", \"created_time_dt\": \"2021-02-07T09:00:04.421692Z\", \"duration\": \"0:01:35\", \"iteration\": \"19\", \"goal\": \"accuracy_max\", \"run_name\": \"SparseNormalizer, XGBoostClassifier\", \"run_properties\": \"<azureml.automl.runtime.shared.model_wrappers.SparseNormalizer object at 0x7f8598cae2e8\", \"primary_metric\": 0.9994, \"best_metric\": 0.99955}, {\"run_id\": \"AutoML_d12b6002-f654-415b-af0c-47d7b7c2d7e8_20\", \"run_number\": 26, \"metric\": null, \"status\": \"Completed\", \"run_type\": \"azureml.scriptrun\", \"training_percent\": \"100\", \"start_time\": \"2021-02-07T09:01:55.257451Z\", \"end_time\": \"2021-02-07T09:03:00.058474Z\", \"created_time\": \"2021-02-07T09:01:41.629475Z\", \"created_time_dt\": \"2021-02-07T09:01:41.629475Z\", \"duration\": \"0:01:18\", \"iteration\": \"20\", \"goal\": \"accuracy_max\", \"run_name\": \"SparseNormalizer, XGBoostClassifier\", \"run_properties\": \"<azureml.automl.runtime.shared.model_wrappers.SparseNormalizer object at 0x7f89d3bbe828\", \"primary_metric\": 0.99947, \"best_metric\": 0.99955}, {\"run_id\": \"AutoML_d12b6002-f654-415b-af0c-47d7b7c2d7e8_21\", \"run_number\": 27, \"metric\": null, \"status\": \"Completed\", \"run_type\": \"azureml.scriptrun\", \"training_percent\": \"100\", \"start_time\": \"2021-02-07T09:03:14.593631Z\", \"end_time\": \"2021-02-07T09:06:28.563082Z\", \"created_time\": \"2021-02-07T09:03:01.667141Z\", \"created_time_dt\": \"2021-02-07T09:03:01.667141Z\", \"duration\": \"0:03:26\", \"iteration\": \"21\", \"goal\": \"accuracy_max\", \"run_name\": \"StandardScalerWrapper, XGBoostClassifier\", \"run_properties\": \"<azureml.automl.runtime.shared.model_wrappers.StandardScalerWrapper object at 0x7fd078029208\", \"primary_metric\": 0.99957, \"best_metric\": 0.99957}, {\"run_id\": \"AutoML_d12b6002-f654-415b-af0c-47d7b7c2d7e8_22\", \"run_number\": 28, \"metric\": null, \"status\": \"Completed\", \"run_type\": \"azureml.scriptrun\", \"training_percent\": \"100\", \"start_time\": \"2021-02-07T09:06:44.567339Z\", \"end_time\": \"2021-02-07T09:08:17.993841Z\", \"created_time\": \"2021-02-07T09:06:32.589827Z\", \"created_time_dt\": \"2021-02-07T09:06:32.589827Z\", \"duration\": \"0:01:45\", \"iteration\": \"22\", \"goal\": \"accuracy_max\", \"run_name\": \"SparseNormalizer, XGBoostClassifier\", \"run_properties\": \"<azureml.automl.runtime.shared.model_wrappers.SparseNormalizer object at 0x7fb2e5dacf60\", \"primary_metric\": 0.99949, \"best_metric\": 0.99957}, {\"run_id\": \"AutoML_d12b6002-f654-415b-af0c-47d7b7c2d7e8_23\", \"run_number\": 29, \"metric\": null, \"status\": \"Completed\", \"run_type\": \"azureml.scriptrun\", \"training_percent\": \"100\", \"start_time\": \"2021-02-07T09:08:34.760073Z\", \"end_time\": \"2021-02-07T09:09:50.824584Z\", \"created_time\": \"2021-02-07T09:08:20.522765Z\", \"created_time_dt\": \"2021-02-07T09:08:20.522765Z\", \"duration\": \"0:01:30\", \"iteration\": \"23\", \"goal\": \"accuracy_max\", \"run_name\": \"SparseNormalizer, XGBoostClassifier\", \"run_properties\": \"<azureml.automl.runtime.shared.model_wrappers.SparseNormalizer object at 0x7f3e341e6358\", \"primary_metric\": 0.99904, \"best_metric\": 0.99957}, {\"run_id\": \"AutoML_d12b6002-f654-415b-af0c-47d7b7c2d7e8_24\", \"run_number\": 30, \"metric\": null, \"status\": \"Completed\", \"run_type\": \"azureml.scriptrun\", \"training_percent\": \"100\", \"start_time\": \"2021-02-07T09:10:04.923329Z\", \"end_time\": \"2021-02-07T09:11:29.819395Z\", \"created_time\": \"2021-02-07T09:09:52.602641Z\", \"created_time_dt\": \"2021-02-07T09:09:52.602641Z\", \"duration\": \"0:01:37\", \"iteration\": \"24\", \"goal\": \"accuracy_max\", \"run_name\": \"MinMaxScaler, LightGBM\", \"run_properties\": \"copy=True, feature_range=(0, 1\", \"primary_metric\": 0.99897, \"best_metric\": 0.99957}, {\"run_id\": \"AutoML_d12b6002-f654-415b-af0c-47d7b7c2d7e8_25\", \"run_number\": 31, \"metric\": null, \"status\": \"Completed\", \"run_type\": \"azureml.scriptrun\", \"training_percent\": \"100\", \"start_time\": \"2021-02-07T09:11:50.230516Z\", \"end_time\": \"2021-02-07T09:12:47.801394Z\", \"created_time\": \"2021-02-07T09:11:35.366967Z\", \"created_time_dt\": \"2021-02-07T09:11:35.366967Z\", \"duration\": \"0:01:12\", \"iteration\": \"25\", \"goal\": \"accuracy_max\", \"run_name\": \"SparseNormalizer, XGBoostClassifier\", \"run_properties\": \"<azureml.automl.runtime.shared.model_wrappers.SparseNormalizer object at 0x7f9476859550\", \"primary_metric\": 0.99777, \"best_metric\": 0.99957}, {\"run_id\": \"AutoML_d12b6002-f654-415b-af0c-47d7b7c2d7e8_26\", \"run_number\": 32, \"metric\": null, \"status\": \"Completed\", \"run_type\": \"azureml.scriptrun\", \"training_percent\": \"100\", \"start_time\": \"2021-02-07T09:13:01.472835Z\", \"end_time\": \"2021-02-07T09:14:05.103772Z\", \"created_time\": \"2021-02-07T09:12:50.331952Z\", \"created_time_dt\": \"2021-02-07T09:12:50.331952Z\", \"duration\": \"0:01:14\", \"iteration\": \"26\", \"goal\": \"accuracy_max\", \"run_name\": \"SparseNormalizer, XGBoostClassifier\", \"run_properties\": \"<azureml.automl.runtime.shared.model_wrappers.SparseNormalizer object at 0x7f0ad73cc278\", \"primary_metric\": 0.99887, \"best_metric\": 0.99957}, {\"run_id\": \"AutoML_d12b6002-f654-415b-af0c-47d7b7c2d7e8_27\", \"run_number\": 33, \"metric\": null, \"status\": \"Completed\", \"run_type\": \"azureml.scriptrun\", \"training_percent\": \"100\", \"start_time\": \"2021-02-07T09:14:21.258839Z\", \"end_time\": \"2021-02-07T09:23:15.913808Z\", \"created_time\": \"2021-02-07T09:14:08.149443Z\", \"created_time_dt\": \"2021-02-07T09:14:08.149443Z\", \"duration\": \"0:09:07\", \"iteration\": \"27\", \"goal\": \"accuracy_max\", \"run_name\": \"StandardScalerWrapper, XGBoostClassifier\", \"run_properties\": \"<azureml.automl.runtime.shared.model_wrappers.StandardScalerWrapper object at 0x7efd10400898\", \"primary_metric\": 0.99959, \"best_metric\": 0.99959}, {\"run_id\": \"AutoML_d12b6002-f654-415b-af0c-47d7b7c2d7e8_28\", \"run_number\": 34, \"metric\": null, \"status\": \"Completed\", \"run_type\": \"azureml.scriptrun\", \"training_percent\": \"100\", \"start_time\": \"2021-02-07T09:23:32.248229Z\", \"end_time\": \"2021-02-07T09:28:15.333208Z\", \"created_time\": \"2021-02-07T09:23:18.274621Z\", \"created_time_dt\": \"2021-02-07T09:23:18.274621Z\", \"duration\": \"0:04:57\", \"iteration\": \"28\", \"goal\": \"accuracy_max\", \"run_name\": \"SparseNormalizer, XGBoostClassifier\", \"run_properties\": \"<azureml.automl.runtime.shared.model_wrappers.SparseNormalizer object at 0x7fd3ac66b6a0\", \"primary_metric\": 0.99941, \"best_metric\": 0.99959}, {\"run_id\": \"AutoML_d12b6002-f654-415b-af0c-47d7b7c2d7e8_29\", \"run_number\": 35, \"metric\": null, \"status\": \"Completed\", \"run_type\": \"azureml.scriptrun\", \"training_percent\": \"100\", \"start_time\": \"2021-02-07T09:28:27.793869Z\", \"end_time\": \"2021-02-07T09:31:16.165209Z\", \"created_time\": \"2021-02-07T09:28:17.227614Z\", \"created_time_dt\": \"2021-02-07T09:28:17.227614Z\", \"duration\": \"0:02:58\", \"iteration\": \"29\", \"goal\": \"accuracy_max\", \"run_name\": \"SparseNormalizer, XGBoostClassifier\", \"run_properties\": \"<azureml.automl.runtime.shared.model_wrappers.SparseNormalizer object at 0x7f4bfa7bc780\", \"primary_metric\": 0.99954, \"best_metric\": 0.99959}, {\"run_id\": \"AutoML_d12b6002-f654-415b-af0c-47d7b7c2d7e8_30\", \"run_number\": 36, \"metric\": null, \"status\": \"Completed\", \"run_type\": \"azureml.scriptrun\", \"training_percent\": \"100\", \"start_time\": \"2021-02-07T09:31:30.536576Z\", \"end_time\": \"2021-02-07T09:32:37.401248Z\", \"created_time\": \"2021-02-07T09:31:19.554427Z\", \"created_time_dt\": \"2021-02-07T09:31:19.554427Z\", \"duration\": \"0:01:17\", \"iteration\": \"30\", \"goal\": \"accuracy_max\", \"run_name\": \"PCA, XGBoostClassifier\", \"run_properties\": \"copy=True, iterated_power='auto', n_components=0.9005263157894737,\\n    random_state=None, svd_solver='auto', tol=0.0, whiten=True\", \"primary_metric\": 0.99777, \"best_metric\": 0.99959}, {\"run_id\": \"AutoML_d12b6002-f654-415b-af0c-47d7b7c2d7e8_31\", \"run_number\": 37, \"metric\": null, \"status\": \"Completed\", \"run_type\": \"azureml.scriptrun\", \"training_percent\": \"100\", \"start_time\": \"2021-02-07T09:32:52.644035Z\", \"end_time\": \"2021-02-07T09:34:14.192834Z\", \"created_time\": \"2021-02-07T09:32:39.85496Z\", \"created_time_dt\": \"2021-02-07T09:32:39.85496Z\", \"duration\": \"0:01:34\", \"iteration\": \"31\", \"goal\": \"accuracy_max\", \"run_name\": \"MaxAbsScaler, LogisticRegression\", \"run_properties\": \"copy=True\", \"primary_metric\": 0.93831, \"best_metric\": 0.99959}, {\"run_id\": \"AutoML_d12b6002-f654-415b-af0c-47d7b7c2d7e8_32\", \"run_number\": 38, \"metric\": null, \"status\": \"Completed\", \"run_type\": \"azureml.scriptrun\", \"training_percent\": \"100\", \"start_time\": \"2021-02-07T09:34:30.906841Z\", \"end_time\": \"2021-02-07T09:54:51.716702Z\", \"created_time\": \"2021-02-07T09:34:17.586058Z\", \"created_time_dt\": \"2021-02-07T09:34:17.586058Z\", \"duration\": \"0:20:34\", \"iteration\": \"32\", \"goal\": \"accuracy_max\", \"run_name\": \"StandardScalerWrapper, RandomForest\", \"run_properties\": \"<azureml.automl.runtime.shared.model_wrappers.StandardScalerWrapper object at 0x7f8d6b96a940\", \"primary_metric\": 0.99777, \"best_metric\": 0.99959}, {\"run_id\": \"AutoML_d12b6002-f654-415b-af0c-47d7b7c2d7e8_33\", \"run_number\": 39, \"metric\": null, \"status\": \"Completed\", \"run_type\": \"azureml.scriptrun\", \"training_percent\": \"100\", \"start_time\": \"2021-02-07T09:55:07.626229Z\", \"end_time\": \"2021-02-07T09:57:42.556876Z\", \"created_time\": \"2021-02-07T09:54:54.306869Z\", \"created_time_dt\": \"2021-02-07T09:54:54.306869Z\", \"duration\": \"0:02:48\", \"iteration\": \"33\", \"goal\": \"accuracy_max\", \"run_name\": \"SparseNormalizer, XGBoostClassifier\", \"run_properties\": \"<azureml.automl.runtime.shared.model_wrappers.SparseNormalizer object at 0x7faf27f7de80\", \"primary_metric\": 0.9995, \"best_metric\": 0.99959}, {\"run_id\": \"AutoML_d12b6002-f654-415b-af0c-47d7b7c2d7e8_34\", \"run_number\": 40, \"metric\": null, \"status\": \"Completed\", \"run_type\": \"azureml.scriptrun\", \"training_percent\": \"100\", \"start_time\": \"2021-02-07T09:57:56.334304Z\", \"end_time\": \"2021-02-07T09:59:09.707567Z\", \"created_time\": \"2021-02-07T09:57:45.477489Z\", \"created_time_dt\": \"2021-02-07T09:57:45.477489Z\", \"duration\": \"0:01:24\", \"iteration\": \"34\", \"goal\": \"accuracy_max\", \"run_name\": \"SparseNormalizer, XGBoostClassifier\", \"run_properties\": \"<azureml.automl.runtime.shared.model_wrappers.SparseNormalizer object at 0x7ff46bd4db38\", \"primary_metric\": 0.99947, \"best_metric\": 0.99959}, {\"run_id\": \"AutoML_d12b6002-f654-415b-af0c-47d7b7c2d7e8_35\", \"run_number\": 41, \"metric\": null, \"status\": \"Completed\", \"run_type\": \"azureml.scriptrun\", \"training_percent\": \"100\", \"start_time\": \"2021-02-07T09:59:24.981139Z\", \"end_time\": \"2021-02-07T10:00:29.659547Z\", \"created_time\": \"2021-02-07T09:59:12.677078Z\", \"created_time_dt\": \"2021-02-07T09:59:12.677078Z\", \"duration\": \"0:01:16\", \"iteration\": \"35\", \"goal\": \"accuracy_max\", \"run_name\": \"PCA, XGBoostClassifier\", \"run_properties\": \"copy=True, iterated_power='auto', n_components=0.40578947368421053,\\n    random_state=None, svd_solver='auto', tol=0.0, whiten=False\", \"primary_metric\": 0.99777, \"best_metric\": 0.99959}, {\"run_id\": \"AutoML_d12b6002-f654-415b-af0c-47d7b7c2d7e8_36\", \"run_number\": 42, \"metric\": null, \"status\": \"Completed\", \"run_type\": \"azureml.scriptrun\", \"training_percent\": \"100\", \"start_time\": \"2021-02-07T10:00:43.212789Z\", \"end_time\": \"2021-02-07T10:01:40.780403Z\", \"created_time\": \"2021-02-07T10:00:31.80573Z\", \"created_time_dt\": \"2021-02-07T10:00:31.80573Z\", \"duration\": \"0:01:08\", \"iteration\": \"36\", \"goal\": \"accuracy_max\", \"run_name\": \"SparseNormalizer, LightGBM\", \"run_properties\": \"<azureml.automl.runtime.shared.model_wrappers.SparseNormalizer object at 0x7f3fdee1f128\", \"primary_metric\": 0.99913, \"best_metric\": 0.99959}, {\"run_id\": \"AutoML_d12b6002-f654-415b-af0c-47d7b7c2d7e8_37\", \"run_number\": 43, \"metric\": null, \"status\": \"Completed\", \"run_type\": \"azureml.scriptrun\", \"training_percent\": \"100\", \"start_time\": \"2021-02-07T10:01:55.503604Z\", \"end_time\": \"2021-02-07T10:06:21.928219Z\", \"created_time\": \"2021-02-07T10:01:42.463528Z\", \"created_time_dt\": \"2021-02-07T10:01:42.463528Z\", \"duration\": \"0:04:39\", \"iteration\": \"37\", \"goal\": \"accuracy_max\", \"run_name\": \"SparseNormalizer, XGBoostClassifier\", \"run_properties\": \"<azureml.automl.runtime.shared.model_wrappers.SparseNormalizer object at 0x7f1a08e97908\", \"primary_metric\": 0.99952, \"best_metric\": 0.99959}, {\"run_id\": \"AutoML_d12b6002-f654-415b-af0c-47d7b7c2d7e8_38\", \"run_number\": 44, \"metric\": null, \"status\": \"Completed\", \"run_type\": \"azureml.scriptrun\", \"training_percent\": \"100\", \"start_time\": \"2021-02-07T10:06:37.485612Z\", \"end_time\": \"2021-02-07T10:08:41.646214Z\", \"created_time\": \"2021-02-07T10:06:24.320164Z\", \"created_time_dt\": \"2021-02-07T10:06:24.320164Z\", \"duration\": \"0:02:17\", \"iteration\": \"38\", \"goal\": \"accuracy_max\", \"run_name\": \"VotingEnsemble\", \"run_properties\": \"classification_labels=None,\\n                              estimators=[('27',\\n                                           Pipeline(memory=None,\\n                                                    steps=[('standardscalerwrapper',\\n                                                            <azureml.automl.runtime.shared.model_wrappers.StandardScalerWrapper object at 0x7f772accf6a0>\", \"primary_metric\": 0.9996, \"best_metric\": 0.9996}, {\"run_id\": \"AutoML_d12b6002-f654-415b-af0c-47d7b7c2d7e8_39\", \"run_number\": 45, \"metric\": null, \"status\": \"Completed\", \"run_type\": \"azureml.scriptrun\", \"training_percent\": \"100\", \"start_time\": \"2021-02-07T10:08:56.182359Z\", \"end_time\": \"2021-02-07T10:11:46.570964Z\", \"created_time\": \"2021-02-07T10:08:43.166453Z\", \"created_time_dt\": \"2021-02-07T10:08:43.166453Z\", \"duration\": \"0:03:03\", \"iteration\": \"39\", \"goal\": \"accuracy_max\", \"run_name\": \"StackEnsemble\", \"run_properties\": \"base_learners=[('27',\\n                                        Pipeline(memory=None,\\n                                                 steps=[('standardscalerwrapper',\\n                                                         <azureml.automl.runtime.shared.model_wrappers.StandardScalerWrapper object at 0x7ff05c7e1f98>\", \"primary_metric\": 0.99954, \"best_metric\": 0.9996}], \"children_metrics\": {\"categories\": [0], \"series\": {\"f1_score_micro\": [{\"categories\": [\"0\", \"1\", \"2\", \"3\", \"4\", \"5\", \"6\", \"7\", \"8\", \"9\", \"10\", \"11\", \"12\", \"13\", \"14\", \"15\", \"16\", \"17\", \"18\", \"19\", \"20\", \"21\", \"22\", \"23\", \"24\", \"25\", \"26\", \"27\", \"28\", \"29\", \"30\", \"31\", \"32\", \"33\", \"34\", \"35\", \"36\", \"37\", \"38\", \"39\"], \"mode\": \"markers\", \"name\": \"f1_score_micro\", \"stepped\": false, \"type\": \"scatter\", \"data\": [0.9949399999999999, 0.99954, 0.99777, 0.99777, 0.98981, 0.9995499999999999, 0.9985099999999999, 0.99777, 0.9994, 0.99777, 0.99777, 0.9986700000000001, 0.99954, 0.9994299999999999, 0.9994, 0.9995200000000001, 0.99777, 0.99936, 0.9994900000000001, 0.9994, 0.99947, 0.99957, 0.99949, 0.9990399999999999, 0.9989699999999999, 0.99777, 0.9988700000000001, 0.9995900000000001, 0.9994100000000001, 0.99954, 0.99777, 0.9383100000000001, 0.99777, 0.9994999999999999, 0.99947, 0.99777, 0.9991299999999999, 0.9995200000000001, 0.9996, 0.99954]}, {\"categories\": [\"0\", \"1\", \"2\", \"3\", \"4\", \"5\", \"6\", \"7\", \"8\", \"9\", \"10\", \"11\", \"12\", \"13\", \"14\", \"15\", \"16\", \"17\", \"18\", \"19\", \"20\", \"21\", \"22\", \"23\", \"24\", \"25\", \"26\", \"27\", \"28\", \"29\", \"30\", \"31\", \"32\", \"33\", \"34\", \"35\", \"36\", \"37\", \"38\", \"39\"], \"mode\": \"lines\", \"name\": \"f1_score_micro_max\", \"stepped\": true, \"type\": \"scatter\", \"data\": [0.9949399999999999, 0.99954, 0.99954, 0.99954, 0.99954, 0.9995499999999999, 0.9995499999999999, 0.9995499999999999, 0.9995499999999999, 0.9995499999999999, 0.9995499999999999, 0.9995499999999999, 0.9995499999999999, 0.9995499999999999, 0.9995499999999999, 0.9995499999999999, 0.9995499999999999, 0.9995499999999999, 0.9995499999999999, 0.9995499999999999, 0.9995499999999999, 0.99957, 0.99957, 0.99957, 0.99957, 0.99957, 0.99957, 0.9995900000000001, 0.9995900000000001, 0.9995900000000001, 0.9995900000000001, 0.9995900000000001, 0.9995900000000001, 0.9995900000000001, 0.9995900000000001, 0.9995900000000001, 0.9995900000000001, 0.9995900000000001, 0.9996, 0.9996]}], \"average_precision_score_micro\": [{\"categories\": [\"0\", \"1\", \"2\", \"3\", \"4\", \"5\", \"6\", \"7\", \"8\", \"9\", \"10\", \"11\", \"12\", \"13\", \"14\", \"15\", \"16\", \"17\", \"18\", \"19\", \"20\", \"21\", \"22\", \"23\", \"24\", \"25\", \"26\", \"27\", \"28\", \"29\", \"30\", \"31\", \"32\", \"33\", \"34\", \"35\", \"36\", \"37\", \"38\", \"39\"], \"mode\": \"markers\", \"name\": \"average_precision_score_micro\", \"stepped\": false, \"type\": \"scatter\", \"data\": [0.9926994707337504, 0.9999348972594332, 0.9998305906206086, 0.99983162801374, 0.9989215400208588, 0.9999035729332885, 0.9997520116492404, 0.9997973326129099, 0.999799019516406, 0.9998541839307027, 0.9998795066749547, 0.999846825904843, 0.9998939026381404, 0.9998959209576415, 0.999577480520955, 0.999873901796416, 0.9998505662827541, 0.9999286073159709, 0.999869187452268, 0.9999341348017501, 0.9999328423258952, 0.9999054729321845, 0.9998887217668309, 0.999880844787986, 0.9999314997761068, 0.9966600185000001, 0.9995921396760622, 0.999897608126355, 0.9998792155837883, 0.9998765157624764, 0.9966600185000001, 0.966242276241896, 0.9998700054262247, 0.9998962243091457, 0.9999152692879367, 0.9966600185000001, 0.9999133137164214, 0.999884562959384, 0.9999063736322752, 0.9998379000213454]}, {\"categories\": [\"0\", \"1\", \"2\", \"3\", \"4\", \"5\", \"6\", \"7\", \"8\", \"9\", \"10\", \"11\", \"12\", \"13\", \"14\", \"15\", \"16\", \"17\", \"18\", \"19\", \"20\", \"21\", \"22\", \"23\", \"24\", \"25\", \"26\", \"27\", \"28\", \"29\", \"30\", \"31\", \"32\", \"33\", \"34\", \"35\", \"36\", \"37\", \"38\", \"39\"], \"mode\": \"lines\", \"name\": \"average_precision_score_micro_max\", \"stepped\": true, \"type\": \"scatter\", \"data\": [0.9926994707337504, 0.9999348972594332, 0.9999348972594332, 0.9999348972594332, 0.9999348972594332, 0.9999348972594332, 0.9999348972594332, 0.9999348972594332, 0.9999348972594332, 0.9999348972594332, 0.9999348972594332, 0.9999348972594332, 0.9999348972594332, 0.9999348972594332, 0.9999348972594332, 0.9999348972594332, 0.9999348972594332, 0.9999348972594332, 0.9999348972594332, 0.9999348972594332, 0.9999348972594332, 0.9999348972594332, 0.9999348972594332, 0.9999348972594332, 0.9999348972594332, 0.9999348972594332, 0.9999348972594332, 0.9999348972594332, 0.9999348972594332, 0.9999348972594332, 0.9999348972594332, 0.9999348972594332, 0.9999348972594332, 0.9999348972594332, 0.9999348972594332, 0.9999348972594332, 0.9999348972594332, 0.9999348972594332, 0.9999348972594332, 0.9999348972594332]}], \"weighted_accuracy\": [{\"categories\": [\"0\", \"1\", \"2\", \"3\", \"4\", \"5\", \"6\", \"7\", \"8\", \"9\", \"10\", \"11\", \"12\", \"13\", \"14\", \"15\", \"16\", \"17\", \"18\", \"19\", \"20\", \"21\", \"22\", \"23\", \"24\", \"25\", \"26\", \"27\", \"28\", \"29\", \"30\", \"31\", \"32\", \"33\", \"34\", \"35\", \"36\", \"37\", \"38\", \"39\"], \"mode\": \"markers\", \"name\": \"weighted_accuracy\", \"stepped\": false, \"type\": \"scatter\", \"data\": [0.9962486561724768, 0.9998789614769038, 0.9999949586752079, 0.9999949586752079, 0.9899969545627366, 0.9998989807896675, 0.9995966293764382, 0.9999949586752079, 0.9999286304240206, 0.9999949586752079, 0.9999949586752079, 0.999646979465669, 0.9999389537943377, 0.9998587099916622, 0.9998986499001239, 0.9999289107115497, 0.9999949586752079, 0.9998685567491098, 0.9998988431760155, 0.9998586452100693, 0.9999088099458916, 0.999939039641764, 0.9999088441435292, 0.9995678195025495, 0.9995876500419932, 0.9999949586752079, 0.9999474666267583, 0.9999190790720631, 0.9998986543628119, 0.9999189630872802, 0.9999949586752079, 0.9383334330285857, 0.9999949586752079, 0.9999388633972821, 0.9999087938883686, 0.9999949586752079, 0.9998580340028372, 0.9999389055729451, 0.9999490953307262, 0.9999489566832865]}, {\"categories\": [\"0\", \"1\", \"2\", \"3\", \"4\", \"5\", \"6\", \"7\", \"8\", \"9\", \"10\", \"11\", \"12\", \"13\", \"14\", \"15\", \"16\", \"17\", \"18\", \"19\", \"20\", \"21\", \"22\", \"23\", \"24\", \"25\", \"26\", \"27\", \"28\", \"29\", \"30\", \"31\", \"32\", \"33\", \"34\", \"35\", \"36\", \"37\", \"38\", \"39\"], \"mode\": \"lines\", \"name\": \"weighted_accuracy_max\", \"stepped\": true, \"type\": \"scatter\", \"data\": [0.9962486561724768, 0.9998789614769038, 0.9999949586752079, 0.9999949586752079, 0.9999949586752079, 0.9999949586752079, 0.9999949586752079, 0.9999949586752079, 0.9999949586752079, 0.9999949586752079, 0.9999949586752079, 0.9999949586752079, 0.9999949586752079, 0.9999949586752079, 0.9999949586752079, 0.9999949586752079, 0.9999949586752079, 0.9999949586752079, 0.9999949586752079, 0.9999949586752079, 0.9999949586752079, 0.9999949586752079, 0.9999949586752079, 0.9999949586752079, 0.9999949586752079, 0.9999949586752079, 0.9999949586752079, 0.9999949586752079, 0.9999949586752079, 0.9999949586752079, 0.9999949586752079, 0.9999949586752079, 0.9999949586752079, 0.9999949586752079, 0.9999949586752079, 0.9999949586752079, 0.9999949586752079, 0.9999949586752079, 0.9999949586752079, 0.9999949586752079]}], \"balanced_accuracy\": [{\"categories\": [\"0\", \"1\", \"2\", \"3\", \"4\", \"5\", \"6\", \"7\", \"8\", \"9\", \"10\", \"11\", \"12\", \"13\", \"14\", \"15\", \"16\", \"17\", \"18\", \"19\", \"20\", \"21\", \"22\", \"23\", \"24\", \"25\", \"26\", \"27\", \"28\", \"29\", \"30\", \"31\", \"32\", \"33\", \"34\", \"35\", \"36\", \"37\", \"38\", \"39\"], \"mode\": \"markers\", \"name\": \"balanced_accuracy\", \"stepped\": false, \"type\": \"scatter\", \"data\": [0.707926868067059, 0.9241390848493684, 0.5, 0.5, 0.9482352387308002, 0.9230604590255226, 0.7551769891746354, 0.5, 0.8830963726984745, 0.5, 0.5, 0.7799675142753408, 0.9116450029684025, 0.9049371709803415, 0.887837057439898, 0.9092275670498473, 0.5, 0.8859736171211507, 0.9096083788736247, 0.8978680705566651, 0.9018824048550632, 0.9177619454847828, 0.9065148402893808, 0.8820561540607017, 0.8625213937866253, 0.5, 0.7559693798246326, 0.9265770705987805, 0.8917954109769, 0.9150547261923452, 0.5, 0.9357078703263777, 0.5, 0.9026516772787246, 0.9027234861981448, 0.5, 0.8367301202800685, 0.9073896833173597, 0.9225104707682185, 0.9095223566779321]}, {\"categories\": [\"0\", \"1\", \"2\", \"3\", \"4\", \"5\", \"6\", \"7\", \"8\", \"9\", \"10\", \"11\", \"12\", \"13\", \"14\", \"15\", \"16\", \"17\", \"18\", \"19\", \"20\", \"21\", \"22\", \"23\", \"24\", \"25\", \"26\", \"27\", \"28\", \"29\", \"30\", \"31\", \"32\", \"33\", \"34\", \"35\", \"36\", \"37\", \"38\", \"39\"], \"mode\": \"lines\", \"name\": \"balanced_accuracy_max\", \"stepped\": true, \"type\": \"scatter\", \"data\": [0.707926868067059, 0.9241390848493684, 0.9241390848493684, 0.9241390848493684, 0.9482352387308002, 0.9482352387308002, 0.9482352387308002, 0.9482352387308002, 0.9482352387308002, 0.9482352387308002, 0.9482352387308002, 0.9482352387308002, 0.9482352387308002, 0.9482352387308002, 0.9482352387308002, 0.9482352387308002, 0.9482352387308002, 0.9482352387308002, 0.9482352387308002, 0.9482352387308002, 0.9482352387308002, 0.9482352387308002, 0.9482352387308002, 0.9482352387308002, 0.9482352387308002, 0.9482352387308002, 0.9482352387308002, 0.9482352387308002, 0.9482352387308002, 0.9482352387308002, 0.9482352387308002, 0.9482352387308002, 0.9482352387308002, 0.9482352387308002, 0.9482352387308002, 0.9482352387308002, 0.9482352387308002, 0.9482352387308002, 0.9482352387308002, 0.9482352387308002]}], \"log_loss\": [{\"categories\": [\"0\", \"1\", \"2\", \"3\", \"4\", \"5\", \"6\", \"7\", \"8\", \"9\", \"10\", \"11\", \"12\", \"13\", \"14\", \"15\", \"16\", \"17\", \"18\", \"19\", \"20\", \"21\", \"22\", \"23\", \"24\", \"25\", \"26\", \"27\", \"28\", \"29\", \"30\", \"31\", \"32\", \"33\", \"34\", \"35\", \"36\", \"37\", \"38\", \"39\"], \"mode\": \"markers\", \"name\": \"log_loss\", \"stepped\": false, \"type\": \"scatter\", \"data\": [0.16035733245228978, 0.0024659661723764386, 0.008534410834335726, 0.010713907127487796, 0.08939720150463042, 0.0025222732011794383, 0.006224985366030425, 0.011786417140546245, 0.006084630634381996, 0.005985098085112955, 0.005469142151568085, 0.005237633481002658, 0.00307360347365649, 0.0029099837612212285, 0.04259280448520713, 0.0028086327109065334, 0.013086861821475337, 0.0030221936248959014, 0.0028032806296102693, 0.002862746967242682, 0.0027294541255408118, 0.002420837049240108, 0.002791476339503091, 0.003908489999402001, 0.003743982703378887, 0.017046240565198302, 0.20006323782662333, 0.0023960135646160854, 0.003021134080487168, 0.002935436191667992, 0.049541293644322984, 0.44852762387804307, 0.009774650499220772, 0.002721963560466359, 0.0028563928105124173, 0.0495714646831396, 0.004046616251656778, 0.0026771461879003594, 0.002381021576897139, 0.003095832688188998]}, {\"categories\": [\"0\", \"1\", \"2\", \"3\", \"4\", \"5\", \"6\", \"7\", \"8\", \"9\", \"10\", \"11\", \"12\", \"13\", \"14\", \"15\", \"16\", \"17\", \"18\", \"19\", \"20\", \"21\", \"22\", \"23\", \"24\", \"25\", \"26\", \"27\", \"28\", \"29\", \"30\", \"31\", \"32\", \"33\", \"34\", \"35\", \"36\", \"37\", \"38\", \"39\"], \"mode\": \"lines\", \"name\": \"log_loss_min\", \"stepped\": true, \"type\": \"scatter\", \"data\": [0.16035733245228978, 0.0024659661723764386, 0.0024659661723764386, 0.0024659661723764386, 0.0024659661723764386, 0.0024659661723764386, 0.0024659661723764386, 0.0024659661723764386, 0.0024659661723764386, 0.0024659661723764386, 0.0024659661723764386, 0.0024659661723764386, 0.0024659661723764386, 0.0024659661723764386, 0.0024659661723764386, 0.0024659661723764386, 0.0024659661723764386, 0.0024659661723764386, 0.0024659661723764386, 0.0024659661723764386, 0.0024659661723764386, 0.002420837049240108, 0.002420837049240108, 0.002420837049240108, 0.002420837049240108, 0.002420837049240108, 0.002420837049240108, 0.0023960135646160854, 0.0023960135646160854, 0.0023960135646160854, 0.0023960135646160854, 0.0023960135646160854, 0.0023960135646160854, 0.0023960135646160854, 0.0023960135646160854, 0.0023960135646160854, 0.0023960135646160854, 0.0023960135646160854, 0.002381021576897139, 0.002381021576897139]}], \"f1_score_weighted\": [{\"categories\": [\"0\", \"1\", \"2\", \"3\", \"4\", \"5\", \"6\", \"7\", \"8\", \"9\", \"10\", \"11\", \"12\", \"13\", \"14\", \"15\", \"16\", \"17\", \"18\", \"19\", \"20\", \"21\", \"22\", \"23\", \"24\", \"25\", \"26\", \"27\", \"28\", \"29\", \"30\", \"31\", \"32\", \"33\", \"34\", \"35\", \"36\", \"37\", \"38\", \"39\"], \"mode\": \"markers\", \"name\": \"f1_score_weighted\", \"stepped\": false, \"type\": \"scatter\", \"data\": [0.9958563690958456, 0.9995281305375874, 0.9966562560499252, 0.9966562560499252, 0.9932906580852541, 0.9995363857292251, 0.998372874472435, 0.9966562560499252, 0.9993645185140879, 0.9966562560499252, 0.9966562560499252, 0.9985588980072737, 0.9995202500952706, 0.9994100347944617, 0.9993695366836128, 0.9994995987996165, 0.9966562560499252, 0.9993297725713285, 0.9994694275637392, 0.9993767053972291, 0.9994477799030413, 0.999554086923433, 0.9994693889927959, 0.9990284241851768, 0.9989427977866407, 0.9966562560499252, 0.9986861578533663, 0.9995780134159048, 0.9993807294142197, 0.9995229804525969, 0.9966562560499252, 0.9659916556181527, 0.9966562560499252, 0.9994762784932785, 0.9994466282231593, 0.9966562560499252, 0.9990629908057949, 0.9994980470091217, 0.9995851193329347, 0.9995193131551817]}, {\"categories\": [\"0\", \"1\", \"2\", \"3\", \"4\", \"5\", \"6\", \"7\", \"8\", \"9\", \"10\", \"11\", \"12\", \"13\", \"14\", \"15\", \"16\", \"17\", \"18\", \"19\", \"20\", \"21\", \"22\", \"23\", \"24\", \"25\", \"26\", \"27\", \"28\", \"29\", \"30\", \"31\", \"32\", \"33\", \"34\", \"35\", \"36\", \"37\", \"38\", \"39\"], \"mode\": \"lines\", \"name\": \"f1_score_weighted_max\", \"stepped\": true, \"type\": \"scatter\", \"data\": [0.9958563690958456, 0.9995281305375874, 0.9995281305375874, 0.9995281305375874, 0.9995281305375874, 0.9995363857292251, 0.9995363857292251, 0.9995363857292251, 0.9995363857292251, 0.9995363857292251, 0.9995363857292251, 0.9995363857292251, 0.9995363857292251, 0.9995363857292251, 0.9995363857292251, 0.9995363857292251, 0.9995363857292251, 0.9995363857292251, 0.9995363857292251, 0.9995363857292251, 0.9995363857292251, 0.999554086923433, 0.999554086923433, 0.999554086923433, 0.999554086923433, 0.999554086923433, 0.999554086923433, 0.9995780134159048, 0.9995780134159048, 0.9995780134159048, 0.9995780134159048, 0.9995780134159048, 0.9995780134159048, 0.9995780134159048, 0.9995780134159048, 0.9995780134159048, 0.9995780134159048, 0.9995780134159048, 0.9995851193329347, 0.9995851193329347]}], \"AUC_weighted\": [{\"categories\": [\"0\", \"1\", \"2\", \"3\", \"4\", \"5\", \"6\", \"7\", \"8\", \"9\", \"10\", \"11\", \"12\", \"13\", \"14\", \"15\", \"16\", \"17\", \"18\", \"19\", \"20\", \"21\", \"22\", \"23\", \"24\", \"25\", \"26\", \"27\", \"28\", \"29\", \"30\", \"31\", \"32\", \"33\", \"34\", \"35\", \"36\", \"37\", \"38\", \"39\"], \"mode\": \"markers\", \"name\": \"AUC_weighted\", \"stepped\": false, \"type\": \"scatter\", \"data\": [0.6652054652785736, 0.9863538534873566, 0.971364097023651, 0.9653531520356088, 0.9736699346824477, 0.9806370034612737, 0.9559757170327023, 0.9635702055751143, 0.96683865106309, 0.9700878940516698, 0.9750496227699209, 0.9701336140049085, 0.9798504542366887, 0.9808317302556275, 0.9375328404281287, 0.9809593806417988, 0.9708465533856391, 0.986297342581187, 0.9782213611636186, 0.9860143291321736, 0.9857155147289056, 0.9813947412971235, 0.9826695346977488, 0.9765412994747775, 0.9854473730051947, 0.5, 0.9389386162964316, 0.9803458010073074, 0.9788274036080431, 0.9792750779232744, 0.5, 0.9746395179324514, 0.9732278039226208, 0.9810991887486773, 0.9832309732746015, 0.5, 0.9820647052546956, 0.9803283799128437, 0.9816478508943, 0.9813570180708657]}, {\"categories\": [\"0\", \"1\", \"2\", \"3\", \"4\", \"5\", \"6\", \"7\", \"8\", \"9\", \"10\", \"11\", \"12\", \"13\", \"14\", \"15\", \"16\", \"17\", \"18\", \"19\", \"20\", \"21\", \"22\", \"23\", \"24\", \"25\", \"26\", \"27\", \"28\", \"29\", \"30\", \"31\", \"32\", \"33\", \"34\", \"35\", \"36\", \"37\", \"38\", \"39\"], \"mode\": \"lines\", \"name\": \"AUC_weighted_max\", \"stepped\": true, \"type\": \"scatter\", \"data\": [0.6652054652785736, 0.9863538534873566, 0.9863538534873566, 0.9863538534873566, 0.9863538534873566, 0.9863538534873566, 0.9863538534873566, 0.9863538534873566, 0.9863538534873566, 0.9863538534873566, 0.9863538534873566, 0.9863538534873566, 0.9863538534873566, 0.9863538534873566, 0.9863538534873566, 0.9863538534873566, 0.9863538534873566, 0.9863538534873566, 0.9863538534873566, 0.9863538534873566, 0.9863538534873566, 0.9863538534873566, 0.9863538534873566, 0.9863538534873566, 0.9863538534873566, 0.9863538534873566, 0.9863538534873566, 0.9863538534873566, 0.9863538534873566, 0.9863538534873566, 0.9863538534873566, 0.9863538534873566, 0.9863538534873566, 0.9863538534873566, 0.9863538534873566, 0.9863538534873566, 0.9863538534873566, 0.9863538534873566, 0.9863538534873566, 0.9863538534873566]}], \"average_precision_score_macro\": [{\"categories\": [\"0\", \"1\", \"2\", \"3\", \"4\", \"5\", \"6\", \"7\", \"8\", \"9\", \"10\", \"11\", \"12\", \"13\", \"14\", \"15\", \"16\", \"17\", \"18\", \"19\", \"20\", \"21\", \"22\", \"23\", \"24\", \"25\", \"26\", \"27\", \"28\", \"29\", \"30\", \"31\", \"32\", \"33\", \"34\", \"35\", \"36\", \"37\", \"38\", \"39\"], \"mode\": \"markers\", \"name\": \"average_precision_score_macro\", \"stepped\": false, \"type\": \"scatter\", \"data\": [0.5775501517664721, 0.9521767440998945, 0.8293001427911812, 0.8355903940554914, 0.8261051486430693, 0.9544525486045604, 0.7935521691565496, 0.8300609460607353, 0.9328265941376068, 0.8295903994711468, 0.8447584916517685, 0.87925250697577, 0.9491016758794697, 0.9420022622812659, 0.9251104880798806, 0.9464426918460201, 0.8268587534872772, 0.9336761803675426, 0.9470530098637742, 0.941250493490946, 0.9411289058774873, 0.9565945947830293, 0.945046795731834, 0.9064943909371216, 0.9172124059880515, 0.5, 0.9001605881243329, 0.9550193504492424, 0.9369051018831026, 0.9450072610627643, 0.5, 0.8031738129298975, 0.8188312331760234, 0.9460941510684051, 0.9413380136296124, 0.5, 0.9084912110371433, 0.9492756594266656, 0.9573182109559921, 0.9550476862156568]}, {\"categories\": [\"0\", \"1\", \"2\", \"3\", \"4\", \"5\", \"6\", \"7\", \"8\", \"9\", \"10\", \"11\", \"12\", \"13\", \"14\", \"15\", \"16\", \"17\", \"18\", \"19\", \"20\", \"21\", \"22\", \"23\", \"24\", \"25\", \"26\", \"27\", \"28\", \"29\", \"30\", \"31\", \"32\", \"33\", \"34\", \"35\", \"36\", \"37\", \"38\", \"39\"], \"mode\": \"lines\", \"name\": \"average_precision_score_macro_max\", \"stepped\": true, \"type\": \"scatter\", \"data\": [0.5775501517664721, 0.9521767440998945, 0.9521767440998945, 0.9521767440998945, 0.9521767440998945, 0.9544525486045604, 0.9544525486045604, 0.9544525486045604, 0.9544525486045604, 0.9544525486045604, 0.9544525486045604, 0.9544525486045604, 0.9544525486045604, 0.9544525486045604, 0.9544525486045604, 0.9544525486045604, 0.9544525486045604, 0.9544525486045604, 0.9544525486045604, 0.9544525486045604, 0.9544525486045604, 0.9565945947830293, 0.9565945947830293, 0.9565945947830293, 0.9565945947830293, 0.9565945947830293, 0.9565945947830293, 0.9565945947830293, 0.9565945947830293, 0.9565945947830293, 0.9565945947830293, 0.9565945947830293, 0.9565945947830293, 0.9565945947830293, 0.9565945947830293, 0.9565945947830293, 0.9565945947830293, 0.9565945947830293, 0.9573182109559921, 0.9573182109559921]}], \"precision_score_macro\": [{\"categories\": [\"0\", \"1\", \"2\", \"3\", \"4\", \"5\", \"6\", \"7\", \"8\", \"9\", \"10\", \"11\", \"12\", \"13\", \"14\", \"15\", \"16\", \"17\", \"18\", \"19\", \"20\", \"21\", \"22\", \"23\", \"24\", \"25\", \"26\", \"27\", \"28\", \"29\", \"30\", \"31\", \"32\", \"33\", \"34\", \"35\", \"36\", \"37\", \"38\", \"39\"], \"mode\": \"markers\", \"name\": \"precision_score_macro\", \"stepped\": false, \"type\": \"scatter\", \"data\": [0.6091571570608575, 0.9695195760224788, 0.498885, 0.498885, 0.5859969615691583, 0.9744288307522035, 0.8715864938959159, 0.498885, 0.980219337689522, 0.498885, 0.498885, 0.8927521022280758, 0.9835259018052824, 0.9634585298434402, 0.9717707989541342, 0.9808145419612604, 0.498885, 0.9640166231266502, 0.973314644559216, 0.9634889091870644, 0.9755604697427251, 0.9833616526125027, 0.9758235842539025, 0.8999821777616519, 0.9001419582802489, 0.498885, 0.978880054093142, 0.9789616539657059, 0.9726878197739482, 0.9785376846742793, 0.498885, 0.5856902961717967, 0.498885, 0.983347784236144, 0.9757100942597298, 0.498885, 0.9573414453665487, 0.9834447627782588, 0.9861891276991688, 0.9862231849497818]}, {\"categories\": [\"0\", \"1\", \"2\", \"3\", \"4\", \"5\", \"6\", \"7\", \"8\", \"9\", \"10\", \"11\", \"12\", \"13\", \"14\", \"15\", \"16\", \"17\", \"18\", \"19\", \"20\", \"21\", \"22\", \"23\", \"24\", \"25\", \"26\", \"27\", \"28\", \"29\", \"30\", \"31\", \"32\", \"33\", \"34\", \"35\", \"36\", \"37\", \"38\", \"39\"], \"mode\": \"lines\", \"name\": \"precision_score_macro_max\", \"stepped\": true, \"type\": \"scatter\", \"data\": [0.6091571570608575, 0.9695195760224788, 0.9695195760224788, 0.9695195760224788, 0.9695195760224788, 0.9744288307522035, 0.9744288307522035, 0.9744288307522035, 0.980219337689522, 0.980219337689522, 0.980219337689522, 0.980219337689522, 0.9835259018052824, 0.9835259018052824, 0.9835259018052824, 0.9835259018052824, 0.9835259018052824, 0.9835259018052824, 0.9835259018052824, 0.9835259018052824, 0.9835259018052824, 0.9835259018052824, 0.9835259018052824, 0.9835259018052824, 0.9835259018052824, 0.9835259018052824, 0.9835259018052824, 0.9835259018052824, 0.9835259018052824, 0.9835259018052824, 0.9835259018052824, 0.9835259018052824, 0.9835259018052824, 0.9835259018052824, 0.9835259018052824, 0.9835259018052824, 0.9835259018052824, 0.9835259018052824, 0.9861891276991688, 0.9862231849497818]}], \"AUC_micro\": [{\"categories\": [\"0\", \"1\", \"2\", \"3\", \"4\", \"5\", \"6\", \"7\", \"8\", \"9\", \"10\", \"11\", \"12\", \"13\", \"14\", \"15\", \"16\", \"17\", \"18\", \"19\", \"20\", \"21\", \"22\", \"23\", \"24\", \"25\", \"26\", \"27\", \"28\", \"29\", \"30\", \"31\", \"32\", \"33\", \"34\", \"35\", \"36\", \"37\", \"38\", \"39\"], \"mode\": \"markers\", \"name\": \"AUC_micro\", \"stepped\": false, \"type\": \"scatter\", \"data\": [0.99457720625, 0.9999361505, 0.9998626195000002, 0.9998382684999999, 0.9989938835000001, 0.9999096295000001, 0.999798666, 0.9998299164999999, 0.999846621, 0.9998600355, 0.999882396, 0.9998591254999999, 0.999906929, 0.9999099115, 0.9997173540000001, 0.9999111190000001, 0.9998613045000001, 0.9999348595, 0.9998981965, 0.99993484525, 0.9999332215000001, 0.99991328325, 0.9999188605, 0.9998900105, 0.9999306945, 0.99777, 0.9997225750000001, 0.999908306, 0.9999004682500001, 0.9999031224999999, 0.99777, 0.9704399307499999, 0.9998731485000001, 0.99991133, 0.9999210635000001, 0.99777, 0.999915465, 0.9999080265, 0.9999141495, 0.9998927439999999]}, {\"categories\": [\"0\", \"1\", \"2\", \"3\", \"4\", \"5\", \"6\", \"7\", \"8\", \"9\", \"10\", \"11\", \"12\", \"13\", \"14\", \"15\", \"16\", \"17\", \"18\", \"19\", \"20\", \"21\", \"22\", \"23\", \"24\", \"25\", \"26\", \"27\", \"28\", \"29\", \"30\", \"31\", \"32\", \"33\", \"34\", \"35\", \"36\", \"37\", \"38\", \"39\"], \"mode\": \"lines\", \"name\": \"AUC_micro_max\", \"stepped\": true, \"type\": \"scatter\", \"data\": [0.99457720625, 0.9999361505, 0.9999361505, 0.9999361505, 0.9999361505, 0.9999361505, 0.9999361505, 0.9999361505, 0.9999361505, 0.9999361505, 0.9999361505, 0.9999361505, 0.9999361505, 0.9999361505, 0.9999361505, 0.9999361505, 0.9999361505, 0.9999361505, 0.9999361505, 0.9999361505, 0.9999361505, 0.9999361505, 0.9999361505, 0.9999361505, 0.9999361505, 0.9999361505, 0.9999361505, 0.9999361505, 0.9999361505, 0.9999361505, 0.9999361505, 0.9999361505, 0.9999361505, 0.9999361505, 0.9999361505, 0.9999361505, 0.9999361505, 0.9999361505, 0.9999361505, 0.9999361505]}], \"recall_score_macro\": [{\"categories\": [\"0\", \"1\", \"2\", \"3\", \"4\", \"5\", \"6\", \"7\", \"8\", \"9\", \"10\", \"11\", \"12\", \"13\", \"14\", \"15\", \"16\", \"17\", \"18\", \"19\", \"20\", \"21\", \"22\", \"23\", \"24\", \"25\", \"26\", \"27\", \"28\", \"29\", \"30\", \"31\", \"32\", \"33\", \"34\", \"35\", \"36\", \"37\", \"38\", \"39\"], \"mode\": \"markers\", \"name\": \"recall_score_macro\", \"stepped\": false, \"type\": \"scatter\", \"data\": [0.707926868067059, 0.9241390848493684, 0.5, 0.5, 0.9482352387308002, 0.9230604590255226, 0.7551769891746354, 0.5, 0.8830963726984745, 0.5, 0.5, 0.7799675142753408, 0.9116450029684025, 0.9049371709803415, 0.887837057439898, 0.9092275670498473, 0.5, 0.8859736171211507, 0.9096083788736247, 0.8978680705566651, 0.9018824048550632, 0.9177619454847828, 0.9065148402893808, 0.8820561540607017, 0.8625213937866253, 0.5, 0.7559693798246326, 0.9265770705987805, 0.8917954109769, 0.9150547261923452, 0.5, 0.9357078703263777, 0.5, 0.9026516772787246, 0.9027234861981448, 0.5, 0.8367301202800685, 0.9073896833173597, 0.9225104707682185, 0.9095223566779321]}, {\"categories\": [\"0\", \"1\", \"2\", \"3\", \"4\", \"5\", \"6\", \"7\", \"8\", \"9\", \"10\", \"11\", \"12\", \"13\", \"14\", \"15\", \"16\", \"17\", \"18\", \"19\", \"20\", \"21\", \"22\", \"23\", \"24\", \"25\", \"26\", \"27\", \"28\", \"29\", \"30\", \"31\", \"32\", \"33\", \"34\", \"35\", \"36\", \"37\", \"38\", \"39\"], \"mode\": \"lines\", \"name\": \"recall_score_macro_max\", \"stepped\": true, \"type\": \"scatter\", \"data\": [0.707926868067059, 0.9241390848493684, 0.9241390848493684, 0.9241390848493684, 0.9482352387308002, 0.9482352387308002, 0.9482352387308002, 0.9482352387308002, 0.9482352387308002, 0.9482352387308002, 0.9482352387308002, 0.9482352387308002, 0.9482352387308002, 0.9482352387308002, 0.9482352387308002, 0.9482352387308002, 0.9482352387308002, 0.9482352387308002, 0.9482352387308002, 0.9482352387308002, 0.9482352387308002, 0.9482352387308002, 0.9482352387308002, 0.9482352387308002, 0.9482352387308002, 0.9482352387308002, 0.9482352387308002, 0.9482352387308002, 0.9482352387308002, 0.9482352387308002, 0.9482352387308002, 0.9482352387308002, 0.9482352387308002, 0.9482352387308002, 0.9482352387308002, 0.9482352387308002, 0.9482352387308002, 0.9482352387308002, 0.9482352387308002, 0.9482352387308002]}], \"recall_score_micro\": [{\"categories\": [\"0\", \"1\", \"2\", \"3\", \"4\", \"5\", \"6\", \"7\", \"8\", \"9\", \"10\", \"11\", \"12\", \"13\", \"14\", \"15\", \"16\", \"17\", \"18\", \"19\", \"20\", \"21\", \"22\", \"23\", \"24\", \"25\", \"26\", \"27\", \"28\", \"29\", \"30\", \"31\", \"32\", \"33\", \"34\", \"35\", \"36\", \"37\", \"38\", \"39\"], \"mode\": \"markers\", \"name\": \"recall_score_micro\", \"stepped\": false, \"type\": \"scatter\", \"data\": [0.9949399999999999, 0.99954, 0.99777, 0.99777, 0.98981, 0.9995499999999999, 0.9985099999999999, 0.99777, 0.9994, 0.99777, 0.99777, 0.9986700000000001, 0.99954, 0.9994299999999999, 0.9994, 0.9995200000000001, 0.99777, 0.99936, 0.9994900000000001, 0.9994, 0.99947, 0.99957, 0.99949, 0.9990399999999999, 0.9989699999999999, 0.99777, 0.9988700000000001, 0.9995900000000001, 0.9994100000000001, 0.99954, 0.99777, 0.9383100000000001, 0.99777, 0.9994999999999999, 0.99947, 0.99777, 0.9991299999999999, 0.9995200000000001, 0.9996, 0.99954]}, {\"categories\": [\"0\", \"1\", \"2\", \"3\", \"4\", \"5\", \"6\", \"7\", \"8\", \"9\", \"10\", \"11\", \"12\", \"13\", \"14\", \"15\", \"16\", \"17\", \"18\", \"19\", \"20\", \"21\", \"22\", \"23\", \"24\", \"25\", \"26\", \"27\", \"28\", \"29\", \"30\", \"31\", \"32\", \"33\", \"34\", \"35\", \"36\", \"37\", \"38\", \"39\"], \"mode\": \"lines\", \"name\": \"recall_score_micro_max\", \"stepped\": true, \"type\": \"scatter\", \"data\": [0.9949399999999999, 0.99954, 0.99954, 0.99954, 0.99954, 0.9995499999999999, 0.9995499999999999, 0.9995499999999999, 0.9995499999999999, 0.9995499999999999, 0.9995499999999999, 0.9995499999999999, 0.9995499999999999, 0.9995499999999999, 0.9995499999999999, 0.9995499999999999, 0.9995499999999999, 0.9995499999999999, 0.9995499999999999, 0.9995499999999999, 0.9995499999999999, 0.99957, 0.99957, 0.99957, 0.99957, 0.99957, 0.99957, 0.9995900000000001, 0.9995900000000001, 0.9995900000000001, 0.9995900000000001, 0.9995900000000001, 0.9995900000000001, 0.9995900000000001, 0.9995900000000001, 0.9995900000000001, 0.9995900000000001, 0.9995900000000001, 0.9996, 0.9996]}], \"AUC_macro\": [{\"categories\": [\"0\", \"1\", \"2\", \"3\", \"4\", \"5\", \"6\", \"7\", \"8\", \"9\", \"10\", \"11\", \"12\", \"13\", \"14\", \"15\", \"16\", \"17\", \"18\", \"19\", \"20\", \"21\", \"22\", \"23\", \"24\", \"25\", \"26\", \"27\", \"28\", \"29\", \"30\", \"31\", \"32\", \"33\", \"34\", \"35\", \"36\", \"37\", \"38\", \"39\"], \"mode\": \"markers\", \"name\": \"AUC_macro\", \"stepped\": false, \"type\": \"scatter\", \"data\": [0.6552044257761309, 0.9863529916173075, 0.971364097023651, 0.9653531520356088, 0.9736699346824477, 0.9806370034612737, 0.9559757170327023, 0.9635702055751143, 0.96683865106309, 0.9700878940516698, 0.9750496227699209, 0.9701336140049085, 0.9798385553813691, 0.9808317302556278, 0.9375328404281287, 0.98096545755762, 0.9708465533856392, 0.9862973425811872, 0.9782213611636188, 0.9860148172299521, 0.9857149593266031, 0.9813955926793859, 0.9826633774047344, 0.9765414056071673, 0.9854473730051947, 0.5, 0.9389386162964316, 0.9803421958234791, 0.9788293344908487, 0.9792850423410429, 0.5, 0.9752344816650247, 0.9732278039226208, 0.9810988493474593, 0.9832300982633633, 0.5, 0.9820647052546956, 0.9803269773700777, 0.9816471468452473, 0.981357018070866]}, {\"categories\": [\"0\", \"1\", \"2\", \"3\", \"4\", \"5\", \"6\", \"7\", \"8\", \"9\", \"10\", \"11\", \"12\", \"13\", \"14\", \"15\", \"16\", \"17\", \"18\", \"19\", \"20\", \"21\", \"22\", \"23\", \"24\", \"25\", \"26\", \"27\", \"28\", \"29\", \"30\", \"31\", \"32\", \"33\", \"34\", \"35\", \"36\", \"37\", \"38\", \"39\"], \"mode\": \"lines\", \"name\": \"AUC_macro_max\", \"stepped\": true, \"type\": \"scatter\", \"data\": [0.6552044257761309, 0.9863529916173075, 0.9863529916173075, 0.9863529916173075, 0.9863529916173075, 0.9863529916173075, 0.9863529916173075, 0.9863529916173075, 0.9863529916173075, 0.9863529916173075, 0.9863529916173075, 0.9863529916173075, 0.9863529916173075, 0.9863529916173075, 0.9863529916173075, 0.9863529916173075, 0.9863529916173075, 0.9863529916173075, 0.9863529916173075, 0.9863529916173075, 0.9863529916173075, 0.9863529916173075, 0.9863529916173075, 0.9863529916173075, 0.9863529916173075, 0.9863529916173075, 0.9863529916173075, 0.9863529916173075, 0.9863529916173075, 0.9863529916173075, 0.9863529916173075, 0.9863529916173075, 0.9863529916173075, 0.9863529916173075, 0.9863529916173075, 0.9863529916173075, 0.9863529916173075, 0.9863529916173075, 0.9863529916173075, 0.9863529916173075]}], \"precision_score_weighted\": [{\"categories\": [\"0\", \"1\", \"2\", \"3\", \"4\", \"5\", \"6\", \"7\", \"8\", \"9\", \"10\", \"11\", \"12\", \"13\", \"14\", \"15\", \"16\", \"17\", \"18\", \"19\", \"20\", \"21\", \"22\", \"23\", \"24\", \"25\", \"26\", \"27\", \"28\", \"29\", \"30\", \"31\", \"32\", \"33\", \"34\", \"35\", \"36\", \"37\", \"38\", \"39\"], \"mode\": \"markers\", \"name\": \"precision_score_weighted\", \"stepped\": false, \"type\": \"scatter\", \"data\": [0.9969356123827197, 0.99952765452149, 0.9955450185, 0.9955450185, 0.9979402837702654, 0.9995425803097527, 0.9983367286012133, 0.9955450185, 0.9993852065110895, 0.9955450185, 0.9955450185, 0.9985358462281931, 0.9995306257995503, 0.9994126748536223, 0.9993776185481853, 0.9995084766761719, 0.9955450185, 0.999333937445946, 0.9994767530802872, 0.999383070678817, 0.9994589140663968, 0.9995666900807466, 0.9994747277970845, 0.9990225651306623, 0.9989305351500093, 0.9955450185, 0.9988311913481779, 0.9995826214279514, 0.9993901618509116, 0.9995278206556396, 0.9955450185, 0.9980159376417795, 0.9955450185, 0.999489462251756, 0.9994546199898519, 0.9955450185, 0.9990837133964833, 0.9995097831895581, 0.9995941011622882, 0.9995349510263256]}, {\"categories\": [\"0\", \"1\", \"2\", \"3\", \"4\", \"5\", \"6\", \"7\", \"8\", \"9\", \"10\", \"11\", \"12\", \"13\", \"14\", \"15\", \"16\", \"17\", \"18\", \"19\", \"20\", \"21\", \"22\", \"23\", \"24\", \"25\", \"26\", \"27\", \"28\", \"29\", \"30\", \"31\", \"32\", \"33\", \"34\", \"35\", \"36\", \"37\", \"38\", \"39\"], \"mode\": \"lines\", \"name\": \"precision_score_weighted_max\", \"stepped\": true, \"type\": \"scatter\", \"data\": [0.9969356123827197, 0.99952765452149, 0.99952765452149, 0.99952765452149, 0.99952765452149, 0.9995425803097527, 0.9995425803097527, 0.9995425803097527, 0.9995425803097527, 0.9995425803097527, 0.9995425803097527, 0.9995425803097527, 0.9995425803097527, 0.9995425803097527, 0.9995425803097527, 0.9995425803097527, 0.9995425803097527, 0.9995425803097527, 0.9995425803097527, 0.9995425803097527, 0.9995425803097527, 0.9995666900807466, 0.9995666900807466, 0.9995666900807466, 0.9995666900807466, 0.9995666900807466, 0.9995666900807466, 0.9995826214279514, 0.9995826214279514, 0.9995826214279514, 0.9995826214279514, 0.9995826214279514, 0.9995826214279514, 0.9995826214279514, 0.9995826214279514, 0.9995826214279514, 0.9995826214279514, 0.9995826214279514, 0.9995941011622882, 0.9995941011622882]}], \"norm_macro_recall\": [{\"categories\": [\"0\", \"1\", \"2\", \"3\", \"4\", \"5\", \"6\", \"7\", \"8\", \"9\", \"10\", \"11\", \"12\", \"13\", \"14\", \"15\", \"16\", \"17\", \"18\", \"19\", \"20\", \"21\", \"22\", \"23\", \"24\", \"25\", \"26\", \"27\", \"28\", \"29\", \"30\", \"31\", \"32\", \"33\", \"34\", \"35\", \"36\", \"37\", \"38\", \"39\"], \"mode\": \"markers\", \"name\": \"norm_macro_recall\", \"stepped\": false, \"type\": \"scatter\", \"data\": [0.41585373613411764, 0.8482781696987368, 0.0, 0.0, 0.8964704774616002, 0.8461209180510453, 0.5103539783492705, 0.0, 0.766192745396949, 0.0, 0.0, 0.5599350285506817, 0.8232900059368049, 0.809874341960683, 0.7756741148797961, 0.8184551340996945, 0.0, 0.7719472342423014, 0.8192167577472494, 0.7957361411133305, 0.8037648097101264, 0.8355238909695659, 0.8130296805787616, 0.7641123081214033, 0.7250427875732504, 0.0, 0.5119387596492653, 0.8531541411975608, 0.7835908219537997, 0.8301094523846902, 0.0, 0.8714157406527556, 0.0, 0.8053033545574492, 0.8054469723962893, 0.0, 0.6734602405601371, 0.8147793666347194, 0.8450209415364369, 0.8190447133558643]}, {\"categories\": [\"0\", \"1\", \"2\", \"3\", \"4\", \"5\", \"6\", \"7\", \"8\", \"9\", \"10\", \"11\", \"12\", \"13\", \"14\", \"15\", \"16\", \"17\", \"18\", \"19\", \"20\", \"21\", \"22\", \"23\", \"24\", \"25\", \"26\", \"27\", \"28\", \"29\", \"30\", \"31\", \"32\", \"33\", \"34\", \"35\", \"36\", \"37\", \"38\", \"39\"], \"mode\": \"lines\", \"name\": \"norm_macro_recall_max\", \"stepped\": true, \"type\": \"scatter\", \"data\": [0.41585373613411764, 0.8482781696987368, 0.8482781696987368, 0.8482781696987368, 0.8964704774616002, 0.8964704774616002, 0.8964704774616002, 0.8964704774616002, 0.8964704774616002, 0.8964704774616002, 0.8964704774616002, 0.8964704774616002, 0.8964704774616002, 0.8964704774616002, 0.8964704774616002, 0.8964704774616002, 0.8964704774616002, 0.8964704774616002, 0.8964704774616002, 0.8964704774616002, 0.8964704774616002, 0.8964704774616002, 0.8964704774616002, 0.8964704774616002, 0.8964704774616002, 0.8964704774616002, 0.8964704774616002, 0.8964704774616002, 0.8964704774616002, 0.8964704774616002, 0.8964704774616002, 0.8964704774616002, 0.8964704774616002, 0.8964704774616002, 0.8964704774616002, 0.8964704774616002, 0.8964704774616002, 0.8964704774616002, 0.8964704774616002, 0.8964704774616002]}], \"f1_score_macro\": [{\"categories\": [\"0\", \"1\", \"2\", \"3\", \"4\", \"5\", \"6\", \"7\", \"8\", \"9\", \"10\", \"11\", \"12\", \"13\", \"14\", \"15\", \"16\", \"17\", \"18\", \"19\", \"20\", \"21\", \"22\", \"23\", \"24\", \"25\", \"26\", \"27\", \"28\", \"29\", \"30\", \"31\", \"32\", \"33\", \"34\", \"35\", \"36\", \"37\", \"38\", \"39\"], \"mode\": \"markers\", \"name\": \"f1_score_macro\", \"stepped\": false, \"type\": \"scatter\", \"data\": [0.639378644119953, 0.9456024276769878, 0.4994418719750374, 0.4994418719750374, 0.6418699674144241, 0.9466725532811638, 0.8019275656723455, 0.4994418719750374, 0.9256250993219162, 0.4994418719750374, 0.4994418719750374, 0.8261615728758489, 0.9443711907423655, 0.9318044460568522, 0.9255255861067908, 0.9418847659025769, 0.4994418719750374, 0.9212510879488718, 0.9385238092542704, 0.9275388830433036, 0.9351594675185619, 0.9475611778627279, 0.9383484146289099, 0.8904040865336006, 0.8797058311335249, 0.4994418719750374, 0.8301945658614432, 0.9509967200073243, 0.9280599625472762, 0.9444153086813281, 0.4994418719750374, 0.5841703944410928, 0.4994418719750374, 0.9390169862855412, 0.9358541331149943, 0.4994418719750374, 0.8873718185669759, 0.9418222526102042, 0.9518102003346962, 0.9440133989104986]}, {\"categories\": [\"0\", \"1\", \"2\", \"3\", \"4\", \"5\", \"6\", \"7\", \"8\", \"9\", \"10\", \"11\", \"12\", \"13\", \"14\", \"15\", \"16\", \"17\", \"18\", \"19\", \"20\", \"21\", \"22\", \"23\", \"24\", \"25\", \"26\", \"27\", \"28\", \"29\", \"30\", \"31\", \"32\", \"33\", \"34\", \"35\", \"36\", \"37\", \"38\", \"39\"], \"mode\": \"lines\", \"name\": \"f1_score_macro_max\", \"stepped\": true, \"type\": \"scatter\", \"data\": [0.639378644119953, 0.9456024276769878, 0.9456024276769878, 0.9456024276769878, 0.9456024276769878, 0.9466725532811638, 0.9466725532811638, 0.9466725532811638, 0.9466725532811638, 0.9466725532811638, 0.9466725532811638, 0.9466725532811638, 0.9466725532811638, 0.9466725532811638, 0.9466725532811638, 0.9466725532811638, 0.9466725532811638, 0.9466725532811638, 0.9466725532811638, 0.9466725532811638, 0.9466725532811638, 0.9475611778627279, 0.9475611778627279, 0.9475611778627279, 0.9475611778627279, 0.9475611778627279, 0.9475611778627279, 0.9509967200073243, 0.9509967200073243, 0.9509967200073243, 0.9509967200073243, 0.9509967200073243, 0.9509967200073243, 0.9509967200073243, 0.9509967200073243, 0.9509967200073243, 0.9509967200073243, 0.9509967200073243, 0.9518102003346962, 0.9518102003346962]}], \"average_precision_score_weighted\": [{\"categories\": [\"0\", \"1\", \"2\", \"3\", \"4\", \"5\", \"6\", \"7\", \"8\", \"9\", \"10\", \"11\", \"12\", \"13\", \"14\", \"15\", \"16\", \"17\", \"18\", \"19\", \"20\", \"21\", \"22\", \"23\", \"24\", \"25\", \"26\", \"27\", \"28\", \"29\", \"30\", \"31\", \"32\", \"33\", \"34\", \"35\", \"36\", \"37\", \"38\", \"39\"], \"mode\": \"markers\", \"name\": \"average_precision_score_weighted\", \"stepped\": false, \"type\": \"scatter\", \"data\": [0.9965561472487121, 0.9997438045588802, 0.9991138677057467, 0.9991502924099753, 0.9991061515809502, 0.9997293418056502, 0.9989138575619734, 0.9990946701256929, 0.9995559122679054, 0.9991364598004229, 0.9992257442491963, 0.9993530811655813, 0.9996964866285888, 0.9996658564175986, 0.9993821942536669, 0.9996626932277074, 0.9991216908855713, 0.9996568171746082, 0.9996635417707163, 0.9996952410114759, 0.9996961655256061, 0.9997404235332956, 0.9996683895724168, 0.9995011175721855, 0.9995864375824306, 0.9955500369999999, 0.9992787975031028, 0.999726881933487, 0.9996294950296702, 0.9996609061281332, 0.9955500369999999, 0.9990091400474821, 0.9991062592715781, 0.9996844404406178, 0.999679293386634, 0.9955500369999999, 0.9995383179387737, 0.9996862820803905, 0.999743218988451, 0.9997347841620794]}, {\"categories\": [\"0\", \"1\", \"2\", \"3\", \"4\", \"5\", \"6\", \"7\", \"8\", \"9\", \"10\", \"11\", \"12\", \"13\", \"14\", \"15\", \"16\", \"17\", \"18\", \"19\", \"20\", \"21\", \"22\", \"23\", \"24\", \"25\", \"26\", \"27\", \"28\", \"29\", \"30\", \"31\", \"32\", \"33\", \"34\", \"35\", \"36\", \"37\", \"38\", \"39\"], \"mode\": \"lines\", \"name\": \"average_precision_score_weighted_max\", \"stepped\": true, \"type\": \"scatter\", \"data\": [0.9965561472487121, 0.9997438045588802, 0.9997438045588802, 0.9997438045588802, 0.9997438045588802, 0.9997438045588802, 0.9997438045588802, 0.9997438045588802, 0.9997438045588802, 0.9997438045588802, 0.9997438045588802, 0.9997438045588802, 0.9997438045588802, 0.9997438045588802, 0.9997438045588802, 0.9997438045588802, 0.9997438045588802, 0.9997438045588802, 0.9997438045588802, 0.9997438045588802, 0.9997438045588802, 0.9997438045588802, 0.9997438045588802, 0.9997438045588802, 0.9997438045588802, 0.9997438045588802, 0.9997438045588802, 0.9997438045588802, 0.9997438045588802, 0.9997438045588802, 0.9997438045588802, 0.9997438045588802, 0.9997438045588802, 0.9997438045588802, 0.9997438045588802, 0.9997438045588802, 0.9997438045588802, 0.9997438045588802, 0.9997438045588802, 0.9997438045588802]}], \"accuracy\": [{\"categories\": [\"0\", \"1\", \"2\", \"3\", \"4\", \"5\", \"6\", \"7\", \"8\", \"9\", \"10\", \"11\", \"12\", \"13\", \"14\", \"15\", \"16\", \"17\", \"18\", \"19\", \"20\", \"21\", \"22\", \"23\", \"24\", \"25\", \"26\", \"27\", \"28\", \"29\", \"30\", \"31\", \"32\", \"33\", \"34\", \"35\", \"36\", \"37\", \"38\", \"39\"], \"mode\": \"markers\", \"name\": \"accuracy\", \"stepped\": false, \"type\": \"scatter\", \"data\": [0.9949399999999999, 0.99954, 0.99777, 0.99777, 0.98981, 0.9995499999999999, 0.9985099999999999, 0.99777, 0.9994, 0.99777, 0.99777, 0.9986700000000001, 0.99954, 0.9994299999999999, 0.9994, 0.9995200000000001, 0.99777, 0.99936, 0.9994900000000001, 0.9994, 0.99947, 0.99957, 0.99949, 0.9990399999999999, 0.9989699999999999, 0.99777, 0.9988700000000001, 0.9995900000000001, 0.9994100000000001, 0.99954, 0.99777, 0.9383100000000001, 0.99777, 0.9994999999999999, 0.99947, 0.99777, 0.9991299999999999, 0.9995200000000001, 0.9996, 0.99954]}, {\"categories\": [\"0\", \"1\", \"2\", \"3\", \"4\", \"5\", \"6\", \"7\", \"8\", \"9\", \"10\", \"11\", \"12\", \"13\", \"14\", \"15\", \"16\", \"17\", \"18\", \"19\", \"20\", \"21\", \"22\", \"23\", \"24\", \"25\", \"26\", \"27\", \"28\", \"29\", \"30\", \"31\", \"32\", \"33\", \"34\", \"35\", \"36\", \"37\", \"38\", \"39\"], \"mode\": \"lines\", \"name\": \"accuracy_max\", \"stepped\": true, \"type\": \"scatter\", \"data\": [0.9949399999999999, 0.99954, 0.99954, 0.99954, 0.99954, 0.9995499999999999, 0.9995499999999999, 0.9995499999999999, 0.9995499999999999, 0.9995499999999999, 0.9995499999999999, 0.9995499999999999, 0.9995499999999999, 0.9995499999999999, 0.9995499999999999, 0.9995499999999999, 0.9995499999999999, 0.9995499999999999, 0.9995499999999999, 0.9995499999999999, 0.9995499999999999, 0.99957, 0.99957, 0.99957, 0.99957, 0.99957, 0.99957, 0.9995900000000001, 0.9995900000000001, 0.9995900000000001, 0.9995900000000001, 0.9995900000000001, 0.9995900000000001, 0.9995900000000001, 0.9995900000000001, 0.9995900000000001, 0.9995900000000001, 0.9995900000000001, 0.9996, 0.9996]}], \"matthews_correlation\": [{\"categories\": [\"0\", \"1\", \"2\", \"3\", \"4\", \"5\", \"6\", \"7\", \"8\", \"9\", \"10\", \"11\", \"12\", \"13\", \"14\", \"15\", \"16\", \"17\", \"18\", \"19\", \"20\", \"21\", \"22\", \"23\", \"24\", \"25\", \"26\", \"27\", \"28\", \"29\", \"30\", \"31\", \"32\", \"33\", \"34\", \"35\", \"36\", \"37\", \"38\", \"39\"], \"mode\": \"markers\", \"name\": \"matthews_correlation\", \"stepped\": false, \"type\": \"scatter\", \"data\": [0.2973310113584472, 0.8924364814490799, 0.0, 0.0, 0.3919713449506047, 0.8954222042484098, 0.6152362385786323, 0.0, 0.8572818188122986, 0.0, 0.0, 0.6624676390422609, 0.8919634454593813, 0.8660087528701508, 0.855336010497016, 0.8869130360757544, 0.0, 0.8462534442166817, 0.8799904096988573, 0.8582215320966755, 0.8738868570037926, 0.8981283874609671, 0.8795253358862792, 0.7814254840630671, 0.7610411374674195, 0.0, 0.6963852442404426, 0.9037719322695861, 0.8603074856533178, 0.8912184451623849, 0.0, 0.28298023545913864, 0.0, 0.8820238723975283, 0.8750774000775863, 0.0, 0.7843783748964255, 0.8872460684707498, 0.9061667088568965, 0.8918910359820437]}, {\"categories\": [\"0\", \"1\", \"2\", \"3\", \"4\", \"5\", \"6\", \"7\", \"8\", \"9\", \"10\", \"11\", \"12\", \"13\", \"14\", \"15\", \"16\", \"17\", \"18\", \"19\", \"20\", \"21\", \"22\", \"23\", \"24\", \"25\", \"26\", \"27\", \"28\", \"29\", \"30\", \"31\", \"32\", \"33\", \"34\", \"35\", \"36\", \"37\", \"38\", \"39\"], \"mode\": \"lines\", \"name\": \"matthews_correlation_max\", \"stepped\": true, \"type\": \"scatter\", \"data\": [0.2973310113584472, 0.8924364814490799, 0.8924364814490799, 0.8924364814490799, 0.8924364814490799, 0.8954222042484098, 0.8954222042484098, 0.8954222042484098, 0.8954222042484098, 0.8954222042484098, 0.8954222042484098, 0.8954222042484098, 0.8954222042484098, 0.8954222042484098, 0.8954222042484098, 0.8954222042484098, 0.8954222042484098, 0.8954222042484098, 0.8954222042484098, 0.8954222042484098, 0.8954222042484098, 0.8981283874609671, 0.8981283874609671, 0.8981283874609671, 0.8981283874609671, 0.8981283874609671, 0.8981283874609671, 0.9037719322695861, 0.9037719322695861, 0.9037719322695861, 0.9037719322695861, 0.9037719322695861, 0.9037719322695861, 0.9037719322695861, 0.9037719322695861, 0.9037719322695861, 0.9037719322695861, 0.9037719322695861, 0.9061667088568965, 0.9061667088568965]}], \"recall_score_weighted\": [{\"categories\": [\"0\", \"1\", \"2\", \"3\", \"4\", \"5\", \"6\", \"7\", \"8\", \"9\", \"10\", \"11\", \"12\", \"13\", \"14\", \"15\", \"16\", \"17\", \"18\", \"19\", \"20\", \"21\", \"22\", \"23\", \"24\", \"25\", \"26\", \"27\", \"28\", \"29\", \"30\", \"31\", \"32\", \"33\", \"34\", \"35\", \"36\", \"37\", \"38\", \"39\"], \"mode\": \"markers\", \"name\": \"recall_score_weighted\", \"stepped\": false, \"type\": \"scatter\", \"data\": [0.9949399999999999, 0.99954, 0.99777, 0.99777, 0.98981, 0.9995499999999999, 0.9985099999999999, 0.99777, 0.9994, 0.99777, 0.99777, 0.9986700000000001, 0.99954, 0.9994299999999999, 0.9994, 0.9995200000000001, 0.99777, 0.99936, 0.9994900000000001, 0.9994, 0.99947, 0.99957, 0.99949, 0.9990399999999999, 0.9989699999999999, 0.99777, 0.9988700000000001, 0.9995900000000001, 0.9994100000000001, 0.99954, 0.99777, 0.9383100000000001, 0.99777, 0.9994999999999999, 0.99947, 0.99777, 0.9991299999999999, 0.9995200000000001, 0.9996, 0.99954]}, {\"categories\": [\"0\", \"1\", \"2\", \"3\", \"4\", \"5\", \"6\", \"7\", \"8\", \"9\", \"10\", \"11\", \"12\", \"13\", \"14\", \"15\", \"16\", \"17\", \"18\", \"19\", \"20\", \"21\", \"22\", \"23\", \"24\", \"25\", \"26\", \"27\", \"28\", \"29\", \"30\", \"31\", \"32\", \"33\", \"34\", \"35\", \"36\", \"37\", \"38\", \"39\"], \"mode\": \"lines\", \"name\": \"recall_score_weighted_max\", \"stepped\": true, \"type\": \"scatter\", \"data\": [0.9949399999999999, 0.99954, 0.99954, 0.99954, 0.99954, 0.9995499999999999, 0.9995499999999999, 0.9995499999999999, 0.9995499999999999, 0.9995499999999999, 0.9995499999999999, 0.9995499999999999, 0.9995499999999999, 0.9995499999999999, 0.9995499999999999, 0.9995499999999999, 0.9995499999999999, 0.9995499999999999, 0.9995499999999999, 0.9995499999999999, 0.9995499999999999, 0.99957, 0.99957, 0.99957, 0.99957, 0.99957, 0.99957, 0.9995900000000001, 0.9995900000000001, 0.9995900000000001, 0.9995900000000001, 0.9995900000000001, 0.9995900000000001, 0.9995900000000001, 0.9995900000000001, 0.9995900000000001, 0.9995900000000001, 0.9995900000000001, 0.9996, 0.9996]}], \"precision_score_micro\": [{\"categories\": [\"0\", \"1\", \"2\", \"3\", \"4\", \"5\", \"6\", \"7\", \"8\", \"9\", \"10\", \"11\", \"12\", \"13\", \"14\", \"15\", \"16\", \"17\", \"18\", \"19\", \"20\", \"21\", \"22\", \"23\", \"24\", \"25\", \"26\", \"27\", \"28\", \"29\", \"30\", \"31\", \"32\", \"33\", \"34\", \"35\", \"36\", \"37\", \"38\", \"39\"], \"mode\": \"markers\", \"name\": \"precision_score_micro\", \"stepped\": false, \"type\": \"scatter\", \"data\": [0.9949399999999999, 0.99954, 0.99777, 0.99777, 0.98981, 0.9995499999999999, 0.9985099999999999, 0.99777, 0.9994, 0.99777, 0.99777, 0.9986700000000001, 0.99954, 0.9994299999999999, 0.9994, 0.9995200000000001, 0.99777, 0.99936, 0.9994900000000001, 0.9994, 0.99947, 0.99957, 0.99949, 0.9990399999999999, 0.9989699999999999, 0.99777, 0.9988700000000001, 0.9995900000000001, 0.9994100000000001, 0.99954, 0.99777, 0.9383100000000001, 0.99777, 0.9994999999999999, 0.99947, 0.99777, 0.9991299999999999, 0.9995200000000001, 0.9996, 0.99954]}, {\"categories\": [\"0\", \"1\", \"2\", \"3\", \"4\", \"5\", \"6\", \"7\", \"8\", \"9\", \"10\", \"11\", \"12\", \"13\", \"14\", \"15\", \"16\", \"17\", \"18\", \"19\", \"20\", \"21\", \"22\", \"23\", \"24\", \"25\", \"26\", \"27\", \"28\", \"29\", \"30\", \"31\", \"32\", \"33\", \"34\", \"35\", \"36\", \"37\", \"38\", \"39\"], \"mode\": \"lines\", \"name\": \"precision_score_micro_max\", \"stepped\": true, \"type\": \"scatter\", \"data\": [0.9949399999999999, 0.99954, 0.99954, 0.99954, 0.99954, 0.9995499999999999, 0.9995499999999999, 0.9995499999999999, 0.9995499999999999, 0.9995499999999999, 0.9995499999999999, 0.9995499999999999, 0.9995499999999999, 0.9995499999999999, 0.9995499999999999, 0.9995499999999999, 0.9995499999999999, 0.9995499999999999, 0.9995499999999999, 0.9995499999999999, 0.9995499999999999, 0.99957, 0.99957, 0.99957, 0.99957, 0.99957, 0.99957, 0.9995900000000001, 0.9995900000000001, 0.9995900000000001, 0.9995900000000001, 0.9995900000000001, 0.9995900000000001, 0.9995900000000001, 0.9995900000000001, 0.9995900000000001, 0.9995900000000001, 0.9995900000000001, 0.9996, 0.9996]}]}, \"metricName\": null, \"primaryMetricName\": \"accuracy\", \"showLegend\": false}, \"run_metrics\": [{\"name\": \"experiment_status\", \"run_id\": \"AutoML_d12b6002-f654-415b-af0c-47d7b7c2d7e8\", \"categories\": [0, 1, 2, 3, 4, 5, 6], \"series\": [{\"data\": [\"DatasetEvaluation\", \"FeaturesGeneration\", \"DatasetFeaturization\", \"DatasetFeaturizationCompleted\", \"DatasetBalancing\", \"DatasetCrossValidationSplit\", \"ModelSelection\"]}]}, {\"name\": \"experiment_status_description\", \"run_id\": \"AutoML_d12b6002-f654-415b-af0c-47d7b7c2d7e8\", \"categories\": [0, 1, 2, 3, 4, 5, 6], \"series\": [{\"data\": [\"Gathering dataset statistics.\", \"Generating features for the dataset.\", \"Beginning to fit featurizers and featurize the dataset.\", \"Completed fit featurizers and featurizing the dataset.\", \"Performing class balancing sweeping\", \"Generating individually featurized CV splits.\", \"Beginning model selection.\"]}]}, {\"name\": \"matthews_correlation\", \"run_id\": \"AutoML_d12b6002-f654-415b-af0c-47d7b7c2d7e8\", \"categories\": [0], \"series\": [{\"data\": [0.9061667088568965]}]}, {\"name\": \"precision_score_weighted\", \"run_id\": \"AutoML_d12b6002-f654-415b-af0c-47d7b7c2d7e8\", \"categories\": [0], \"series\": [{\"data\": [0.9995941011622882]}]}, {\"name\": \"recall_score_macro\", \"run_id\": \"AutoML_d12b6002-f654-415b-af0c-47d7b7c2d7e8\", \"categories\": [0], \"series\": [{\"data\": [0.9225104707682185]}]}, {\"name\": \"norm_macro_recall\", \"run_id\": \"AutoML_d12b6002-f654-415b-af0c-47d7b7c2d7e8\", \"categories\": [0], \"series\": [{\"data\": [0.8450209415364369]}]}, {\"name\": \"log_loss\", \"run_id\": \"AutoML_d12b6002-f654-415b-af0c-47d7b7c2d7e8\", \"categories\": [0], \"series\": [{\"data\": [0.002381021576897139]}]}, {\"name\": \"AUC_macro\", \"run_id\": \"AutoML_d12b6002-f654-415b-af0c-47d7b7c2d7e8\", \"categories\": [0], \"series\": [{\"data\": [0.9816471468452473]}]}, {\"name\": \"average_precision_score_macro\", \"run_id\": \"AutoML_d12b6002-f654-415b-af0c-47d7b7c2d7e8\", \"categories\": [0], \"series\": [{\"data\": [0.9573182109559921]}]}, {\"name\": \"AUC_weighted\", \"run_id\": \"AutoML_d12b6002-f654-415b-af0c-47d7b7c2d7e8\", \"categories\": [0], \"series\": [{\"data\": [0.9816478508943]}]}, {\"name\": \"f1_score_micro\", \"run_id\": \"AutoML_d12b6002-f654-415b-af0c-47d7b7c2d7e8\", \"categories\": [0], \"series\": [{\"data\": [0.9996]}]}, {\"name\": \"weighted_accuracy\", \"run_id\": \"AutoML_d12b6002-f654-415b-af0c-47d7b7c2d7e8\", \"categories\": [0], \"series\": [{\"data\": [0.9999490953307262]}]}, {\"name\": \"f1_score_weighted\", \"run_id\": \"AutoML_d12b6002-f654-415b-af0c-47d7b7c2d7e8\", \"categories\": [0], \"series\": [{\"data\": [0.9995851193329347]}]}, {\"name\": \"recall_score_micro\", \"run_id\": \"AutoML_d12b6002-f654-415b-af0c-47d7b7c2d7e8\", \"categories\": [0], \"series\": [{\"data\": [0.9996]}]}, {\"name\": \"average_precision_score_micro\", \"run_id\": \"AutoML_d12b6002-f654-415b-af0c-47d7b7c2d7e8\", \"categories\": [0], \"series\": [{\"data\": [0.9999063736322752]}]}, {\"name\": \"precision_score_macro\", \"run_id\": \"AutoML_d12b6002-f654-415b-af0c-47d7b7c2d7e8\", \"categories\": [0], \"series\": [{\"data\": [0.9861891276991688]}]}, {\"name\": \"f1_score_macro\", \"run_id\": \"AutoML_d12b6002-f654-415b-af0c-47d7b7c2d7e8\", \"categories\": [0], \"series\": [{\"data\": [0.9518102003346962]}]}, {\"name\": \"recall_score_weighted\", \"run_id\": \"AutoML_d12b6002-f654-415b-af0c-47d7b7c2d7e8\", \"categories\": [0], \"series\": [{\"data\": [0.9996]}]}, {\"name\": \"average_precision_score_weighted\", \"run_id\": \"AutoML_d12b6002-f654-415b-af0c-47d7b7c2d7e8\", \"categories\": [0], \"series\": [{\"data\": [0.999743218988451]}]}, {\"name\": \"balanced_accuracy\", \"run_id\": \"AutoML_d12b6002-f654-415b-af0c-47d7b7c2d7e8\", \"categories\": [0], \"series\": [{\"data\": [0.9225104707682185]}]}, {\"name\": \"AUC_micro\", \"run_id\": \"AutoML_d12b6002-f654-415b-af0c-47d7b7c2d7e8\", \"categories\": [0], \"series\": [{\"data\": [0.9999141495]}]}, {\"name\": \"accuracy\", \"run_id\": \"AutoML_d12b6002-f654-415b-af0c-47d7b7c2d7e8\", \"categories\": [0], \"series\": [{\"data\": [0.9996]}]}, {\"name\": \"precision_score_micro\", \"run_id\": \"AutoML_d12b6002-f654-415b-af0c-47d7b7c2d7e8\", \"categories\": [0], \"series\": [{\"data\": [0.9996]}]}], \"run_logs\": \"\\nRun is completed.\", \"graph\": {}, \"widget_settings\": {\"childWidgetDisplay\": \"popup\", \"send_telemetry\": false, \"log_level\": \"INFO\", \"sdk_version\": \"1.20.0\"}, \"loading\": false}"
     },
     "metadata": {},
     "output_type": "display_data"
    }
   ],
   "source": [
    "RunDetails(remote_run).show()\n"
   ]
  },
  {
   "cell_type": "markdown",
   "metadata": {},
   "source": [
    "## Best Model\n",
    "\n",
    "TODO: In the cell below, get the best model from the automl experiments and display all the properties of the model.\n",
    "\n"
   ]
  },
  {
   "cell_type": "code",
   "execution_count": 12,
   "metadata": {},
   "outputs": [
    {
     "name": "stderr",
     "output_type": "stream",
     "text": [
      "WARNING:root:The version of the SDK does not match the version the model was trained on.\n",
      "WARNING:root:The consistency in the result may not be guaranteed.\n",
      "WARNING:root:Package:azureml-automl-core, training version:1.21.0, current version:1.20.0\n",
      "Package:azureml-automl-runtime, training version:1.21.0, current version:1.20.0\n",
      "Package:azureml-core, training version:1.21.0.post1, current version:1.20.0\n",
      "Package:azureml-dataprep, training version:2.8.2, current version:2.7.3\n",
      "Package:azureml-dataprep-native, training version:28.0.0, current version:27.0.0\n",
      "Package:azureml-dataprep-rslex, training version:1.6.0, current version:1.5.0\n",
      "Package:azureml-dataset-runtime, training version:1.21.0, current version:1.20.0\n",
      "Package:azureml-defaults, training version:1.21.0, current version:1.20.0\n",
      "Package:azureml-interpret, training version:1.21.0, current version:1.20.0\n",
      "Package:azureml-pipeline-core, training version:1.21.0, current version:1.20.0\n",
      "Package:azureml-telemetry, training version:1.21.0, current version:1.20.0\n",
      "Package:azureml-train-automl-client, training version:1.21.0, current version:1.20.0\n",
      "Package:azureml-train-automl-runtime, training version:1.21.0, current version:1.20.0\n",
      "WARNING:root:Please ensure the version of your local conda dependencies match the version on which your model was trained in order to properly retrieve your model.\n"
     ]
    }
   ],
   "source": [
    "best_run, fitted_model = remote_run.get_output()"
   ]
  },
  {
   "cell_type": "code",
   "execution_count": 13,
   "metadata": {},
   "outputs": [],
   "source": [
    "parameter_values = best_run.get_details()['runDefinition']['arguments']\n"
   ]
  },
  {
   "cell_type": "code",
   "execution_count": 16,
   "metadata": {
    "gather": {
     "logged": 1598431425670
    },
    "jupyter": {
     "outputs_hidden": false,
     "source_hidden": false
    },
    "nteract": {
     "transient": {
      "deleting": false
     }
    }
   },
   "outputs": [
    {
     "name": "stdout",
     "output_type": "stream",
     "text": [
      "Run(Experiment: Detection,\n",
      "Id: AutoML_d12b6002-f654-415b-af0c-47d7b7c2d7e8_38,\n",
      "Type: azureml.scriptrun,\n",
      "Status: Completed)\n",
      "Pipeline(memory=None,\n",
      "         steps=[('datatransformer',\n",
      "                 DataTransformer(enable_dnn=None, enable_feature_sweeping=None,\n",
      "                                 feature_sweeping_config=None,\n",
      "                                 feature_sweeping_timeout=None,\n",
      "                                 featurization_config=None, force_text_dnn=None,\n",
      "                                 is_cross_validation=None,\n",
      "                                 is_onnx_compatible=None, logger=None,\n",
      "                                 observer=None, task=None, working_dir=None)),\n",
      "                ('prefittedsoftvotingclassifier',...\n",
      "                                                                                               nthread=None,\n",
      "                                                                                               objective='reg:logistic',\n",
      "                                                                                               random_state=0,\n",
      "                                                                                               reg_alpha=0,\n",
      "                                                                                               reg_lambda=1.3541666666666667,\n",
      "                                                                                               scale_pos_weight=1,\n",
      "                                                                                               seed=None,\n",
      "                                                                                               silent=None,\n",
      "                                                                                               subsample=1,\n",
      "                                                                                               tree_method='auto',\n",
      "                                                                                               verbose=-10,\n",
      "                                                                                               verbosity=0))],\n",
      "                                                                     verbose=False))],\n",
      "                                               flatten_transform=None,\n",
      "                                               weights=[0.16666666666666666,\n",
      "                                                        0.3333333333333333,\n",
      "                                                        0.16666666666666666,\n",
      "                                                        0.16666666666666666,\n",
      "                                                        0.16666666666666666]))],\n",
      "         verbose=False)\n",
      "creditcard-fraud-detection-model\n"
     ]
    }
   ],
   "source": [
    "# Retrieve the best automl model.\n",
    "\n",
    "print(best_run)\n",
    "print(fitted_model)\n",
    "\n",
    "#Register the model\n",
    "description ='this model predicts whether a transaction is fraudulent or not'\n",
    "model_name='creditcard-fraud-detection-model'\n",
    "model_path='./'\n",
    "tags = None\n",
    "model = remote_run.register_model(model_name = model_name, description = description , tags = tags)\n",
    "print(remote_run.model_id)"
   ]
  },
  {
   "cell_type": "code",
   "execution_count": null,
   "metadata": {
    "gather": {
     "logged": 1598431426111
    },
    "jupyter": {
     "outputs_hidden": false,
     "source_hidden": false
    },
    "nteract": {
     "transient": {
      "deleting": false
     }
    }
   },
   "outputs": [],
   "source": [
    "#TODO: Save the best model"
   ]
  },
  {
   "cell_type": "markdown",
   "metadata": {},
   "source": [
    "## Model Deployment\n",
    "\n",
    "Remember you have to deploy only one of the two models you trained.. Perform the steps in the rest of this notebook only if you wish to deploy this model.\n",
    "\n",
    "TODO: In the cell below, register the model, create an inference config and deploy the model as a web service."
   ]
  },
  {
   "cell_type": "code",
   "execution_count": 17,
   "metadata": {
    "gather": {
     "logged": 1598431435189
    },
    "jupyter": {
     "outputs_hidden": false,
     "source_hidden": false
    },
    "nteract": {
     "transient": {
      "deleting": false
     }
    }
   },
   "outputs": [
    {
     "name": "stdout",
     "output_type": "stream",
     "text": [
      "Downloading from outputs/conda_env_v_1_0_0.yml to ./remote_model/conda_env_v_1_0_0.yml ...\n",
      "Downloading from outputs/env_dependencies.json to ./remote_model/env_dependencies.json ...\n",
      "Downloading from outputs/internal_cross_validated_models.pkl to ./remote_model/internal_cross_validated_models.pkl ...\n",
      "Downloading from outputs/model.pkl to ./remote_model/model.pkl ...\n",
      "Downloading from outputs/pipeline_graph.json to ./remote_model/pipeline_graph.json ...\n",
      "Downloading from outputs/scoring_file_v_1_0_0.py to ./remote_model/scoring_file_v_1_0_0.py ...\n"
     ]
    }
   ],
   "source": [
    "#Save the best model for the deployement\n",
    "import os\n",
    "os.makedirs('./remote_model', exist_ok=True)\n",
    "\n",
    "best_run.download_file('/outputs/model.pkl',os.path.join('./remote_model','best_remote_model.pkl'))\n",
    "\n",
    "for f in best_run.get_file_names():\n",
    "    if f.startswith('outputs'):\n",
    "        output_file_path = os.path.join('./remote_model', f.split('/')[-1])\n",
    "        print(f'Downloading from {f} to {output_file_path} ...')\n",
    "        best_run.download_file(name=f, output_file_path=output_file_path)"
   ]
  },
  {
   "cell_type": "code",
   "execution_count": 18,
   "metadata": {},
   "outputs": [],
   "source": [
    "#Register the best model for the deployement\n",
    "\n",
    "model=best_run.register_model(\n",
    "            model_name = 'creditcard-fraud-detection-model', \n",
    "            model_path = './outputs/model.pkl',\n",
    "            model_framework=Model.Framework.SCIKITLEARN,\n",
    "            description=''\n",
    ")"
   ]
  },
  {
   "cell_type": "code",
   "execution_count": 19,
   "metadata": {},
   "outputs": [],
   "source": [
    "# Download the conda environment file and define the environement\n",
    "best_run.download_file('outputs/conda_env_v_1_0_0.yml', 'conda_env.yml')\n",
    "myenv = Environment.from_conda_specification(name = 'myenv',\n",
    "                                             file_path = 'conda_env.yml')"
   ]
  },
  {
   "cell_type": "code",
   "execution_count": 20,
   "metadata": {},
   "outputs": [],
   "source": [
    "# download the scoring file produced by AutoML\n",
    "best_run.download_file('outputs/scoring_file_v_1_0_0.py', 'score_remote_run.py')\n",
    "\n",
    "# set inference config\n",
    "inference_config = InferenceConfig(entry_script= 'score_remote_run.py',\n",
    "                                    environment=myenv)"
   ]
  },
  {
   "cell_type": "code",
   "execution_count": 21,
   "metadata": {},
   "outputs": [],
   "source": [
    "# set Aci Webservice config\n",
    "aci_config = AciWebservice.deploy_configuration(cpu_cores=1, memory_gb=1, auth_enabled=True)"
   ]
  },
  {
   "cell_type": "code",
   "execution_count": 22,
   "metadata": {},
   "outputs": [],
   "source": [
    "# deploye the model as a web service\n",
    "service_name =  'automl-prediction'\n",
    "service = Model.deploy(workspace=ws, \n",
    "                       name= service_name,\n",
    "                       models=[model], \n",
    "                       inference_config=inference_config,\n",
    "                       deployment_config=aci_config,\n",
    "                       overwrite=True)"
   ]
  },
  {
   "cell_type": "markdown",
   "metadata": {
    "collapsed": true,
    "gather": {
     "logged": 1598431657736
    },
    "jupyter": {
     "outputs_hidden": false,
     "source_hidden": false
    },
    "nteract": {
     "transient": {
      "deleting": false
     }
    }
   },
   "source": [
    "TODO: In the cell below, send a request to the web service you deployed to test it."
   ]
  },
  {
   "cell_type": "code",
   "execution_count": 23,
   "metadata": {},
   "outputs": [
    {
     "data": {
      "text/plain": [
       "AciWebservice(workspace=Workspace.create(name='quick-starts-ws-137783', subscription_id='f5091c60-1c3c-430f-8d81-d802f6bf2414', resource_group='aml-quickstarts-137783'), name=automl-prediction, image_id=None, compute_type=None, state=ACI, scoring_uri=Transitioning, tags=None, properties={}, created_by={})"
      ]
     },
     "execution_count": 23,
     "metadata": {},
     "output_type": "execute_result"
    }
   ],
   "source": [
    "service"
   ]
  },
  {
   "cell_type": "code",
   "execution_count": 24,
   "metadata": {},
   "outputs": [
    {
     "name": "stdout",
     "output_type": "stream",
     "text": [
      "Tips: You can try get_logs(): https://aka.ms/debugimage#dockerlog or local deployment: https://aka.ms/debugimage#debug-locally to debug if deployment takes longer than 10 minutes.\n",
      "Running...................................................................................................................................................................\n",
      "Succeeded\n",
      "ACI service creation operation finished, operation \"Succeeded\"\n",
      "Service state:\n",
      "Healthy\n",
      "Scoring URI:\n",
      "http://2ad4b6d0-446a-4a12-bdb2-283cb6590e6c.southcentralus.azurecontainer.io/score\n",
      "Swagger URI:\n",
      "http://2ad4b6d0-446a-4a12-bdb2-283cb6590e6c.southcentralus.azurecontainer.io/swagger.json\n"
     ]
    }
   ],
   "source": [
    "# wait for deployment to finish and display the scoring uri and swagger uri\n",
    "service.wait_for_deployment(show_output=True)\n",
    "\n",
    "print('Service state:')\n",
    "print(service.state)\n",
    "\n",
    "print('Scoring URI:')\n",
    "print(service.scoring_uri)\n",
    "\n",
    "print('Swagger URI:')\n",
    "print(service.swagger_uri)"
   ]
  },
  {
   "cell_type": "code",
   "execution_count": 25,
   "metadata": {},
   "outputs": [],
   "source": [
    "test_data = data.to_pandas_dataframe()"
   ]
  },
  {
   "cell_type": "code",
   "execution_count": 27,
   "metadata": {},
   "outputs": [
    {
     "name": "stdout",
     "output_type": "stream",
     "text": [
      "{\"data\": [{\"Time\": 41394.0, \"V1\": -1.67504125676759, \"V2\": -0.7767535039861941, \"V3\": 1.44738070278424, \"V4\": 0.724940424132646, \"V5\": -1.12772562786982, \"V6\": -0.0937594199493375, \"V7\": -0.3344736073905, \"V8\": 0.627584708508985, \"V9\": -1.22116161453843, \"V10\": 0.213610717781422, \"V11\": -0.6959419335182829, \"V12\": -0.0230385571615321, \"V13\": 0.20000766364138298, \"V14\": 0.114947034567041, \"V15\": 0.7044292049147092, \"V16\": -2.05284686200261, \"V17\": 0.767940151362606, \"V18\": 1.2746735364188602, \"V19\": -0.86119742842079, \"V20\": 0.25349060417837804, \"V21\": 0.0954293017583765, \"V22\": 0.29554501425263896, \"V23\": 0.39914863104327003, \"V24\": 0.374379807274368, \"V25\": -0.15743567758608, \"V26\": -0.173085543762075, \"V27\": 0.29189101051942895, \"V28\": 0.0292837128181044, \"Amount\": 200.0}, {\"Time\": 15004.0, \"V1\": 1.22845486146718, \"V2\": 0.0494878250902, \"V3\": 1.02209887089423, \"V4\": 0.38647107258472896, \"V5\": -0.9732280332944979, \"V6\": -1.0678223826533801, \"V7\": -0.383162369455785, \"V8\": -0.20540670936448197, \"V9\": 1.6993038144543702, \"V10\": -0.531014416124189, \"V11\": 0.9502287675711021, \"V12\": -2.35722306640923, \"V13\": 1.39535290681252, \"V14\": 1.60675401792942, \"V15\": 0.553203875637969, \"V16\": 0.429342279414606, \"V17\": 0.452575339388231, \"V18\": -0.216732678113951, \"V19\": -0.36554911145742297, \"V20\": -0.12160742323149501, \"V21\": -0.32291166252921005, \"V22\": -0.730294033220492, \"V23\": 0.20560133314325302, \"V24\": 0.6863017012756529, \"V25\": -0.0710080025414601, \"V26\": 0.7298458613787091, \"V27\": -0.0922760130425128, \"V28\": 0.0122771222717926, \"Amount\": 12.18}, {\"Time\": 43654.0, \"V1\": 1.21773388005295, \"V2\": 0.619562449271411, \"V3\": -0.47738421200181497, \"V4\": 1.1632633701373998, \"V5\": 0.248117795186399, \"V6\": -0.7435913032436701, \"V7\": 0.15860750898890302, \"V8\": -0.0406572641680032, \"V9\": -0.23087377661126698, \"V10\": -0.493431979635907, \"V11\": 1.41551551531129, \"V12\": 0.122608014053003, \"V13\": -0.7255919557269351, \"V14\": -1.0323157487968901, \"V15\": 0.48355790555212497, \"V16\": 0.9201022720946149, \"V17\": 0.558912690068255, \"V18\": 1.2752744575943402, \"V19\": -0.20584383419535102, \"V20\": -0.117120634687886, \"V21\": -0.045330526249768, \"V22\": -0.12341033259515302, \"V23\": -0.169603404420088, \"V24\": -0.153232746505599, \"V25\": 0.683909559692504, \"V26\": -0.32200985158323, \"V27\": 0.0268094263601251, \"V28\": 0.0425644622820992, \"Amount\": 1.0}]}\n"
     ]
    }
   ],
   "source": [
    "x_data_sample = test_data.sample(3)\n",
    "y_data_sample = x_data_sample.pop('Class')\n",
    "\n",
    "# converting samples to json format\n",
    "json_sample = x_data_sample.to_dict(orient = 'records')#'records'\n",
    "\n",
    "scoring_sample_data = json.dumps({'data': json_sample})\n",
    "print(scoring_sample_data)"
   ]
  },
  {
   "cell_type": "code",
   "execution_count": 28,
   "metadata": {},
   "outputs": [],
   "source": [
    "\n",
    "output = service.run(scoring_sample_data)"
   ]
  },
  {
   "cell_type": "code",
   "execution_count": 29,
   "metadata": {},
   "outputs": [
    {
     "name": "stdout",
     "output_type": "stream",
     "text": [
      "{\"result\": [0, 0, 0]}\n"
     ]
    }
   ],
   "source": [
    "print(output)"
   ]
  },
  {
   "cell_type": "code",
   "execution_count": 30,
   "metadata": {},
   "outputs": [
    {
     "name": "stdout",
     "output_type": "stream",
     "text": [
      "43154    0\n",
      "9996     0\n",
      "48461    0\n",
      "Name: Class, dtype: int64\n"
     ]
    }
   ],
   "source": [
    "print(y_data_sample)"
   ]
  },
  {
   "cell_type": "markdown",
   "metadata": {
    "collapsed": true,
    "gather": {
     "logged": 1598432765711
    },
    "jupyter": {
     "outputs_hidden": false,
     "source_hidden": false
    },
    "nteract": {
     "transient": {
      "deleting": false
     }
    }
   },
   "source": [
    "TODO: In the cell below, print the logs of the web service and delete the service"
   ]
  },
  {
   "cell_type": "code",
   "execution_count": 31,
   "metadata": {},
   "outputs": [
    {
     "name": "stdout",
     "output_type": "stream",
     "text": [
      "2021-02-07T10:32:28,623846400+00:00 - iot-server/run \n",
      "2021-02-07T10:32:28,634768500+00:00 - gunicorn/run \n",
      "2021-02-07T10:32:28,636334300+00:00 - nginx/run \n",
      "/usr/sbin/nginx: /azureml-envs/azureml_7785023fceb74e4facc1b1a577b1faf9/lib/libcrypto.so.1.0.0: no version information available (required by /usr/sbin/nginx)\n",
      "/usr/sbin/nginx: /azureml-envs/azureml_7785023fceb74e4facc1b1a577b1faf9/lib/libcrypto.so.1.0.0: no version information available (required by /usr/sbin/nginx)\n",
      "/usr/sbin/nginx: /azureml-envs/azureml_7785023fceb74e4facc1b1a577b1faf9/lib/libssl.so.1.0.0: no version information available (required by /usr/sbin/nginx)\n",
      "/usr/sbin/nginx: /azureml-envs/azureml_7785023fceb74e4facc1b1a577b1faf9/lib/libssl.so.1.0.0: no version information available (required by /usr/sbin/nginx)\n",
      "/usr/sbin/nginx: /azureml-envs/azureml_7785023fceb74e4facc1b1a577b1faf9/lib/libssl.so.1.0.0: no version information available (required by /usr/sbin/nginx)\n",
      "2021-02-07T10:32:28,656152200+00:00 - rsyslog/run \n",
      "rsyslogd: /azureml-envs/azureml_7785023fceb74e4facc1b1a577b1faf9/lib/libuuid.so.1: no version information available (required by rsyslogd)\n",
      "EdgeHubConnectionString and IOTEDGE_IOTHUBHOSTNAME are not set. Exiting...\n",
      "2021-02-07T10:32:30,332385100+00:00 - iot-server/finish 1 0\n",
      "2021-02-07T10:32:30,339010800+00:00 - Exit code 1 is normal. Not restarting iot-server.\n",
      "Starting gunicorn 19.9.0\n",
      "Listening at: http://127.0.0.1:31311 (66)\n",
      "Using worker: sync\n",
      "worker timeout is set to 300\n",
      "Booting worker with pid: 96\n",
      "SPARK_HOME not set. Skipping PySpark Initialization.\n",
      "Generating new fontManager, this may take some time...\n",
      "Initializing logger\n",
      "2021-02-07 10:32:36,151 | root | INFO | Starting up app insights client\n",
      "2021-02-07 10:32:36,153 | root | INFO | Starting up request id generator\n",
      "2021-02-07 10:32:36,153 | root | INFO | Starting up app insight hooks\n",
      "2021-02-07 10:32:36,153 | root | INFO | Invoking user's init function\n",
      "2021-02-07 10:32:46,890 | root | INFO | Users's init has completed successfully\n",
      "2021-02-07 10:32:46,936 | root | INFO | Skipping middleware: dbg_model_info as it's not enabled.\n",
      "2021-02-07 10:32:46,937 | root | INFO | Skipping middleware: dbg_resource_usage as it's not enabled.\n",
      "2021-02-07 10:32:46,942 | root | INFO | Scoring timeout is found from os.environ: 60000 ms\n",
      "2021-02-07 10:32:46,991 | root | INFO | 200\n",
      "127.0.0.1 - - [07/Feb/2021:10:32:46 +0000] \"GET /swagger.json HTTP/1.0\" 200 3730 \"-\" \"Go-http-client/1.1\"\n",
      "2021-02-07 10:32:48,275 | root | INFO | 200\n",
      "127.0.0.1 - - [07/Feb/2021:10:32:48 +0000] \"GET /swagger.json HTTP/1.0\" 200 3730 \"-\" \"Go-http-client/1.1\"\n",
      "2021-02-07 10:34:35,765 | root | INFO | Validation Request Content-Type\n",
      "2021-02-07 10:34:35,769 | root | INFO | Scoring Timer is set to 60.0 seconds\n",
      "2021-02-07 10:34:35,973 | root | INFO | 200\n",
      "127.0.0.1 - - [07/Feb/2021:10:34:35 +0000] \"POST /score HTTP/1.0\" 200 25 \"-\" \"python-requests/2.25.1\"\n",
      "\n"
     ]
    }
   ],
   "source": [
    "print(service.get_logs())"
   ]
  },
  {
   "cell_type": "code",
   "execution_count": 32,
   "metadata": {
    "jupyter": {
     "outputs_hidden": false,
     "source_hidden": false
    },
    "nteract": {
     "transient": {
      "deleting": false
     }
    }
   },
   "outputs": [
    {
     "ename": "NameError",
     "evalue": "name 'aml_compute' is not defined",
     "output_type": "error",
     "traceback": [
      "\u001b[0;31m---------------------------------------------------------------------------\u001b[0m",
      "\u001b[0;31mNameError\u001b[0m                                 Traceback (most recent call last)",
      "\u001b[0;32m<ipython-input-32-4e1533d6e0d8>\u001b[0m in \u001b[0;36m<module>\u001b[0;34m\u001b[0m\n\u001b[1;32m      1\u001b[0m \u001b[0mservice\u001b[0m\u001b[0;34m.\u001b[0m\u001b[0mdelete\u001b[0m\u001b[0;34m(\u001b[0m\u001b[0;34m)\u001b[0m\u001b[0;34m\u001b[0m\u001b[0;34m\u001b[0m\u001b[0m\n\u001b[0;32m----> 2\u001b[0;31m \u001b[0maml_compute\u001b[0m\u001b[0;34m.\u001b[0m\u001b[0mdelete\u001b[0m\u001b[0;34m(\u001b[0m\u001b[0;34m)\u001b[0m\u001b[0;34m\u001b[0m\u001b[0;34m\u001b[0m\u001b[0m\n\u001b[0m",
      "\u001b[0;31mNameError\u001b[0m: name 'aml_compute' is not defined"
     ]
    }
   ],
   "source": [
    "\n",
    "service.delete()\n",
    "aml_compute.delete()"
   ]
  }
 ],
 "metadata": {
  "kernel_info": {
   "name": "python3-azureml"
  },
  "kernelspec": {
   "display_name": "Python 3",
   "language": "python",
   "name": "python3"
  },
  "nteract": {
   "version": "nteract-front-end@1.0.0"
  }
 },
 "nbformat": 4,
 "nbformat_minor": 2
}